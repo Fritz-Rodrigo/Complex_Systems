{
 "cells": [
  {
   "cell_type": "markdown",
   "metadata": {},
   "source": [
    "## Modelo SEIR para epidemias\n",
    "\n",
    "Rodrigo Fritz\n",
    "\n",
    "Los datos necesarios para modelar una epidemia son los siguientes:\n",
    "\n",
    "$R_0$ es el número básico de reproducción, que es el número de infecciones secundarias generadas a partir del primer caso al inicio de la epidemia en una población totalmente susceptible\n",
    "\n",
    "En\n",
    "https://royalsociety.org/-/media/policy/projects/set-c/set-covid-19-R-estimates.pdf\n",
    "se menciona que\n",
    "\n",
    "$R_0 = 2.5$ para COVID-19\n",
    "\n",
    "$p = 1 - \\dfrac{1}{R_0} = 0.6$ es la proporción crítica de la población que debe ser inmune para detener la transmisión\n",
    "\n",
    "$R_0 = \\dfrac{\\beta}{\\gamma}N$\n",
    "\n",
    "$N$ es el tamaño de la población\n",
    "\n",
    "$\\beta$ es la tasa de transmisión dada por el producto del número total de contactos y la probabilidad de transmisión\n",
    "\n",
    "$\\gamma$ es la tasa de infecciosidad, que es el inverso de la duración promedio, esta duración es de 21 días para COVID-19\n",
    "\n",
    "$\\sigma$ es la tasa de incubación, que es el inverso del periodo de incubación, que es de 4 días para COVID-19"
   ]
  },
  {
   "cell_type": "code",
   "execution_count": 2,
   "metadata": {},
   "outputs": [],
   "source": [
    "import numpy as np\n",
    "import matplotlib.pyplot as plt\n",
    "from matplotlib import colors\n",
    "import pandas as pd"
   ]
  },
  {
   "cell_type": "markdown",
   "metadata": {},
   "source": [
    "La simulación con autómatas celulares, i.e. el modelo basado en agentes, genera una imagen para cada paso de la evolución, cada una de las cuales será guardada fuera de este notebook en un .gif"
   ]
  },
  {
   "cell_type": "markdown",
   "metadata": {},
   "source": [
    "Los tipos de población para el modelo basado en agentes se definen a continuación:"
   ]
  },
  {
   "cell_type": "code",
   "execution_count": 33,
   "metadata": {},
   "outputs": [],
   "source": [
    "#Los expuestos conforman el estado intermedio entre susceptibles e infectados\n",
    "\n",
    "def exposed(df, σ=1/4): #σ = periodo de incubación de 4 días para covid\n",
    "    susc = df[df[\"state\"] < 2] #Susceptibles: estados 0 y 1\n",
    "    infs = df[df[\"state\"]== 2] #Infectados estado 2\n",
    "    if(len(susc) == 0):\n",
    "        return susc\n",
    "    exps = np.random.choice(susc.index, 5*len(infs), replace=True)\n",
    "    for i in exps:\n",
    "        df.iloc[i][\"state\"] = 1 #Los Susceptibles se transforman en Expuestos: estado 1\n",
    "    return exps"
   ]
  },
  {
   "cell_type": "code",
   "execution_count": 5,
   "metadata": {},
   "outputs": [],
   "source": [
    "def infected(df, lst_cont, β=0.119): # β = tasa de transmisión = R_0·γ\n",
    "    no_rep = np.unique(lst_cont)\n",
    "    for c in no_rep:\n",
    "        p = np.random.uniform(0,1)\n",
    "        if(df.iloc[c][\"state\"]==1 and p<=β): #Los Susceptibles (estado 1) se transforman en \n",
    "            df.iloc[c][\"state\"]=2            #Infectados (estado 2) con tasa de transmisión beta"
   ]
  },
  {
   "cell_type": "code",
   "execution_count": 6,
   "metadata": {},
   "outputs": [],
   "source": [
    "def removed(df, γ=1/21): #γ = periodo de recuperación de 21 días para covid\n",
    "    for i in range(len(df)):\n",
    "        p = np.random.uniform(0,1)\n",
    "        if(df.iloc[i][\"state\"]==2 and p<=γ): #Los infectados se transforman en recuperados después de 1/gamma días\n",
    "            df.iloc[i][\"state\"]=3"
   ]
  },
  {
   "cell_type": "code",
   "execution_count": 38,
   "metadata": {},
   "outputs": [
    {
     "data": {
      "text/plain": [
       "<Figure size 432x288 with 0 Axes>"
      ]
     },
     "metadata": {},
     "output_type": "display_data"
    }
   ],
   "source": [
    "γ = 1/21  #tasa de recuperación (21 días)\n",
    "β = 2.5*γ #tasa de transmisión (R_0·γ)\n",
    "σ = 1/4   #tasa de incubación (4 días)\n",
    "Tmax = 121\n",
    "side = 20\n",
    "nAgents = side**2\n",
    "state = np.zeros(nAgents,dtype=int)\n",
    "data = {\"state\": state}\n",
    "agents = pd.DataFrame(data)\n",
    "\n",
    "#Iniciar un infectado en una posición aleatoria\n",
    "i0 = np.random.randint(0,nAgents)\n",
    "agents.iloc[i0][\"state\"] = 2\n",
    "S = [len(agents[agents[\"state\"]==0])]\n",
    "E = [0]\n",
    "I = [len(agents[agents[\"state\"]==2])]\n",
    "R = [0]\n",
    "\n",
    "#Autómatas Celulares\n",
    "cmap = colors.ListedColormap(['blue','orange','green','red']) #Para tener el mismo código de color que el default de pyplot\n",
    "bounds=[0,1,2,3,4]\n",
    "norm = colors.BoundaryNorm(bounds, cmap.N)\n",
    "for t in range(Tmax):\n",
    "    exps = exposed(agents,σ)\n",
    "    infected(agents,exps,β)\n",
    "    removed(agents,γ)\n",
    "    sts = np.array(agents[\"state\"])\n",
    "    show_sts = np.reshape(sts,(side,side))\n",
    "    img = plt.imshow(show_sts,cmap=cmap,norm=norm)\n",
    "    plt.colorbar(boundaries=bounds, ticks=[0,1,2,3])\n",
    "    plt.title(\"t = \"+str(t))\n",
    "    name = \"./img\"+str(t).zfill(3)+\".png\"\n",
    "    plt.savefig(name)\n",
    "    plt.clf()\n",
    "    S.append(len(agents[agents[\"state\"]==0]))\n",
    "    E.append(len(agents[agents[\"state\"]==1]))\n",
    "    I.append(len(agents[agents[\"state\"]==2]))\n",
    "    R.append(len(agents[agents[\"state\"]==3]))"
   ]
  },
  {
   "cell_type": "code",
   "execution_count": 29,
   "metadata": {},
   "outputs": [
    {
     "data": {
      "text/html": [
       "<div>\n",
       "<style scoped>\n",
       "    .dataframe tbody tr th:only-of-type {\n",
       "        vertical-align: middle;\n",
       "    }\n",
       "\n",
       "    .dataframe tbody tr th {\n",
       "        vertical-align: top;\n",
       "    }\n",
       "\n",
       "    .dataframe thead th {\n",
       "        text-align: right;\n",
       "    }\n",
       "</style>\n",
       "<table border=\"1\" class=\"dataframe\">\n",
       "  <thead>\n",
       "    <tr style=\"text-align: right;\">\n",
       "      <th></th>\n",
       "      <th>state</th>\n",
       "    </tr>\n",
       "  </thead>\n",
       "  <tbody>\n",
       "    <tr>\n",
       "      <th>count</th>\n",
       "      <td>400.000000</td>\n",
       "    </tr>\n",
       "    <tr>\n",
       "      <th>mean</th>\n",
       "      <td>2.812500</td>\n",
       "    </tr>\n",
       "    <tr>\n",
       "      <th>std</th>\n",
       "      <td>0.390801</td>\n",
       "    </tr>\n",
       "    <tr>\n",
       "      <th>min</th>\n",
       "      <td>2.000000</td>\n",
       "    </tr>\n",
       "    <tr>\n",
       "      <th>25%</th>\n",
       "      <td>3.000000</td>\n",
       "    </tr>\n",
       "    <tr>\n",
       "      <th>50%</th>\n",
       "      <td>3.000000</td>\n",
       "    </tr>\n",
       "    <tr>\n",
       "      <th>75%</th>\n",
       "      <td>3.000000</td>\n",
       "    </tr>\n",
       "    <tr>\n",
       "      <th>max</th>\n",
       "      <td>3.000000</td>\n",
       "    </tr>\n",
       "  </tbody>\n",
       "</table>\n",
       "</div>"
      ],
      "text/plain": [
       "            state\n",
       "count  400.000000\n",
       "mean     2.812500\n",
       "std      0.390801\n",
       "min      2.000000\n",
       "25%      3.000000\n",
       "50%      3.000000\n",
       "75%      3.000000\n",
       "max      3.000000"
      ]
     },
     "execution_count": 29,
     "metadata": {},
     "output_type": "execute_result"
    }
   ],
   "source": [
    "agents.describe() #Al final de la simulación casi todos están en el estado 3: removidos"
   ]
  },
  {
   "cell_type": "code",
   "execution_count": 27,
   "metadata": {},
   "outputs": [
    {
     "data": {
      "image/png": "[encoded data removed]",
      "text/plain": [
       "<Figure size 720x432 with 1 Axes>"
      ]
     },
     "metadata": {
      "needs_background": "light"
     },
     "output_type": "display_data"
    }
   ],
   "source": [
    "plt.figure(figsize=(10,6))\n",
    "plt.plot(S, '.-', label=\"S\")\n",
    "plt.plot(E, '.-', label=\"E\")\n",
    "plt.plot(I, '.-', label=\"I\")\n",
    "plt.plot(R, '.-', label=\"R\")\n",
    "plt.xlabel('Days')\n",
    "plt.legend()\n",
    "plt.show()"
   ]
  },
  {
   "cell_type": "markdown",
   "metadata": {},
   "source": [
    "El archivo .gif compilado se ve así:"
   ]
  },
  {
   "cell_type": "markdown",
   "metadata": {},
   "source": [
    "<img src=\"gif.gif\">"
   ]
  },
  {
   "cell_type": "markdown",
   "metadata": {},
   "source": [
    "donde el código de color es el mismo que el de la gráfica: azul = susceptible, naranja = expuesto, verde = infectado, rojo = removido"
   ]
  }
 ],
 "metadata": {
  "kernelspec": {
   "display_name": "Python 3",
   "language": "python",
   "name": "python3"
  },
  "language_info": {
   "codemirror_mode": {
    "name": "ipython",
    "version": 3
   },
   "file_extension": ".py",
   "mimetype": "text/x-python",
   "name": "python",
   "nbconvert_exporter": "python",
   "pygments_lexer": "ipython3",
   "version": "3.8.5"
  }
 },
 "nbformat": 4,
 "nbformat_minor": 2
}
