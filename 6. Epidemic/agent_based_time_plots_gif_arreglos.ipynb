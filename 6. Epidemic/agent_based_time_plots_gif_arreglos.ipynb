{
 "cells": [
  {
   "cell_type": "code",
   "execution_count": 1,
   "metadata": {},
   "outputs": [],
   "source": [
    "import numpy as np\n",
    "import matplotlib.pyplot as plt\n",
    "#import matplotlib\n",
    "from matplotlib import colors\n",
    "import pandas as pd\n",
    "import imageio"
   ]
  },
  {
   "cell_type": "code",
   "execution_count": 2,
   "metadata": {},
   "outputs": [],
   "source": [
    "def SEIR_discreto(b,g,sig,N,Tmax):\n",
    "    S = np.zeros(Tmax)\n",
    "    E = np.zeros(Tmax)\n",
    "    I = np.zeros(Tmax)\n",
    "    R = np.zeros(Tmax)\n",
    "    #ponemos un infectado al tiempo 0\n",
    "    I[0] = 1\n",
    "    S[0] = N-1\n",
    "    for t in range(Tmax-1): \n",
    "        S[t+1] = S[t] - b*S[t]*I[t]/N\n",
    "        E[t+1] = E[t] + b*S[t]*I[t]/N - sig*E[t]\n",
    "        I[t+1] = I[t] + sig*E[t] - g*I[t]\n",
    "        R[t+1] = R[t] + g*I[t]\n",
    "    return np.array(S),np.array(E),np.array(I),np.array(R)"
   ]
  },
  {
   "cell_type": "code",
   "execution_count": 3,
   "metadata": {},
   "outputs": [],
   "source": [
    "def exposed(df,s=1.0):\n",
    "    sus = df[df[\"state\"] < 2]\n",
    "    inf = df[df[\"state\"]== 2]\n",
    "    if(len(sus) == 0):\n",
    "        return sus,True\n",
    "    exp = np.random.choice(sus.index,len(inf)*5,replace=True)\n",
    "    for i in exp:\n",
    "        df.iloc[i][\"state\"] = 1\n",
    "    return exp,False"
   ]
  },
  {
   "cell_type": "code",
   "execution_count": 4,
   "metadata": {},
   "outputs": [],
   "source": [
    "def infect(df,lst_cont,b=1.0):\n",
    "    no_rep = np.unique(lst_cont)\n",
    "    #print(\"no_rep\",no_rep)\n",
    "    for c in no_rep:\n",
    "        p = np.random.uniform(0,1) #infectamos con probabilidad beta\n",
    "        if(df.iloc[c][\"state\"]==1 and p<=b):\n",
    "            df.iloc[c][\"state\"]=2"
   ]
  },
  {
   "cell_type": "code",
   "execution_count": 5,
   "metadata": {},
   "outputs": [],
   "source": [
    "def remove(df,g=1.0):\n",
    "    for i in range(len(df)):\n",
    "        p = np.random.uniform(0,1)\n",
    "        if(df.iloc[i][\"state\"]==2 and p<=g):\n",
    "            df.iloc[i][\"state\"] = 3"
   ]
  },
  {
   "cell_type": "code",
   "execution_count": 6,
   "metadata": {},
   "outputs": [
    {
     "data": {
      "text/plain": [
       "<Figure size 432x288 with 0 Axes>"
      ]
     },
     "metadata": {},
     "output_type": "display_data"
    }
   ],
   "source": [
    "g = 1/10\n",
    "b = 2.2*g\n",
    "sig = 1/14\n",
    "Tmax = 80\n",
    "side = 20\n",
    "nAgents = side**2\n",
    "state = np.zeros(nAgents,dtype=int)\n",
    "data = {\"state\": state}\n",
    "agents = pd.DataFrame(data)\n",
    "i0 = np.random.randint(0,nAgents)\n",
    "agents.iloc[i0][\"state\"] = 2\n",
    "S = [len(agents[agents[\"state\"]==0])]\n",
    "I = [len(agents[agents[\"state\"]==2])]\n",
    "E = [0]\n",
    "R = [0]\n",
    "#para graficación\n",
    "cmap = colors.ListedColormap(['blue', 'yellow','red','black'])\n",
    "bounds=[0,1,2,3,4]\n",
    "norm = colors.BoundaryNorm(bounds, cmap.N)\n",
    "for t in range(1,Tmax):\n",
    "    #print(t)\n",
    "    exp,flag = exposed(agents,sig)\n",
    "    if(flag == True):\n",
    "        break\n",
    "    #print(exp)\n",
    "    infect(agents,exp,b)\n",
    "    remove(agents,g)\n",
    "    sts = np.array(agents[\"state\"])\n",
    "    show_sts = np.reshape(sts,(side,side))\n",
    "    img = plt.imshow(show_sts,cmap=cmap,norm=norm)\n",
    "    plt.colorbar(cmap=cmap, norm=norm, boundaries=bounds, ticks=[0,1,2,3])\n",
    "    plt.title(\"t = \"+str(t))\n",
    "    name = \"./img/f\"+str(t).zfill(3)+\".png\"\n",
    "    plt.savefig(name)\n",
    "    plt.clf()\n",
    "    S.append(len(agents[agents[\"state\"]==0]))\n",
    "    I.append(len(agents[agents[\"state\"]==2]))\n",
    "    E.append(len(agents[agents[\"state\"]==1]))\n",
    "    R.append(len(agents[agents[\"state\"]==3]))\n",
    "    #print(agents)\n",
    "    #remove(agents,g)\n",
    "    if(len(agents[agents[\"state\"]==3])==nAgents-1):\n",
    "        break\n",
    "S = np.array(S)\n",
    "I = np.array(I)\n",
    "E = np.array(E)\n",
    "R = np.array(R)\n",
    "S2,E2,I2,R2 = SEIR_discreto(b,g,sig,nAgents,Tmax)"
   ]
  },
  {
   "cell_type": "code",
   "execution_count": 7,
   "metadata": {},
   "outputs": [],
   "source": [
    "Tmax = 38\n",
    "images = []\n",
    "for i in range(1,Tmax-1):\n",
    "    name = \"./img/f\"+str(i).zfill(3)+\".png\"\n",
    "    images.append(imageio.imread(name))\n",
    "imageio.mimsave('SIER_1.gif', images)"
   ]
  },
  {
   "cell_type": "code",
   "execution_count": 8,
   "metadata": {},
   "outputs": [
    {
     "data": {
      "image/png": "[encoded data removed]",
      "text/plain": [
       "<Figure size 432x288 with 1 Axes>"
      ]
     },
     "metadata": {
      "needs_background": "light"
     },
     "output_type": "display_data"
    }
   ],
   "source": [
    "plt.plot(S/nAgents,color='blue',label=\"S\")\n",
    "plt.plot(S2/nAgents,'--',color=\"blue\",alpha=0.5)\n",
    "plt.plot(I/nAgents,color='red',label=\"I\")\n",
    "plt.plot(I2/nAgents,'--',color=\"red\",alpha=0.5)\n",
    "plt.plot(E/nAgents,color='yellow',label=\"E\")\n",
    "plt.plot(E2/nAgents,'--',color=\"yellow\",alpha=0.5)\n",
    "plt.plot(R/nAgents,color='black',label=\"R\")\n",
    "plt.plot(R2/nAgents,'--',color=\"black\",alpha=0.5)\n",
    "plt.legend()\n",
    "plt.show()"
   ]
  },
  {
   "cell_type": "code",
   "execution_count": 9,
   "metadata": {},
   "outputs": [],
   "source": [
    "#![SegmentLocal](SIER_1.gif \"segment\")"
   ]
  }
 ],
 "metadata": {
  "kernelspec": {
   "display_name": "Python 3",
   "language": "python",
   "name": "python3"
  },
  "language_info": {
   "codemirror_mode": {
    "name": "ipython",
    "version": 3
   },
   "file_extension": ".py",
   "mimetype": "text/x-python",
   "name": "python",
   "nbconvert_exporter": "python",
   "pygments_lexer": "ipython3",
   "version": "3.8.5"
  }
 },
 "nbformat": 4,
 "nbformat_minor": 2
}
