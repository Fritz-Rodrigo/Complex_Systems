{
 "cells": [
  {
   "cell_type": "code",
   "execution_count": 1,
   "metadata": {},
   "outputs": [],
   "source": [
    "from collections import namedtuple"
   ]
  },
  {
   "cell_type": "code",
   "execution_count": 2,
   "metadata": {},
   "outputs": [],
   "source": [
    "Boids = namedtuple('Boids', ['R', 'theta'])"
   ]
  },
  {
   "cell_type": "code",
   "execution_count": 9,
   "metadata": {},
   "outputs": [],
   "source": [
    "# Plotting\n",
    "\n",
    "import matplotlib.pyplot as plt\n",
    "import seaborn as sns\n",
    "  \n",
    "sns.set_style(style='white')\n",
    "\n",
    "dark_color = [56 / 256] * 3\n",
    "light_color = [213 / 256] * 3\n",
    "axis_color = 'white'\n",
    "\n",
    "def format_plot(x='', y='', grid=True):  \n",
    "    ax = plt.gca()\n",
    "\n",
    "    ax.spines['bottom'].set_color(axis_color)\n",
    "    ax.spines['top'].set_color(axis_color) \n",
    "    ax.spines['right'].set_color(axis_color)\n",
    "    ax.spines['left'].set_color(axis_color)\n",
    "\n",
    "    ax.tick_params(axis='x', colors=axis_color)\n",
    "    ax.tick_params(axis='y', colors=axis_color)\n",
    "    ax.yaxis.label.set_color(axis_color)\n",
    "    ax.xaxis.label.set_color(axis_color)\n",
    "    ax.set_facecolor(dark_color)\n",
    "\n",
    "    plt.grid(grid)\n",
    "    plt.xlabel(x, fontsize=20)\n",
    "    plt.ylabel(y, fontsize=20)"
   ]
  },
  {
   "cell_type": "code",
   "execution_count": 8,
   "metadata": {},
   "outputs": [],
   "source": [
    "def finalize_plot(shape=(1, 1)):\n",
    "    plt.gcf().patch.set_facecolor(dark_color)\n",
    "    plt.gcf().set_size_inches(\n",
    "        shape[0] * 1.5 * plt.gcf().get_size_inches()[1], \n",
    "        shape[1] * 1.5 * plt.gcf().get_size_inches()[1])\n",
    "    plt.tight_layout()"
   ]
  },
  {
   "cell_type": "code",
   "execution_count": 28,
   "metadata": {},
   "outputs": [
    {
     "data": {
      "image/png": "[encoded data removed]",
      "text/plain": [
       "<Figure size 432x288 with 1 Axes>"
      ]
     },
     "metadata": {},
     "output_type": "display_data"
    }
   ],
   "source": [
    "format_plot()"
   ]
  },
  {
   "cell_type": "code",
   "execution_count": 21,
   "metadata": {},
   "outputs": [
    {
     "data": {
      "text/plain": [
       "<Figure size 432x432 with 0 Axes>"
      ]
     },
     "metadata": {},
     "output_type": "display_data"
    }
   ],
   "source": [
    "finalize_plot()"
   ]
  }
 ],
 "metadata": {
  "kernelspec": {
   "display_name": "Python 3",
   "language": "python",
   "name": "python3"
  },
  "language_info": {
   "codemirror_mode": {
    "name": "ipython",
    "version": 3
   },
   "file_extension": ".py",
   "mimetype": "text/x-python",
   "name": "python",
   "nbconvert_exporter": "python",
   "pygments_lexer": "ipython3",
   "version": "3.8.5"
  }
 },
 "nbformat": 4,
 "nbformat_minor": 4
}
