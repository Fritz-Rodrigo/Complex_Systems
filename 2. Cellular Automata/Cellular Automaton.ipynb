{
 "cells": [
  {
   "cell_type": "code",
   "execution_count": 136,
   "metadata": {},
   "outputs": [
    {
     "name": "stdout",
     "output_type": "stream",
     "text": [
      "----------o---------\n",
      "---------o-o--------\n",
      "--------o---o-------\n",
      "-------o-o-o-o------\n",
      "------o-------o-----\n",
      "-----o-o-----o-o----\n",
      "----o---o---o---o---\n",
      "---o-o-o-o-o-o-o-o--\n",
      "--o---------------o-\n",
      "-o-o-------------o-o\n"
     ]
    }
   ],
   "source": [
    "def ca():\n",
    "    \n",
    "    # Rule - the status of current cell value is True\n",
    "    # if only one of the two neighbors at the previous step is True('o')\n",
    "    # otherwise, the current cell status is False('-')\n",
    "\n",
    "    # list representing the current status of 20 cells\n",
    "    ca = [0,0,0,0,0,0,0,0,0,0, 1,0,0,0,0,0,0,0,0,0]\n",
    "    n = len(ca)\n",
    "\n",
    "    # new Cellular values\n",
    "    ca_new = ca[:]\n",
    "\n",
    "    # dictionary maps the cell value to a symbol\n",
    "    dic = {0:'-', 1:'o'}\n",
    "\n",
    "    # initial draw - step 0\n",
    "    print(''.join( [dic[e] for e in ca_new]))\n",
    "    # additional 31 steps\n",
    "    step = 1\n",
    "    while(step < int(n/2)):\n",
    "        ca_new = []\n",
    "        # loop through 0 to 63 and store the current cell status in ca_new list\n",
    "        for i in range(0,n):\n",
    "         # inside cells - check the neighbor cell state\n",
    "         if i > 0 and i < n-1:\n",
    "            if ca[i-1] == ca[i+1]:\n",
    "                ca_new.append(0)\n",
    "            else:\n",
    "                ca_new.append(1)\n",
    "\n",
    "         # left-most cell : check the second cell\n",
    "         elif(i == 0):\n",
    "            if ca[1] == 1:\n",
    "                ca_new.append(1)\n",
    "            else:\n",
    "                ca_new.append(0)\n",
    "\n",
    "         # right-most cell : check the second to the last cell\n",
    "         elif(i == n-1):\n",
    "            if ca[n-2] == 1:\n",
    "                ca_new.append(1)\n",
    "            else:\n",
    "                ca_new.append(0)\n",
    "\n",
    "        # draw current cell state\n",
    "        print(''.join( [dic[e] for e in ca_new]))\n",
    "\n",
    "        # update cell list\n",
    "        ca = ca_new[:]\n",
    "\n",
    "        # step count\n",
    "        step += 1\n",
    "\n",
    "if __name__ == '__main__':\n",
    "    ca()"
   ]
  },
  {
   "cell_type": "code",
   "execution_count": 159,
   "metadata": {},
   "outputs": [
    {
     "data": {
      "text/plain": [
       "array([0., 0., 0., 0., 0.])"
      ]
     },
     "execution_count": 159,
     "metadata": {},
     "output_type": "execute_result"
    }
   ],
   "source": [
    "np.zeros(5)"
   ]
  },
  {
   "cell_type": "code",
   "execution_count": 162,
   "metadata": {},
   "outputs": [
    {
     "name": "stdout",
     "output_type": "stream",
     "text": [
      "-----o-----\n",
      "----o-o----\n",
      "---o---o---\n",
      "--o-o-o-o--\n",
      "-o-------o-\n"
     ]
    }
   ],
   "source": [
    "import numpy as np\n",
    "\n",
    "def ca(n):\n",
    "    \n",
    "    # Rule - the status of current cell value is True\n",
    "    # if only one of the two neighbors at the previous step is True('o')\n",
    "    # otherwise, the current cell status is False('-')\n",
    "\n",
    "    # list representing the current status of 20 cells\n",
    "    \n",
    "    ca = np.zeros(n)\n",
    "    ca[int(n/2)] = 1\n",
    "\n",
    "    # new Cellular values\n",
    "    ca_new = ca[:]\n",
    "\n",
    "    # dictionary maps the cell value to a symbol\n",
    "    dic = {0:'-', 1:'o'}\n",
    "\n",
    "    # initial draw - step 0\n",
    "    print(''.join( [dic[e] for e in ca_new]))\n",
    "    # additional 31 steps\n",
    "    step = 1\n",
    "    while(step < int(n/2)):\n",
    "        ca_new = []\n",
    "        # loop through 0 to 63 and store the current cell status in ca_new list\n",
    "        for i in range(0,n):\n",
    "         # inside cells - check the neighbor cell state\n",
    "         if i > 0 and i < n-1:\n",
    "            if ca[i-1] == ca[i+1]:\n",
    "                ca_new.append(0)\n",
    "            else:\n",
    "                ca_new.append(1)\n",
    "\n",
    "         # left-most cell : check the second cell\n",
    "         elif(i == 0):\n",
    "            if ca[1] == 1:\n",
    "                ca_new.append(1)\n",
    "            else:\n",
    "                ca_new.append(0)\n",
    "\n",
    "         # right-most cell : check the second to the last cell\n",
    "         elif(i == n-1):\n",
    "            if ca[n-2] == 1:\n",
    "                ca_new.append(1)\n",
    "            else:\n",
    "                ca_new.append(0)\n",
    "\n",
    "        # draw current cell state\n",
    "        print(''.join( [dic[e] for e in ca_new]))\n",
    "\n",
    "        # update cell list\n",
    "        ca = ca_new[:]\n",
    "\n",
    "        # step count\n",
    "        step += 1\n",
    "\n",
    "if __name__ == '__main__':\n",
    "    ca(11)"
   ]
  },
  {
   "cell_type": "code",
   "execution_count": 46,
   "metadata": {},
   "outputs": [
    {
     "name": "stdout",
     "output_type": "stream",
     "text": [
      "-------------------------------o--------------------------------\n",
      "------------------------------o-o-------------------------------\n",
      "-----------------------------o---o------------------------------\n",
      "----------------------------o-o-o-o-----------------------------\n",
      "---------------------------o-------o----------------------------\n",
      "--------------------------o-o-----o-o---------------------------\n",
      "-------------------------o---o---o---o--------------------------\n",
      "------------------------o-o-o-o-o-o-o-o-------------------------\n",
      "-----------------------o---------------o------------------------\n",
      "----------------------o-o-------------o-o-----------------------\n",
      "---------------------o---o-----------o---o----------------------\n",
      "--------------------o-o-o-o---------o-o-o-o---------------------\n",
      "-------------------o-------o-------o-------o--------------------\n",
      "------------------o-o-----o-o-----o-o-----o-o-------------------\n",
      "-----------------o---o---o---o---o---o---o---o------------------\n",
      "----------------o-o-o-o-o-o-o-o-o-o-o-o-o-o-o-o-----------------\n",
      "---------------o-------------------------------o----------------\n",
      "--------------o-o-----------------------------o-o---------------\n",
      "-------------o---o---------------------------o---o--------------\n",
      "------------o-o-o-o-------------------------o-o-o-o-------------\n",
      "-----------o-------o-----------------------o-------o------------\n",
      "----------o-o-----o-o---------------------o-o-----o-o-----------\n",
      "---------o---o---o---o-------------------o---o---o---o----------\n",
      "--------o-o-o-o-o-o-o-o-----------------o-o-o-o-o-o-o-o---------\n",
      "-------o---------------o---------------o---------------o--------\n",
      "------o-o-------------o-o-------------o-o-------------o-o-------\n",
      "-----o---o-----------o---o-----------o---o-----------o---o------\n",
      "----o-o-o-o---------o-o-o-o---------o-o-o-o---------o-o-o-o-----\n",
      "---o-------o-------o-------o-------o-------o-------o-------o----\n",
      "--o-o-----o-o-----o-o-----o-o-----o-o-----o-o-----o-o-----o-o---\n",
      "-o---o---o---o---o---o---o---o---o---o---o---o---o---o---o---o--\n",
      "o-o-o-o-o-o-o-o-o-o-o-o-o-o-o-o-o-o-o-o-o-o-o-o-o-o-o-o-o-o-o-o-\n"
     ]
    }
   ],
   "source": [
    "def ca():\n",
    "   ''' Celluar automata with Python - K. Hong'''\n",
    "   # 64 Boolean - True(1) : '*'\n",
    "   #            - False(0): '-'\n",
    "   # Rule - the status of current cell value is True\n",
    "   # if only one of the two neighbors at the previous step is True('*')\n",
    "   # otherwise, the current cell status is False('-')\n",
    "\n",
    "   # list representing the current status of 64 cells\n",
    "   ca = [\n",
    "         0,0,0,0,0,0,0,0,0,0, 0,0,0,0,0,0,0,0,0,0,\n",
    "         0,0,0,0,0,0,0,0,0,0, 0,1,0,0,0,0,0,0,0,0,\n",
    "         0,0,0,0,0,0,0,0,0,0, 0,0,0,0,0,0,0,0,0,0,  0,0,0,0]\n",
    "\n",
    "   # new Cellular values\n",
    "   ca_new = ca[:]\n",
    "\n",
    "   # dictionary maps the cell value to a symbol\n",
    "   dic = {0:'-', 1:'o'}\n",
    "\n",
    "   # initial draw - step 0\n",
    "   print(''.join( [dic[e] for e in ca_new]))\n",
    "   # additional 31 steps\n",
    "   step = 1\n",
    "   while(step < 32):\n",
    "      ca_new = []\n",
    "      # loop through 0 to 63 and store the current cell status in ca_new list\n",
    "      for i in range(0,64):\n",
    "         # inside cells - check the neighbor cell state\n",
    "         if i > 0 and i < 63:\n",
    "            if ca[i-1] == ca[i+1]:\n",
    "               ca_new.append(0)\n",
    "            else:\n",
    "               ca_new.append(1)\n",
    "\n",
    "         # left-most cell : check the second cell\n",
    "         elif(i == 0):\n",
    "            if ca[1] == 1:\n",
    "               ca_new.append(1)\n",
    "            else:\n",
    "               ca_new.append(0)\n",
    "\n",
    "         # right-most cell : check the second to the last cell\n",
    "         elif(i == 63):\n",
    "            if ca[62] == 1:\n",
    "               ca_new.append(1)\n",
    "            else:\n",
    "               ca_new.append(0)\n",
    "\n",
    "      # draw current cell state\n",
    "      print(''.join( [dic[e] for e in ca_new]))\n",
    "\n",
    "      # update cell list\n",
    "      ca = ca_new[:]\n",
    "\n",
    "      # step count\n",
    "      step += 1\n",
    "\n",
    "if __name__ == '__main__':\n",
    "   ca()"
   ]
  },
  {
   "cell_type": "code",
   "execution_count": 51,
   "metadata": {},
   "outputs": [
    {
     "name": "stdout",
     "output_type": "stream",
     "text": [
      "-------o-----------------------o-----------------------o--------\n",
      "------o-o---------------------o-o---------------------o-o-------\n",
      "-----o---o-------------------o---o-------------------o---o------\n",
      "----o-o-o-o-----------------o-o-o-o-----------------o-o-o-o-----\n",
      "---o-------o---------------o-------o---------------o-------o----\n",
      "--o-o-----o-o-------------o-o-----o-o-------------o-o-----o-o---\n",
      "-o---o---o---o-----------o---o---o---o-----------o---o---o---o--\n",
      "o-o-o-o-o-o-o-o---------o-o-o-o-o-o-o-o---------o-o-o-o-o-o-o-o-\n",
      "---------------o-------o---------------o-------o---------------o\n",
      "--------------o-o-----o-o-------------o-o-----o-o-------------o-\n",
      "-------------o---o---o---o-----------o---o---o---o-----------o-o\n",
      "------------o-o-o-o-o-o-o-o---------o-o-o-o-o-o-o-o---------o---\n",
      "-----------o---------------o-------o---------------o-------o-o--\n",
      "----------o-o-------------o-o-----o-o-------------o-o-----o---o-\n",
      "---------o---o-----------o---o---o---o-----------o---o---o-o-o-o\n",
      "--------o-o-o-o---------o-o-o-o-o-o-o-o---------o-o-o-o-o-------\n",
      "-------o-------o-------o---------------o-------o---------o------\n",
      "------o-o-----o-o-----o-o-------------o-o-----o-o-------o-o-----\n",
      "-----o---o---o---o---o---o-----------o---o---o---o-----o---o----\n",
      "----o-o-o-o-o-o-o-o-o-o-o-o---------o-o-o-o-o-o-o-o---o-o-o-o---\n",
      "---o-----------------------o-------o---------------o-o-------o--\n",
      "--o-o---------------------o-o-----o-o-------------o---o-----o-o-\n",
      "-o---o-------------------o---o---o---o-----------o-o-o-o---o---o\n",
      "o-o-o-o-----------------o-o-o-o-o-o-o-o---------o-------o-o-o-o-\n",
      "-------o---------------o---------------o-------o-o-----o-------o\n",
      "------o-o-------------o-o-------------o-o-----o---o---o-o-----o-\n",
      "-----o---o-----------o---o-----------o---o---o-o-o-o-o---o---o-o\n",
      "----o-o-o-o---------o-o-o-o---------o-o-o-o-o---------o-o-o-o---\n",
      "---o-------o-------o-------o-------o---------o-------o-------o--\n",
      "--o-o-----o-o-----o-o-----o-o-----o-o-------o-o-----o-o-----o-o-\n",
      "-o---o---o---o---o---o---o---o---o---o-----o---o---o---o---o---o\n",
      "o-o-o-o-o-o-o-o-o-o-o-o-o-o-o-o-o-o-o-o---o-o-o-o-o-o-o-o-o-o-o-\n"
     ]
    }
   ],
   "source": [
    "def ca():\n",
    "   ''' Celluar automata with Python - K. Hong'''\n",
    "   # 64 Boolean - True(1) : '*'\n",
    "   #            - False(0): '-'\n",
    "   # Rule - the status of current cell value is True\n",
    "   # if only one of the two neighbors at the previous step is True('*')\n",
    "   # otherwise, the current cell status is False('-')\n",
    "\n",
    "   # list representing the current status of 64 cells\n",
    "   ca = [\n",
    "         0,0,0,0,0,0,0,1,0,0, 0,0,0,0,0,0,0,0,0,0,\n",
    "         0,0,0,0,0,0,0,0,0,0, 0,1,0,0,0,0,0,0,0,0,\n",
    "         0,0,0,0,0,0,0,0,0,0, 0,0,0,0,0,1,0,0,0,0,  0,0,0,0]\n",
    "\n",
    "   # new Cellular values\n",
    "   ca_new = ca[:]\n",
    "\n",
    "   # dictionary maps the cell value to a symbol\n",
    "   dic = {0:'-', 1:'o'}\n",
    "\n",
    "   # initial draw - step 0\n",
    "   print(''.join( [dic[e] for e in ca_new]))\n",
    "   # additional 31 steps\n",
    "   step = 1\n",
    "   while(step < 32):\n",
    "      ca_new = []\n",
    "      # loop through 0 to 63 and store the current cell status in ca_new list\n",
    "      for i in range(0,64):\n",
    "         # inside cells - check the neighbor cell state\n",
    "         if i > 0 and i < 63:\n",
    "            if ca[i-1] == ca[i+1]:\n",
    "               ca_new.append(0)\n",
    "            else:\n",
    "               ca_new.append(1)\n",
    "\n",
    "         # left-most cell : check the second cell\n",
    "         elif(i == 0):\n",
    "            if ca[1] == 1:\n",
    "               ca_new.append(1)\n",
    "            else:\n",
    "               ca_new.append(0)\n",
    "\n",
    "         # right-most cell : check the second to the last cell\n",
    "         elif(i == 63):\n",
    "            if ca[62] == 1:\n",
    "               ca_new.append(1)\n",
    "            else:\n",
    "               ca_new.append(0)\n",
    "\n",
    "      # draw current cell state\n",
    "      print(''.join( [dic[e] for e in ca_new]))\n",
    "\n",
    "      # update cell list\n",
    "      ca = ca_new[:]\n",
    "\n",
    "      # step count\n",
    "      step += 1\n",
    "\n",
    "if __name__ == '__main__':\n",
    "   ca()"
   ]
  },
  {
   "cell_type": "code",
   "execution_count": 54,
   "metadata": {},
   "outputs": [
    {
     "name": "stdout",
     "output_type": "stream",
     "text": [
      "------------------------------o--o------------------------------\n",
      "-----------------------------o-oo-o-----------------------------\n",
      "----------------------------o--oo--o----------------------------\n",
      "---------------------------o-oooooo-o---------------------------\n",
      "--------------------------o--o----o--o--------------------------\n",
      "-------------------------o-oo-o--o-oo-o-------------------------\n",
      "------------------------o--oo--oo--oo--o------------------------\n",
      "-----------------------o-oooooooooooooo-o-----------------------\n",
      "----------------------o--o------------o--o----------------------\n",
      "---------------------o-oo-o----------o-oo-o---------------------\n",
      "--------------------o--oo--o--------o--oo--o--------------------\n",
      "-------------------o-oooooo-o------o-oooooo-o-------------------\n",
      "------------------o--o----o--o----o--o----o--o------------------\n",
      "-----------------o-oo-o--o-oo-o--o-oo-o--o-oo-o-----------------\n",
      "----------------o--oo--oo--oo--oo--oo--oo--oo--o----------------\n",
      "---------------o-oooooooooooooooooooooooooooooo-o---------------\n",
      "--------------o--o----------------------------o--o--------------\n",
      "-------------o-oo-o--------------------------o-oo-o-------------\n",
      "------------o--oo--o------------------------o--oo--o------------\n",
      "-----------o-oooooo-o----------------------o-oooooo-o-----------\n",
      "----------o--o----o--o--------------------o--o----o--o----------\n",
      "---------o-oo-o--o-oo-o------------------o-oo-o--o-oo-o---------\n",
      "--------o--oo--oo--oo--o----------------o--oo--oo--oo--o--------\n",
      "-------o-oooooooooooooo-o--------------o-oooooooooooooo-o-------\n",
      "------o--o------------o--o------------o--o------------o--o------\n",
      "-----o-oo-o----------o-oo-o----------o-oo-o----------o-oo-o-----\n",
      "----o--oo--o--------o--oo--o--------o--oo--o--------o--oo--o----\n",
      "---o-oooooo-o------o-oooooo-o------o-oooooo-o------o-oooooo-o---\n",
      "--o--o----o--o----o--o----o--o----o--o----o--o----o--o----o--o--\n",
      "-o-oo-o--o-oo-o--o-oo-o--o-oo-o--o-oo-o--o-oo-o--o-oo-o--o-oo-o-\n",
      "o--oo--oo--oo--oo--oo--oo--oo--oo--oo--oo--oo--oo--oo--oo--oo--o\n",
      "-oooooooooooooooooooooooooooooooooooooooooooooooooooooooooooooo-\n"
     ]
    }
   ],
   "source": [
    "def ca():\n",
    "   ''' Celluar automata with Python - K. Hong'''\n",
    "   # 64 Boolean - True(1) : '*'\n",
    "   #            - False(0): '-'\n",
    "   # Rule - the status of current cell value is True\n",
    "   # if only one of the two neighbors at the previous step is True('*')\n",
    "   # otherwise, the current cell status is False('-')\n",
    "\n",
    "   # list representing the current status of 64 cells\n",
    "   ca = [\n",
    "         0,0,0,0,0,0,0,0,0,0, 0,0,0,0,0,0,0,0,0,0,\n",
    "         0,0,0,0,0,0,0,0,0,0, 1,0,0,1,0,0,0,0,0,0,\n",
    "         0,0,0,0,0,0,0,0,0,0, 0,0,0,0,0,0,0,0,0,0,  0,0,0,0]\n",
    "\n",
    "   # new Cellular values\n",
    "   ca_new = ca[:]\n",
    "\n",
    "   # dictionary maps the cell value to a symbol\n",
    "   dic = {0:'-', 1:'o'}\n",
    "\n",
    "   # initial draw - step 0\n",
    "   print(''.join( [dic[e] for e in ca_new]))\n",
    "   # additional 31 steps\n",
    "   step = 1\n",
    "   while(step < 32):\n",
    "      ca_new = []\n",
    "      # loop through 0 to 63 and store the current cell status in ca_new list\n",
    "      for i in range(0,64):\n",
    "         # inside cells - check the neighbor cell state\n",
    "         if i > 0 and i < 63:\n",
    "            if ca[i-1] == ca[i+1]:\n",
    "               ca_new.append(0)\n",
    "            else:\n",
    "               ca_new.append(1)\n",
    "\n",
    "         # left-most cell : check the second cell\n",
    "         elif(i == 0):\n",
    "            if ca[1] == 1:\n",
    "               ca_new.append(1)\n",
    "            else:\n",
    "               ca_new.append(0)\n",
    "\n",
    "         # right-most cell : check the second to the last cell\n",
    "         elif(i == 63):\n",
    "            if ca[62] == 1:\n",
    "               ca_new.append(1)\n",
    "            else:\n",
    "               ca_new.append(0)\n",
    "\n",
    "      # draw current cell state\n",
    "      print(''.join( [dic[e] for e in ca_new]))\n",
    "\n",
    "      # update cell list\n",
    "      ca = ca_new[:]\n",
    "\n",
    "      # step count\n",
    "      step += 1\n",
    "\n",
    "if __name__ == '__main__':\n",
    "   ca()"
   ]
  },
  {
   "cell_type": "code",
   "execution_count": 38,
   "metadata": {},
   "outputs": [
    {
     "name": "stdout",
     "output_type": "stream",
     "text": [
      "--------------------------------o-------------------------------\n",
      "-------------------------------o-o------------------------------\n",
      "------------------------------o---o-----------------------------\n",
      "-----------------------------o-o-o-o----------------------------\n",
      "----------------------------o-------o---------------------------\n",
      "---------------------------o-o-----o-o--------------------------\n",
      "--------------------------o---o---o---o-------------------------\n",
      "-------------------------o-o-o-o-o-o-o-o------------------------\n",
      "------------------------o---------------o-----------------------\n",
      "-----------------------o-o-------------o-o----------------------\n",
      "----------------------o---o-----------o---o---------------------\n",
      "---------------------o-o-o-o---------o-o-o-o--------------------\n",
      "--------------------o-------o-------o-------o-------------------\n",
      "-------------------o-o-----o-o-----o-o-----o-o------------------\n",
      "------------------o---o---o---o---o---o---o---o-----------------\n",
      "-----------------o-o-o-o-o-o-o-o-o-o-o-o-o-o-o-o----------------\n",
      "----------------o-------------------------------o---------------\n",
      "---------------o-o-----------------------------o-o--------------\n",
      "--------------o---o---------------------------o---o-------------\n",
      "-------------o-o-o-o-------------------------o-o-o-o------------\n",
      "------------o-------o-----------------------o-------o-----------\n",
      "-----------o-o-----o-o---------------------o-o-----o-o----------\n",
      "----------o---o---o---o-------------------o---o---o---o---------\n",
      "---------o-o-o-o-o-o-o-o-----------------o-o-o-o-o-o-o-o--------\n",
      "--------o---------------o---------------o---------------o-------\n",
      "-------o-o-------------o-o-------------o-o-------------o-o------\n",
      "------o---o-----------o---o-----------o---o-----------o---o-----\n",
      "-----o-o-o-o---------o-o-o-o---------o-o-o-o---------o-o-o-o----\n",
      "----o-------o-------o-------o-------o-------o-------o-------o---\n",
      "---o-o-----o-o-----o-o-----o-o-----o-o-----o-o-----o-o-----o-o--\n",
      "--o---o---o---o---o---o---o---o---o---o---o---o---o---o---o---o-\n",
      "-o-o-o-o-o-o-o-o-o-o-o-o-o-o-o-o-o-o-o-o-o-o-o-o-o-o-o-o-o-o-o-o\n"
     ]
    }
   ],
   "source": [
    "def ca():\n",
    "   ''' Celluar automata with Python - K. Hong'''\n",
    "   # 64 Boolean - True(1) : '*'\n",
    "   #            - False(0): '-'\n",
    "   # Rule - the status of current cell value is True\n",
    "   # if only one of the two neighbors at the previous step is True('*')\n",
    "   # otherwise, the current cell status is False('-')\n",
    "\n",
    "   # list representing the current status of 64 cells\n",
    "   ca = [\n",
    "         0,0,0,0,0,0,0,0,0,0, 0,0,0,0,0,0,0,0,0,0,\n",
    "         0,0,0,0,0,0,0,0,0,0, 0,0,1,0,0,0,0,0,0,0,\n",
    "         0,0,0,0,0,0,0,0,0,0, 0,0,0,0,0,0,0,0,0,0,  0,0,0,0]\n",
    "\n",
    "   # new Cellular values\n",
    "   ca_new = ca[:]\n",
    "\n",
    "   # dictionary maps the cell value to a symbol\n",
    "   dic = {0:'-', 1:'o'}\n",
    "\n",
    "   # initial draw - step 0\n",
    "   print(''.join( [dic[e] for e in ca_new]))\n",
    "   # additional 31 steps\n",
    "   step = 1\n",
    "   while(step < 32):\n",
    "      ca_new = []\n",
    "      # loop through 0 to 63 and store the current cell status in ca_new list\n",
    "      for i in range(0,64):\n",
    "         # inside cells - check the neighbor cell state\n",
    "         if i > 0 and i < 63:\n",
    "            if ca[i-1] == ca[i+1]:\n",
    "               ca_new.append(0)\n",
    "            else:\n",
    "               ca_new.append(1)\n",
    "\n",
    "         # left-most cell : check the second cell\n",
    "         elif(i == 0):\n",
    "            if ca[1] == 1:\n",
    "               ca_new.append(1)\n",
    "            else:\n",
    "               ca_new.append(0)\n",
    "\n",
    "         # right-most cell : check the second to the last cell\n",
    "         elif(i == 63):\n",
    "            if ca[62] == 1:\n",
    "               ca_new.append(1)\n",
    "            else:\n",
    "               ca_new.append(0)\n",
    "\n",
    "      # draw current cell state\n",
    "      print(''.join( [dic[e] for e in ca_new]))\n",
    "\n",
    "      # update cell list\n",
    "      ca = ca_new[:]\n",
    "\n",
    "      # step count\n",
    "      step += 1\n",
    "\n",
    "if __name__ == '__main__':\n",
    "   ca()"
   ]
  },
  {
   "cell_type": "markdown",
   "metadata": {},
   "source": [
    "https://github.com/lantunes/cellpylib"
   ]
  },
  {
   "cell_type": "code",
   "execution_count": 24,
   "metadata": {},
   "outputs": [
    {
     "data": {
      "image/png": "[encoded data removed]",
      "text/plain": [
       "<Figure size 432x288 with 1 Axes>"
      ]
     },
     "metadata": {
      "needs_background": "light"
     },
     "output_type": "display_data"
    }
   ],
   "source": [
    "import cellpylib as cpl\n",
    "\n",
    "# initialize a CA with 200 cells (a random initialization is also available) \n",
    "cellular_automaton = cpl.init_simple(200)\n",
    "\n",
    "# evolve the CA for 100 time steps, using Rule 30 as defined in NKS\n",
    "cellular_automaton = cpl.evolve(cellular_automaton, timesteps=100, \n",
    "                                apply_rule=lambda n, c, t: cpl.nks_rule(n, 30))\n",
    "\n",
    "# plot the resulting CA evolution\n",
    "cpl.plot(cellular_automaton)"
   ]
  },
  {
   "cell_type": "code",
   "execution_count": 56,
   "metadata": {},
   "outputs": [
    {
     "data": {
      "image/png": "[encoded data removed]",
      "text/plain": [
       "<Figure size 432x288 with 1 Axes>"
      ]
     },
     "metadata": {
      "needs_background": "light"
     },
     "output_type": "display_data"
    }
   ],
   "source": [
    "import cellpylib as cpl\n",
    "\n",
    "# initialize a CA with 200 cells (a random initialization is also available) \n",
    "cellular_automaton = cpl.init_simple(200)\n",
    "\n",
    "# evolve the CA for 100 time steps, using Rule 30 as defined in NKS\n",
    "cellular_automaton = cpl.evolve(cellular_automaton, timesteps=100, \n",
    "                                apply_rule=lambda n, c, t: cpl.nks_rule(n, 150))\n",
    "\n",
    "# plot the resulting CA evolution\n",
    "cpl.plot(cellular_automaton)"
   ]
  },
  {
   "cell_type": "code",
   "execution_count": 106,
   "metadata": {},
   "outputs": [
    {
     "data": {
      "image/png": "[encoded data removed]",
      "text/plain": [
       "<Figure size 432x288 with 1 Axes>"
      ]
     },
     "metadata": {
      "needs_background": "light"
     },
     "output_type": "display_data"
    }
   ],
   "source": [
    "import cellpylib as cpl\n",
    "\n",
    "# initialize a CA with 200 cells (a random initialization is also available) \n",
    "cellular_automaton = cpl.init_simple(200)\n",
    "\n",
    "# evolve the CA for 100 time steps, using Rule 30 as defined in NKS\n",
    "cellular_automaton = cpl.evolve(cellular_automaton, timesteps=100, \n",
    "                                apply_rule=lambda n, c, t: cpl.nks_rule(n, 26))\n",
    "\n",
    "# plot the resulting CA evolution\n",
    "cpl.plot(cellular_automaton)"
   ]
  },
  {
   "cell_type": "code",
   "execution_count": 110,
   "metadata": {},
   "outputs": [
    {
     "data": {
      "image/png": "[encoded data removed]",
      "text/plain": [
       "<Figure size 432x288 with 1 Axes>"
      ]
     },
     "metadata": {
      "needs_background": "light"
     },
     "output_type": "display_data"
    }
   ],
   "source": [
    "import cellpylib as cpl\n",
    "\n",
    "# initialize a CA with 200 cells (a random initialization is also available) \n",
    "cellular_automaton = cpl.init_simple(200)\n",
    "\n",
    "# evolve the CA for 100 time steps, using Rule 30 as defined in NKS\n",
    "cellular_automaton = cpl.evolve(cellular_automaton, timesteps=100, \n",
    "                                apply_rule=lambda n, c, t: cpl.nks_rule(n, 50))\n",
    "\n",
    "# plot the resulting CA evolution\n",
    "cpl.plot(cellular_automaton)"
   ]
  },
  {
   "cell_type": "code",
   "execution_count": 111,
   "metadata": {},
   "outputs": [
    {
     "data": {
      "image/png": "[encoded data removed]",
      "text/plain": [
       "<Figure size 432x288 with 1 Axes>"
      ]
     },
     "metadata": {
      "needs_background": "light"
     },
     "output_type": "display_data"
    }
   ],
   "source": [
    "import cellpylib as cpl\n",
    "\n",
    "# initialize a 60x60 2D cellular automaton \n",
    "cellular_automaton = cpl.init_simple2d(60, 60)\n",
    "\n",
    "# evolve the cellular automaton for 30 time steps, \n",
    "#  applying totalistic rule 126 to each cell with a Moore neighbourhood\n",
    "cellular_automaton = cpl.evolve2d(cellular_automaton, timesteps=30, neighbourhood='Moore',\n",
    "                                  apply_rule=lambda n, c, t: cpl.totalistic_rule(n, k=2, rule=126))\n",
    "\n",
    "cpl.plot2d(cellular_automaton)"
   ]
  },
  {
   "cell_type": "code",
   "execution_count": 170,
   "metadata": {},
   "outputs": [
    {
     "data": {
      "image/png": "[encoded data removed]",
      "text/plain": [
       "<Figure size 432x288 with 1 Axes>"
      ]
     },
     "metadata": {
      "needs_background": "light"
     },
     "output_type": "display_data"
    }
   ],
   "source": [
    "import cellpylib as cpl\n",
    "\n",
    "# initialize a 60x60 2D cellular automaton \n",
    "cellular_automaton = cpl.init_simple2d(50, 50)\n",
    "\n",
    "# evolve the cellular automaton for 30 time steps, \n",
    "#  applying totalistic rule 126 to each cell with a Moore neighbourhood\n",
    "cellular_automaton = cpl.evolve2d(cellular_automaton, timesteps=30, neighbourhood='Moore',\n",
    "                                  apply_rule=lambda n, c, t: cpl.totalistic_rule(n, k=2, rule=30))\n",
    "\n",
    "cpl.plot2d(cellular_automaton)"
   ]
  },
  {
   "cell_type": "code",
   "execution_count": 173,
   "metadata": {},
   "outputs": [
    {
     "data": {
      "image/png": "[encoded data removed]",
      "text/plain": [
       "<Figure size 432x288 with 1 Axes>"
      ]
     },
     "metadata": {
      "needs_background": "light"
     },
     "output_type": "display_data"
    }
   ],
   "source": [
    "import cellpylib as cpl\n",
    "\n",
    "# initialize a 60x60 2D cellular automaton \n",
    "cellular_automaton = cpl.init_simple2d(40, 40)\n",
    "\n",
    "# evolve the cellular automaton for 30 time steps, \n",
    "#  applying totalistic rule 126 to each cell with a Moore neighbourhood\n",
    "cellular_automaton = cpl.evolve2d(cellular_automaton, timesteps=20, neighbourhood='Moore',\n",
    "                                  apply_rule=lambda n, c, t: cpl.totalistic_rule(n, k=2, rule=30))\n",
    "\n",
    "cpl.plot2d(cellular_automaton)"
   ]
  },
  {
   "cell_type": "code",
   "execution_count": 112,
   "metadata": {},
   "outputs": [
    {
     "data": {
      "image/png": "[encoded data removed]",
      "text/plain": [
       "<Figure size 432x288 with 1 Axes>"
      ]
     },
     "metadata": {
      "needs_background": "light"
     },
     "output_type": "display_data"
    }
   ],
   "source": [
    "import cellpylib as cpl\n",
    "\n",
    "# initialize a 60x60 2D cellular automaton \n",
    "cellular_automaton = cpl.init_simple2d(60, 60)\n",
    "\n",
    "# evolve the cellular automaton for 30 time steps, \n",
    "#  applying totalistic rule 126 to each cell with a Moore neighbourhood\n",
    "cellular_automaton = cpl.evolve2d(cellular_automaton, timesteps=30, neighbourhood='von Neumann',\n",
    "                                  apply_rule=lambda n, c, t: cpl.totalistic_rule(n, k=2, rule=126))\n",
    "\n",
    "cpl.plot2d(cellular_automaton)"
   ]
  },
  {
   "cell_type": "code",
   "execution_count": 113,
   "metadata": {},
   "outputs": [
    {
     "data": {
      "image/png": "[encoded data removed]",
      "text/plain": [
       "<Figure size 432x288 with 1 Axes>"
      ]
     },
     "metadata": {
      "needs_background": "light"
     },
     "output_type": "display_data"
    }
   ],
   "source": [
    "import cellpylib as cpl\n",
    "\n",
    "# initialize a 60x60 2D cellular automaton \n",
    "cellular_automaton = cpl.init_simple2d(60, 60)\n",
    "\n",
    "# evolve the cellular automaton for 30 time steps, \n",
    "#  applying totalistic rule 126 to each cell with a Moore neighbourhood\n",
    "cellular_automaton = cpl.evolve2d(cellular_automaton, timesteps=30, neighbourhood='von Neumann',\n",
    "                                  apply_rule=lambda n, c, t: cpl.totalistic_rule(n, k=2, rule=30))\n",
    "\n",
    "cpl.plot2d(cellular_automaton)"
   ]
  },
  {
   "cell_type": "markdown",
   "metadata": {},
   "source": [
    "https://matplotlib.org/matplotblog/posts/elementary-cellular-automata/"
   ]
  },
  {
   "cell_type": "markdown",
   "metadata": {},
   "source": [
    "A given cell $C$ only knows about the state of it's left and right neighbors, labeled $L$ and $R$ respectively. We can define a function or rule $f(L, C, R)$ which maps the cell state to either 0 or 1."
   ]
  },
  {
   "cell_type": "code",
   "execution_count": 115,
   "metadata": {
    "scrolled": true
   },
   "outputs": [
    {
     "name": "stdout",
     "output_type": "stream",
     "text": [
      "000\n",
      "001\n",
      "010\n",
      "011\n",
      "100\n",
      "101\n",
      "110\n",
      "111\n"
     ]
    }
   ],
   "source": [
    "#Since our input cells are binary values there are 2^3 = 8 possible inputs into the function.\n",
    "for i in range(8):\n",
    "    print(np.binary_repr(i, 3))"
   ]
  },
  {
   "cell_type": "code",
   "execution_count": 118,
   "metadata": {},
   "outputs": [
    {
     "name": "stdout",
     "output_type": "stream",
     "text": [
      "[0 0 0 1 1 1 1 0]\n"
     ]
    }
   ],
   "source": [
    "#“Rule 30” could be constructed by first converting to binary and then building an array for each bit\n",
    "rule_number = 30\n",
    "rule_string = np.binary_repr(rule_number, 8)\n",
    "rule = np.array([int(bit) for bit in rule_string])\n",
    "print(rule)"
   ]
  },
  {
   "cell_type": "code",
   "execution_count": 117,
   "metadata": {},
   "outputs": [
    {
     "name": "stdout",
     "output_type": "stream",
     "text": [
      "input:000, index:7, output 0\n",
      "input:001, index:6, output 1\n",
      "input:010, index:5, output 1\n",
      "input:011, index:4, output 1\n",
      "input:100, index:3, output 1\n",
      "input:101, index:2, output 0\n",
      "input:110, index:1, output 0\n",
      "input:111, index:0, output 0\n"
     ]
    }
   ],
   "source": [
    "#By convention the Wolfram code associates the leading bit with ‘111’ and the final bit with ‘000’. \n",
    "#For rule 30 the relationship between the input, rule index and output is as follows:\n",
    "for i in range(8):\n",
    "    triplet = np.binary_repr(i, 3)\n",
    "    print(f\"input:{triplet}, index:{7-i}, output {rule[7-i]}\")"
   ]
  },
  {
   "cell_type": "code",
   "execution_count": 119,
   "metadata": {},
   "outputs": [],
   "source": [
    "#We can define a function which maps the input cell information with the associated rule index. \n",
    "#Essentially we are converting the binary input to decimal and adjusting the index range.\n",
    "def rule_index(triplet):\n",
    "    L, C, R = triplet\n",
    "    index = 7 - (4*L + 2*C + R)\n",
    "    return int(index)"
   ]
  },
  {
   "cell_type": "code",
   "execution_count": 120,
   "metadata": {},
   "outputs": [
    {
     "data": {
      "text/plain": [
       "0"
      ]
     },
     "execution_count": 120,
     "metadata": {},
     "output_type": "execute_result"
    }
   ],
   "source": [
    "rule[rule_index((1, 0, 1))]"
   ]
  },
  {
   "cell_type": "code",
   "execution_count": 137,
   "metadata": {},
   "outputs": [
    {
     "name": "stdout",
     "output_type": "stream",
     "text": [
      "[1 1 1 0 1 1 1 0 1 1 1 0 0 1 1 0 1 0 0 1]\n"
     ]
    }
   ],
   "source": [
    "#Finally, we can use Numpy to create a data structure containing all the triplets for our state array\n",
    "#and apply the function across the appropriate axis to determine our new state.\n",
    "all_triplets = np.stack([\n",
    "    np.roll(data, 1),\n",
    "    data,\n",
    "    np.roll(data, -1)]\n",
    ")\n",
    "new_data = rule[np.apply_along_axis(rule_index, 0, all_triplets)]\n",
    "print(new_data)\n",
    "#That is the process for a single update of our cellular automata."
   ]
  },
  {
   "cell_type": "code",
   "execution_count": 138,
   "metadata": {},
   "outputs": [],
   "source": [
    "#To do many updates and record the state over time, we will create a function.\n",
    "def CA_run(initial_state, n_steps, rule_number):\n",
    "    rule_string = np.binary_repr(rule_number, 8)\n",
    "    rule = np.array([int(bit) for bit in rule_string])\n",
    "\n",
    "    m_cells = len(initial_state)\n",
    "    CA_run = np.zeros((n_steps, m_cells))\n",
    "    CA_run[0, :] = initial_state\n",
    "\n",
    "    for step in range(1, n_steps):\n",
    "        all_triplets = np.stack(\n",
    "            [\n",
    "                np.roll(CA_run[step - 1, :], 1),\n",
    "                CA_run[step - 1, :],\n",
    "                np.roll(CA_run[step - 1, :], -1),\n",
    "            ]\n",
    "        )\n",
    "        CA_run[step, :] = rule[np.apply_along_axis(rule_index, 0, all_triplets)]\n",
    "\n",
    "    return CA_run"
   ]
  },
  {
   "cell_type": "code",
   "execution_count": 139,
   "metadata": {},
   "outputs": [
    {
     "name": "stdout",
     "output_type": "stream",
     "text": [
      "[[0. 1. 0. 0. 0. 1. 0. 0. 0. 1. 0. 0. 0. 0. 1. 0. 1. 1. 1. 0.]\n",
      " [1. 1. 1. 0. 1. 1. 1. 0. 1. 1. 1. 0. 0. 1. 1. 0. 1. 0. 0. 1.]\n",
      " [0. 0. 0. 0. 1. 0. 0. 0. 1. 0. 0. 1. 1. 1. 0. 0. 1. 1. 1. 1.]\n",
      " [1. 0. 0. 1. 1. 1. 0. 1. 1. 1. 1. 1. 0. 0. 1. 1. 1. 0. 0. 0.]\n",
      " [1. 1. 1. 1. 0. 0. 0. 1. 0. 0. 0. 0. 1. 1. 1. 0. 0. 1. 0. 1.]\n",
      " [0. 0. 0. 0. 1. 0. 1. 1. 1. 0. 0. 1. 1. 0. 0. 1. 1. 1. 0. 1.]\n",
      " [1. 0. 0. 1. 1. 0. 1. 0. 0. 1. 1. 1. 0. 1. 1. 1. 0. 0. 0. 1.]\n",
      " [0. 1. 1. 1. 0. 0. 1. 1. 1. 1. 0. 0. 0. 1. 0. 0. 1. 0. 1. 1.]\n",
      " [0. 1. 0. 0. 1. 1. 1. 0. 0. 0. 1. 0. 1. 1. 1. 1. 1. 0. 1. 0.]\n",
      " [1. 1. 1. 1. 1. 0. 0. 1. 0. 1. 1. 0. 1. 0. 0. 0. 0. 0. 1. 1.]]\n"
     ]
    }
   ],
   "source": [
    "initial = np.array([0, 1, 0, 0, 0, 1, 0, 0, 0, 1, 0, 0, 0, 0, 1, 0, 1, 1, 1, 0])\n",
    "data = CA_run(initial, 10, 30)\n",
    "print(data)"
   ]
  },
  {
   "cell_type": "code",
   "execution_count": 148,
   "metadata": {
    "scrolled": false
   },
   "outputs": [
    {
     "data": {
      "image/png": "[encoded data removed]",
      "text/plain": [
       "<Figure size 1152x648 with 1 Axes>"
      ]
     },
     "metadata": {
      "needs_background": "light"
     },
     "output_type": "display_data"
    }
   ],
   "source": [
    "#With random initial state\n",
    "import matplotlib.pyplot as plt\n",
    "plt.rcParams['image.cmap'] = 'binary'\n",
    "\n",
    "rng = np.random.RandomState(0)\n",
    "data = CA_run(rng.randint(0, 2, 300), 150, 30)\n",
    "\n",
    "fig, ax = plt.subplots(figsize=(16, 9))\n",
    "ax.matshow(data)\n",
    "ax.axis(False);"
   ]
  },
  {
   "cell_type": "code",
   "execution_count": 151,
   "metadata": {},
   "outputs": [
    {
     "data": {
      "image/png": "[encoded data removed]",
      "text/plain": [
       "<Figure size 1152x648 with 1 Axes>"
      ]
     },
     "metadata": {
      "needs_background": "light"
     },
     "output_type": "display_data"
    }
   ],
   "source": [
    "#A single 1 is initialized, with all other values set to zero.\n",
    "initial = np.zeros(300)\n",
    "initial[300//2] = 1\n",
    "data = CA_run(initial, 150, 30)\n",
    "\n",
    "fig, ax = plt.subplots(figsize=(16, 9))\n",
    "ax.matshow(data)\n",
    "ax.axis(False);"
   ]
  },
  {
   "cell_type": "code",
   "execution_count": 157,
   "metadata": {},
   "outputs": [
    {
     "data": {
      "image/png": "[encoded data removed]",
      "text/plain": [
       "<Figure size 1152x1152 with 1 Axes>"
      ]
     },
     "metadata": {
      "needs_background": "light"
     },
     "output_type": "display_data"
    }
   ],
   "source": [
    "#A single 1 is initialized, with all other values set to zero.\n",
    "initial = np.zeros(300)\n",
    "initial[300//2] = 1\n",
    "data = CA_run(initial, 16, 26)\n",
    "\n",
    "fig, ax = plt.subplots(figsize=(16, 16))\n",
    "ax.matshow(data)\n",
    "ax.axis(False);"
   ]
  }
 ],
 "metadata": {
  "kernelspec": {
   "display_name": "Python 3",
   "language": "python",
   "name": "python3"
  },
  "language_info": {
   "codemirror_mode": {
    "name": "ipython",
    "version": 3
   },
   "file_extension": ".py",
   "mimetype": "text/x-python",
   "name": "python",
   "nbconvert_exporter": "python",
   "pygments_lexer": "ipython3",
   "version": "3.8.5"
  }
 },
 "nbformat": 4,
 "nbformat_minor": 4
}
