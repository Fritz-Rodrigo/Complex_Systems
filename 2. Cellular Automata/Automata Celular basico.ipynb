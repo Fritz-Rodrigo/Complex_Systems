{
 "cells": [
  {
   "cell_type": "code",
   "execution_count": 1,
   "metadata": {},
   "outputs": [],
   "source": [
    "import numpy as np"
   ]
  },
  {
   "cell_type": "markdown",
   "metadata": {},
   "source": [
    "Ejemplo:"
   ]
  },
  {
   "cell_type": "code",
   "execution_count": 61,
   "metadata": {},
   "outputs": [],
   "source": [
    "def ca(n):\n",
    "    \n",
    "    # Rule - the status of current cell value is True if only one of the two neighbors at the previous step is True('o')\n",
    "    # otherwise, the current cell status is False('-')\n",
    "\n",
    "    # list representing the current status of n cells\n",
    "    ca = np.zeros(n)\n",
    "    ca[int(n/2)] = 1\n",
    "\n",
    "    # new Cellular values\n",
    "    ca_new = ca[:]\n",
    "\n",
    "    # dictionary maps the cell value to a symbol\n",
    "    dic = {0:'-', 1:'o'}\n",
    "\n",
    "    # initial draw - step 0\n",
    "    print(''.join( [dic[e] for e in ca_new]))\n",
    "    \n",
    "    # additional n/2 steps\n",
    "    step = 1\n",
    "    while(step < int(n/2)):\n",
    "        ca_new = []\n",
    "        # loop through 0 to n-1 and store the current cell status in ca_new list\n",
    "        for i in range(0,n):\n",
    "            # inside cells - check the neighbor cell state\n",
    "            if i > 0 and i < n-1:\n",
    "                if ca[i-1] == ca[i+1]:\n",
    "                    ca_new.append(0)\n",
    "                else:\n",
    "                    ca_new.append(1)\n",
    "\n",
    "            # left-most cell : check the second cell\n",
    "            elif(i == 0):\n",
    "                if ca[1] == 1:\n",
    "                    ca_new.append(1)\n",
    "                else:\n",
    "                    ca_new.append(0)\n",
    "\n",
    "            # right-most cell : check the second to the last cell\n",
    "            elif(i == n-1):\n",
    "                if ca[n-2] == 1:\n",
    "                    ca_new.append(1)\n",
    "                else:\n",
    "                    ca_new.append(0)\n",
    "\n",
    "        # draw current cell state\n",
    "        print(''.join( [dic[e] for e in ca_new]))\n",
    "\n",
    "        # update cell list\n",
    "        ca = ca_new[:]\n",
    "\n",
    "        # step count\n",
    "        step += 1"
   ]
  },
  {
   "cell_type": "code",
   "execution_count": 62,
   "metadata": {},
   "outputs": [
    {
     "name": "stdout",
     "output_type": "stream",
     "text": [
      "----o----\n",
      "---o-o---\n",
      "--o---o--\n",
      "-o-o-o-o-\n"
     ]
    }
   ],
   "source": [
    "ca(9)"
   ]
  },
  {
   "cell_type": "code",
   "execution_count": 63,
   "metadata": {},
   "outputs": [
    {
     "name": "stdout",
     "output_type": "stream",
     "text": [
      "----------------o----------------\n",
      "---------------o-o---------------\n",
      "--------------o---o--------------\n",
      "-------------o-o-o-o-------------\n",
      "------------o-------o------------\n",
      "-----------o-o-----o-o-----------\n",
      "----------o---o---o---o----------\n",
      "---------o-o-o-o-o-o-o-o---------\n",
      "--------o---------------o--------\n",
      "-------o-o-------------o-o-------\n",
      "------o---o-----------o---o------\n",
      "-----o-o-o-o---------o-o-o-o-----\n",
      "----o-------o-------o-------o----\n",
      "---o-o-----o-o-----o-o-----o-o---\n",
      "--o---o---o---o---o---o---o---o--\n",
      "-o-o-o-o-o-o-o-o-o-o-o-o-o-o-o-o-\n"
     ]
    }
   ],
   "source": [
    "ca(33)"
   ]
  },
  {
   "cell_type": "code",
   "execution_count": 44,
   "metadata": {},
   "outputs": [
    {
     "name": "stdout",
     "output_type": "stream",
     "text": [
      "--------------------------------o--------------------------------\n",
      "-------------------------------o-o-------------------------------\n",
      "------------------------------o---o------------------------------\n",
      "-----------------------------o-o-o-o-----------------------------\n",
      "----------------------------o-------o----------------------------\n",
      "---------------------------o-o-----o-o---------------------------\n",
      "--------------------------o---o---o---o--------------------------\n",
      "-------------------------o-o-o-o-o-o-o-o-------------------------\n",
      "------------------------o---------------o------------------------\n",
      "-----------------------o-o-------------o-o-----------------------\n",
      "----------------------o---o-----------o---o----------------------\n",
      "---------------------o-o-o-o---------o-o-o-o---------------------\n",
      "--------------------o-------o-------o-------o--------------------\n",
      "-------------------o-o-----o-o-----o-o-----o-o-------------------\n",
      "------------------o---o---o---o---o---o---o---o------------------\n",
      "-----------------o-o-o-o-o-o-o-o-o-o-o-o-o-o-o-o-----------------\n",
      "----------------o-------------------------------o----------------\n",
      "---------------o-o-----------------------------o-o---------------\n",
      "--------------o---o---------------------------o---o--------------\n",
      "-------------o-o-o-o-------------------------o-o-o-o-------------\n",
      "------------o-------o-----------------------o-------o------------\n",
      "-----------o-o-----o-o---------------------o-o-----o-o-----------\n",
      "----------o---o---o---o-------------------o---o---o---o----------\n",
      "---------o-o-o-o-o-o-o-o-----------------o-o-o-o-o-o-o-o---------\n",
      "--------o---------------o---------------o---------------o--------\n",
      "-------o-o-------------o-o-------------o-o-------------o-o-------\n",
      "------o---o-----------o---o-----------o---o-----------o---o------\n",
      "-----o-o-o-o---------o-o-o-o---------o-o-o-o---------o-o-o-o-----\n",
      "----o-------o-------o-------o-------o-------o-------o-------o----\n",
      "---o-o-----o-o-----o-o-----o-o-----o-o-----o-o-----o-o-----o-o---\n",
      "--o---o---o---o---o---o---o---o---o---o---o---o---o---o---o---o--\n",
      "-o-o-o-o-o-o-o-o-o-o-o-o-o-o-o-o-o-o-o-o-o-o-o-o-o-o-o-o-o-o-o-o-\n"
     ]
    }
   ],
   "source": [
    "ca(65)"
   ]
  },
  {
   "cell_type": "markdown",
   "metadata": {},
   "source": [
    "Regla de solidificación:"
   ]
  },
  {
   "cell_type": "code",
   "execution_count": 136,
   "metadata": {},
   "outputs": [],
   "source": [
    "def ca_solid(n):\n",
    "    \n",
    "    # Rule - the status of current cell value is True if at the previous step is True('o')\n",
    "    # otherwise, the current cell status is False('-')\n",
    "\n",
    "    # list representing the current status of n cells\n",
    "    ca = np.zeros(n)\n",
    "    ca[int(n/2)] = 1\n",
    "    ca[1]=1\n",
    "    ca[n-2]=1\n",
    "\n",
    "    # new Cellular values\n",
    "    ca_new = ca[:]\n",
    "\n",
    "    # dictionary maps the cell value to a symbol\n",
    "    dic = {0:'-', 1:'o'}\n",
    "\n",
    "    # initial draw - step 0\n",
    "    print(''.join( [dic[e] for e in ca_new]))\n",
    "    \n",
    "    # additional n/2 steps\n",
    "    step = 1\n",
    "    while(step < int(n/2)):\n",
    "        ca_new = []\n",
    "        # loop through 0 to n-1 and store the current cell status in ca_new list\n",
    "        for i in range(0,n):\n",
    "                \n",
    "            # inside cells - check the neighbor cell state\n",
    "            if i > 0 and i < n-1:\n",
    "                if ca[i] == 1:\n",
    "                    ca_new.append(0)\n",
    "                elif ca[i-1] == 1:\n",
    "                    ca_new.append(1)\n",
    "                elif ca[i+1] == 1:\n",
    "                    ca_new.append(1)\n",
    "                else:\n",
    "                    ca_new.append(0)\n",
    "\n",
    "            # left-most cell : check the second cell\n",
    "            elif(i == 0):\n",
    "                if ca[1] == 1:\n",
    "                    ca_new.append(1)\n",
    "                else:\n",
    "                    ca_new.append(0)\n",
    "\n",
    "            # right-most cell : check the second to the last cell\n",
    "            elif(i == n-1):\n",
    "                if ca[n-2] == 1:\n",
    "                    ca_new.append(1)\n",
    "                else:\n",
    "                    ca_new.append(0)                \n",
    "\n",
    "        # draw current cell state\n",
    "        print(''.join( [dic[e] for e in ca_new]))\n",
    "\n",
    "        # update cell list\n",
    "        ca = ca_new[:]\n",
    "\n",
    "        # step count\n",
    "        step += 1"
   ]
  },
  {
   "cell_type": "code",
   "execution_count": 137,
   "metadata": {},
   "outputs": [
    {
     "name": "stdout",
     "output_type": "stream",
     "text": [
      "-o-------------o-------------o-\n",
      "o-o-----------o-o-----------o-o\n",
      "-o-o---------o-o-o---------o-o-\n",
      "o-o-o-------o-o-o-o-------o-o-o\n",
      "-o-o-o-----o-o-o-o-o-----o-o-o-\n",
      "o-o-o-o---o-o-o-o-o-o---o-o-o-o\n",
      "-o-o-o-o-o-o-o-o-o-o-o-o-o-o-o-\n",
      "o-o-o-o-o-o-o-o-o-o-o-o-o-o-o-o\n",
      "-o-o-o-o-o-o-o-o-o-o-o-o-o-o-o-\n",
      "o-o-o-o-o-o-o-o-o-o-o-o-o-o-o-o\n",
      "-o-o-o-o-o-o-o-o-o-o-o-o-o-o-o-\n",
      "o-o-o-o-o-o-o-o-o-o-o-o-o-o-o-o\n",
      "-o-o-o-o-o-o-o-o-o-o-o-o-o-o-o-\n",
      "o-o-o-o-o-o-o-o-o-o-o-o-o-o-o-o\n",
      "-o-o-o-o-o-o-o-o-o-o-o-o-o-o-o-\n"
     ]
    }
   ],
   "source": [
    "ca_solid(31)"
   ]
  }
 ],
 "metadata": {
  "kernelspec": {
   "display_name": "Python 3",
   "language": "python",
   "name": "python3"
  },
  "language_info": {
   "codemirror_mode": {
    "name": "ipython",
    "version": 3
   },
   "file_extension": ".py",
   "mimetype": "text/x-python",
   "name": "python",
   "nbconvert_exporter": "python",
   "pygments_lexer": "ipython3",
   "version": "3.8.5"
  }
 },
 "nbformat": 4,
 "nbformat_minor": 4
}
