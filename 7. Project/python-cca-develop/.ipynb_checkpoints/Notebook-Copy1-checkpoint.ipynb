{
 "cells": [
  {
   "cell_type": "code",
   "execution_count": 1,
   "metadata": {},
   "outputs": [],
   "source": [
    "import numpy as np\n",
    "import CcaGrid"
   ]
  },
  {
   "cell_type": "code",
   "execution_count": 59,
   "metadata": {},
   "outputs": [],
   "source": [
    "NEIGHBORHOOD_MOORE = 1\n",
    "NEIGHBORHOOD_NEUMANN = 0\n",
    "\n",
    "num_columns = 10\n",
    "num_rows = 10\n",
    "\n",
    "# 313 rule\n",
    "num_states = 3\n",
    "neighborhood_range = 1\n",
    "neighboorhood_type = NEIGHBORHOOD_MOORE\n",
    "threshold = 3"
   ]
  },
  {
   "cell_type": "markdown",
   "metadata": {},
   "source": [
    "### Create states"
   ]
  },
  {
   "cell_type": "markdown",
   "metadata": {},
   "source": [
    "create array of 100 states"
   ]
  },
  {
   "cell_type": "code",
   "execution_count": 60,
   "metadata": {},
   "outputs": [],
   "source": [
    "def randomStates(rows, columns, states):\n",
    "    grid = np.random.rand(num_rows*num_columns) * (states-1)\n",
    "    grid = grid.round().astype(np.uint8)\n",
    "    return grid"
   ]
  },
  {
   "cell_type": "code",
   "execution_count": 61,
   "metadata": {},
   "outputs": [],
   "source": [
    "grid = randomStates(num_rows, num_columns, num_states)"
   ]
  },
  {
   "cell_type": "code",
   "execution_count": 62,
   "metadata": {},
   "outputs": [
    {
     "data": {
      "text/plain": [
       "array([[1, 1, 0, 1, 1, 1, 1, 2, 0, 1],\n",
       "       [0, 1, 2, 1, 2, 0, 2, 2, 2, 1],\n",
       "       [1, 1, 0, 1, 1, 1, 0, 0, 1, 2],\n",
       "       [2, 1, 2, 1, 2, 1, 0, 0, 1, 2],\n",
       "       [1, 1, 1, 0, 1, 0, 2, 1, 2, 1],\n",
       "       [1, 1, 1, 0, 2, 1, 2, 1, 0, 1],\n",
       "       [1, 1, 1, 1, 1, 1, 1, 0, 1, 1],\n",
       "       [1, 1, 2, 1, 2, 0, 0, 1, 2, 0],\n",
       "       [0, 1, 1, 1, 1, 0, 1, 1, 0, 2],\n",
       "       [1, 2, 1, 0, 0, 0, 1, 1, 1, 1]], dtype=uint8)"
      ]
     },
     "execution_count": 62,
     "metadata": {},
     "output_type": "execute_result"
    }
   ],
   "source": [
    "grid.reshape(10, 10)"
   ]
  },
  {
   "cell_type": "markdown",
   "metadata": {},
   "source": [
    "### Create positions"
   ]
  },
  {
   "cell_type": "code",
   "execution_count": 112,
   "metadata": {},
   "outputs": [],
   "source": [
    "def positions(rows, columns):\n",
    "    return np.asarray(list(range(0, num_rows*num_columns)), np.uint16)"
   ]
  },
  {
   "cell_type": "code",
   "execution_count": 113,
   "metadata": {},
   "outputs": [],
   "source": [
    "positions = positions(num_rows, num_columns)"
   ]
  },
  {
   "cell_type": "code",
   "execution_count": 114,
   "metadata": {},
   "outputs": [
    {
     "data": {
      "text/plain": [
       "array([[ 0,  1,  2,  3,  4,  5,  6,  7,  8,  9],\n",
       "       [10, 11, 12, 13, 14, 15, 16, 17, 18, 19],\n",
       "       [20, 21, 22, 23, 24, 25, 26, 27, 28, 29],\n",
       "       [30, 31, 32, 33, 34, 35, 36, 37, 38, 39],\n",
       "       [40, 41, 42, 43, 44, 45, 46, 47, 48, 49],\n",
       "       [50, 51, 52, 53, 54, 55, 56, 57, 58, 59],\n",
       "       [60, 61, 62, 63, 64, 65, 66, 67, 68, 69],\n",
       "       [70, 71, 72, 73, 74, 75, 76, 77, 78, 79],\n",
       "       [80, 81, 82, 83, 84, 85, 86, 87, 88, 89],\n",
       "       [90, 91, 92, 93, 94, 95, 96, 97, 98, 99]], dtype=uint16)"
      ]
     },
     "execution_count": 114,
     "metadata": {},
     "output_type": "execute_result"
    }
   ],
   "source": [
    "positions.reshape(10, 10)"
   ]
  },
  {
   "cell_type": "markdown",
   "metadata": {},
   "source": [
    "### Get number of neighboring cells"
   ]
  },
  {
   "cell_type": "code",
   "execution_count": 66,
   "metadata": {},
   "outputs": [],
   "source": [
    "def moore_neighborhood_size(size):\n",
    "    return ((2*size) + 1) ** 2 - 1"
   ]
  },
  {
   "cell_type": "markdown",
   "metadata": {},
   "source": [
    "### Get position from coordinate"
   ]
  },
  {
   "cell_type": "code",
   "execution_count": 67,
   "metadata": {},
   "outputs": [],
   "source": [
    "def coordinate_to_position(coordinate, total_cols):\n",
    "    return (coordinate[0]*total_cols) + coordinate[1]"
   ]
  },
  {
   "cell_type": "code",
   "execution_count": 68,
   "metadata": {},
   "outputs": [
    {
     "data": {
      "text/plain": [
       "44"
      ]
     },
     "execution_count": 68,
     "metadata": {},
     "output_type": "execute_result"
    }
   ],
   "source": [
    "coordinate_to_position((4,4), 10)"
   ]
  },
  {
   "cell_type": "markdown",
   "metadata": {},
   "source": [
    "### Get coordinate from position"
   ]
  },
  {
   "cell_type": "code",
   "execution_count": 69,
   "metadata": {},
   "outputs": [],
   "source": [
    "def position_to_coordinate(position, total_cols):\n",
    "    return (int(position/total_cols)//1, position%total_cols)"
   ]
  },
  {
   "cell_type": "code",
   "execution_count": 70,
   "metadata": {},
   "outputs": [
    {
     "data": {
      "text/plain": [
       "(4, 4)"
      ]
     },
     "execution_count": 70,
     "metadata": {},
     "output_type": "execute_result"
    }
   ],
   "source": [
    "position_to_coordinate(44, 10)"
   ]
  },
  {
   "cell_type": "markdown",
   "metadata": {},
   "source": [
    "### Create Moore neighborhood"
   ]
  },
  {
   "cell_type": "markdown",
   "metadata": {},
   "source": [
    "** For cell (4, 4) **"
   ]
  },
  {
   "cell_type": "code",
   "execution_count": 71,
   "metadata": {},
   "outputs": [],
   "source": [
    "current_row = 4\n",
    "current_column = 4"
   ]
  },
  {
   "cell_type": "code",
   "execution_count": 72,
   "metadata": {},
   "outputs": [],
   "source": [
    "def wrap_coordinate(coordinate, num_rows, num_columns):\n",
    "    return (coordinate[0] % num_rows, coordinate[1] % num_columns)"
   ]
  },
  {
   "cell_type": "code",
   "execution_count": 73,
   "metadata": {},
   "outputs": [],
   "source": [
    "def wrap_state(state, num_states):\n",
    "    return (state % num_states)"
   ]
  },
  {
   "cell_type": "markdown",
   "metadata": {},
   "source": [
    "**Rewrite to array?**"
   ]
  },
  {
   "cell_type": "code",
   "execution_count": 74,
   "metadata": {},
   "outputs": [],
   "source": [
    "def moore_neighborhood_positions(row, column, size, num_rows, num_columns):\n",
    "    coordinates = []\n",
    "    for row_offset in range(-size, size+1):\n",
    "        for column_offset in range(-size, size+1):\n",
    "            if (row_offset != 0) | (column_offset != 0):\n",
    "                coordinates.append((row+row_offset, column+column_offset))\n",
    "            \n",
    "    return np.asarray(\n",
    "        list(coordinate_to_position(wrap_coordinate(x, num_rows, num_columns), num_columns) for x in coordinates),\n",
    "        np.uint16\n",
    "    )"
   ]
  },
  {
   "cell_type": "code",
   "execution_count": 115,
   "metadata": {},
   "outputs": [],
   "source": [
    "neighborhood_positions = moore_neighborhood_positions(current_row, current_column, 1, num_rows, num_columns)"
   ]
  },
  {
   "cell_type": "code",
   "execution_count": 76,
   "metadata": {},
   "outputs": [
    {
     "data": {
      "text/plain": [
       "array([33, 34, 35, 43, 45, 53, 54, 55], dtype=uint16)"
      ]
     },
     "execution_count": 76,
     "metadata": {},
     "output_type": "execute_result"
    }
   ],
   "source": [
    "neighborhood_positions"
   ]
  },
  {
   "cell_type": "markdown",
   "metadata": {},
   "source": [
    "### Create neighborhood mask"
   ]
  },
  {
   "cell_type": "code",
   "execution_count": 77,
   "metadata": {},
   "outputs": [],
   "source": [
    "def neighborhood_mask(neighborhood_positions, positions):\n",
    "    return np.asarray(\n",
    "        list(x not in neighborhood_positions for x in positions),\n",
    "        np.bool\n",
    "    )"
   ]
  },
  {
   "cell_type": "code",
   "execution_count": 117,
   "metadata": {},
   "outputs": [],
   "source": [
    "neighbor_grid = neighborhood_mask(neighborhood_positions, positions)"
   ]
  },
  {
   "cell_type": "code",
   "execution_count": 118,
   "metadata": {},
   "outputs": [
    {
     "data": {
      "text/plain": [
       "array([[ True,  True,  True,  True,  True,  True,  True,  True,  True,\n",
       "         True],\n",
       "       [ True,  True,  True,  True,  True,  True,  True,  True,  True,\n",
       "         True],\n",
       "       [ True,  True,  True,  True,  True,  True,  True,  True,  True,\n",
       "         True],\n",
       "       [ True,  True,  True, False, False, False,  True,  True,  True,\n",
       "         True],\n",
       "       [ True,  True,  True, False,  True, False,  True,  True,  True,\n",
       "         True],\n",
       "       [ True,  True,  True, False, False, False,  True,  True,  True,\n",
       "         True],\n",
       "       [ True,  True,  True,  True,  True,  True,  True,  True,  True,\n",
       "         True],\n",
       "       [ True,  True,  True,  True,  True,  True,  True,  True,  True,\n",
       "         True],\n",
       "       [ True,  True,  True,  True,  True,  True,  True,  True,  True,\n",
       "         True],\n",
       "       [ True,  True,  True,  True,  True,  True,  True,  True,  True,\n",
       "         True]])"
      ]
     },
     "execution_count": 118,
     "metadata": {},
     "output_type": "execute_result"
    }
   ],
   "source": [
    "neighbor_grid.reshape(10, 10)"
   ]
  },
  {
   "cell_type": "markdown",
   "metadata": {},
   "source": [
    "### Use mask to query neighborhood"
   ]
  },
  {
   "cell_type": "code",
   "execution_count": 125,
   "metadata": {},
   "outputs": [],
   "source": [
    "neighbor_states = np.ma.masked_array(grid, neighbor_grid)"
   ]
  },
  {
   "cell_type": "code",
   "execution_count": 126,
   "metadata": {},
   "outputs": [
    {
     "data": {
      "text/plain": [
       "masked_array(\n",
       "  data=[[--, --, --, --, --, --, --, --, --, --],\n",
       "        [--, --, --, --, --, --, --, --, --, --],\n",
       "        [--, --, --, --, --, --, --, --, --, --],\n",
       "        [--, --, --, 1, 2, 1, --, --, --, --],\n",
       "        [--, --, --, 1, --, 1, --, --, --, --],\n",
       "        [--, --, --, 1, 0, 2, --, --, --, --],\n",
       "        [--, --, --, --, --, --, --, --, --, --],\n",
       "        [--, --, --, --, --, --, --, --, --, --],\n",
       "        [--, --, --, --, --, --, --, --, --, --],\n",
       "        [--, --, --, --, --, --, --, --, --, --]],\n",
       "  mask=[[ True,  True,  True,  True,  True,  True,  True,  True,  True,\n",
       "          True],\n",
       "        [ True,  True,  True,  True,  True,  True,  True,  True,  True,\n",
       "          True],\n",
       "        [ True,  True,  True,  True,  True,  True,  True,  True,  True,\n",
       "          True],\n",
       "        [ True,  True,  True, False, False, False,  True,  True,  True,\n",
       "          True],\n",
       "        [ True,  True,  True, False,  True, False,  True,  True,  True,\n",
       "          True],\n",
       "        [ True,  True,  True, False, False, False,  True,  True,  True,\n",
       "          True],\n",
       "        [ True,  True,  True,  True,  True,  True,  True,  True,  True,\n",
       "          True],\n",
       "        [ True,  True,  True,  True,  True,  True,  True,  True,  True,\n",
       "          True],\n",
       "        [ True,  True,  True,  True,  True,  True,  True,  True,  True,\n",
       "          True],\n",
       "        [ True,  True,  True,  True,  True,  True,  True,  True,  True,\n",
       "          True]],\n",
       "  fill_value=999999,\n",
       "  dtype=uint8)"
      ]
     },
     "execution_count": 126,
     "metadata": {},
     "output_type": "execute_result"
    }
   ],
   "source": [
    "neighbor_states.reshape(10, 10)"
   ]
  },
  {
   "cell_type": "code",
   "execution_count": 127,
   "metadata": {},
   "outputs": [
    {
     "data": {
      "text/plain": [
       "array([1, 2, 1, 1, 1, 1, 0, 2], dtype=uint8)"
      ]
     },
     "execution_count": 127,
     "metadata": {},
     "output_type": "execute_result"
    }
   ],
   "source": [
    "neighbor_states.compressed()"
   ]
  },
  {
   "cell_type": "code",
   "execution_count": 128,
   "metadata": {},
   "outputs": [
    {
     "data": {
      "text/plain": [
       "5"
      ]
     },
     "execution_count": 128,
     "metadata": {},
     "output_type": "execute_result"
    }
   ],
   "source": [
    "(neighbor_states.compressed() == 1).sum()"
   ]
  },
  {
   "cell_type": "code",
   "execution_count": 129,
   "metadata": {},
   "outputs": [
    {
     "data": {
      "text/plain": [
       "2"
      ]
     },
     "execution_count": 129,
     "metadata": {},
     "output_type": "execute_result"
    }
   ],
   "source": [
    "(neighbor_states.compressed() == 2).sum()"
   ]
  },
  {
   "cell_type": "markdown",
   "metadata": {},
   "source": [
    "### Create all neighborhood masks"
   ]
  },
  {
   "cell_type": "code",
   "execution_count": 133,
   "metadata": {},
   "outputs": [],
   "source": [
    "all_neighborhood_positions = np.empty((num_rows*num_columns, moore_neighborhood_size(1)), np.uint16);\n",
    "for idx, x in enumerate(positions):\n",
    "    coordinate = position_to_coordinate(x, num_columns)\n",
    "    all_neighborhood_positions[idx] = moore_neighborhood_positions(coordinate[0], coordinate[1], 1, num_rows, num_columns)"
   ]
  },
  {
   "cell_type": "code",
   "execution_count": 134,
   "metadata": {},
   "outputs": [
    {
     "data": {
      "text/plain": [
       "array([33, 34, 35, 43, 45, 53, 54, 55], dtype=uint16)"
      ]
     },
     "execution_count": 134,
     "metadata": {},
     "output_type": "execute_result"
    }
   ],
   "source": [
    "all_neighborhood_positions[44]"
   ]
  },
  {
   "cell_type": "code",
   "execution_count": 135,
   "metadata": {},
   "outputs": [],
   "source": [
    "all_neighborhood_masks = np.empty((num_rows*num_columns, num_rows*num_columns), dtype=np.bool)\n",
    "for idx, x in enumerate(all_neighborhood_positions):\n",
    "    all_neighborhood_masks[idx] = neighborhood_mask(x, positions)"
   ]
  },
  {
   "cell_type": "code",
   "execution_count": 136,
   "metadata": {},
   "outputs": [],
   "source": [
    "all_neighborhood_states = np.ma.empty((num_rows*num_columns, num_rows*num_columns))\n",
    "for idx, x in enumerate(all_neighborhood_masks):\n",
    "    all_neighborhood_states[idx] = np.ma.masked_array(grid, x)"
   ]
  },
  {
   "cell_type": "code",
   "execution_count": 137,
   "metadata": {
    "scrolled": false
   },
   "outputs": [
    {
     "data": {
      "text/plain": [
       "masked_array(\n",
       "  data=[[--, --, --, --, --, --, --, --, --, --],\n",
       "        [--, --, --, --, --, --, --, --, --, --],\n",
       "        [--, --, --, --, --, --, --, --, --, --],\n",
       "        [--, --, --, 1.0, 2.0, 1.0, --, --, --, --],\n",
       "        [--, --, --, 1.0, --, 1.0, --, --, --, --],\n",
       "        [--, --, --, 1.0, 0.0, 2.0, --, --, --, --],\n",
       "        [--, --, --, --, --, --, --, --, --, --],\n",
       "        [--, --, --, --, --, --, --, --, --, --],\n",
       "        [--, --, --, --, --, --, --, --, --, --],\n",
       "        [--, --, --, --, --, --, --, --, --, --]],\n",
       "  mask=[[ True,  True,  True,  True,  True,  True,  True,  True,  True,\n",
       "          True],\n",
       "        [ True,  True,  True,  True,  True,  True,  True,  True,  True,\n",
       "          True],\n",
       "        [ True,  True,  True,  True,  True,  True,  True,  True,  True,\n",
       "          True],\n",
       "        [ True,  True,  True, False, False, False,  True,  True,  True,\n",
       "          True],\n",
       "        [ True,  True,  True, False,  True, False,  True,  True,  True,\n",
       "          True],\n",
       "        [ True,  True,  True, False, False, False,  True,  True,  True,\n",
       "          True],\n",
       "        [ True,  True,  True,  True,  True,  True,  True,  True,  True,\n",
       "          True],\n",
       "        [ True,  True,  True,  True,  True,  True,  True,  True,  True,\n",
       "          True],\n",
       "        [ True,  True,  True,  True,  True,  True,  True,  True,  True,\n",
       "          True],\n",
       "        [ True,  True,  True,  True,  True,  True,  True,  True,  True,\n",
       "          True]],\n",
       "  fill_value=1e+20)"
      ]
     },
     "execution_count": 137,
     "metadata": {},
     "output_type": "execute_result"
    }
   ],
   "source": [
    "all_neighborhood_states[44].reshape(10, 10)"
   ]
  },
  {
   "cell_type": "code",
   "execution_count": 138,
   "metadata": {},
   "outputs": [],
   "source": [
    "### Repeatedly update states"
   ]
  },
  {
   "cell_type": "code",
   "execution_count": 139,
   "metadata": {},
   "outputs": [],
   "source": [
    "def get_next_states(grid, num_states):\n",
    "    return np.mod((grid+1), num_states)"
   ]
  },
  {
   "cell_type": "code",
   "execution_count": 140,
   "metadata": {},
   "outputs": [],
   "source": [
    "def count_neighbors_in_next_state(all_neighborhood_states, next_states, positions, num_rows, num_columns):\n",
    "    neighbors_in_next_state = np.empty((num_columns*num_rows), dtype=np.uint8)\n",
    "    for idx in positions:\n",
    "        neighbors_in_next_state[idx] = (all_neighborhood_states[idx].compressed() == next_states[idx]).sum()\n",
    "    return neighbors_in_next_state"
   ]
  },
  {
   "cell_type": "code",
   "execution_count": 141,
   "metadata": {},
   "outputs": [],
   "source": [
    "def get_thresholds_that_are_met(neighbors_in_next_state, threshold):\n",
    "    return (neighbors_in_next_state >= threshold)"
   ]
  },
  {
   "cell_type": "code",
   "execution_count": 142,
   "metadata": {},
   "outputs": [],
   "source": [
    "def get_next_grid(grid, threshold_is_met, num_states):\n",
    "    return np.mod(np.add(grid, threshold_is_met), num_states)"
   ]
  },
  {
   "cell_type": "code",
   "execution_count": 143,
   "metadata": {},
   "outputs": [],
   "source": [
    "next_states = get_next_states(grid, num_states)"
   ]
  },
  {
   "cell_type": "code",
   "execution_count": 144,
   "metadata": {},
   "outputs": [
    {
     "data": {
      "text/plain": [
       "array([[2, 2, 2, 2, 2, 2, 0, 0, 2, 2],\n",
       "       [2, 2, 0, 2, 0, 2, 1, 1, 0, 2],\n",
       "       [0, 0, 2, 0, 2, 0, 1, 1, 0, 0],\n",
       "       [0, 2, 0, 2, 0, 2, 2, 2, 0, 0],\n",
       "       [2, 2, 2, 2, 2, 2, 1, 0, 0, 0],\n",
       "       [2, 2, 2, 2, 1, 0, 0, 0, 2, 2],\n",
       "       [2, 2, 2, 0, 2, 0, 2, 2, 2, 2],\n",
       "       [2, 2, 0, 2, 0, 2, 2, 2, 1, 2],\n",
       "       [2, 2, 2, 2, 2, 2, 2, 2, 2, 1],\n",
       "       [2, 0, 2, 2, 2, 2, 2, 2, 2, 2]], dtype=uint8)"
      ]
     },
     "execution_count": 144,
     "metadata": {},
     "output_type": "execute_result"
    }
   ],
   "source": [
    "next_states.reshape(10, 10)"
   ]
  },
  {
   "cell_type": "code",
   "execution_count": 145,
   "metadata": {},
   "outputs": [],
   "source": [
    "neighbors_in_next_state = count_neighbors_in_next_state(all_neighborhood_states, next_states, positions, num_rows, num_columns)"
   ]
  },
  {
   "cell_type": "code",
   "execution_count": 146,
   "metadata": {},
   "outputs": [
    {
     "data": {
      "text/plain": [
       "array([[1, 2, 2, 2, 1, 2, 2, 2, 2, 1],\n",
       "       [3, 3, 0, 3, 0, 3, 2, 1, 2, 4],\n",
       "       [0, 0, 4, 0, 4, 2, 4, 2, 2, 0],\n",
       "       [0, 4, 0, 3, 0, 2, 2, 4, 1, 0],\n",
       "       [3, 2, 1, 2, 2, 3, 4, 1, 0, 0],\n",
       "       [1, 0, 1, 1, 5, 2, 1, 1, 4, 2],\n",
       "       [0, 1, 2, 1, 4, 1, 4, 2, 1, 0],\n",
       "       [0, 1, 0, 3, 0, 2, 1, 0, 7, 0],\n",
       "       [1, 2, 2, 2, 1, 1, 0, 0, 0, 7],\n",
       "       [1, 0, 1, 0, 0, 1, 2, 2, 1, 0]], dtype=uint8)"
      ]
     },
     "execution_count": 146,
     "metadata": {},
     "output_type": "execute_result"
    }
   ],
   "source": [
    "neighbors_in_next_state.reshape(10, 10)"
   ]
  },
  {
   "cell_type": "code",
   "execution_count": 147,
   "metadata": {},
   "outputs": [],
   "source": [
    "threshold_is_met = get_thresholds_that_are_met(neighbors_in_next_state, num_states)"
   ]
  },
  {
   "cell_type": "code",
   "execution_count": 148,
   "metadata": {},
   "outputs": [
    {
     "data": {
      "text/plain": [
       "array([[False, False, False, False, False, False, False, False, False,\n",
       "        False],\n",
       "       [ True,  True, False,  True, False,  True, False, False, False,\n",
       "         True],\n",
       "       [False, False,  True, False,  True, False,  True, False, False,\n",
       "        False],\n",
       "       [False,  True, False,  True, False, False, False,  True, False,\n",
       "        False],\n",
       "       [ True, False, False, False, False,  True,  True, False, False,\n",
       "        False],\n",
       "       [False, False, False, False,  True, False, False, False,  True,\n",
       "        False],\n",
       "       [False, False, False, False,  True, False,  True, False, False,\n",
       "        False],\n",
       "       [False, False, False,  True, False, False, False, False,  True,\n",
       "        False],\n",
       "       [False, False, False, False, False, False, False, False, False,\n",
       "         True],\n",
       "       [False, False, False, False, False, False, False, False, False,\n",
       "        False]])"
      ]
     },
     "execution_count": 148,
     "metadata": {},
     "output_type": "execute_result"
    }
   ],
   "source": [
    "threshold_is_met.reshape(10, 10)"
   ]
  },
  {
   "cell_type": "code",
   "execution_count": 149,
   "metadata": {},
   "outputs": [],
   "source": [
    "grid = get_next_grid(grid, threshold_is_met, num_states)"
   ]
  },
  {
   "cell_type": "code",
   "execution_count": 150,
   "metadata": {},
   "outputs": [
    {
     "data": {
      "text/plain": [
       "array([[1, 1, 1, 1, 1, 1, 2, 2, 1, 1],\n",
       "       [2, 2, 2, 2, 2, 2, 0, 0, 2, 2],\n",
       "       [2, 2, 2, 2, 2, 2, 1, 0, 2, 2],\n",
       "       [2, 2, 2, 2, 2, 1, 1, 2, 2, 2],\n",
       "       [2, 1, 1, 1, 1, 2, 1, 2, 2, 2],\n",
       "       [1, 1, 1, 1, 1, 2, 2, 2, 2, 1],\n",
       "       [1, 1, 1, 2, 2, 2, 2, 1, 1, 1],\n",
       "       [1, 1, 2, 2, 2, 1, 1, 1, 1, 1],\n",
       "       [1, 1, 1, 1, 1, 1, 1, 1, 1, 1],\n",
       "       [1, 2, 1, 1, 1, 1, 1, 1, 1, 1]], dtype=uint8)"
      ]
     },
     "execution_count": 150,
     "metadata": {},
     "output_type": "execute_result"
    }
   ],
   "source": [
    "grid.reshape(10, 10)"
   ]
  },
  {
   "cell_type": "markdown",
   "metadata": {},
   "source": [
    "### Create image from grid"
   ]
  },
  {
   "cell_type": "code",
   "execution_count": 151,
   "metadata": {},
   "outputs": [],
   "source": [
    "from PIL import Image, ImageColor\n",
    "from matplotlib.pyplot import imshow\n",
    "\n",
    "%matplotlib inline"
   ]
  },
  {
   "cell_type": "code",
   "execution_count": 152,
   "metadata": {},
   "outputs": [],
   "source": [
    "colors = [ImageColor.getrgb('#4484CE'), ImageColor.getrgb('#F9CF00'), ImageColor.getrgb('#F19F4D')]"
   ]
  },
  {
   "cell_type": "code",
   "execution_count": 153,
   "metadata": {},
   "outputs": [],
   "source": [
    "colors = [ImageColor.getrgb('orange'), ImageColor.getrgb('brown'), ImageColor.getrgb('cyan')]"
   ]
  },
  {
   "cell_type": "code",
   "execution_count": 154,
   "metadata": {},
   "outputs": [
    {
     "data": {
      "text/plain": [
       "[(255, 165, 0), (165, 42, 42), (0, 255, 255)]"
      ]
     },
     "execution_count": 154,
     "metadata": {},
     "output_type": "execute_result"
    }
   ],
   "source": [
    "colors"
   ]
  },
  {
   "cell_type": "code",
   "execution_count": 155,
   "metadata": {},
   "outputs": [
    {
     "data": {
      "text/plain": [
       "[(255, 165, 0), (165, 42, 42), (0, 255, 255)]"
      ]
     },
     "execution_count": 155,
     "metadata": {},
     "output_type": "execute_result"
    }
   ],
   "source": [
    "colors"
   ]
  },
  {
   "cell_type": "code",
   "execution_count": 156,
   "metadata": {},
   "outputs": [],
   "source": [
    "grid_in_colors = np.empty((num_columns*num_rows), dtype=tuple)\n",
    "for i in positions:\n",
    "    grid_in_colors[i] = colors[grid[i]]"
   ]
  },
  {
   "cell_type": "code",
   "execution_count": 157,
   "metadata": {},
   "outputs": [
    {
     "data": {
      "text/plain": [
       "array([[1, 1, 1, 1, 1, 1, 2, 2, 1, 1],\n",
       "       [2, 2, 2, 2, 2, 2, 0, 0, 2, 2],\n",
       "       [2, 2, 2, 2, 2, 2, 1, 0, 2, 2],\n",
       "       [2, 2, 2, 2, 2, 1, 1, 2, 2, 2],\n",
       "       [2, 1, 1, 1, 1, 2, 1, 2, 2, 2],\n",
       "       [1, 1, 1, 1, 1, 2, 2, 2, 2, 1],\n",
       "       [1, 1, 1, 2, 2, 2, 2, 1, 1, 1],\n",
       "       [1, 1, 2, 2, 2, 1, 1, 1, 1, 1],\n",
       "       [1, 1, 1, 1, 1, 1, 1, 1, 1, 1],\n",
       "       [1, 2, 1, 1, 1, 1, 1, 1, 1, 1]], dtype=uint8)"
      ]
     },
     "execution_count": 157,
     "metadata": {},
     "output_type": "execute_result"
    }
   ],
   "source": [
    "grid.reshape(10, 10)"
   ]
  },
  {
   "cell_type": "code",
   "execution_count": 158,
   "metadata": {},
   "outputs": [
    {
     "data": {
      "text/plain": [
       "<matplotlib.image.AxesImage at 0x1b58c5979a0>"
      ]
     },
     "execution_count": 158,
     "metadata": {},
     "output_type": "execute_result"
    },
    {
     "data": {
      "image/png": "[encoded data removed]",
      "text/plain": [
       "<Figure size 432x288 with 1 Axes>"
      ]
     },
     "metadata": {
      "needs_background": "light"
     },
     "output_type": "display_data"
    }
   ],
   "source": [
    "img = Image.new('RGB', (num_columns, num_rows))\n",
    "img.putdata(grid_in_colors)\n",
    "imshow(np.asarray(img))"
   ]
  },
  {
   "cell_type": "markdown",
   "metadata": {},
   "source": [
    "### Next steps\n",
    "* create image/diagram from array\n",
    "* iterate over grid and create image of each iteration\n",
    "* create gif from multiple images"
   ]
  }
 ],
 "metadata": {
  "kernelspec": {
   "display_name": "Python 3",
   "language": "python",
   "name": "python3"
  },
  "language_info": {
   "codemirror_mode": {
    "name": "ipython",
    "version": 3
   },
   "file_extension": ".py",
   "mimetype": "text/x-python",
   "name": "python",
   "nbconvert_exporter": "python",
   "pygments_lexer": "ipython3",
   "version": "3.8.5"
  }
 },
 "nbformat": 4,
 "nbformat_minor": 2
}
