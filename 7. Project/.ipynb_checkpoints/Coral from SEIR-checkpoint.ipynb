{
 "cells": [
  {
   "cell_type": "markdown",
   "metadata": {},
   "source": [
    "## Enfermedades Coralinas\n",
    "\n",
    "Rodrigo Fritz\n",
    "\n",
    "| Tasa de crecimiento del coral | Tasa de avance lineal de lunares obscuros | Incidencia | Promedio de lunares obscuros por nódulo enfermo | Recuperación |\n",
    "| :-: | :-: | :-: | :-: | :-: |\n",
    "| 0.86 ± 0.04 cm/año | 1.77 ± 1.8 cm/año | 37.8% anual | 3.08 ± 4 lunares/nódulo | 6.5% promedio |\n",
    "\n",
    "$ $\n",
    "\n",
    "| Tamaño promedio de los nódulos (en área superficial proyectada) | Tamaño promedio de los lunares obscuros (en área superficial proyectada) |\n",
    "| :-: | :-: |\n",
    "| 66.5 ± 10.7 cm$^2$ | 6 ± 5.4 cm$^2$ |"
   ]
  },
  {
   "cell_type": "code",
   "execution_count": 1,
   "metadata": {},
   "outputs": [],
   "source": [
    "import numpy as np\n",
    "import matplotlib.pyplot as plt\n",
    "from matplotlib import colors\n",
    "import pandas as pd\n",
    "\n",
    "# For the progress bar:\n",
    "import time\n",
    "from tqdm.notebook import tqdm"
   ]
  },
  {
   "cell_type": "markdown",
   "metadata": {},
   "source": [
    "La simulación con autómatas celulares, i.e. el modelo basado en agentes, genera una imagen para cada paso de la evolución, cada una de las cuales será guardada en un .gif"
   ]
  },
  {
   "cell_type": "markdown",
   "metadata": {},
   "source": [
    "Hay 4 estados para cada pixel de la malla cuadrada que represanta a un agente:\n",
    "\n",
    "- Estado 0 (azul):     espació vacío\n",
    "- Estado 1 (verde):    coral en crecimiento\n",
    "- Estado 2 (amarillo): lunar oscuro creciendo sobre el coral\n",
    "- Estado 3 (rojo):     muerte del coral debida al lunar"
   ]
  },
  {
   "cell_type": "code",
   "execution_count": 22,
   "metadata": {},
   "outputs": [],
   "source": [
    "def count_neighbours(grid, row, col):\n",
    "    count = 0\n",
    "    for (x,y) in (\n",
    "            (row - 1, col), (row + 1, col), (row, col - 1),\n",
    "            (row, col + 1), (row - 1, col - 1), (row - 1, col + 1),\n",
    "            (row + 1, col - 1), (row + 1, col + 1)\n",
    "            ):\n",
    "        if not (0 <= x < len(grid) and 0 <= y < len(grid[x])):\n",
    "            # out of bounds\n",
    "            continue\n",
    "        if grid[x][y] == 1:\n",
    "            count += 1\n",
    "    return count"
   ]
  },
  {
   "cell_type": "code",
   "execution_count": 220,
   "metadata": {},
   "outputs": [
    {
     "data": {
      "text/plain": [
       "array([[0., 0., 0., 0., 0., 0.],\n",
       "       [0., 0., 0., 0., 0., 0.],\n",
       "       [0., 0., 0., 0., 0., 0.],\n",
       "       [0., 0., 0., 0., 0., 0.],\n",
       "       [0., 0., 0., 0., 0., 0.],\n",
       "       [0., 0., 0., 0., 0., 0.]])"
      ]
     },
     "execution_count": 220,
     "metadata": {},
     "output_type": "execute_result"
    }
   ],
   "source": [
    "grid = np.zeros([6,6])\n",
    "grid"
   ]
  },
  {
   "cell_type": "code",
   "execution_count": 223,
   "metadata": {},
   "outputs": [
    {
     "data": {
      "text/plain": [
       "array([[0., 0., 0., 0., 0., 0.],\n",
       "       [0., 0., 0., 1., 0., 0.],\n",
       "       [1., 0., 0., 0., 0., 0.],\n",
       "       [0., 0., 0., 0., 0., 0.],\n",
       "       [0., 0., 0., 0., 0., 0.],\n",
       "       [0., 0., 1., 0., 0., 0.]])"
      ]
     },
     "execution_count": 223,
     "metadata": {},
     "output_type": "execute_result"
    }
   ],
   "source": [
    "rows = grid.shape[0]\n",
    "cols = grid.shape[1]\n",
    "grid[np.random.randint(rows),np.random.randint(cols)] = 1\n",
    "grid"
   ]
  },
  {
   "cell_type": "code",
   "execution_count": 218,
   "metadata": {},
   "outputs": [
    {
     "data": {
      "text/plain": [
       "array([[1., 1., 1., 1., 1., 1.],\n",
       "       [1., 1., 1., 1., 1., 1.],\n",
       "       [1., 1., 1., 1., 1., 1.],\n",
       "       [1., 1., 1., 1., 1., 1.],\n",
       "       [1., 1., 1., 1., 1., 1.],\n",
       "       [1., 1., 1., 1., 1., 1.]])"
      ]
     },
     "execution_count": 218,
     "metadata": {},
     "output_type": "execute_result"
    }
   ],
   "source": [
    "rows = grid.shape[0]\n",
    "cols = grid.shape[1]\n",
    "for i in range(rows):\n",
    "    for j in range(cols):\n",
    "        n = count_neighbours(grid, i, j)\n",
    "        if n > 2:\n",
    "            grid[i,j] = 1\n",
    "grid"
   ]
  },
  {
   "cell_type": "code",
   "execution_count": 495,
   "metadata": {},
   "outputs": [],
   "source": [
    "def coral(df, side): # df = data frame, side = tamaño del lado del cuadrado: np.sqrt(len(sts)).astype(int)\n",
    "    \n",
    "    states = []\n",
    "    sts = np.array(df[\"state\"])\n",
    "    \n",
    "    #Vecindad de Moore\n",
    "    for j in range(0, len(sts) - 2*side-2, 3*side):\n",
    "        for i in range(1, side-1, 3):\n",
    "            grid = np.array([[sts[i-1 + j],        sts[i + j],        sts[i+1 + j]],\n",
    "                             [sts[i+side-1 + j],   sts[i+side + j],   sts[i+side+1 + j]],\n",
    "                             [sts[i+2*side-1 + j], sts[i+2*side + j], sts[i+2*side+1 + j]]])\n",
    "#             print(grid)\n",
    "        \n",
    "            for i in range(3):\n",
    "                for j in range(3):\n",
    "                    n = count_neighbours(grid, i, j)\n",
    "                    if(grid[i,j]==0 and n>1): #si hay espacio vacío (edo 0), con tasa de crecimiento 2/8 vecinos = 0.25,\n",
    "                                              #crece el coral (edo 1)            \n",
    "                        grid[i-1,j-1] = 1\n",
    "                        grid[i-1,j] = 1\n",
    "                        grid[i-1,j+1] = 1\n",
    "                        grid[i,j-1] = 1\n",
    "                        grid[i,j] = 1 \n",
    "                        grid[i,j+1] = 1\n",
    "                        grid[i+1,j-1] = 1\n",
    "                        grid[i+1,j] = 1\n",
    "                        grid[i+1,j+1] = 1\n",
    "            #Update agents\n",
    "            agents_i = grid.flatten()\n",
    "            states = np.append(states, agents_i).astype(int)\n",
    "        \n",
    "    data = {\"state\": states}\n",
    "    sts = pd.DataFrame(data)\n",
    "        \n",
    "    return sts"
   ]
  },
  {
   "cell_type": "code",
   "execution_count": 482,
   "metadata": {},
   "outputs": [
    {
     "data": {
      "text/html": [
       "<div>\n",
       "<style scoped>\n",
       "    .dataframe tbody tr th:only-of-type {\n",
       "        vertical-align: middle;\n",
       "    }\n",
       "\n",
       "    .dataframe tbody tr th {\n",
       "        vertical-align: top;\n",
       "    }\n",
       "\n",
       "    .dataframe thead th {\n",
       "        text-align: right;\n",
       "    }\n",
       "</style>\n",
       "<table border=\"1\" class=\"dataframe\">\n",
       "  <thead>\n",
       "    <tr style=\"text-align: right;\">\n",
       "      <th></th>\n",
       "      <th>state</th>\n",
       "    </tr>\n",
       "  </thead>\n",
       "  <tbody>\n",
       "    <tr>\n",
       "      <th>0</th>\n",
       "      <td>0</td>\n",
       "    </tr>\n",
       "    <tr>\n",
       "      <th>1</th>\n",
       "      <td>0</td>\n",
       "    </tr>\n",
       "    <tr>\n",
       "      <th>2</th>\n",
       "      <td>0</td>\n",
       "    </tr>\n",
       "    <tr>\n",
       "      <th>3</th>\n",
       "      <td>0</td>\n",
       "    </tr>\n",
       "    <tr>\n",
       "      <th>4</th>\n",
       "      <td>0</td>\n",
       "    </tr>\n",
       "    <tr>\n",
       "      <th>...</th>\n",
       "      <td>...</td>\n",
       "    </tr>\n",
       "    <tr>\n",
       "      <th>1759</th>\n",
       "      <td>0</td>\n",
       "    </tr>\n",
       "    <tr>\n",
       "      <th>1760</th>\n",
       "      <td>0</td>\n",
       "    </tr>\n",
       "    <tr>\n",
       "      <th>1761</th>\n",
       "      <td>0</td>\n",
       "    </tr>\n",
       "    <tr>\n",
       "      <th>1762</th>\n",
       "      <td>0</td>\n",
       "    </tr>\n",
       "    <tr>\n",
       "      <th>1763</th>\n",
       "      <td>0</td>\n",
       "    </tr>\n",
       "  </tbody>\n",
       "</table>\n",
       "<p>1764 rows × 1 columns</p>\n",
       "</div>"
      ],
      "text/plain": [
       "      state\n",
       "0         0\n",
       "1         0\n",
       "2         0\n",
       "3         0\n",
       "4         0\n",
       "...     ...\n",
       "1759      0\n",
       "1760      0\n",
       "1761      0\n",
       "1762      0\n",
       "1763      0\n",
       "\n",
       "[1764 rows x 1 columns]"
      ]
     },
     "execution_count": 482,
     "metadata": {},
     "output_type": "execute_result"
    }
   ],
   "source": [
    "coral(agents,42)"
   ]
  },
  {
   "cell_type": "code",
   "execution_count": 412,
   "metadata": {},
   "outputs": [
    {
     "data": {
      "text/plain": [
       "array([[0., 0., 3.],\n",
       "       [0., 0., 1.],\n",
       "       [0., 1., 2.]])"
      ]
     },
     "execution_count": 412,
     "metadata": {},
     "output_type": "execute_result"
    }
   ],
   "source": [
    "i = 61\n",
    "grid_i = np.array([[df[i-1], df[i], df[i+1]],\n",
    "                   [df[i+side-1], df[i+side], df[i+side+1]],\n",
    "                   [df[i+2*side-1], df[i+2*side], df[i+2*side+1]]])\n",
    "grid_i"
   ]
  },
  {
   "cell_type": "code",
   "execution_count": 419,
   "metadata": {
    "scrolled": false
   },
   "outputs": [
    {
     "name": "stdout",
     "output_type": "stream",
     "text": [
      "1 0\n",
      "[[3. 0. 0.]\n",
      " [0. 0. 0.]\n",
      " [1. 0. 0.]]\n",
      "4 0\n",
      "[[0. 0. 0.]\n",
      " [0. 0. 0.]\n",
      " [3. 0. 1.]]\n",
      "7 0\n",
      "[[0. 0. 1.]\n",
      " [0. 0. 0.]\n",
      " [0. 0. 0.]]\n",
      "1 27\n",
      "[[0. 2. 0.]\n",
      " [0. 0. 0.]\n",
      " [0. 0. 1.]]\n",
      "4 27\n",
      "[[0. 0. 0.]\n",
      " [1. 1. 0.]\n",
      " [0. 0. 0.]]\n",
      "7 27\n",
      "[[0. 0. 0.]\n",
      " [1. 0. 0.]\n",
      " [1. 0. 2.]]\n",
      "1 54\n",
      "[[0. 0. 0.]\n",
      " [3. 0. 0.]\n",
      " [0. 0. 0.]]\n",
      "4 54\n",
      "[[0. 0. 2.]\n",
      " [0. 1. 3.]\n",
      " [0. 0. 0.]]\n",
      "7 54\n",
      "[[0. 0. 3.]\n",
      " [0. 0. 1.]\n",
      " [0. 1. 2.]]\n"
     ]
    }
   ],
   "source": [
    "side = 9\n",
    "for j in range(0, len(df) - 2*side-2, 3*side):\n",
    "    for i in range(1, side-1, 3):\n",
    "        grid1 = np.array([[df[i-1 + j],        df[i + j],        df[i+1 + j]],\n",
    "                          [df[i+side-1 + j],   df[i+side + j],   df[i+side+1 + j]],\n",
    "                          [df[i+2*side-1 + j], df[i+2*side + j], df[i+2*side+1 + j]]])\n",
    "        print(i,j)\n",
    "        print(grid1)"
   ]
  },
  {
   "cell_type": "code",
   "execution_count": 265,
   "metadata": {},
   "outputs": [
    {
     "data": {
      "text/html": [
       "<div>\n",
       "<style scoped>\n",
       "    .dataframe tbody tr th:only-of-type {\n",
       "        vertical-align: middle;\n",
       "    }\n",
       "\n",
       "    .dataframe tbody tr th {\n",
       "        vertical-align: top;\n",
       "    }\n",
       "\n",
       "    .dataframe thead th {\n",
       "        text-align: right;\n",
       "    }\n",
       "</style>\n",
       "<table border=\"1\" class=\"dataframe\">\n",
       "  <thead>\n",
       "    <tr style=\"text-align: right;\">\n",
       "      <th></th>\n",
       "      <th>state</th>\n",
       "    </tr>\n",
       "  </thead>\n",
       "  <tbody>\n",
       "    <tr>\n",
       "      <th>520</th>\n",
       "      <td>3</td>\n",
       "    </tr>\n",
       "    <tr>\n",
       "      <th>944</th>\n",
       "      <td>3</td>\n",
       "    </tr>\n",
       "    <tr>\n",
       "      <th>991</th>\n",
       "      <td>3</td>\n",
       "    </tr>\n",
       "    <tr>\n",
       "      <th>995</th>\n",
       "      <td>3</td>\n",
       "    </tr>\n",
       "    <tr>\n",
       "      <th>1031</th>\n",
       "      <td>3</td>\n",
       "    </tr>\n",
       "  </tbody>\n",
       "</table>\n",
       "</div>"
      ],
      "text/plain": [
       "      state\n",
       "520       3\n",
       "944       3\n",
       "991       3\n",
       "995       3\n",
       "1031      3"
      ]
     },
     "execution_count": 265,
     "metadata": {},
     "output_type": "execute_result"
    }
   ],
   "source": [
    "coral(sts,45)[coral(sts,45)[\"state\"]==3]"
   ]
  },
  {
   "cell_type": "code",
   "execution_count": 353,
   "metadata": {},
   "outputs": [
    {
     "data": {
      "text/plain": [
       "array([[2, 1, 3],\n",
       "       [0, 0, 1],\n",
       "       [0, 0, 1]])"
      ]
     },
     "execution_count": 353,
     "metadata": {},
     "output_type": "execute_result"
    }
   ],
   "source": [
    "i = 1597\n",
    "np.array([[sts[i-1], sts[i], sts[i+1]],\n",
    "          [sts[i+side-1], sts[i+side], sts[i+side+1]],\n",
    "          [sts[i+2*side-1], sts[i+2*side], sts[i+2*side+1]]])"
   ]
  },
  {
   "cell_type": "code",
   "execution_count": 151,
   "metadata": {},
   "outputs": [],
   "source": [
    "#Para cambiar cuadros de 9 celdas en un mismo estado, a otro estado\n",
    "def restriction(df,i,side,s1,s2,s3):\n",
    "    if all([\n",
    "        df.iloc[i+1][\"state\"] != s2 or s3,\n",
    "        df.iloc[i  ][\"state\"] != s2 or s3,\n",
    "        df.iloc[i-1][\"state\"] != s2 or s3,\n",
    "        df.iloc[i+side-1][\"state\"] != s2 or s3,\n",
    "        df.iloc[i+side  ][\"state\"] != s2 or s3,\n",
    "        df.iloc[i+side+1][\"state\"] != s2 or s3,\n",
    "        df.iloc[i-side-1][\"state\"] != s2 or s3,\n",
    "        df.iloc[i-side  ][\"state\"] != s2 or s3,\n",
    "        df.iloc[i-side+1][\"state\"] != s2 or s3\n",
    "        ]):\n",
    "            df.iloc[i+1][\"state\"] = s1        #se expanden con tasa de crecimiento beta\n",
    "            df.iloc[i  ][\"state\"] = s1\n",
    "            df.iloc[i-1][\"state\"] = s1\n",
    "            df.iloc[i+side-1][\"state\"] = s1\n",
    "            df.iloc[i+side  ][\"state\"] = s1\n",
    "            df.iloc[i+side+1][\"state\"] = s1\n",
    "            df.iloc[i-side-1][\"state\"] = s1\n",
    "            df.iloc[i-side  ][\"state\"] = s1\n",
    "            df.iloc[i-side+1][\"state\"] = s1"
   ]
  },
  {
   "cell_type": "code",
   "execution_count": 158,
   "metadata": {},
   "outputs": [],
   "source": [
    "restriction(agents,1,42,1,2,3)"
   ]
  },
  {
   "cell_type": "markdown",
   "metadata": {},
   "source": [
    "Estoy usando este coral:"
   ]
  },
  {
   "cell_type": "code",
   "execution_count": 162,
   "metadata": {},
   "outputs": [],
   "source": [
    "def coral(df, side, β=0.5): # df = data frame, β = tasa de crecimiento\n",
    "    for i in range(len(df) - 2*side-2):\n",
    "        p = np.random.uniform(0,1) #random float between 0 and 1\n",
    "        if(df.iloc[i][\"state\"]==1 and p<=β): #Las semillas de corales (estado 1)\n",
    "            restriction(df,i,side,1,2,3)"
   ]
  },
  {
   "cell_type": "markdown",
   "metadata": {},
   "source": [
    "Estas 2 funionan"
   ]
  },
  {
   "cell_type": "code",
   "execution_count": 134,
   "metadata": {},
   "outputs": [],
   "source": [
    "def coral(df, side, β=0.5): # df = data frame, β = tasa de crecimiento\n",
    "    for i in range(len(df) - 2*side-2):\n",
    "        p = np.random.uniform(0,1) #random float between 0 and 1\n",
    "        if(df.iloc[i][\"state\"]==1 and p<=β): #Las semillas de corales (estado 1)\n",
    "            df.iloc[i+1][\"state\"] = 1        #se expanden con tasa de crecimiento beta\n",
    "            df.iloc[i-1][\"state\"] = 1        #en una vecindad de Moore\n",
    "            df.iloc[i+side-1][\"state\"] = 1\n",
    "            df.iloc[i+side  ][\"state\"] = 1\n",
    "            df.iloc[i+side+1][\"state\"] = 1\n",
    "            df.iloc[i-side-1][\"state\"] = 1\n",
    "            df.iloc[i-side  ][\"state\"] = 1 \n",
    "            df.iloc[i-side+1][\"state\"] = 1"
   ]
  },
  {
   "cell_type": "code",
   "execution_count": 119,
   "metadata": {},
   "outputs": [],
   "source": [
    "#No funcionó\n",
    "def coral(df, side, β=0.5): # df = data frame, β = tasa de crecimiento\n",
    "    for i in range(len(df)):\n",
    "        p = np.random.uniform(0,1) #random float between 0 and 1\n",
    "        if(df.iloc[i][\"state\"]==1 and p<=β): #Las semillas de corales (estado 1) se expanden con tasa de crecimiento beta\n",
    "            Moore1(df,i,side,0,1)"
   ]
  },
  {
   "cell_type": "markdown",
   "metadata": {},
   "source": [
    "Crecimiento de lunar restringido, sin el centro:"
   ]
  },
  {
   "cell_type": "code",
   "execution_count": 76,
   "metadata": {},
   "outputs": [],
   "source": [
    "def lunar(df, side, σ=1/4): #df = data frame, σ = periodo de incubación de 4 días para covid\n",
    "    for i in range(len(sts) - 2*side-2): #range(len(df)-1):\n",
    "#         p = np.random.uniform(0,1) #random float between 0 and 1\n",
    "#         if(df.iloc[i][\"state\"]==1 and df.iloc[i+1][\"state\"]==0 and df.iloc[i-1][\"state\"]==0 and p<=σ):\n",
    "            #Los corales (estado 1) se infectan en\n",
    "#             df.iloc[i+1][\"state\"]=2 #lunares (estado 2) con tasa de infección σ\n",
    "#             df.iloc[i-1][\"state\"]=2\n",
    "        if(df.iloc[i-1][\"state\"] == 1 and\n",
    "           df.iloc[i  ][\"state\"] == 1 and \n",
    "           df.iloc[i+1][\"state\"] == 1 and \n",
    "           df.iloc[i+side-1][\"state\"] == 1 and \n",
    "           df.iloc[i+side  ][\"state\"] == 1 and \n",
    "           df.iloc[i+side+1][\"state\"] == 1 and \n",
    "           df.iloc[i+2*side-1][\"state\"] == 1 and \n",
    "           df.iloc[i+2*side  ][\"state\"] == 1 and \n",
    "           df.iloc[i+2*side+1][\"state\"] == 1):\n",
    "            df.iloc[i][\"state\"] = 2"
   ]
  },
  {
   "cell_type": "code",
   "execution_count": 111,
   "metadata": {},
   "outputs": [],
   "source": [
    "#Para cambiar cuadros de 9 celdas en un mismo estado, a otro estado\n",
    "def Moore(df,i,side,s1,s2):\n",
    "    if all([\n",
    "        df.iloc[i+1][\"state\"] == s1,\n",
    "        df.iloc[i  ][\"state\"] == s1,\n",
    "        df.iloc[i-1][\"state\"] == s1,\n",
    "        df.iloc[i+side-1][\"state\"] == s1,\n",
    "        df.iloc[i+side  ][\"state\"] == s1,\n",
    "        df.iloc[i+side+1][\"state\"] == s1,\n",
    "        df.iloc[i-side-1][\"state\"] == s1,\n",
    "        df.iloc[i-side  ][\"state\"] == s1,\n",
    "        df.iloc[i-side+1][\"state\"] == s1\n",
    "        ]):\n",
    "            df.iloc[i+1][\"state\"] = s2        #se expanden con tasa de crecimiento beta\n",
    "            df.iloc[i  ][\"state\"] = s2\n",
    "            df.iloc[i-1][\"state\"] = s2\n",
    "            df.iloc[i+side-1][\"state\"] = s2\n",
    "            df.iloc[i+side  ][\"state\"] = s2\n",
    "            df.iloc[i+side+1][\"state\"] = s2\n",
    "            df.iloc[i-side-1][\"state\"] = s2\n",
    "            df.iloc[i-side  ][\"state\"] = s2\n",
    "            df.iloc[i-side+1][\"state\"] = s2"
   ]
  },
  {
   "cell_type": "code",
   "execution_count": 118,
   "metadata": {},
   "outputs": [],
   "source": [
    "#Para cambiar cuadros de 9 celdas en un mismo estado, a otro estado\n",
    "def Moore1(df,i,side,s1,s2):\n",
    "    if df.iloc[i][\"state\"] == s1:\n",
    "        df.iloc[i+1][\"state\"] = s2\n",
    "        df.iloc[i  ][\"state\"] = s2\n",
    "        df.iloc[i-1][\"state\"] = s2\n",
    "        df.iloc[i+side-1][\"state\"] = s2\n",
    "        df.iloc[i+side  ][\"state\"] = s2\n",
    "        df.iloc[i+side+1][\"state\"] = s2\n",
    "        df.iloc[i-side-1][\"state\"] = s2\n",
    "        df.iloc[i-side  ][\"state\"] = s2\n",
    "        df.iloc[i-side+1][\"state\"] = s2"
   ]
  },
  {
   "cell_type": "code",
   "execution_count": 209,
   "metadata": {},
   "outputs": [],
   "source": [
    "Moore(agents,1,42,1,2)"
   ]
  },
  {
   "cell_type": "code",
   "execution_count": 211,
   "metadata": {},
   "outputs": [
    {
     "data": {
      "text/html": [
       "<div>\n",
       "<style scoped>\n",
       "    .dataframe tbody tr th:only-of-type {\n",
       "        vertical-align: middle;\n",
       "    }\n",
       "\n",
       "    .dataframe tbody tr th {\n",
       "        vertical-align: top;\n",
       "    }\n",
       "\n",
       "    .dataframe thead th {\n",
       "        text-align: right;\n",
       "    }\n",
       "</style>\n",
       "<table border=\"1\" class=\"dataframe\">\n",
       "  <thead>\n",
       "    <tr style=\"text-align: right;\">\n",
       "      <th></th>\n",
       "      <th>state</th>\n",
       "    </tr>\n",
       "  </thead>\n",
       "  <tbody>\n",
       "    <tr>\n",
       "      <th>689</th>\n",
       "      <td>3</td>\n",
       "    </tr>\n",
       "    <tr>\n",
       "      <th>690</th>\n",
       "      <td>3</td>\n",
       "    </tr>\n",
       "    <tr>\n",
       "      <th>691</th>\n",
       "      <td>3</td>\n",
       "    </tr>\n",
       "    <tr>\n",
       "      <th>692</th>\n",
       "      <td>3</td>\n",
       "    </tr>\n",
       "    <tr>\n",
       "      <th>693</th>\n",
       "      <td>3</td>\n",
       "    </tr>\n",
       "    <tr>\n",
       "      <th>...</th>\n",
       "      <td>...</td>\n",
       "    </tr>\n",
       "    <tr>\n",
       "      <th>1716</th>\n",
       "      <td>3</td>\n",
       "    </tr>\n",
       "    <tr>\n",
       "      <th>1717</th>\n",
       "      <td>3</td>\n",
       "    </tr>\n",
       "    <tr>\n",
       "      <th>1718</th>\n",
       "      <td>3</td>\n",
       "    </tr>\n",
       "    <tr>\n",
       "      <th>1719</th>\n",
       "      <td>3</td>\n",
       "    </tr>\n",
       "    <tr>\n",
       "      <th>1720</th>\n",
       "      <td>3</td>\n",
       "    </tr>\n",
       "  </tbody>\n",
       "</table>\n",
       "<p>645 rows × 1 columns</p>\n",
       "</div>"
      ],
      "text/plain": [
       "      state\n",
       "689       3\n",
       "690       3\n",
       "691       3\n",
       "692       3\n",
       "693       3\n",
       "...     ...\n",
       "1716      3\n",
       "1717      3\n",
       "1718      3\n",
       "1719      3\n",
       "1720      3\n",
       "\n",
       "[645 rows x 1 columns]"
      ]
     },
     "execution_count": 211,
     "metadata": {},
     "output_type": "execute_result"
    }
   ],
   "source": [
    "agents[agents['state']==3]"
   ]
  },
  {
   "cell_type": "code",
   "execution_count": 200,
   "metadata": {},
   "outputs": [
    {
     "data": {
      "image/png": "[encoded data removed]",
      "text/plain": [
       "<Figure size 432x288 with 2 Axes>"
      ]
     },
     "metadata": {
      "needs_background": "light"
     },
     "output_type": "display_data"
    }
   ],
   "source": [
    "sts = np.array(agents[\"state\"])\n",
    "show_sts = np.reshape( sts, (side,side) )\n",
    "img = plt.imshow(show_sts, cmap=cmap, norm=norm)\n",
    "plt.colorbar(boundaries=bounds, ticks=[0,1,2,3])\n",
    "plt.title(\"t = \"+str(t))\n",
    "plt.xticks(np.arange(0, side, 5))\n",
    "plt.yticks(np.arange(0, side, 5))\n",
    "plt.show()"
   ]
  },
  {
   "cell_type": "code",
   "execution_count": 169,
   "metadata": {},
   "outputs": [],
   "source": [
    "def lunar(df, side, σ=1/4): #df = data frame, σ = tasa de avance lineal de los lunares obscuros\n",
    "    for i in range(len(df) - 2*side-2):\n",
    "        p = np.random.uniform(0,1) #random float between 0 and 1\n",
    "        if(df.iloc[i][\"state\"]==1 and p<=σ): #Las semillas de corales (estado 1)\n",
    "            df.iloc[i+1][\"state\"] = 2        #se expanden con tasa de crecimiento beta\n",
    "            df.iloc[i  ][\"state\"] = 2\n",
    "            df.iloc[i-1][\"state\"] = 2\n",
    "            df.iloc[i+side-1][\"state\"] = 2\n",
    "            df.iloc[i+side  ][\"state\"] = 2\n",
    "            df.iloc[i+side+1][\"state\"] = 2\n",
    "            df.iloc[i-side-1][\"state\"] = 2\n",
    "            df.iloc[i-side  ][\"state\"] = 2\n",
    "            df.iloc[i-side+1][\"state\"] = 2"
   ]
  },
  {
   "cell_type": "markdown",
   "metadata": {},
   "source": [
    "Estoy usando este lunar:"
   ]
  },
  {
   "cell_type": "code",
   "execution_count": 171,
   "metadata": {},
   "outputs": [],
   "source": [
    "def lunar(df, side, σ=1/4): #df = data frame, σ = tasa de avance lineal de los lunares obscuros\n",
    "    for i in range(len(df) - 2*side-2):\n",
    "        p = np.random.uniform(0,1) #random float between 0 and 1\n",
    "        if(df.iloc[i][\"state\"]==1 and p<=σ): #Las semillas de corales (estado 1)\n",
    "            restriction(df,i,side,2,0,1)"
   ]
  },
  {
   "cell_type": "code",
   "execution_count": 116,
   "metadata": {},
   "outputs": [],
   "source": [
    "def lunar(df, side, σ=1/4): #df = data frame, σ = tasa de avance lineal de los lunares obscuros\n",
    "    for i in range(len(df) - 2*side-2):\n",
    "        p = np.random.uniform(0,1) #random float between 0 and 1\n",
    "        if(df.iloc[i][\"state\"]==1 and p<=σ): #Las semillas de corales (estado 1) se expanden con tasa de crecimiento beta\n",
    "            Moore(df,i,side,1,2)"
   ]
  },
  {
   "cell_type": "code",
   "execution_count": 167,
   "metadata": {},
   "outputs": [],
   "source": [
    "def lunar(df, σ=0.5):\n",
    "    for i in range(len(df)):\n",
    "        p = np.random.uniform(0,1) #random float between 0 and 1\n",
    "        if(df.iloc[i][\"state\"]==1 and p<=σ): #Los corales (estado 1) se transforman en \n",
    "            df.iloc[i][\"state\"]=2            #Infectados (estado 2) con tasa de infección sigma"
   ]
  },
  {
   "cell_type": "markdown",
   "metadata": {},
   "source": [
    "Estoy usando este removed:"
   ]
  },
  {
   "cell_type": "code",
   "execution_count": 137,
   "metadata": {},
   "outputs": [],
   "source": [
    "def removed(df, γ=0.1): #γ = tasa de mortandad\n",
    "    for i in range(len(df)):\n",
    "        p = np.random.uniform(0,1) #random float between 0 and 1\n",
    "        if(df.iloc[i][\"state\"]==2 and p<=γ): #Los infectados se transforman en recuperados después de 1/gamma días\n",
    "            df.iloc[i][\"state\"]=3"
   ]
  },
  {
   "cell_type": "code",
   "execution_count": 135,
   "metadata": {},
   "outputs": [],
   "source": [
    "def removed(df, γ=0.1): #γ = tasa de mortandad\n",
    "    for i in range(len(df)):\n",
    "        p = np.random.uniform(0,1) #random float between 0 and 1\n",
    "        if(df.iloc[i][\"state\"]==2 and p<=γ): #Los infectados se transforman en recuperados después de 1/gamma días\n",
    "            Moore(df,i,side,2,3)"
   ]
  },
  {
   "cell_type": "code",
   "execution_count": 6,
   "metadata": {},
   "outputs": [],
   "source": [
    "from PIL import Image\n",
    "import matplotlib.pyplot as plt, glob, os\n",
    "import IPython.display as IPdisplay"
   ]
  },
  {
   "cell_type": "code",
   "execution_count": 7,
   "metadata": {},
   "outputs": [],
   "source": [
    "save_folder = 'coral'\n",
    "if not os.path.exists(save_folder):\n",
    "    os.makedirs(save_folder)"
   ]
  },
  {
   "cell_type": "markdown",
   "metadata": {},
   "source": [
    "### Coral"
   ]
  },
  {
   "cell_type": "code",
   "execution_count": 60,
   "metadata": {},
   "outputs": [
    {
     "data": {
      "text/plain": [
       "1    0\n",
       "5    0\n",
       "7    0\n",
       "Name: state, dtype: int32"
      ]
     },
     "execution_count": 60,
     "metadata": {},
     "output_type": "execute_result"
    }
   ],
   "source": [
    "agents.iloc[[1,5,7]][\"state\"]"
   ]
  },
  {
   "cell_type": "code",
   "execution_count": 62,
   "metadata": {},
   "outputs": [
    {
     "data": {
      "text/plain": [
       "[1072, 703, 1121, 1516]"
      ]
     },
     "execution_count": 62,
     "metadata": {},
     "output_type": "execute_result"
    }
   ],
   "source": [
    "arr = []\n",
    "for i in range(4):\n",
    "    i0 = np.random.randint(0,nAgents)\n",
    "    s0 = 1\n",
    "    agents.iloc[i0][\"state\"] = s0\n",
    "    arr.append(i0)\n",
    "arr"
   ]
  },
  {
   "cell_type": "code",
   "execution_count": 230,
   "metadata": {},
   "outputs": [
    {
     "data": {
      "text/plain": [
       "{'state': array([0, 0, 0, ..., 0, 0, 0])}"
      ]
     },
     "execution_count": 230,
     "metadata": {},
     "output_type": "execute_result"
    }
   ],
   "source": [
    "data"
   ]
  },
  {
   "cell_type": "code",
   "execution_count": 293,
   "metadata": {},
   "outputs": [
    {
     "data": {
      "text/plain": [
       "array([2, 1, 3, ..., 0, 0, 1])"
      ]
     },
     "execution_count": 293,
     "metadata": {},
     "output_type": "execute_result"
    }
   ],
   "source": [
    "sts"
   ]
  },
  {
   "cell_type": "code",
   "execution_count": 315,
   "metadata": {},
   "outputs": [
    {
     "data": {
      "text/plain": [
       "array([[2, 1, 3],\n",
       "       [0, 3, 1],\n",
       "       [0, 0, 3]])"
      ]
     },
     "execution_count": 315,
     "metadata": {},
     "output_type": "execute_result"
    }
   ],
   "source": [
    "i = 1\n",
    "grid = np.array([[sts[i-1], sts[i], sts[i+1]], [sts[i+side-1], sts[i+side], sts[i+side+1]], [sts[i+2*side-1], sts[i+2*side], sts[i+2*side+1]]])\n",
    "grid"
   ]
  },
  {
   "cell_type": "code",
   "execution_count": 14,
   "metadata": {},
   "outputs": [
    {
     "data": {
      "text/plain": [
       "array([[0, 0, 0],\n",
       "       [0, 0, 0],\n",
       "       [0, 0, 0]])"
      ]
     },
     "execution_count": 14,
     "metadata": {},
     "output_type": "execute_result"
    }
   ],
   "source": [
    "i = 0\n",
    "grid = np.array([[sts[i-1], sts[i], sts[i+1]], \n",
    "                 [sts[i+side-1], sts[i+side], sts[i+side+1]], \n",
    "                 [sts[i+2*side-1], sts[i+2*side], sts[i+2*side+1]]])\n",
    "grid"
   ]
  },
  {
   "cell_type": "code",
   "execution_count": 302,
   "metadata": {},
   "outputs": [
    {
     "data": {
      "text/plain": [
       "array([[2, 1, 3, ..., 3, 1, 2],\n",
       "       [0, 3, 1, ..., 1, 3, 0],\n",
       "       [0, 0, 3, ..., 3, 0, 0],\n",
       "       ...,\n",
       "       [2, 1, 3, ..., 2, 1, 3],\n",
       "       [1, 0, 0, ..., 0, 0, 1],\n",
       "       [1, 0, 0, ..., 0, 0, 1]])"
      ]
     },
     "execution_count": 302,
     "metadata": {},
     "output_type": "execute_result"
    }
   ],
   "source": [
    "show_sts"
   ]
  },
  {
   "cell_type": "code",
   "execution_count": 304,
   "metadata": {
    "scrolled": true
   },
   "outputs": [
    {
     "data": {
      "text/plain": [
       "array([2, 1, 3, 0, 0, 0, 0, 0, 0, 0, 0, 0, 0, 0, 0, 0, 0, 0, 0, 2, 1, 3,\n",
       "       0, 0, 0, 0, 0, 0, 0, 0, 0, 0, 0, 0, 0, 0, 0, 0, 3, 1, 2])"
      ]
     },
     "execution_count": 304,
     "metadata": {},
     "output_type": "execute_result"
    }
   ],
   "source": [
    "show_sts[0,]"
   ]
  },
  {
   "cell_type": "code",
   "execution_count": 245,
   "metadata": {},
   "outputs": [
    {
     "data": {
      "text/plain": [
       "array([[0., 0., 0., 0., 0., 0.],\n",
       "       [0., 0., 0., 1., 0., 0.],\n",
       "       [1., 0., 0., 0., 0., 0.],\n",
       "       [0., 0., 0., 0., 0., 0.],\n",
       "       [0., 0., 0., 0., 0., 0.],\n",
       "       [0., 0., 1., 0., 0., 0.]])"
      ]
     },
     "execution_count": 245,
     "metadata": {},
     "output_type": "execute_result"
    }
   ],
   "source": [
    "grid"
   ]
  },
  {
   "cell_type": "code",
   "execution_count": 250,
   "metadata": {},
   "outputs": [
    {
     "data": {
      "text/plain": [
       "36"
      ]
     },
     "execution_count": 250,
     "metadata": {},
     "output_type": "execute_result"
    }
   ],
   "source": [
    "grid.size"
   ]
  },
  {
   "cell_type": "code",
   "execution_count": 251,
   "metadata": {},
   "outputs": [
    {
     "data": {
      "text/plain": [
       "array([[ 0.,  1.,  2.,  3.,  4.,  5.],\n",
       "       [ 0.,  2.,  3.,  4.,  5.,  6.],\n",
       "       [ 1.,  0.,  4.,  5.,  6.,  7.],\n",
       "       [ 0.,  0.,  0.,  6.,  7.,  8.],\n",
       "       [ 0.,  0.,  0.,  0.,  8.,  9.],\n",
       "       [ 0.,  0.,  1.,  0.,  0., 10.]])"
      ]
     },
     "execution_count": 251,
     "metadata": {},
     "output_type": "execute_result"
    }
   ],
   "source": [
    "for i in range(rows):\n",
    "    for j in range(i,cols):\n",
    "        grid[i,j] = i+j\n",
    "grid"
   ]
  },
  {
   "cell_type": "code",
   "execution_count": 244,
   "metadata": {},
   "outputs": [
    {
     "data": {
      "text/plain": [
       "array([[0., 0., 0., 0., 0., 0., 0., 0., 0.],\n",
       "       [0., 0., 0., 0., 0., 0., 0., 0., 0.],\n",
       "       [0., 0., 0., 0., 0., 0., 0., 0., 0.],\n",
       "       [0., 0., 0., 0., 0., 0., 0., 0., 0.]])"
      ]
     },
     "execution_count": 244,
     "metadata": {},
     "output_type": "execute_result"
    }
   ],
   "source": [
    "np.reshape( np.zeros([6,6]), (4,9) )"
   ]
  },
  {
   "cell_type": "code",
   "execution_count": 221,
   "metadata": {
    "scrolled": true
   },
   "outputs": [
    {
     "name": "stdout",
     "output_type": "stream",
     "text": [
      "Hay 1764 agentes (pixeles),\n",
      "empezamos con 11 corales\n",
      "por lo que quedan 1753 espacios vacíos\n"
     ]
    },
    {
     "data": {
      "application/vnd.jupyter.widget-view+json": {
       "model_id": "ab95bf80f955438593438886451c8f24",
       "version_major": 2,
       "version_minor": 0
      },
      "text/plain": [
       "  0%|          | 0/41 [00:00<?, ?it/s]"
      ]
     },
     "metadata": {},
     "output_type": "display_data"
    },
    {
     "name": "stdout",
     "output_type": "stream",
     "text": [
      "Operation took 76.0102 seconds\n"
     ]
    },
    {
     "data": {
      "text/plain": [
       "<Figure size 432x288 with 0 Axes>"
      ]
     },
     "metadata": {},
     "output_type": "display_data"
    }
   ],
   "source": [
    "β = 0.25   #tasa de crecimiento\n",
    "σ = 0.08  #tasa de infección\n",
    "γ = 0.3   #tasa de mortandad\n",
    "Tmax = 41 #121\n",
    "side = 42 #Lado del cuadrado múltiplo de 3\n",
    "nAgents = side**2 #El número de agentes es el número de pixeles, que es el lado al cuadrado\n",
    "state = np.zeros(nAgents, dtype=int)\n",
    "data = {\"state\": state}\n",
    "agents = pd.DataFrame(data)\n",
    "\n",
    "#Iniciar el coral en el centro\n",
    "i0 = int(side**2/2) -  int(side/2)\n",
    "s0 = 1\n",
    "agents.iloc[i0][\"state\"] = s0\n",
    "\n",
    "#Iniciar los corales en n pixeles aleatorios\n",
    "n = 7\n",
    "arr = []\n",
    "for i in range(n):\n",
    "    i0 = np.random.randint(0,nAgents)\n",
    "    s0 = 1\n",
    "    agents.iloc[i0][\"state\"] = s0\n",
    "    arr.append(i0)\n",
    "    \n",
    "# agents.iloc[i0-1][\"state\"] = s0\n",
    "# agents.iloc[i0+1][\"state\"] = s0\n",
    "# agents.iloc[i0+side-1][\"state\"] = s0\n",
    "# agents.iloc[i0+side][\"state\"] = s0\n",
    "# agents.iloc[i0+side+1][\"state\"] = s0\n",
    "# agents.iloc[i0+2*side-1][\"state\"] = s0\n",
    "# agents.iloc[i0+2*side][\"state\"] = s0\n",
    "# agents.iloc[i0+2*side+1][\"state\"] = s0\n",
    "\n",
    "S = [len(agents[agents[\"state\"]==0])]\n",
    "E = [len(agents[agents[\"state\"]==1])]\n",
    "I = [0]\n",
    "R = [0]\n",
    "print('Hay', nAgents, 'agentes (pixeles),')\n",
    "print('empezamos con', E[0], 'corales')\n",
    "print('por lo que quedan', S[0], 'espacios vacíos')\n",
    "\n",
    "#Autómatas Celulares\n",
    "cmap = colors.ListedColormap(['blue','green','orange','red']) #Para tener el mismo código de color que el default de pyplot\n",
    "bounds=[0,1,2,3,4]\n",
    "norm = colors.BoundaryNorm(bounds, cmap.N)\n",
    "\n",
    "tiempo = time.time() # To start recording time of operation\n",
    "\n",
    "l=0\n",
    "for t in tqdm(range(Tmax)): #tqdm is the progress bar\n",
    "\n",
    "    p = np.random.uniform(0,1) #random float between 0 and 1\n",
    "    # Crecimiento en asterisco para p<=β sin exceder los límites de la malla\n",
    "#     if(i0+l*side <= side**2 - 2*side and p<=β):\n",
    "#         l+=1\n",
    "#         agents.iloc[i0+1+l][\"state\"] = s0\n",
    "#         agents.iloc[i0-1-l][\"state\"] = s0\n",
    "#         agents.iloc[i0-l*side][\"state\"] = s0\n",
    "#         agents.iloc[i0+l*side][\"state\"] = s0\n",
    "#         agents.iloc[i0-l*side-l][\"state\"] = s0\n",
    "#         agents.iloc[i0+l*side+l][\"state\"] = s0\n",
    "#         agents.iloc[i0-l*side+l][\"state\"] = s0\n",
    "#         agents.iloc[i0+l*side-l][\"state\"] = s0\n",
    "\n",
    "    if t < 10:\n",
    "        coral(agents, side, β)\n",
    "    if t > 10:\n",
    "        lunar(agents, side, σ)\n",
    "    if t > 20:\n",
    "        removed(agents, γ)\n",
    "    sts = np.array(agents[\"state\"])\n",
    "    show_sts = np.reshape( sts, (side,side) )\n",
    "    img = plt.imshow(show_sts, cmap=cmap, norm=norm)\n",
    "    plt.colorbar(boundaries=bounds, ticks=[0,1,2,3])\n",
    "    plt.title(\"t = \"+str(t))\n",
    "    plt.xticks(np.arange(0, side, 5))\n",
    "    plt.yticks(np.arange(0, side, 5))\n",
    "#     plt.show()\n",
    "    name = \"./coral/img\"+str(t).zfill(3)+\".png\"\n",
    "    plt.savefig(name)\n",
    "    plt.clf()\n",
    "    S.append(len(agents[agents[\"state\"]==0]))\n",
    "    E.append(len(agents[agents[\"state\"]==1]))\n",
    "    I.append(len(agents[agents[\"state\"]==2]))\n",
    "    R.append(len(agents[agents[\"state\"]==3]))\n",
    "    \n",
    "print(\"Operation took %g seconds\" % (time.time() - tiempo))"
   ]
  },
  {
   "cell_type": "markdown",
   "metadata": {},
   "source": [
    "### Animation\n",
    "(from Animated Lorenz Attractor)"
   ]
  },
  {
   "cell_type": "code",
   "execution_count": 222,
   "metadata": {},
   "outputs": [],
   "source": [
    "# create a tuple of display durations, one for each frame\n",
    "first_last = 200 #show the first and last frames for 100 ms\n",
    "standard_duration = 100 #show all other frames for 20 ms\n",
    "durations = tuple([first_last] + [standard_duration]*(Tmax - 2) + [first_last])"
   ]
  },
  {
   "cell_type": "code",
   "execution_count": 223,
   "metadata": {},
   "outputs": [],
   "source": [
    "# load all the static images into a list\n",
    "images = [Image.open(image) for image in glob.glob('{}/*.png'.format(save_folder))[:41]] #Lee todos los archivos en el folder\n",
    "gif_filepath = 'coral/coral2.gif'"
   ]
  },
  {
   "cell_type": "code",
   "execution_count": 224,
   "metadata": {},
   "outputs": [],
   "source": [
    "# save as an animated gif\n",
    "gif = images[0]\n",
    "gif.info['duration'] = durations #ms per frame\n",
    "gif.info['loop'] = 0 #how many times to loop (0=infinite)\n",
    "gif.save(fp=gif_filepath, format='gif', save_all=True, append_images=images[1:])"
   ]
  },
  {
   "cell_type": "code",
   "execution_count": 18,
   "metadata": {},
   "outputs": [
    {
     "data": {
      "text/plain": [
       "True"
      ]
     },
     "execution_count": 18,
     "metadata": {},
     "output_type": "execute_result"
    }
   ],
   "source": [
    "# verify that the number of frames in the gif equals the number of image files and durations\n",
    "Image.open(gif_filepath).n_frames == len(images) == len(durations)"
   ]
  },
  {
   "cell_type": "code",
   "execution_count": 220,
   "metadata": {},
   "outputs": [
    {
     "data": {
      "text/html": [
       "<img src=\"coral/coral2.gif\"/>"
      ],
      "text/plain": [
       "<IPython.core.display.Image object>"
      ]
     },
     "execution_count": 220,
     "metadata": {},
     "output_type": "execute_result"
    }
   ],
   "source": [
    "IPdisplay.Image(url=gif_filepath)"
   ]
  },
  {
   "cell_type": "markdown",
   "metadata": {},
   "source": [
    "Código de color: azul = susceptible, verde = expuesto, naranja = infectado, rojo = removido"
   ]
  },
  {
   "cell_type": "code",
   "execution_count": 205,
   "metadata": {},
   "outputs": [
    {
     "data": {
      "text/html": [
       "<div>\n",
       "<style scoped>\n",
       "    .dataframe tbody tr th:only-of-type {\n",
       "        vertical-align: middle;\n",
       "    }\n",
       "\n",
       "    .dataframe tbody tr th {\n",
       "        vertical-align: top;\n",
       "    }\n",
       "\n",
       "    .dataframe thead th {\n",
       "        text-align: right;\n",
       "    }\n",
       "</style>\n",
       "<table border=\"1\" class=\"dataframe\">\n",
       "  <thead>\n",
       "    <tr style=\"text-align: right;\">\n",
       "      <th></th>\n",
       "      <th>state</th>\n",
       "    </tr>\n",
       "  </thead>\n",
       "  <tbody>\n",
       "    <tr>\n",
       "      <th>count</th>\n",
       "      <td>1764.000000</td>\n",
       "    </tr>\n",
       "    <tr>\n",
       "      <th>mean</th>\n",
       "      <td>2.920068</td>\n",
       "    </tr>\n",
       "    <tr>\n",
       "      <th>std</th>\n",
       "      <td>0.455464</td>\n",
       "    </tr>\n",
       "    <tr>\n",
       "      <th>min</th>\n",
       "      <td>0.000000</td>\n",
       "    </tr>\n",
       "    <tr>\n",
       "      <th>25%</th>\n",
       "      <td>3.000000</td>\n",
       "    </tr>\n",
       "    <tr>\n",
       "      <th>50%</th>\n",
       "      <td>3.000000</td>\n",
       "    </tr>\n",
       "    <tr>\n",
       "      <th>75%</th>\n",
       "      <td>3.000000</td>\n",
       "    </tr>\n",
       "    <tr>\n",
       "      <th>max</th>\n",
       "      <td>3.000000</td>\n",
       "    </tr>\n",
       "  </tbody>\n",
       "</table>\n",
       "</div>"
      ],
      "text/plain": [
       "             state\n",
       "count  1764.000000\n",
       "mean      2.920068\n",
       "std       0.455464\n",
       "min       0.000000\n",
       "25%       3.000000\n",
       "50%       3.000000\n",
       "75%       3.000000\n",
       "max       3.000000"
      ]
     },
     "execution_count": 205,
     "metadata": {},
     "output_type": "execute_result"
    }
   ],
   "source": [
    "agents.describe() #Al final de la simulación casi todos están en el estado 3: removidos"
   ]
  },
  {
   "cell_type": "code",
   "execution_count": 547,
   "metadata": {},
   "outputs": [
    {
     "data": {
      "image/png": "[encoded data removed]",
      "text/plain": [
       "<Figure size 720x432 with 1 Axes>"
      ]
     },
     "metadata": {
      "needs_background": "light"
     },
     "output_type": "display_data"
    }
   ],
   "source": [
    "# exps = np.random.choice(susc.index, 2*len(infs), replace=True)\n",
    "plt.figure(figsize=(10,6))\n",
    "plt.plot(S, '.-', label=\"Espacio vacío\")\n",
    "plt.plot(E, '.-', label=\"Coral\")\n",
    "plt.plot(I, '.-', label=\"Lunar\")\n",
    "plt.plot(R, '.-', label=\"Necrosis\")\n",
    "plt.xlabel('Days')\n",
    "plt.legend()\n",
    "plt.show()"
   ]
  },
  {
   "cell_type": "code",
   "execution_count": 79,
   "metadata": {},
   "outputs": [
    {
     "data": {
      "image/png": "[encoded data removed]",
      "text/plain": [
       "<Figure size 720x432 with 1 Axes>"
      ]
     },
     "metadata": {
      "needs_background": "light"
     },
     "output_type": "display_data"
    }
   ],
   "source": [
    "# exps = np.random.choice(susc.index, 2*len(infs), replace=True)\n",
    "plt.figure(figsize=(10,6))\n",
    "plt.plot(S, '.-', label=\"Espacio vacío\")\n",
    "plt.plot(E, '.-', label=\"Coral\")\n",
    "plt.plot(I, '.-', label=\"Lunar\")\n",
    "plt.plot(R, '.-', label=\"Necrosis\")\n",
    "plt.xlabel('Days')\n",
    "plt.legend()\n",
    "plt.show()"
   ]
  },
  {
   "cell_type": "code",
   "execution_count": 192,
   "metadata": {},
   "outputs": [
    {
     "data": {
      "image/png": "[encoded data removed]",
      "text/plain": [
       "<Figure size 720x432 with 1 Axes>"
      ]
     },
     "metadata": {
      "needs_background": "light"
     },
     "output_type": "display_data"
    }
   ],
   "source": [
    "# exps = np.random.choice(susc.index, 2*len(infs), replace=True)\n",
    "plt.figure(figsize=(10,6))\n",
    "plt.plot(S, '.-', label=\"Espacio vacío\")\n",
    "plt.plot(E, '.-', label=\"Coral\")\n",
    "plt.plot(I, '.-', label=\"Lunar\")\n",
    "plt.plot(R, '.-', label=\"Necrosis\")\n",
    "plt.xlabel('Days')\n",
    "plt.legend()\n",
    "plt.show()"
   ]
  },
  {
   "cell_type": "code",
   "execution_count": 204,
   "metadata": {},
   "outputs": [
    {
     "data": {
      "image/png": "[encoded data removed]",
      "text/plain": [
       "<Figure size 720x432 with 1 Axes>"
      ]
     },
     "metadata": {
      "needs_background": "light"
     },
     "output_type": "display_data"
    }
   ],
   "source": [
    "# exps = np.random.choice(susc.index, 2*len(infs), replace=True)\n",
    "plt.figure(figsize=(10,6))\n",
    "plt.plot(S, '.-', label=\"Espacio vacío\")\n",
    "plt.plot(E, '.-', label=\"Coral\")\n",
    "plt.plot(I, '.-', label=\"Lunar\")\n",
    "plt.plot(R, '.-', label=\"Necrosis\")\n",
    "plt.xlabel('Days')\n",
    "plt.legend()\n",
    "plt.show()"
   ]
  }
 ],
 "metadata": {
  "kernelspec": {
   "display_name": "Python 3",
   "language": "python",
   "name": "python3"
  },
  "language_info": {
   "codemirror_mode": {
    "name": "ipython",
    "version": 3
   },
   "file_extension": ".py",
   "mimetype": "text/x-python",
   "name": "python",
   "nbconvert_exporter": "python",
   "pygments_lexer": "ipython3",
   "version": "3.8.5"
  }
 },
 "nbformat": 4,
 "nbformat_minor": 2
}
