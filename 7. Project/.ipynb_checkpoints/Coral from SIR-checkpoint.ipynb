{
 "cells": [
  {
   "cell_type": "code",
   "execution_count": 10,
   "metadata": {},
   "outputs": [
    {
     "data": {
      "text/plain": [
       "1800"
      ]
     },
     "execution_count": 10,
     "metadata": {},
     "output_type": "execute_result"
    }
   ],
   "source": [
    "len(INPUT1)"
   ]
  },
  {
   "cell_type": "code",
   "execution_count": 15,
   "metadata": {
    "scrolled": false
   },
   "outputs": [
    {
     "name": "stdout",
     "output_type": "stream",
     "text": [
      "Please wait...\n"
     ]
    },
    {
     "data": {
      "application/vnd.jupyter.widget-view+json": {
       "model_id": "a4ee67c18dd64988bc9d191726786eb2",
       "version_major": 2,
       "version_minor": 0
      },
      "text/plain": [
       "  0%|          | 0/100 [00:00<?, ?it/s]"
      ]
     },
     "metadata": {},
     "output_type": "display_data"
    },
    {
     "name": "stdout",
     "output_type": "stream",
     "text": [
      "Operation took 203.743 seconds\n",
      "Converting pictures to .mp4...\n",
      "Conversion completed\n"
     ]
    },
    {
     "data": {
      "image/png": "[encoded data removed]",
      "text/plain": [
       "<Figure size 432x288 with 4 Axes>"
      ]
     },
     "metadata": {
      "needs_background": "light"
     },
     "output_type": "display_data"
    }
   ],
   "source": [
    "import scipy.integrate as spi\n",
    "import numpy as np\n",
    "import pylab as pl\n",
    "import time\n",
    "import cv2\n",
    "import os\n",
    "import matplotlib.cm as cm\n",
    "\n",
    "# For the progress bar:\n",
    "from time import sleep\n",
    "from tqdm.notebook import tqdm\n",
    "\n",
    "t = time.time() # To start recording time of operation\n",
    "n = 30\n",
    "beta = 5 #0.42 # Transmission rate\n",
    "gamma = 0.7 #0.14 # Recovery rate < 1, 0.5 is good\n",
    "mu = 0.001 #0.0001\n",
    "rho = 0.5 #0.1 # Has to be < 1\n",
    "X0 = 0.1\n",
    "nI = 4 # Number of initial random sites\n",
    "N = 1 # Multiplies some terms of rho\n",
    "nu = mu\n",
    "# timestep = 1\n",
    "ND = MaxTime = 100  # 300\n",
    "# C = np.arange(0.0, 1.0, 0.001)\n",
    "X = X0*np.ones((n, n))\n",
    "Y = np.zeros(n*n)\n",
    "# ind = np.ceil(n*n * np.random.uniform(size=int(nI))).astype(int) # Initial random sites\n",
    "ind = np.array([250,350,550,650])\n",
    "for i in range(len(ind)):\n",
    "    Y[ind[i]] = 0.001*X0\n",
    "\n",
    "INPUT1 = np.hstack((X0 * np.ones((n * n)), Y))\n",
    "\n",
    "Y3 = Y\n",
    "Y = np.reshape(Y, (n, n))\n",
    "Y2 = Y\n",
    "\n",
    "INPUT3 = np.hstack((X, Y))\n",
    "\n",
    "INPUT2 = np.reshape(INPUT3, (2 * n * n, 1))\n",
    "\n",
    "for i in range(len(INPUT1)):\n",
    "    INPUT1[i] = INPUT2[i]\n",
    "\n",
    "INPUT = INPUT1\n",
    "ndem = np.zeros((n, n))\n",
    "Size = n\n",
    "### Note the size loop\n",
    "for i in range(Size):\n",
    "    for j in range(Size):\n",
    "        # ndem[i][j]=(1-8*rho)*N\n",
    "        ndem[i][j] = (1 - 4*rho)*N\n",
    "\n",
    "        if i >          0: ndem[i][j] += rho * N\n",
    "        if i < (Size - 1): ndem[i][j] += rho * N\n",
    "        if j >          0: ndem[i][j] += rho * N\n",
    "        if j < (Size - 1): ndem[i][j] += rho * N\n",
    "\n",
    "        # Extra\n",
    "        if i >          0 and j >          0: ndem[i][j] += rho * N\n",
    "        if i < (Size - 1) and j < (Size - 1): ndem[i][j] += rho * N\n",
    "        if i >          0 and j < (Size - 1): ndem[i][j] += rho * N\n",
    "        if i < (Size - 1) and j >          0: ndem[i][j] += rho * N\n",
    "\n",
    "\n",
    "def diff_eqs(INP, t):\n",
    "    V = INP\n",
    "    Y = np.zeros(2 * n * n)\n",
    "\n",
    "    # internal dynamics\n",
    "    for i in range(Size):\n",
    "        for j in range(Size):\n",
    "            ss = i + j * Size * 2         # i + 2n, + 2n, ...\n",
    "            ii = i + j * Size * 2 + Size  # n + i + 2n, + 2n, ...\n",
    "            Y[ss] = nu - beta*(1 - 4*rho)*V[ss]*V[ii] / ndem[i][j] - mu*V[ss] #1-8*rho\n",
    "            Y[ii] = beta*(1 - 4*rho)*V[ss]*V[ii] / ndem[i][j] - (gamma + mu)*V[ii] #1-8*rho\n",
    "\n",
    "            # Interactions with four neighbours - Moore neighborhood\n",
    "            if i > 0:\n",
    "                FoI = beta * V[ss] * rho * V[ii - 1] / ndem[i][j]\n",
    "                Y[ss] -= FoI\n",
    "                Y[ii] += FoI\n",
    "            if i < (Size - 1):\n",
    "                FoI = beta * V[ss] * rho * V[ii + 1] / ndem[i][j]\n",
    "                Y[ss] -= FoI\n",
    "                Y[ii] += FoI\n",
    "            if j > 0:\n",
    "                FoI = beta * V[ss] * rho * V[ii - Size * 2] / ndem[i][j]\n",
    "                Y[ss] -= FoI\n",
    "                Y[ii] += FoI\n",
    "            if j < (Size - 1):\n",
    "                FoI = beta * V[ss] * rho * V[ii + Size * 2] / ndem[i][j]\n",
    "                Y[ss] -= FoI\n",
    "                Y[ii] += FoI\n",
    "\n",
    "            # Extra\n",
    "            if i > 0 and j > 0:\n",
    "                FoI = beta * V[ss] * rho * V[ii - 1 - Size * 2] / ndem[i][j]\n",
    "                Y[ss] -= FoI\n",
    "                Y[ii] += FoI\n",
    "            if i < (Size - 1) and j < (Size - 1):\n",
    "                FoI = beta * V[ss] * rho * V[ii + 1 + Size * 2] / ndem[i][j]\n",
    "                Y[ss] -= FoI\n",
    "                Y[ii] += FoI\n",
    "            if i < (Size - 1) and j > 0:\n",
    "                FoI = beta * V[ss] * rho * V[ii + 1 - Size * 2] / ndem[i][j]\n",
    "                Y[ss] -= FoI\n",
    "                Y[ii] += FoI\n",
    "            if i > 0 and j < (Size - 1):\n",
    "                FoI = beta * V[ss] * rho * V[ii - 1 + Size * 2] / ndem[i][j]\n",
    "                Y[ss] -= FoI\n",
    "                Y[ii] += FoI\n",
    "\n",
    "    return Y\n",
    "\n",
    "\n",
    "ola = np.zeros((n*n), dtype=int)\n",
    "for i in range(Size):\n",
    "    for j in range(Size):\n",
    "        ola[i*n + j] = i*Size*2 + j\n",
    "\n",
    "ola1 = ola + n\n",
    "tcS = [X0*n*n]\n",
    "tcI = [sum(Y3[range(n*n)])]\n",
    "tc22 = np.zeros((n,n))\n",
    "\n",
    "if os.path.exists('movie') == True:\n",
    "    pass\n",
    "else:\n",
    "    os.mkdir('movie')\n",
    "\n",
    "print('Please wait...')\n",
    "for k in tqdm(range(ND)): #tqdm is the progress bar\n",
    "    t_range = np.arange(2.0)\n",
    "    RES = spi.odeint(diff_eqs, INPUT, t_range)\n",
    "    INPUT = RES[-1]\n",
    "\n",
    "    tcS.append(sum(RES[-1][ola]))\n",
    "    tcI.append(sum(RES[-1][ola1]))\n",
    "\n",
    "    if k % 1 == 0:\n",
    "        pl.clf()\n",
    "        tc22 = np.reshape(RES[-1][ola1], (n, n))\n",
    "        pl.subplot(211)\n",
    "        # pl.axis('equal')\n",
    "        pl.pcolor(tc22, cmap=cm.get_cmap(\"Spectral\"))\n",
    "        pl.title('Coupled Lattice Model (Moore)')\n",
    "        pl.colorbar()\n",
    "\n",
    "        pl.subplot(413)\n",
    "        pl.plot(tcS, color='b')\n",
    "        pl.ylabel('Susceptible')\n",
    "#             pl.ylim(60,80)\n",
    "        pl.xlim(0,MaxTime)\n",
    "\n",
    "        pl.subplot(414)\n",
    "        pl.plot(tcI, color='r')\n",
    "#             pl.ylim(0,0.001)\n",
    "#             pl.yticks([0,0.001])\n",
    "        pl.ylabel('Infected')\n",
    "        pl.xlabel('Time (days)')\n",
    "        pl.xlim(0,MaxTime)\n",
    "\n",
    "        pl.savefig(\"movie/frame_%04d.png\" % k)\n",
    "\n",
    "print(\"Operation took %g seconds\" % (time.time() - t))\n",
    "print('Converting pictures to .mp4...')\n",
    "image_folder = 'movie'\n",
    "video_name = 'video.mp4'\n",
    "images = [img for img in os.listdir(image_folder)[:MaxTime] if img.endswith(\".png\")]\n",
    "frame = cv2.imread(os.path.join(image_folder, images[0]))\n",
    "height, width, layers = frame.shape\n",
    "frame_rate = 25\n",
    "video = cv2.VideoWriter(video_name, 0, frame_rate, (width, height))\n",
    "for image in images:\n",
    "    video.write(cv2.imread(os.path.join(image_folder, image)))\n",
    "cv2.destroyAllWindows()\n",
    "video.release()\n",
    "print('Conversion completed')"
   ]
  }
 ],
 "metadata": {
  "kernelspec": {
   "display_name": "Python 3",
   "language": "python",
   "name": "python3"
  },
  "language_info": {
   "codemirror_mode": {
    "name": "ipython",
    "version": 3
   },
   "file_extension": ".py",
   "mimetype": "text/x-python",
   "name": "python",
   "nbconvert_exporter": "python",
   "pygments_lexer": "ipython3",
   "version": "3.8.5"
  }
 },
 "nbformat": 4,
 "nbformat_minor": 4
}
