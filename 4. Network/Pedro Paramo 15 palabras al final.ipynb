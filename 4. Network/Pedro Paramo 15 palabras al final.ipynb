{
 "cells": [
  {
   "cell_type": "markdown",
   "metadata": {},
   "source": [
    "### Red de personajes de la novela \"Pedro Páramo\" de Juan Rulfo de 1955\n",
    "\n",
    "por Rodrigo Fritz\n",
    "\n",
    "El texto se encuentra en\n",
    "https://www.literatura.us/rulfo/paramo.html\n",
    "\n",
    "Los personajes se pueden consultar en\n",
    "https://en.wikipedia.org/wiki/Pedro_P%C3%A1ramo\n",
    "aunque faltan algunos\n",
    "\n",
    "Primero importar y minar el texto:"
   ]
  },
  {
   "cell_type": "code",
   "execution_count": 1,
   "metadata": {},
   "outputs": [],
   "source": [
    "import nltk, re, pprint\n",
    "from nltk import word_tokenize"
   ]
  },
  {
   "cell_type": "code",
   "execution_count": 2,
   "metadata": {},
   "outputs": [
    {
     "name": "stdout",
     "output_type": "stream",
     "text": [
      "Juan Rulfo\n",
      "(1918-1986)\n",
      "\n",
      "Pedro Páramo (1955)\n",
      "\n",
      "Vine a Comala porque me dijeron que acá vivía mi padre, un tal Pedro Páramo. Mi madre me lo dijo. Y yo le prometí que vendría a verlo en cuanto ella muriera. Le apreté sus manos en señal de que lo haría, pues ella estaba por morirse y yo en un plan de prometerlo todo. «No dejes de ir a visitarlo —me recomendó. Se llama de este modo y de este otro. Estoy segura de que le dará gusto conocerte.» Entonces no pude hacer otra cosa sino decirle que así lo haría, y de tanto decírselo se lo seguí diciendo aun después de que a mis manos les costó trabajo zafarse de sus manos muertas.\n",
      "Todavía antes me había dicho:\n",
      "—No vayas a pedirle nada. Exígele lo nuestro. Lo que estuvo obligado a darme y nunca me dio... El olvido en que nos tuvo, mi hijo, cóbraselo caro.\n",
      "—Así lo haré, madre.\n",
      "Pero no pensé cumplir mi promesa. Hasta que ahora pronto comencé a llenarme de sueños, a darle vuelo a las ilusiones. Y de este modo se me fue formando un mundo alrededor de la esperanza que era aquel señor llamado Pedro Páramo, el marido de mi madre. Por eso vine a Comala.\n",
      "\n",
      "\n",
      "Era ese tiempo de la canícula, cuando el aire de agosto sopla caliente, envenenado por el olor podrido de la saponarias.\n",
      "El camino subía y bajaba: «Sube o baja según se va o se viene. Para el que va, sube; para él que viene, baja.»\n",
      "—¿Cómo dice usted que se llama el pueblo que se ve allá abajo?\n",
      "—Comala, señor.\n",
      "—¿Está seguro de que ya es Comala?\n",
      "—Seguro, señor.\n",
      "—¿ Y por qué se ve esto tan triste?\n",
      "—Son los tiempos, señor.\n",
      "Yo imaginaba ver aquello a través de los recuerdos de mi madre; de su nostalgia, entre retazos de suspiros. Siempre vivió ella suspirando por Comala, por el retorno; pero jamás volvió. Ahora yo vengo en su lugar. Traigo los ojos con que ella miró estas cosas, porque me dio sus ojos para ver: «Hay allí, pasando el puerto de Los Colimotes, la vista muy hermosa de una llanura verde, algo amarilla por el maíz maduro. Desde ese lugar se ve Comala, blanqueando la tierra, iluminándola durante la noche.» Y su voz era secreta, casi apagada, como si hablara consigo misma... Mi madre.\n",
      "—¿Y a qué va usted a Comala, si se puede saber? —oí que me preguntaban.\n",
      "—Voy a ver a mi padre contesté.\n",
      "—¡Ah! — dijo él.\n",
      "Y volvimos al silencio.\n",
      "Caminábamos cuesta abajo, oyendo el trote rebotado de los burros. Los ojos reventados por el sopor del sueño, en la canícula de agosto.\n",
      "—Bonita fiesta le va a armar —volví a oír la voz del que iba allí a mi lado—. Se pondrá contento de ver a alguien después de tantos años que nadie viene por aquí.\n",
      "Luego añadió:\n",
      "—Sea usted quien sea, se alegrará de verlo.\n",
      "En la reverberación del sol, la llanura parecía una laguna transparente, deshecha en vapores por donde se traslucía un horizonte gris. Y más allá, una línea de montañas. Y todavía más allá, la más remota lejanía.\n",
      "—¿Y qué trazas tiene su padre, si se puede saber?\n",
      "—No lo conozco —le dije—. Sólo sé que se llama Pedro Páramo.\n",
      "—¡Ah!, vaya.\n",
      "—Sí, así me dijeron que se llamaba.\n",
      "Oí otra vez el «¡ah!» del arriero.\n",
      "Me había topado con él en Los Encuentros, donde se cruzaban varios caminos. Me estuve allí esperando, hasta que al fin apareció este hombre.\n",
      "—¿A dónde va usted? —le pregunté.\n",
      "—Voy para abajo, señor.\n",
      "—¿Conoce un lugar llamado Comala?\n",
      "—Para allá mismo voy.\n",
      "Y lo seguí. Fui tras él tratando de emparejarme a su paso, hasta que pareció darse cuenta de que lo seguía disminuyó la prisa de su carrera. Después los dos íbamos tan pegados que casi nos tocábamos los hombros.\n",
      "—Yo también soy hijo de Pedro Páramo —me dijo.\n",
      "Una bandada de cuervos pasó cruzando el cielo vacío, haciendo cuar, cuar, cuar.\n",
      "Después de trastumbar los cerros, bajamos cada vez más. Habíamos dejado el aire caliente allá arriba y nos íbamos hundiendo en el puro calor sin aire. Todo parecía estar como en espera de algo.\n",
      "—Hace calor aquí —dije.\n",
      "—Sí, y esto no es nada me contestó el otro—. Cálmese. Ya lo sentirá más fuerte cuando lleguemos a Comala. Aquello está sobre las brasas de la tierra, en la mera boca del infierno. Con decirle que muchos de los que allí se mueren, al llegar al infierno regresan por su cobija.\n",
      "—¿ Conoce usted a Pedro Páramo? — le pregunté.\n",
      "Me atreví a hacerlo porque vi en sus ojos una gota de confianza.\n",
      "—¿Quién es? —volví a preguntar.\n",
      "—Un rencor vivo —me contestó él.\n",
      "Y dio un pajuelazo contra los burros, sin necesidad, ya que los burros iban mucho más adelante de nosotros, encarrerados por la bajada.\n",
      "Sentí el retrato de mi madre guardado en la bolsa de la camisa, calentándome el corazón, como si ella también sudara. Era un retrato viejo, carcomido en los bordes; pero fue el único que conocí de ella. Me lo había encontrado en el armario de la cocina, dentro de una cazuela llena de yerbas: hojas de toronjil, flores de Castilla, ramas de ruda. Desde entonces lo guardé. Era el único. Mi madre siempre fue enemiga de retratarse. Decía que los retratos eran cosa de brujería. Y así parecía ser.; porque el suyo estaba lleno de agujeros como de aguja, y en dirección del corazón tenía uno muy grande, donde bien podía caber el dedo del corazón.\n",
      "Es el mismo que traigo aquí, pensando que podría dar buen resultado para que mi padre me reconociera.\n",
      "—Mire usted —me dice el arriero, deteniéndose— ¿Ve aquella loma que parece vejiga de puerco? Pues detrasito de ella está la Media Luna. Ahora voltié para allá. ¿Ve la ceja de aquel cerro? Véala. Y ahora voltié para este otro rumbo. ¿Ve la otra ceja que casi no se ve de lo lejos que está? Bueno, pues eso es la Media Luna de punta a cabo. Como quien dice, toda la tierra que se puede abarcar con la mirada. Y es de él todo ese terrenal. El caso es que nuestras madres nos malparieron en un petate aunque éramos hijos de Pedro Páramo. Y lo más chistoso es que él nos llevó a bautizar. Con usted debe haber pasado lo mismo, ¿no?\n",
      "—No me acuerdo.\n",
      "—¡Váyase mucho al carajo!\n",
      "—¿Qué dice usted?\n",
      "—Que ya estamos llegando, señor.\n",
      "—Sí, ya lo veo. ¿ Qué paso por aquí?\n",
      "—Un correcaminos, señor. Así les nombran a esos pájaros.\n",
      "—No, yo preguntaba por el pueblo, que se ve tan solo, como si estuviera abandonado. Parece que no lo habitara nadie.\n",
      "—No es que lo parezca. Así es. Aquí no vive nadie.\n",
      "—¿ Y Pedro Páramo?\n",
      "—Pedro Páramo murió hace muchos años.\n",
      "\n",
      "\n",
      "Era la hora en que los niños juegan en las calles de todos los pueblos, llenando con sus gritos la tarde. Cuando aun las paredes negras reflejan la luz amarilla del sol.\n",
      "Al menos eso había visto en Sayula, todavía ayer a esta misma hora. Y había visto también el vuelo de las palomas rompiendo el aire quieto, sacudiendo sus alas como si se desprendieran del día. Volaban y caían sobre los tejados, mientras los gritos de los niños revoloteaban y parecían teñirse de azul en el cielo del atardecer.\n",
      "Ahora estaba aquí, en este pueblo sin ruidos. Oía caer mis pisadas sobre las piedras redondas con que estaban empedradas las calles. Mis pisadas huecas, repitiendo su sonido en el eco de las paredes teñidas por el sol del atardecer.\n",
      "Fui andando por la calle real en esa hora. Miré las casas vacías; las puertas desportilladas, invadidas de yerba. ¿ Cómo me dijo aquel fulano que se llamaba esta yerba? «La capitana, señor. Una plaga que nomás espera que se vaya la gente para invadir las casas. Así las verá usted.»\n",
      "Al cruzar una bocacalle vi una señora envuelta en su rebozo que desapareció como si no existiera. Después volvieron a moverse mis pasos y mis ojos siguieron asomándose al agujero de las puertas. Hasta que nuevamente la mujer del rebozo se cruzó frente a mí.\n",
      "—¡Buenas noches! —me dijo.\n",
      "La seguí con la mirada. Le grité:\n",
      "—¿Dónde vive doña Eduviges?\n",
      "Y ella señaló con el dedo:\n",
      "—Allá. La casa que está junto al puente.\n",
      "Me di cuenta que su voz estaba hecha de hebras humanas, que su boca tenía dientes y una lengua que se trababa y destrababa al hablar, y que sus ojos eran como todos los ojos de la gente que vive sobre la tierra.\n",
      "Había oscurecido.\n",
      "Volvió a darme las buenas noches. Y aunque no había niños jugando, ni palomas, ni tejados azules, sentí que el pueblo vivía. Y que si yo escuchaba solamente el silencio, era porque aún no estaba acostumbrado al silencio; tal vez porque mi cabeza venía llena de ruidos y de voces.\n",
      "De voces, sí. Y aquí, donde el aire era escaso, se oían mejor. Se quedaban dentro de uno, pesadas. Me acordé de lo que me había dicho mi madre: «Allá me oirás mejor. Estaré más cerca de ti. Encontrarás más cercana la voz de mis recuerdos que la de mi muerte, si es que alguna vez la muerte ha tenido alguna voz.» Mi madre. . . la viva.\n",
      "Hubiera querido decirle: «Te equivocaste de domicilio. Me diste una dirección mal dada. Me mandaste al “¿dónde es esto y dónde es aquello?” A un pueblo solitario. Buscando a alguien que no existe.»\n",
      "Llegué a la casa del puente orientándome por el sonar del río. Toqué la puerta; pero en falso. Mi mano se sacudió en el aire como si el aire la hubiera abierto. Una mujer estaba allí. Me dijo:\n",
      "—Pase usted.\n",
      "Y entré.\n",
      "\n",
      "\n",
      "Me había quedado en Comala. El arriero, que se siguió de filo, me informó todavía antes de despedirse:\n",
      "—Yo voy más allá , donde se ve la trabazón de los cerros. Allá tengo mi casa. Si usted quiere venir, será bienvenido. Ahora que si quiere quedarse aquí, ahí se lo haiga;. Y me quedé. A eso venía.\n",
      "—¿Dónde podré encontrar alojamiento? —le pregunté ya casi a gritos.\n",
      "—Busque a doña Eduviges, si es que todavía vive. Dígale que va de mi parte.\n",
      "—¿Y cómo se llama usted?\n",
      "—Abundio —me contestó. Pero ya no alcancé a oír el apellido.\n",
      "\n",
      "\n",
      "—Soy Eduviges Dyada. Pase usted.\n",
      "Parecía que me hubiera estado esperando. Tenía todo dispuesto, según me dijo haciendo que la siguiera por una larga serie de cuartos oscuros, al parecer desolados. Pero no; porque, en cuanto me acostumbré a la oscuridad y al delgado hilo de luz que nos seguía, vi crecer sombras a ambos lados y sentí que íbamos caminando a través de un angosto pasillo abierto entre bultos.\n",
      "—¿ Qué es lo que hay aquí? —pregunté.\n",
      "—Tiliches —me dijo ella —. Tengo la casa toda entilichada. La escogieron para guardar sus muebles los que se fueron, y nadie ha regresado por ellos. Pero el cuarto que le he reservado está al fondo. Lo tengo siempre descombrado por si alguien viene. ¿ De modo que usted es hijo de ella?\n",
      "—¿De quién ? —respondí.\n",
      "—De Doloritas.\n",
      "—Sí ¿pero cómo lo sabe?\n",
      "—Ella me avisó que usted vendría. Y hoy precisamente. Que llegaría hoy.\n",
      "—¿Quién? ¿Mi madre?\n",
      "—Sí. Ella.\n",
      "Yo no supe qué pensar. Ni ella me dejó en qué pensar:\n",
      "—Éste es su cuarto —me dijo.\n",
      "No tenía puertas, solamente aquella por donde habíamos entrado. Encendió la vela y lo vi vacío.\n",
      "—Aquí no hay dónde acostarse le dije.\n",
      "—No se preocupe por eso. Usted ha de venir cansado y el sueño es muy buen colchón para el cansancio. Ya mañana le arreglaré su cama. Como usted sabe, no es fácil ajuarear las cosas en un dos por tres. Para eso hay que estar prevenido, y la madre de usted no me avisó sino hasta ahora.\n",
      "—Mi madre —dije—, mi madre ya murió.\n",
      "—Entonces ésa fue la causa de que su voz se oyera tan débil, como si hubiera tenido que atravesar una distancia muy larga para llegar hasta aquí. Ahora lo entiendo. ¿Y cuánto hace que murió?\n",
      "—Hace ya siete días.\n",
      "—Pobre de ella. Se ha de haber sentido abandonada. Nos hicimos la promesa de morir juntas. De irnos las dos para darnos ánimo una a la otra en el otro viaje, por si se necesitara, por si acaso encontráramos alguna dificultad. Éramos muy amigas. ¿Nunca le habló de mí?\n",
      "—No, nunca.\n",
      "—Me parece raro. Claro que entonces éramos unas chiquillas. Y ella estaba apenas recién casada. Pero nos queríamos mucho. Tu madre era tan bonita, tan, digamos, tan tierna, que daba gusto quererla. ¿De modo que me lleva ventaja, no? Pero ten la seguridad de que la alcanzaré. Sólo yo entiendo lo lejos que está el cielo de nosotros; pero conozco cómo acortar las veredas. Todo consiste en morir, Dios mediante, cuando uno quiera y no cuando Él lo disponga. O, si tú quieres, forzarlo a disponer antes de tiempo. Perdóname que te hable de tú; lo hago porque te considero como mi hijo. Sí, muchas veces dije: «El hijo de Dolores debió haber sido mío.» Después te diré por qué. Lo único que quiero decirte ahora es que alcanzaré a tu madre en alguno de los caminos de la eternidad.\n",
      "Yo creía que aquella mujer estaba loca. Luego ya no creí nada. Me sentí en un mundo lejano y me dejé arrastrar. Mi cuerpo, que parecía aflojarse, se doblaba ante todo, había soltado sus amarras y cualquiera podía jugar con él como si fuera de trapo.\n",
      "—Estoy cansado —le dije.\n",
      "—Ven a tomar antes algún bocado. Algo de algo. Cualquier cosa.\n",
      "—Iré. Iré después.\n",
      "\n",
      "\n",
      "El agua que goteaba de las tejas hacia un agujero en la arena del patio. Sonaba: plas, plas, y luego otra vez plas, en mitad de una hoja de laurel que daba vueltas y rebotes metida en la hendidura de los ladrillos. Ya se había ido la tormenta. Ahora de vez en cuando la brisa sacudía las ramas del granado haciéndolas chorrear una lluvia espesa, estampando la tierra con gotas brillantes que luego se empañaban. Las gallinas, engarruñadas,como si durmieran, sacudían de pronto sus alas y salían al patio, picoteando de prisa atrapando las lombrices desenterradas por la lluvia. Al recorrerse las nubes, el sol sacaba luz a las piedras, irisaba todo de colores, se bebía el agua de la tierra, jugaba con el aire de la mañana.\n",
      "—¿Qué, tanto haces en el escusado, muchacho?\n",
      "—Nada, mamá.\n",
      "—Si sigues allí, va a salir una culebra y te va a morder.\n",
      "—Si mamá.\n",
      "“Pensaba en ti, Susana. En las lomas verdes. Cuando volábamos papalotes en la época del aire. Oíamos allá abajo el rumor viviente del pueblo mientras estábamos encima de él, arriba de la loma, en tanto se nos iba el hilo de cáñamo arrastrado por el viento. ‘Ayúdame, Susana’. Y unas manos suaves se apretaban a nuestras manos. ‘Suelta más hilo’.\n",
      "“El aire nos hacía reír, juntaba la mirada de nuestros ojos, mientras el hilo corría entre los dedos detrás del viento, hasta que se rompía con un leve crujido como si hubiera sido trozado por las alas de algún pájaro. Y allá arriba, él pájaro de papel caía en maromas arrastrando su cola de hilacho, perdiéndose en el verdor de la tierra.\n",
      "“Tus labios estaban mojados como si los hubiera besado el rocío.”\n",
      "—Te he dicho que te salgas del escusado, muchacho.\n",
      "—Sí, mamá. Ya voy.\n",
      "“De ti me acordaba. Cuando tú estabas allí mirándome con tus ojos de aguamarina.”\n",
      "Alzó la vista y miró a su madre en la puerta.\n",
      "—¿Por qué tardas tanto en salir? ¿Qué haces aquí?\n",
      "—Estoy pensando.\n",
      "—¿Y no puedes hacerlo en otra parte? Es dañoso estar mucho tiempo en el escusado. Además, debías de ocuparte en algo. ¿Porqué no vas con tu abuela a desgranar maíz?\n",
      "—Ya voy, mamá. Ya voy.\n",
      "—Abuela, vengo a ayudarte a desgranar maíz.\n",
      "—Ya terminamos; pero vamos a hacer chocolate. ¿Dónde te habías metido? Todo el rato que duró la tormenta te anduvimos buscando.\n",
      "—Estaba en el otro patio.\n",
      "—¿Y qué estabas haciendo? ¿Rezando?\n",
      "—No, abuela, solamente estaba viendo llover.\n",
      "La abuela lo miró con aquellos ojos grises, medio amarillos, que ella tenía y que parecían adivinar lo que había dentro de uno.\n",
      "—Vete, pues, a limpiar el molino.\n",
      "“A centenares de metros, encima de todas las nubes, más, mucho más allá de todo, estás escondida tú, Susana. Escondida en la inmensidad de Dios, detrás de su Divina Providencia, donde yo no puedo alcanzarte ni verte y adonde no llegan mis palabras.”\n",
      "—Abuela, el molino no sirve, tiene el gusano roto.\n",
      "—Esa Micaela ha de haber molido molcates en él. No se le quita esa mala costumbre; pero en fin, ya no tiene remedio.\n",
      "—¿ Por qué no compramos otro? Éste ya de tan viejo ni servía.\n",
      "—Dices bien. Aunque con los gastos que hicimos para enterrar a tu abuelo y los diezmos que le hemos pagado a la Iglesia nos hemos quedado sin un centavo. Sin embargo, haremos un sacrificio y compraremos otro. Sería bueno que fueras a ver a doña Inés Villalpando y le pidieras que nos lo fiara para octubre. Se lo pagaremos en las cosechas.\n",
      "—Si, abuela.\n",
      "—Y de paso, para que hagas el mandado completo, dile que nos empreste un cernidor y una podadera; con lo crecidas que están las matas ya mero se nos meten en las trasijaderas. Si yo tuviera mi casa grande, con aquellos grandes corrales que tenía, no me estaría quejando. Pero tu abuelo le jerró con venirse aquí. Todo sea por Dios: nunca han de salir las cosas como uno quiere. Dile a doña Inés que le pagaremos en las cosechas todo lo que le debemos.\n",
      "—Si, abuela.\n",
      "Había chuparrosas. Era la época. Se oía el zumbido de sus alas entre las flores del jazmín, que se caía de flores.\n",
      "Se dio una vuelta por la repisa del Sagrado Corazón y encontró veinticuatro centavos. Dejó los cuatro centavos y tomó el veinte.\n",
      "—Antes de salir, su madre lo detuvo:\n",
      "—¿Adónde vas?\n",
      "—Con doña Inés Villalpando por un molino nuevo. El que teníamos se quebró.\n",
      "—Dile que te dé un metro de tafeta negra, como ésta -y le dio la muestra-. Que lo cargue en nuestra cuenta.\n",
      "—Muy bien, mamá.\n",
      "—A tu regreso cómprame unas cafiaspirinas. En la maceta del pasillo encontrarás dinero.\n",
      "Encontró un peso. Dejó el veinte y agarró el peso. “Ahora me sobrará dinero para lo que se ofrezca”, pensó.\n",
      "—¡Pedro! —le gritaron—. ¡Pedro!\n",
      "Pero él ya no oyó. Iba muy lejos.\n",
      "\n",
      "\n",
      "Por la noche volvió a llover. Se estuvo oyendo el borbotar del agua durante largo rato: luego se ha de haber dormido, porque cuando despertó sólo se oía una llovizna callada. Los vidrios de la ventana estaban opacos, y del otro lado las gotas resbalaban en hilos gruesos como de lágrimas. “Miraba caer las gotas iluminadas por los relámpagos, y cada que respiraba suspiraba, y cada vez que pensaba, pensaba en ti, Susana.”\n",
      "La lluvia se convertía en brisa. Oyó: “El perdón de los pecados y la resurrección de la carne. Amén.” Eso era acá adentro, donde unas mujeres rezaban el final del rosario. Se levantaban; encerraban los pájaros; atrancaban la puerta; apagaban la luz.\n",
      "Sólo quedaba la luz de la noche, el siseo de la lluvia como un murmullo de grillos...\n",
      "—¿Por qué no has ido a rezar el rosario? Estamos en el novenario de tu abuelo.\n",
      "Allí estaba su madre en el umbral de la puerta, con una vela en la mano. Su sombra descorrida hacía el techo, larga, desdoblada. Y las vigas del techo la devolvían en pedazos, despedazada.\n",
      "—Me siento triste —dijo.\n",
      "Entoces ella se dió vuelta. Apagó la llama de la vela. Cerró la puerta y abrió sus sollozos, que se siguieron oyendo confundidos con la lluvia.\n",
      "El reloj de la iglesia dio las horas, una tras otra, una tras otra, como si se hubiera encogido el tiempo.\n",
      "\n",
      "\n",
      "—Pues sí, yo estuve a punto de ser tu madre. ¿Nunca te platicó ella nada de esto?\n",
      "—No. Sólo me contaba cosas buenas. De usted vine a saber por el arriero que me trajo hasta aquí un tal Abundio.\n",
      "-El bueno de Abundio. ¿Así que todavía me recuerda? Yo le daba sus propinas por cada pasajero que encaminara a mi casa. Y a los dos nos iba bien. Ahora, desventuradamente, los tiempos han cambiado, pues desde que esto está empobrecido ya nadie se comunica con nosotros. ¿De modo que él te recomendó que vinieras a verme?\n",
      "—Me encargó que la buscara.\n",
      "—No puedo menos que agradecérselo. Fue buen hombre y muy cumplido. Era quien nos acarreaba el correo, y lo siguió haciendo todavía después que se quedó sordo. Me acuerdo del desventurado día que le sucedió su desgracia. Todos nos conmovimos porque todos lo queríamos. Nos llevaba y traía cartas. Nos contaba cómo andaban las cosas allá del otro lado del mundo, y seguramente a ellos les contaba cómo andabamos nosotros. Era un gran platicador. Después ya no. Dejó de hablar. Decía que no tenía sentido ponerse a decir cosas que él no oía, que no le sonaban a nada, a las que no les encontraba ningún sabor. Todo sucedió a raíz de que le tronó muy cerca de la cabeza uno de esos cohetones que usamos aquí para espantar las culebras de agua. Desde entonces enmudeció, aunque no era mudo; pero, eso sí, no se le acabó lo buena gente.\n",
      "—Este de que le hablo oía bien.\n",
      "—No debe ser él. Además, Abundio ya murió. Debe haber muerto seguramente. ¿ Te das cuenta? Así que no puede ser él.\n",
      "—Estoy de acuerdo con usted.\n",
      "—Bueno, volviendo a tu madre, te iba diciendo. . .\n",
      "Sin dejar de oírla, me puse a mirar a la mujer que tenía frente a mí. Pensé que debía haber pasado por años difíciles. Su cara se transparentaba.como si no tuviera sangre, y sus manos estaban marchitas; marchitas y apretadas de arrugas. No se le veían los ojos. Llevaba un vestido blanco muy antiguo, recargado de holanes, y del cuello, enhilada en un cordón, le colgaba una María Santísima del Refugio con un letrero que decía: “Refugio de pecadores.”\n",
      "—. . . Ese sujeto de que te estoy hablando trabajaba como “amansador” en la Media Luna; decía llamarse Inocencio Osorio. Aunque todos lo conocíamos por el mal nombre del Saltaperico por ser muy liviano y ágil para los brincos. Mi compadre Pedro decía que estaba que ni mandado a hacer para amansar potrillos; pero lo cierto es que él tenía otro oficio: el de “provocador”. Era provocador de sueños. Eso es lo que era verdaderamente. Y a tu madre la enredó como lo hacía con muchas. Entre otras, conmigo. Una vez que me sentí enferma se presentó y me dijo: “Te vengo a pulsear para que te alivies.” Y todo aquello consistía en que se soltaba sobándola a una, primero en las yemas de los dedos, luego restregando las manos; después los brazos, y acababa metiéndose con las piernas de una, en frío, así que aquello al cabo de un rato producía calentura. Y, mientras maniobraba, te hablaba de tu futuro. Se ponía en trance, remolineaba los ojos invocando y maldiciendo; llenándote de escupitajos como hacen los gitanos. A veces se quedaba en cueros porque decía que ése era nuestro deseo. Y a veces le atinaba; picaba por tantos lados que con alguno tenía que dar.\n",
      "“La cosa es que el tal Osorio le pronosticó a tu madre, cuando fue a verlo, que ‘esa noche no debía repegarse a ningún hombre porque estaba brava la luna’.\n",
      "“Dolores fue a decirme toda apurada que no podía. Que simplemente se le hacía imposible acostarse esa noche con Pedro Páramo. Era su noche de bodas. y ahí me tienes a mí tratando de convencerla de que no se creyera del Osorio, que por otra parte era un embaucador embustero.\n",
      "“—No puedo —me dijo—. Anda tú por mí. No lo notará.\n",
      "“Claro que yo era mucho más joven que ella. Y un poco menos morena; pero esto ni se nota en lo oscuro.\n",
      "“—No puede ser. Dolores, tienes que ir tú.\n",
      "“—Hazme ese favor. Te lo pagaré con otros.\n",
      "“-Tu madre en ese tiempo era una muchachita de ojos humildes. Si algo tenía bonito tu madre, eran los ojos. Y sabían convencer.\n",
      "“—Ve tú en mi lugar —me decía.\n",
      "“Y fui.\n",
      "“ Me valí de la oscuridad y de otra cosa que ella no sabía: y es que a mí también me gustaba Pedro Páramo.\n",
      "“Me acosté con él, con gusto, con ganas. Me atrinchilé a su cuerpo; pero el jolgorio del día anterior lo había dejado rendido, así que se pasó la noche roncando. Todo lo que hizo fue entreverar sus piernas entre mis piernas.\n",
      "“Antes que amaneciera me levanté y fui a ver a Dolores. Le dije:\n",
      "“—Ahora anda tú. Éste es ya otro día.\n",
      "“—¿Qué te hizo? —me preguntó.\n",
      "“—Todavía no lo sé —le contesté.\n",
      "“Al año siguiente naciste tú; pero no de mí, aunque estuvo en un pelo que así fuera.\n",
      "“Quizá tu madre no te contó esto por vergüenza.\n",
      "“. . . Llanuras verdes. Ver subir y bajar el horizonte con el viento que mueve las espigas, el rizar de la tarde con una lluvia de triples rizos. el color de la tierra, el olor de la alfalfa y del pan. Un pueblo que huele a miel derramada...”\n",
      "“Ella siempre odió a Pedro Páramo. ‘¡Doloritas! ¿Ya ordenó que me preparen el desayuno?’ Y tu madre se levanta antes del amanecer. Prendía el nixtenco. Los gatos se despertaban con el olor de la lumbre. Y ella iba de aquí para allá, seguida por el rondín de gatos. ‘¡Doña Doloritas!’\n",
      "“¿Cuántas veces oyó tu madre aquel llamado? ‘Doña Doloritas’, esto está frío. Esto no sirve. ¿Cuántas veces? Y aunque estaba acostumbrada a pasar lo peor, sus ojos humildes se endurecieron.\n",
      "“... No sentir otro sabor sino el del azahar de los naranjos en la tibieza del tiempo.”\n",
      "“Entonces comenzó a suspirar.\n",
      "“—¿Por qué suspira usted, Doloritas?\n",
      "“Yo lo había acompañado esa tarde. Está en mitad del campo mirando pasar las parvadas de los tordos. Un zopilote solitario se mecía en el cielo.\n",
      "“—¿Por qué suspira usted, Doloritas?\n",
      "“—Quisiera ser zopilote para volar a donde vive mi hermana.\n",
      "“—No faltaba más, doña Doloritas. Ahora mismo irá usted a ver a su hermana. Regresemos. Que le preparen sus maletas. No faltaba más.\n",
      "“Y tu madre se fue:\n",
      "“—Hasta luego, don Pedro.\n",
      "“—¡Adiós!, Doloritas.\n",
      "“Se fue de la Media Luna para siempre.\n",
      "“Yo le pregunté muchos meses después a Pedro Páramo por ella.\n",
      "“—Quería más a su hermana que a mí. Allá debe estar a gusto. Además ya me tenía enfadado. No pienso inquirir por ella, si es eso lo que te preocupa.\n",
      "“—¿Pero de qué vivirán?\n",
      "“—Que Dios los asista.”\n",
      "”. . . El abandono en que nos tuvo, mi hijo, cóbraselo caro.”\n",
      "—Y así hasta ahora que ella me avisó que vendrías a verme, no volvimos a saber más de ella.\n",
      "—La de cosas que han pasado —le dije—. Vivíamos en Colima arrimados a la tía Gertrudis, que nos echaba en cara nuestra carga. “¿Por qué no regresas con tu marido?”, le decía a mi madre.\n",
      "“—¿Acaso él ha enviado por mí? No me voy si él no me llama. Vine porque te quería ver. Porque te quería, por eso vine.\n",
      "“—Lo comprendo. Pero ya va siendo hora de que te vayas.\n",
      "“—Si consistiera en mí.”\n",
      "Pensé que aquella mujer me estaba oyendo; pero noté que tenía borneada la cabeza como si escuchara algún rumor lejano. Luego dijo:\n",
      "—¿Cuándo descansarás?\n",
      "\n",
      "\n",
      "“El día que te fuiste entendí que no te volvería a ver. Ibas teñida de rojo por el sol de la tarde, por el crepúsculo ensangrentado del cielo; Sonreías. Dejabas atrás un pueblo del que muchas veces me dijiste: ‘Lo quiero por ti; pero lo odio por todo lo demás, hasta por haber nacido en él’. Pensé: ‘No regresará jamás; no volverá nunca’.”\n",
      "—¿Qué haces aquí a estas horas? ¿No estás trabajando?\n",
      "—No, abuela. Rogelio quiere que le cuide al niño. Me paso paseándolo. Cuesta trabajo atender las dos cosas: al niño y el telégrafo, mientras que él se vive tomando cervezas en el billar. Además no me paga nada.\n",
      "—No estás allí para ganar dinero, sino para aprender cuando ya sepas algo, entonces podrás ser exigente. Por ahora eres sólo un aprendiz; quizá mañana o pasado llegues a ser tú el jefe. Pero para eso se necesita paciencia y, más que nada, humildad. Si te ponen a pasear al niño, hazlo, por el amor de Dios. Es necesario que te resignes.\n",
      "—Que se resignen otros, abuela, yo no estoy para resignaciones.\n",
      "—¡Tú y tus rarezas! Siento que te va a ir mal, Pedro Páramo.\n",
      "\n",
      "\n",
      "—¿Qué es lo que pasa, doña Eduviges? Ella sacudió la cabeza como si despertara de un sueño.\n",
      "—Es el caballo de Miguel Páramo, que galopa por el camino de la Media Luna.\n",
      "—¿Entonces vive alguien en la Media Luna?\n",
      "—No, allí no vive nadie.\n",
      "—¿Entonces?\n",
      "—Solamente es el caballo que va y viene. Ellos eran inseparables. Corre por todas partes buscándolo y siempre regresa a estas horas. Quizá el pobre no puede con su remordimiento. Cómo hasta los animales se dan cuenta de cuando cometen un crimen, ¿no?\n",
      "—No entiendo. Ni he oído ningún ruido de ningún caballo.\n",
      "—¿No?\n",
      "—No.\n",
      "—Entonces es cosa de mi sexto sentido. Un don que Dios me dio; o tal vez sea una maldición. Sólo yo sé lo que he sufrido a causa de esto.\n",
      "Guardó silencio un rato y luego añadió:\n",
      "—Todo comenzó con Miguel Páramo. Sólo yo supe lo que le había pasado la noche que murió. Estaba yo acostada cuando oí regresar su caballo rumbo a la Media Luna. Me extrañó porque nunca volvía a esas horas. Siempre lo hacía entrada la madrugada. Iba a platicar con su novia a un pueblo llamado Contla, algo lejos de aquí. Salía temprano y tardaba en volver. Pero esa noche no regresó. . . ¿Lo oyes ahora? Está claro que se oye. Viene de regreso.\n",
      "—No oigo nada.\n",
      "—Entonces es cosa mía. Bueno, como te estaba diciendo, eso de que no regresó es un puro decir. No había acabado de pasar su caballo cuando sentí que me tocaban por la ventana. Ve tú a saber si fue ilusión mía. Lo cierto es que algo me obligó a ir a ver quién era. Y era él, Miguel Páramo. No me extrañó verlo, pues hubo un tiempo que se pasaba las noches en mi casa durmiendo conmigo, hasta que encontró esa muchacha que le sorbió los sesos.\n",
      "“—¿Que pasó? —le dije a Miguel Páramo—. ¿Te dieron calabazas?\n",
      "“—No. Ella me sigue queriendo —me dijo—. Lo que sucede es que yo no pude dar con ella. Se me perdió el pueblo. Había mucha neblina o humo o no sé qué; pero sí sé que Contla no existe. Fui más allá según mis cálculos, y no encontré nada. Vengo a contártelo a ti, porque tú me comprendes. Si se lo dijera a los demás de Comala dirían que estoy loco, como siempre han dicho que lo estoy.\n",
      "“—No. Loco no, Miguel. Debes estar muerto. Acuérdate que te dijeron que ese caballo te iba a matar algún día. Acuérdate, Miguel Páramo. Tal vez te pusiste a hacer locuras y eso ya es otra cosa.\n",
      "“—Sólo brinqué el lienzo de piedra que últimamente mandó poner mi padre. Hice que el Colorado lo brincara para no ir a dar ese rodeo tan largo que hay que hacer ahora para encontrar el camino. Sé que lo brinqué y después seguí corriendo; pero, como te digo, no había más que humo y humo y humo.\n",
      "“—Mañana tu padre se torcerá de dolor —le dije—. Lo siento por él. Ahora vete y descansa en paz, Miguel. Te agradezco que hayas venido a despedirte de mí.\n",
      "“Y cerré la ventana. Antes de que amaneciera un mozo de la Media Luna vino a decir: -E1 patrón don Pedro le suplica. E1 niño Miguel ha muerto. Le suplica su compañía.\n",
      "“—Ya lo sé —le dije—. ¿Te pidieron que lloraras?\n",
      "“—Si, don Fulgor me dijo que se lo dijera llorando.\n",
      "“—Está bien. Dile a don Pedro que allá iré. ¿Hace mucho que lo trajeron?\n",
      "“—No hace ni media hora. De ser antes, tal vez se hubiera salvado. Aunque, según el doctor que lo palpó, ya estaba frío desde tiempo atrás. Lo supimos porque el Colorado volvió solo y se puso tan inquieto que no dejó dormir a nadie. Usted sabe cómo se querían él y el caballo, y hasta estoy por creer que el animal sufre más que don Pedro. No ha comido ni dormido y nomás se vuelve un puro corretear. Como que sabe, ¿sabe usted? Como que se siente despedazado y carcomido por dentro.\n",
      "“—No se te olvide cerrar la puerta cuando te vayas.\n",
      "“Y el mozo de la Media Luna se fue.”\n",
      "—¿Has oído alguna vez el quejido de un muerto? —me preguntó a mí.\n",
      "—No, doña Eduviges.\n",
      "—Más te vale.\n",
      "\n",
      "\n",
      "En el hidrante las gotas caen una tras otra. Uno oye, salida de la piedra, el agua clara caer sobre el cántaro. Uno oye. Oye rumores; pies que raspan el suelo, que caminan, que van y vienen. Las gotas siguen cayendo sin cesar. El cántaro se desborda haciendo rodar el agua sobre un suelo mojado.\n",
      "“¡Despierta!”, le dicen.\n",
      "Reconoce el sonido de la voz. Trata de adivinar quién es; pero el cuerpo se afloja y cae adormecido, aplastado por el peso del sueño. Unas manos estiran las cobijas prendiéndose de ellas, y debajo de su calor el cuerpo se esconde buscando la paz.\n",
      "“¡Despiértate!”, vuelven a decir.\n",
      "La voz sacude los hombros. Hace enderezar el cuerpo. Entreabre los ojos. Se oyen las gotas de agua que caen del hidrante sobre el cántaro raso. Se oyen pasos que se arrastran. . . Y el llanto.\n",
      "Entonces oyó el llanto. Eso lo despertó: un llanto suave, delgado, que quizá por delgado pudo traspasar la maraña del sueño, llegando hasta el lugar donde anidan los sobresaltos.\n",
      "Se levantó despacio y vio la cara de una mujer recostada contra el marco de la puerta, oscurecida todavía por la noche, sollozando.\n",
      "-¿Por qué lloras, mamá? —preguntó, pues en cuanto puso los pies en el suelo reconoció el rostro de su madre.\n",
      "—Tu padre ha muerto —le dijo.\n",
      "Y luego, como si se le hubieran soltado los resortes de su pena, se dio vuelta sobre sí misma una y otra vez , una y otra vez, hasta que unas manos llegaron hasta sus hombros y lograron detener el rebullir de su cuerpo.\n",
      "Por la puerta se veía el amanecer en el cielo. No había estrellas. Sólo un cielo plomizo, gris aún no aclarado por la luminosidad del sol. Una luz parda, no como si fuera a comenzar el día, sino como si apenas estuviera llegando el principio de la noche.\n",
      "Afuera, en el patio, los pasos, como de gente que ronda. Ruidos callados. Y aquí, aquella mujer, de pie en el umbral; su cuerpo impidiendo la llegada del día; dejando asomar, a través de sus brazos, retazos de cielo, y debajo de sus pies regueros de luz; una luz asperjada como si el suelo debajo de ella estuviera anegando en lágrimas. Y después el sollozo. Otra vez el llanto suave pero agudo, y la pena haciendo retorcer su cuerpo.\n",
      "—Han matado a tu padre.\n",
      "—¿Y a ti quién te mató, madre?\n",
      "\n",
      "\n",
      "“Hay aire y sol, hay nubes. Allá arriba un cielo azul detrás de él tal vez haya canciones; tal vez mejores voces . . . Hay esperanza, en suma. Hay esperanza para nosotros, contra nuestro pesar.\n",
      "“Pero no para ti, Miguel Páramo, que has muerto sin perdón y no alcanzarás ninguna gracia.”\n",
      "El padre Rentería dio vuelta al cuerpo y entregó la misa al pasado. Se dio prisa por terminar pronto y salió sin dar la bendición final a aquella gente que llenaba la iglesia.\n",
      "—¡Padre, queremos que nos lo bendiga!\n",
      "—¡No! —dijo moviendo negativamente la cabeza. No lo haré. Fue un mal hombre y no entrará al Reino de los Cielos. Dios me tomará mal que interceda por él.\n",
      "Lo decía, mientras trataba de retener sus manos para que no enseñaran su temblor. Pero fue.\n",
      "Aquel cadáver pesaba mucho en el ánimo de todos. Estaba sobre una tarima, en medio de la iglesia, rodeado de cirios nuevos, de flores, de un padre que estaba detrás de él, solo, esperando que terminara la velación.\n",
      "El padre Rentería pasó junto a Pedro Páramo procurando no rozarle los hombros. Levantó el hisopo con ademanes suaves y roció el agua bendita de arriba abajo, mientras salía de su boca un murmullo, que podía ser de oraciones. Después se arrodilló y todo el mundo se arrodilló con él:\n",
      "—Ten piedad de tu siervo, Señor.\n",
      "—Que descanse en paz, amén —contestaron las voces.\n",
      "Y cuando empezaba a llenarse nuevamente de cólera, vio que todos abandonaban la iglesia llevándose el cadáver de Miguel Páramo.\n",
      "Pedro Páramo se acercó, arrodillándose a su lado:\n",
      "Yo sé que usted lo odiaba, padre. Y con razón. El asesinato de su hermano, que según rumores fue cometido por mi hijo, el caso de su sobrina Ana, violada por él según el juicio de usted; las ofensas y falta de respeto que le tuvo en ocasiones, son motivos que cualquiera puede admitir. Pero olvídese ahora, padre. Considérelo y perdónelo como quizá Dios lo haya perdonado.\n",
      "Puso sobre el reclinatorio un puño de monedas de oro y se levantó:\n",
      "—Reciba eso como una limosna para su iglesia.\n",
      "La iglesia estaba ya vacía. Dos hombres esperaban en la puerta a Pedro Páramo, quien se juntó con ellos, y juntos siguieron el féretro que aguardaba descansando sobre los hombros de cuatro caporales de la Media Luna.\n",
      "El padre Rentería recogió las monedas una por una y se acercó al altar.\n",
      "—Son tuyas —dijo—. Él puede comprar la salvación. Tú sabes si éste es el precio. En cuanto a mí, Señor, me pongo ante tus plantas para pedirle lo justo o lo injusto, que todo nos es dado pedir... Por mí condénalo, Señor.\n",
      "Y cerró el sagrario.\n",
      "Entró en la sacristía, se echó en un rincón, y allí lloró de pena y de tristeza hasta agotar sus lágrimas.\n",
      "—Está bien, Señor, tú ganas —dijo después.\n",
      "\n",
      "\n",
      "Durante la cena tomó su chocolate como todas las noches. Se sentía tranquilo:\n",
      "—Oye, Anita. ¿Sabes a quién enterraron hoy?\n",
      "—No, tío.\n",
      "—¿Te acuerdas de Miguel Páramo?\n",
      "—Sí, tío.\n",
      "—Pues a él.\n",
      "Ana agachó la cabeza.\n",
      "—Estás segura de que él fue, ¿verdad?\n",
      "—Segura no, tío. No le vi la cara. Me agarró de noche y en lo oscuro.\n",
      "—¿Entonces cómo supiste que era Miguel Páramo?\n",
      "—Porque él me lo dijo: “Soy Miguel Páramo, Ana. No te asustes.” Eso me dijo.\n",
      "—Pero sabías que era el autor de la muerte de tu padre, ¿no?\n",
      "—Sí, tío.\n",
      "—¿Entonces qué hiciste para alejarlo?\n",
      "—No hice nada.\n",
      "Los dos guardaron silencio por un rato. Se oía el aire tibio entre las hojas del arrayán.\n",
      "—Me dijo que precisamente a eso venía: a pedirme disculpas y a que yo lo perdonara. Sin moverme de la cama le avisé: “La ventana está abierta.” Y él entró. Llegó abrazándome, como si ésa fuera la forma de disculparse por lo que había hecho. Y yo le sonreí. Pensé en lo que usted me había enseñado: que nunca hay que odiar a nadie. Le sonreí para decírselo; pero después pensé que él no pudo ver mi sonrisa, porque yo no lo veía a él, por lo negra que estaba la noche. Solamente lo sentí encima de mí y que comenzaba a hacer cosas malas conmigo.\n",
      "“Creí que me iba a matar. Eso fue lo que creí, tío. Y hasta dejé de pensar para morirme antes de que él me matara. Pero seguramente no se atrevió a hacerlo.\n",
      "“Lo supe cuando abrí los ojos y vi la luz de la mañana que entraba por la ventana abierta. Antes de esa hora, sentí que había dejado de existir.”\n",
      "—Pero debes tener alguna seguridad. La voz. ¿No lo conociste por su voz?\n",
      "—No lo conocía por nada. Sólo sabía que había matado a mi padre. Nunca lo había visto y después no lo llegué a ver. No hubiera podido, tío.\n",
      "—Pero sabías quién era.\n",
      "—Sí. Y qué cosa era. Sé que ahora debe estar en lo mero hondo del infierno; porque así se lo he pedido a todos los santos con todo mi fervor.\n",
      "—No estés tan convencida de eso, hija. ¡Quién sabe cuántos están rezando ahora por él! Tú estás sola. Un ruego contra miles de ruegos. Y entre ellos, algunos mucho más hondos que el tuyo, como es el de su padre.\n",
      "Iba a decirle: “Además, yo le he dado el perdón.” Pero sólo lo pensó. No quiso maltratar el alma medio quebrada de aquella muchacha. Antes, por el contrario, la tomó del brazo y le dijo:\n",
      "—Démosle gracias a Dios Nuestro Señor porque se lo ha llevado de esta tierra donde causó tanto mal, no importa que ahora lo tenga en su cielo.\n",
      "\n",
      "\n",
      "Un caballo pasó al galope donde se cruza la calle real con el camino de Contla. Nadie lo vio. Sin embargo, una mujer que esperaba en las afueras del pueblo contó que había visto el caballo corriendo con las piernas dobladas como si se fuera a ir de bruces. Reconoció el alazán de Miguel Páramo. Y hasta pensó: “Ese animal se va a romper la cabeza.” Luego vio cuando enderezaba el cuerpo y, sin flojar la carrera, caminaba con el pescuezo echado hacia atrás como si viniera asustado por algo que había dejado allá atrás.\n",
      "Esos chismes llegaron a la Media Luna la noche del entierro, mientras los hombres descansaban de la larga caminata que habían hecho hasta el panteón. Platicaban, como se platica en todas partes, antes de ir a dormir.\n",
      "—A mí me dolió mucho ese muerto —dijo Terencio Lubianes—. Todavía traigo adoloridos los hombros.\n",
      "—Y a mí —dijo su hermano Ubillado—. Hasta se me agrandaron los juanetes. Con eso de que el patrón quiso que todos fuéramos de zapatos. Ni que hubiera sido día de fiesta, ¿verdad, Toribio?\n",
      "—Yo qué quieren que les diga. Pienso que se murió muy a tiempo.\n",
      "Al rato llegaron más chismes de Contla. Los trajo la última carreta.\n",
      "—Dicen que por allá anda el ánima. Lo han visto tocando la ventana de fulanita. Igualito a él. De chaparreras y todo.\n",
      "—¿Y usted cree que don Pedro con el genio que se carga, iba a permitir que su hijo siga traficando viejas? Ya me lo imagino si lo supiera: “Bueno —le diría—. Tú ya estás muerto. Estáte quieto en tu sepultura. Déjanos el negocio a nosotros.” Y de verlo por ahi, casi me las apuesto que lo mandaría de nuevo al camposanto.\n",
      "—Tienes razón, Isaías. Ese viejo no se anda con cosas.\n",
      "El carretero siguió su camino: “Como la supe, se las endoso.”\n",
      "Había estrellas fugaces. Caían como si el cielo estuviera lloviznando lumbre.\n",
      "—Miren nomás —dijo Terencio— el borlote que se traen allá arriba.\n",
      "—Es que le están celebrando su función al Miguelito —terció Jesús.\n",
      "—¿No será mala señal?\n",
      "—¿Para quién?\n",
      "—Quizá tu hermana está nostálgica por su regreso.\n",
      "—¿A quién le hablas?\n",
      "—A ti.\n",
      "—Mejor vámonos, muchachos. Hemos trafagueado mucho y mañana hay que madrugar.\n",
      "Y se disolvieron como sombras.\n",
      "\n",
      "\n",
      "Había estrellas fugaces. Las luces en Comala se apagaron.\n",
      "Entonces el cielo se adueño de la noche.\n",
      "El padre Rentería se revolcaba en su cama sin poder dormir:\n",
      "“Todo esto que sucede es por mi culpa —se dijo—. El temor de ofender a quienes me sostienen. Porque ésta es la verdad; ellos me dan mi mantenimiento. De los pobres no consigo nada; las oraciones no llenan el estómago. Así ha sido hasta ahora. Y éstas son las consecuencias. Mi culpa. He traicionado a aquellos que me quieren y que me han dado su fe y me buscan para que yo interceda por ellos para con Dios. ¿Pero qué han logrado con su fe? ¿La ganancia del cielo? ¿O la purificación de sus almas? Y para qué purifican su alma, si en el último momento . . . Todavía tengo frente a mis ojos la mirada de María Dyada, que vino a pedirme salvara a su hermana Eduviges:\n",
      "“—Ella sirvió siempre a sus semejantes. Les dio todo lo que tuvo. Hasta les dio un hijo, a todos. Y se los puso enfrente para que alguien lo reconociera como suyo; pero nadie lo quiso hacer. Entonces les dijo: En ese caso yo soy también su padre, aunque por casualidad haya sido su madre. Abusaron de su hospitalidad por esa bondad suya de no querer ofenderlos ni de malquistarse con ninguno.\n",
      "“—Pero ella se suicidó. Obró contra la mano de Dios.\n",
      "“—No le quedaba otro camino. Se resolvió a eso también por bondad.\n",
      "“—Falló a última hora —eso es lo que le dije—. En el último momento. ¡Tantos bienes acumulados para su salvación, y perderlos así de pronto!\n",
      "“—Pero si no los perdió. Murió con muchos dolores. Y el dolor... Usted nos ha dicho algo acerca del dolor que ya no recuerdo. Ella se fue por ese dolor. Murió retorcida por la sangre que la ahogaba. Todavía veo sus muecas, y sus muecas eran los más tristes gestos que ha hecho un ser humano.\n",
      "“—Tal vez rezando mucho.\n",
      "“—Vamos rezando mucho, padre.\n",
      "“—Digo tal vez, si acaso, con las misas gregorianas, pero para eso necesitamos pedir ayuda, mandar traer sacerdotes. Y eso cuesta dinero.\n",
      "“Allí estaba frente a mis ojos la mirada de María Dyada, una pobre mujer llena de hijos.\n",
      "“—No tengo dinero. Eso usted lo sabe, padre.\n",
      "“—Dejemos las cosas como están. Esperemos en Dios.\n",
      "“—Sí, padre.”\n",
      "¿Por qué aquella mirada se volvía valiente ante la resignación? Qué le costaba a él perdonar, cuando era tan fácil decir una palabra o dos, o cien palabras si éstas fueran necesarias para salvar el alma. ¿Qué sabía él del cielo y del infierno? Y sin embargo, él, perdido en un pueblo sin nombre, sabía los que habían merecido el cielo. Había un catálogo. Comenzó a recorrer los santos del panteón católico comenzando por los del día: “Santa Nunilona, virgen y mártir; Anercio, obispo; Santas Salomé, viuda, Alodia o Elodia y Nulina, vírgenes; Córdula y Donato.” Y siguió. Ya iba siendo dominado por el sueño cuando se sentó en la cama: “Estoy repasando una hilera de santos como si estuviera viendo saltar cabras.”\n",
      "Salió fuera y miró el cielo. Llovía estrellas. Lamentó aquello porque hubiera querido ver un cielo quieto. Oyó el canto de los gallos. Sintió la envoltura de la noche cubriendo la tierra. La tierra, “este valle de lágrimas”.\n",
      "\n",
      "\n",
      "—Más te vale, hijo. Más te vale —me dijo Eduviges Dyada.\n",
      "Ya estaba alta la noche. La lámpara que ardía en un rincón comenzó a languidecer; luego parpadeó y terminó apagándose. Sentí que la mujer se levantaba y pensé que iría por una nueva luz. Oí sus pasos cada vez más lejos. Me quedé esperando.\n",
      "Pasado un rato y al ver que no volvía, me levanté yo también. Fui caminando a pasos cortos, tentaleando en la oscuridad, hasta que llegué a mi cuarto. Allí me senté en el suelo a esperar el sueño.\n",
      "Dormí a pausas.\n",
      "En una de esas pausas fue cuando oí el grito. Era un grito arrastrado, como el alarido de algún borracho: “­¡Ay vida, no me mereces!”\n",
      "Me enderecé de prisa porque casi lo oí junto a mis orejas; pudo haber sido en la calle; pero yo lo oí aquí untado a las paredes de mi cuarto. Al despertar, todo estaba en silencio; sólo el caer de la polilla y el rumor del silencio.\n",
      "No, no era posible calcular la hondura del silencio que produjo aquel grito. Como si la tierra se hubiera vaciado de su aire. Ningún sonido; ni el del resuello, ni el del latir del corazón; como si se detuviera el mismo ruido de la conciencia. Y cuando terminó la pausa y volví a tranquilizarme, retornó el grito y se siguió oyendo por un largo rato: “¡Déjenme aunque sea el derecho de pataleo que tienen los ahorcados !”\n",
      "Entonces abrieron de par en par la puerta.\n",
      "—¿Es usted, doña Eduviges? —pregunté—. ¿Qué es lo que está sucediendo? ¿Tuvo usted miedo?\n",
      "—No me llamo Eduviges. Soy Damiana. Supe que estabas aquí y vine a verte. Quiero invitarte a dormir a mi casa. Allí tendrás donde descansar.\n",
      "—¿Damiana Cisneros? ¿No es usted de las que vivieron en la Media Luna?\n",
      "—Allá vivo. Por eso he tardado en venir.\n",
      "—Mi madre me habló de una tal Damiana que me había cuidado cuando nací. ¿De modo que usted . . .?\n",
      "—Si yo soy. Te conozco desde que abriste los ojos.\n",
      "—Iré con usted. Aquí no me han dejado en paz los gritos. ¿No oyó lo que estaba pasando? Como que estaban asesinando a alguien. ¿No acaba usted de oír?\n",
      "—Tal vez sea algún eco que está aquí encerrado. En este cuarto ahorcaron a Toribio Aldrete hace mucho tiempo. Luego condenaron la puerta, hasta que él se secara; para que su cuerpo no encontrara reposo. No sé cómo has podido entrar, cuando no existe llave para abrir esta puerta.\n",
      "—Fue doña Eduviges quien abrió. Me dijo que era el único cuarto que tenía disponible.\n",
      "—¿Eduviges Dyada?\n",
      "—Ella.\n",
      "—Pobre Eduviges. Debe de andar penando todavía.\n",
      "\n",
      "\n",
      "“Fulgor Sedano, hombre de 54 años, soltero, de oficio administrador, apto para entablar y seguir pleitos, por poder y por mi propio derecho, reclamo y alego lo siguiente...\"\n",
      "Eso había dicho cuando levantó el acta contra actos de Toribio Aldrete. Y terminó: “Que conste mi acusación por usufruto.”\n",
      "-A usted ni quien le quite lo hombre, don Fulgor. Sé que usted las puede. Y no por el poder que tiene atrás, sino por usted mismo.\n",
      "Se acordaba. Fue lo primero que le dijo el Aldrete, después que se habían estado emborrachando juntos, dizque para celebrar el acta:\n",
      "-Con ese papel nos vamos a limpiar usted y yo, don Fulgor, porque no va a servir para otra cosa. Y eso usted lo sabe. En fin, por lo que a usted respecta, ya cumplió con lo que le mandaron, y a mí me quitó de apuraciones; porque me tenía usted preocupado, lo que sea de cada quien. Ahora ya sé de qué se trata y me da risa. Dizque “usufruto”. Vergüenza debía darle a su patrón ser tan ignorante.\n",
      "Se acordaba. Estaban en la fonda de Eduviges. Y hasta él le había preguntado:\n",
      "—Oye, Viges, ¿me puedes prestar el cuarto del rincón?\n",
      "—Los que usted quiera, don Fulgor ; si quiere, ocúpelos todos. ¿Se van a quedar a dormir aquí sus hombres?\n",
      "—No, nada más uno. Despreocúpate de nosotros y vete a dormir. Nomás déjanos la llave.\n",
      "—Pues ya le digo, don Fulgor —le dijo Toribio Aldrete—. A usted ni quien le menoscabe lo hombre que es; pero me lleva la rejodida con ese hijo de la rechintola de su patrón.\n",
      "Se acordaba. Fue lo último que le oyó decir en sus cinco sentidos. Después se había comportado como un collón, dando de gritos. “Dizque la fuerza que yo tenía atrás. ¡Vaya!”\n",
      "\n",
      "\n",
      "Tocó con el mango del chicote la puerta de la casa de Pedro Páramo. Pensó en la primera vez que lo había hecho, dos semanas atrás. Esperó un buen rato del mismo modo que tuvo que esperar aquella vez. Miró también, como lo hizo la otra vez, el moño negro que colgaba del dintel de la puerta. Pero no comentó consigo mismo: “¡Vaya! Los han encimado. El primero está ya descolorido, el último relumbra como si fuera de seda; aunque no es más que un trapo teñido”.\n",
      "La primera vez se estuvo esperando hasta llenarse con la idea de que quizá la casa estuviera deshabitada. Y ya se iba cuando apareció la figura de Pedro Páramo.\n",
      "—Pasa, Fulgor.\n",
      "Era la segunda ocasión que se veían. La primera, nada más él lo vio; porque el Pedrito estaba recién nacido. Y ésta. Casi se podía decir que era la primera vez. Y le resultó que le hablaba como a un igual. ¡Vaya! Lo siguió a grandes trancos, chicoteándose las piernas: “Sabrá pronto que yo soy el que sabe. Lo sabrá. Y a lo que vengo.”\n",
      "—Siéntate, Fulgor. Aquí hablaremos con más calma.\n",
      "Estaban en el corral. Pedro Páramo se arrellanó en un pesebre y esperó:\n",
      "—¿Por qué no te sientas?\n",
      "—Prefiero estar de pie, Pedro.\n",
      "—Como tú quieras. Pero no se te olvide el “don.”\n",
      "¿Quién era aquel muchacho para hablarle así? Ni su padre, don Lucas Páramo, se había atrevido a hacerlo. Y de pronto éste, que jamás se había parado en la Media Luna, ni conocía de oídas el trabajo, le hablaba como a un gañán. ¡Vaya, pues!\n",
      "—¿Cómo anda aquello?\n",
      "Sintió que llegaba su oportunidad. “Ahora me toca a mí”, pensó.\n",
      "—Mal. No queda nada. Hemos vendido el último ganado.\n",
      "Comenzó a sacar los papeles para informarle a cuánto ascendía todavía el adeudo. Y ya iba a decir: “Debemos tanto”, cuando oyó:\n",
      "—¿A quién le debemos? No me importa cuánto, sino a quién.\n",
      "Le repasó una lista de nombres. Y terminó:\n",
      "—No hay de dónde sacar para pagar. Ése es el asunto.\n",
      "—¿Y por qué?\n",
      "—Porque la familia de usted lo absorbió todo. Pedían y pedían, sin devolver nada. Eso se paga caro. Ya lo decía yo: “A la larga acabarán con todo”. Bueno, pues acabaron. Aunque hay por allí quien se interese en comprar los terrenos. Y pagan bien. Se podrían cubrir las libranzas pendientes y todavía quedaría algo; aunque, eso sí, algo mermado.\n",
      "—¿No serás tú?\n",
      "—¡Cómo se pone a creer que yo!\n",
      "—Yo creo hasta el bendito. Mañana comenzaremos a arreglar nuestros asuntos. Empezaremos por las Preciados. ¿Dices que a ellas les debemos más?\n",
      "—Sí. Y a las que les hemos pagado menos. El padre de usted siempre las pospuso para lo último. Tengo entendido que una de ellas, Matilde, se fue a vivir a la ciudad. No sé si a Guadalajara o a Colima. Y Lola, quiero decir, doña Dolores, ha quedado como dueña de todo. Usted sabe: el rancho de Enmedio. Y es a ella a la que le tenemos que pagar.\n",
      "—Mañana vas a pedir la mano de Lola.\n",
      "—Pero cómo quiere usted que me quiera, si ya estoy viejo\n",
      "—La pedirás para mí. Después de todo tiene alguna gracia. Le dirás que estoy muy enamorado de ella. Y que si lo tiene a bien. De pasada, dile al padre Rentería que nos arregle el trato. ¿Con cuánto dinero cuentas?\n",
      "—Con ninguno, don Pedro.\n",
      "—Pues prométeselo. Dile que en teniendo se le pagará. Casi estoy seguro de que no pondrá dificultades. Haz eso mañana mismo.\n",
      "—¿Y lo del Aldrete?\n",
      "—¿Qué se trae el Aldrete? Tú me mencionaste a las Preciados y a los Fregosos y a los Guzmanes. ¿Con qué sale ahora el Aldrete?\n",
      "—Cuestión de límites. Él ya mandó cercar y ahora pide que echemos el lienzo que falta para hacer la división.\n",
      "—Eso déjalo para después. No te preocupen los lienzos. No habrá lienzos. La tierra no tiene divisiones. Piénsalo, Fulgor, aunque no se lo des a entender. Arregla por de pronto lo de la Lola. ¿No quieres sentarte?\n",
      "—Me sentaré, don Pedro. Palabra que me está gustando tratar con usted.\n",
      "—Le dirás a la Lola esto y lo otro y que la quiero. Eso es importante. De cierto, Sedano, la quiero. Por sus ojos ¿sabes? Eso harás mañana tempranito. Te reduzco tu tarea de administrador. Olvídate de la Media Luna.\n",
      "\n",
      "\n",
      "“¿De dónde diablos habrá sacado esas mañas el muchacho? —pensó Fulgor Sedano mientras regresaba a la Media Luna—. Yo no esperaba de él nada. ‘Es un inútil’, decía de él mi difunto patrón don Lucas. Un flojo de marca. Yo le daba la razón. ‘Cuando me muera váyase buscando otro trabajo, Fulgor’. ‘Sí, don Lucas’. ‘Con decirle, Fulgor, que he intentado mandarlo al seminario para ver si al menos eso le da para comer y mantener a su madre cuando yo les falte; pero ni a eso se decide’. ‘Usted no se merece eso, don Lucas.’ ‘No se cuenta con él para nada, ni para que me sirva de bordón servirá cuando yo esté viejo. Se me malogró, qué quiere usted, Fulgor’. ‘Es una verdadera lástima, don Lucas’.”\n",
      "Y ahora esto. De no haber sido porque estaba tan encariñado con la Media Luna, ni lo hubiera venido a ver. Se habría largado sin avisarle. Pero le tenía aprecio a aquella tierra; a esas lomas pelonas tan trabajadas y que todavía seguían aguantando el surco, dando cada vez más de sí ... La querida Media Luna... Y sus agregados: “Vente para acá tierrita en Enmedio.” La veía venir. Como que aquí estaba ya. Lo que significa una mujer después de todo. “¡Vaya que sí!” dijo. Y chicoteó sus piernas al trasponer la puerta grande de la hacienda.\n",
      "\n",
      "\n",
      "Fue muy fácil encampanarse a la Dolores. Si hasta le relumbraron los ojos y se le descompuso la cara.\n",
      "—Perdóneme que me ponga colorada, don Fulgor. No creí que don Pedro se fijara en mí.\n",
      "—No duerme, pensando en usted.\n",
      "—Pero si él tiene de dónde escoger. Abundan tantas muchachas bonitas en Comala. ¿Qué dirán ellas cuando lo sepan?\n",
      "—Él sólo piensa en usted, Dolores. De ahi en más, en nadie.\n",
      "—Me hace usted que me den escalofríos, don Fulgor. Ni siquiera me lo imaginaba.\n",
      "—Es que es un hombre tan reservado. Don Lucas Páramo, que en paz descanse, le llegó a decir que usted no era digna de él. Y se calló la boca por pura obediencia. Ahora que él ya no existe, no hay ningún impedimento. Fue su primera decisión, aunque yo había tardado en cumplirla por mis muchos quehaceres. Pongamos por fecha de la boda pasado mañana. ¿Qué opina usted?\n",
      "—¿No es muy pronto? No tengo nada preparado. Necesito encargar los ajuares. Le escribiré a mi hermana. O no, mejor le voy a mandar un propio pero de cualquier manera no estaré lista antes del ocho de abril. Hoy estamos a uno. Si, apenas para el ocho. Dígale que espere unos diyitas.\n",
      "—Él quisiera que fuera ahora mismo. Si es por los ajuares, nosotros se los proporcionamos. La difunta madre de don Pedro espera que usted vista sus ropas. En la familia existe esa costumbre.\n",
      "—Pero además hay algo para estos días. Cosas de mujeres, sabe usted. ¡Oh!, cuánta vergüenza me da decirle esto, don Fulgor. Me hace usted que se me vayan los colores. Me toca la luna ¡oh!, qué vergüenza.\n",
      "—¿Y qué? El matrimonio no es asunto de si haya o no luna. Es cosa de quererse. Y, en habiendo esto, todo lo demás sale sobrando.\n",
      "—Pero es que usted no me entiende, don Fulgor.\n",
      "—Entiendo. La boda será pasado mañana.\n",
      "“Y la dejó con los brazos extendidos pidiendo ocho días, nada más ocho días.\n",
      "“Que no se me olvide decirle a Don Pedro —¡vaya muchacho listo ese Pedro!—, decirle que no se le olvide decirle al juez que los bienes son mancomunados. ‘Acuérdate, Fulgor, de decírselo mañana mismo’.”\n",
      "La Dolores, en cambio, corrió a la cocina con un aguamanil para poner agua caliente: “Voy a hacer que esto baje más pronto. Que baje esta misma noche. Pero de todas maneras me durará mis tres días. No tendrá remedio. ¡Qué felicidad! ¡Oh, qué felicidad! Gracias, Dios mío por darme a don Pedro.” Y añadió: “Aunque después me aborrezca.”\n",
      "\n",
      "\n",
      "—Ya está pedida y muy de acuerdo. El padre cura quiere sesenta pesos por pasar por alto lo de las amonestaciones. Le dije que se le darían a su debido tiempo. Él dice que le hace falta componer el altar y que la mesa de su comedor está toda desconchinflada. Le prometí que le mandaríamos una mesa nueva . Dice que usted nunca va a misa. Le prometí que iría. Y que desde que murió su abuela ya no le han dado los diezmos. Le dije que no se preocupara. Está conforme.\n",
      "—¿No le pediste algo adelantado a Dolores?\n",
      "—No, patrón. No me atreví. Ésa es la verdad. Estaba tan contenta que no quise estropearle su entusiasmo.\n",
      "—Eres un niño.\n",
      "“¡Vaya! Yo un niño. Con 55 años encima. Él apenas comenzando a vivir y yo a pocos pasos de la muerte.”\n",
      "—No quise quebrarle su contento.\n",
      "—A pesar de todo, eres un niño.\n",
      "—Está bien patrón.\n",
      "—La semana que entra irás con el Aldrete. Y le dices que recorra el lienzo. Ha invadido tierras de la Media Luna.\n",
      "—Él hizo bien sus mediciones. A mí me consta.\n",
      "—Pues dile que se equivocó. Que estuvo mal calculado. Derrumba los lienzos si es preciso.\n",
      "—¿Y las leyes?\n",
      "—¿Cuáles leyes, Fulgor? La ley de ahora en adelante la vamos a hacer nosotros. ¿Tienes trabajando en la Media Luna a algún atravesado?\n",
      "—Sí, hay uno que otro.\n",
      "—Pues mándalos con el primer Aldrete. Le levantas un acta acusándolo de “usufructo” o de lo que a ti se te ocurra. Y recuérdale que Lucas Páramo ya murió. Que conmigo hay que hacer nuevos tratos.\n",
      "El cielo era todavía azul. Había pocas nubes. El aire soplaba allá arriba, aunque aquí abajo se convertía en calor.\n",
      "\n",
      "\n",
      "Tocó nuevamente con el mango del chicote, nada más por insistir, ya que sabía que no abrirían hasta que le se antojara a Pedro Páramo. Dijo mirando hacia el dintel de la puerta: “Se ven bonitos esos moños negros, lo que sea de cada quien”.\n",
      "En ese momento abrieron y él entró.\n",
      "—Pasa, Fulgor. ¿Está arreglado el asunto de Toribio Aldrete?\n",
      "—Está liquidado, patrón.\n",
      "—Nos queda la cuestión de los Fregosos. Deja eso pendiente. Ahorita estoy muy ocupado con mi “luna de miel”.\n",
      "\n",
      "\n",
      "—Este pueblo está lleno de ecos. Tal parece que estuvieran encerrados en el hueco de las paredes o debajo de las piedras. Cuando caminas, sientes que te van pisando los pasos. Oyes crujidos. Risas. Unas risas ya muy viejas, como cansadas de reír. Y voces ya desgastadas por el uso. Todo eso oyes. Pienso que llegará el día en que estos sonidos se apaguen.\n",
      "Eso me venía diciendo Damiana Cisneros mientras cruzábamos el pueblo.\n",
      "—Hubo un tiempo en el que estuve oyendo durante muchas noches el rumor de una fiesta. Me llegaban los ruidos hasta la Media Luna. Me acerqué para ver el mitote aquel y vi esto: lo que estamos viendo ahora. Nada. Nadie. Las calles tan solas como ahora.\n",
      "Luego dejé de oírla. Y es que la alegría cansa. Por eso no me extrañó que aquello terminara.\n",
      "—Sí —volvió a decir Damiana Cisneros—. Este puelo está lleno de ecos. Yo ya no me espanto. Oigo el aullido de los perros y dejo que aúllen. Y en días de aire se ve al viento arrastrando hojas de árboles, cuando aquí, como tú ves no hay árboles. Los hubo en algún tiempo, porque si no ¿De dónde saldrían esas hojas?\n",
      "“Y lo peor de todo es cuando oyes platicar a la gente, como si las voces salieran de alguna hendidura y, sin embargo, tan claras que las reconoces. Ni más ni menos, ahora que venía, encontré un velorio. Me detuve a rezar un Padrenuestro. En esto estaba, cuando una mujer se apartó de las demás y vino a decirme:\n",
      "“—¡Damiana! ¡Ruega a Dios por mí, ¡Damiana!\n",
      "“Soltó el rebozo y reconocí la cara de mi hermana Sixtina.\n",
      "“—¿Qué andas haciendo aquí? —le pregunté.\n",
      "“Entonces ella corrió a esconderse entre las demás mujeres.\n",
      "“Mi hermana Sixtina, por si no lo sabes, murió cuando yo tenía doce años. Era la mayor.Y en mi casa fuimos dieciséis de familia, así que hazte el cálculo del tiempo que lleva muerta. Y mírala ahora, todavía vagando por este mundo. Así, que no te asustes si oyes ecos más recientes Juan Preciado”.\n",
      "—¿También usted le aviso a mi padre que yo vendría? —le pregunté.\n",
      "—No.Y a propósito, ¿qué es de tu madre?\n",
      "—Murió —dije.\n",
      "—¿Ya murió? ¿Y de qué?\n",
      "—No supe de qué. Tal Vez de tristeza. Suspiraba mucho.\n",
      "—Eso es lo malo. Cada suspiro es como un sorbo de vida del que uno se deshace. ¿De modo que murió?\n",
      "—Sí. Quizá usted debió saberlo.\n",
      "—¿Y por qué iba a saberlo? Hace muchos años que no sé nada.\n",
      "—Entonces ¿cómo es que dio usted conmigo?\n",
      "—...\n",
      "— ¿Está usted viva, Damiana? ¡Dígame, Damiana!\n",
      "“Y me encontré de pronto solo en aquellas calles vacías. Las ventanas de las casas abiertas al cielo, dejando asomar las varas correosas de la yerba. Bardas descarapeladas que mostraban sus adobes revenidos.\n",
      "—¡Damiana! —grité—. ¡Damiana Cisneros!\n",
      "Me contestó el eco: “¡...ana... neros...! ¡...ana... neros!\"\n",
      "\n",
      "\n",
      "Oí que ladraban los perros, como si yo los hubiera despertado.\n",
      "Vi un hombre cruzar la calle:\n",
      "—¡Ey, tú! —llamé.\n",
      "—¡Ey, tú! —me respondió mi propia voz.\n",
      "“Y como si estuvieran a la vuelta de la esquina, alcancé a oír a unas mujeres que platicaban.\n",
      "—Mira quién viene por allí. ¿No es Filoteo Aréchiga?\n",
      "—Es él. Pon cara de disimulo.\n",
      "—Mejor vámonos. Si se va detrás de nosostras es que de verdad quiere a una de las dos: ¿A quén crees tú que sigue?\n",
      "—Seguramente a ti.\n",
      "—A mi se me figura que a ti.\n",
      "—Deja ya de correr. Se ha quedado parado en aquella esquina.\n",
      "—Entonces a una de las dos, ¿ya ves?\n",
      "—Pero qué tal si hubiera resultado que a ti o a mí. ¿Qué tal?\n",
      "—No te hagas ilusiones.\n",
      "—Después de todo estuvo hasta mejor. Dicen por ahí los díceres que es él que se encarga de conchavarle muchachas a don Pedro. De la que nos escapamos.\n",
      "—¿Ah sí? Con ese viejo no quiero tener nada que ver.\n",
      "—Mejor vámonos.\n",
      "—Dices bien. Vámonos de aquí.\n",
      "\n",
      "\n",
      "La noche. Mucho más allá de la medianoche. Y las voces:\n",
      "—... Te digo que si el maíz de este año se da bien, tendré con qué pagarte. Ahora que si me echa a perder, pues te aguantas.\n",
      "—No te exijo. Ya sabes que he sido consecuente contigo. Pero la tierra no es tuya. Te has puesto a trabajar en terreno ajeno. ¿ De dónde vas a conseguir para pagarme?\n",
      "—¿Y quién dice que la tierra no es mía?\n",
      "—Se afirma que se les ha vendido a Pedro Páramo.\n",
      "—Yo ni me le he acercado a ese señor. La tierra sigue siendo mía.\n",
      "—Eso dices tú. Pero por ahí dicen que todo es de él.\n",
      "—Que no me lo vengan a decir a mí.\n",
      "—Mira, Galileo, yo a ti, aquí en confianza, te aprecio. Por algo eres el marido de mi hermana. Y de que la tratas bien, ni quien lo dude. Pero a mí no me vas a negar que vendiste las tierras.\n",
      "—Te digo que a nadie se las he vendido.\n",
      "—Pues son de Pedro Páramo. Seguramente él así lo ha dispuesto. ¿ No te ha venido a ver don Fulgor?\n",
      "—No.\n",
      "—Seguramente mañana lo verás venir. Y si no mañana, cualquier otro día.\n",
      "—Pues me mata o se muere; pero no se saldrá con la suya.\n",
      "—Requiescat in paz, amén, cuñado. Por si las dudas.\n",
      "—Me volverás a ver, ya lo verás. Por mí no tengas cuidado. Por algo mi madre me curtió bien el pellejo para que se me pusiera correoso.\n",
      "—Entonces hasta mañana. Dile a Felícitas que esta noche no voy a cenar. No me gustaría contar después: “Yo estuve con él la víspera.”\n",
      "—Te guardaremos algo por si te animas a última hora.\n",
      "Se oyó el trastazo de los pasos que se iban entre un ruido de espuelas.\n",
      "\n",
      "\n",
      "—... Mañana, en amaneciendo, te irás conmigo, Chona. Ya tengo aparejadas las bestias.\n",
      "—¿ Y si mi padre se muere de rabia? Con lo viejo que está... Nunca me perdonaría que por mi causa le pasara algo. Soy la única gente que tiene para hacerle hacer sus necesidades. Y no hay nadie más. ¿Qué prisa corres para robarme? Aguántate un poquito. Él no tardará en morirse.\n",
      "—Lo mismo me dijiste hace un año. Y hasta me echaste en cara mi falta de arriesgue, ya que tú estabas, según eso, harta de todo. He aprontado las mulas y están listas. ¿Te vas conmigo?\n",
      "—Déjamelo pensar\n",
      "—¡Chona! No sabes cuánto me gustas. Yo no puedo aguantar las ganas, Chona. Así que te vas conmigo o te vas conmigo.\n",
      "—Déjamelo pensar. Entiende. Tenemos que esperar a que él muera. Le falta poquito. Entonces me iré contigo y no necesitarás robarme.\n",
      "—Eso me dijiste también hace un año.\n",
      "—¿Y qué?\n",
      "—Pues que he tenido que alquilar las mulas. Ya las tengo. Nomás te están esperando. ¡Deja que él se las avenga solo! Tú estás bonita. Eres joven. No faltará cualquier vieja que venga a cuidarlo. Aquí sobran almas caritativas.\n",
      "—No puedo.\n",
      "—Que sí puedes.\n",
      "—No puedo. Me da pena, ¿sabes? Por algo es mi padre.\n",
      "—Entonces ni hablar. Iré a ver a la Juliana, que se desvive por mí.\n",
      "—Está bien. Yo no te digo nada.\n",
      "—¿No me quieres ver mañana?\n",
      "—No. No quiero verte más.\n",
      "\n",
      "\n",
      "Ruidos. Voces. Rumores. Canciones lejanas:\n",
      "Mi novia me dio un pañuelo\n",
      "con orillas de llorar...\n",
      "En falsete. Como si fueran mujeres las que cantaran.\n",
      "Vi pasar las carretas. Lo bueyes moviéndose despacio. El crujir de las piedras bajo las ruedas. Los hombres como si vinieran dormidos.\n",
      "“... Todas las madrugadas el pueblo tiembla con el paso de las carretas. Llegan de todas partes, copeteadas de salitre, de mazorcas, yerba de pará. Rechinan sus ruedas haciendo vibrar las ventanas, despertando a la gente. Es la misma hora en que se abren los hornos y huele a pan recién horneado. Y de pronto puede tronar el cielo. Caer la lluvia. Puede venir la primavera. Allá te acostumbrarás a los ‘derrepentes’, mi hijo.”\n",
      "Carretas vacías remoliendo el silencio de las calles. Perdiéndose en el oscuro camino de la noche. Y las sombras. El eco de las sombras.\n",
      "Pensé regresar. Sentí allá arriba la huella por donde había venido, como una herida abierta entre la negrura de los cerros.\n",
      "Entonces alguien me tocó los hombros.\n",
      "—¿Qué hace usted aquí?\n",
      "—Vine a buscar... —y ya iba a decir a quién, cuando me detuve—: vine a buscar a mi padre.\n",
      "—¿Y por qué no entra?\n",
      "Entré. Era una casa con la mitad del techo caída. Las tejas en el suelo. El techo en el suelo. Y en la otra mitad un hombre y una mujer.\n",
      "—¿No están ustedes muertos? —les pregunté.\n",
      "Y la mujer sonrió. El hombre me miró seriamente.\n",
      "—Está borracho —dijo el hombre.\n",
      "—Solamente está asustado —dijo la mujer.\n",
      "Había un aparato de petróleo. Había una cama de otate, y un equipal en que estaban las ropas de ella. Porque ella estaba en cueros, como Dios la echó al mundo. Y él también.\n",
      "—Oímos que alguien se quejaba y daba de cabezazos contra nuestra puerta. Y allí estaba usted. ¿Qué es lo que le ha pasado?\n",
      "—Me han pasado tantas cosas, que mejor quisiera dormir.\n",
      "—Nosotros ya estábamos dormidos.\n",
      "—Durmamos, pues.\n",
      "\n",
      "\n",
      "La madrugada fue apagando mis recuerdos.\n",
      "Oía de vez en cuando el sonido de las palabras, y notaba la diferencia. Porque las palabras que había oído hasta entonces, hasta entonces lo supe, no tenían ningún sonido, no sonaban; se sentían; pero sin sonido, como las que se oyen durante los sueños.\n",
      "—¿Quién será? —preguntaba la mujer.\n",
      "—Quién sabe —contestaba el hombre.\n",
      "—¿Cómo vendría a dar aquí?\n",
      "—Quién sabe.\n",
      "—Como que le oí decir algo de su padre.\n",
      "—Yo también le oí decir eso.\n",
      "—¿No andará perdido? Acuérdate cuando cayeron por aquí aquellos que dijeron andar perdidos. Buscaban un lugar llamado Los Confines y tú les dijiste que no sabías dónde quedaba eso.\n",
      "—Sí, me acuerdo; pero déjame dormir. Todavía no amanece.\n",
      "—Falta poco. Si por algo te estoy hablando es para que despiertes. Me encomendaste que te recordara antes del amanecer. Por eso lo hago. ¡ Levántate!\n",
      "—¿Y para qué quieres que me levante?\n",
      "—No sé para qué. Me dijiste anoche que te despertara. No me aclaraste para qué.\n",
      "—En ese caso, déjame dormir. ¿No oíste lo que dijo ése cuando llegó? Que lo dejáramos dormir. Fue lo único que dijo.\n",
      "Como que se van las voces. Como que se pierde su ruido. Como que se ahogan. Ya nadie dice nada. Es el sueño. Y al rato otra vez:\n",
      "—Acaba de moverse. Si se ofrece, ya va a despertar. Y si nos mira aquí nos preguntará cosas.\n",
      "—¿Qué preguntas puede hacernos?\n",
      "—Bueno. Algo tendrá que decir, ¿no?\n",
      "—Déjalo. Debe estar muy cansado.\n",
      "—¿Crees tú?\n",
      "—Ya cállate, mujer.\n",
      "—Mira, se mueve. ¿Te fijas cómo se revuelca? Igual que si lo zangolotearan por dentro. Lo sé porque a mí me ha sucedido.\n",
      "—¿Qué te ha sucedido a ti?\n",
      "—Aquello.\n",
      "—No sé de qué hablas.\n",
      "—No hablaría si no me acordara al ver a ése, rebulléndose, de lo que me sucedió a mí la primera vez que lo hiciste. Y de cómo me dolió y de lo mucho que me arrepentí de eso.\n",
      "—¿De cuál eso?\n",
      "—De cómo me sentía apenas me hiciste aquello, que aunque tú no quieras yo supe que estaba mal hecho.\n",
      "—¿Y hasta ahora vienes con ese cuento? ¿Por qué no te duermes y me dejas dormir?\n",
      "—Me pediste que te recordara. Eso estoy haciendo. Por Dios que estoy haciendo lo que me pediste que hiciera. ¡ Ándale! Ya va siendo hora de que te levantes.\n",
      "—Déjame en paz, mujer.\n",
      "El hombre pareció dormir. La mujer siguió rezongando; pero con voz muy queda:\n",
      "—Ya debe haber amanecido, porque hay luz. Puedo ver a ese hombre desde aquí, y si lo veo es porque hay luz bastante para verlo. No tardará en salir el sol. Claro, eso no se pregunta. Si se ofrece, el tal es algún malvado. Y le hemos dado cobijo. No le hace que nomás haya sido por esta noche; pero lo escondimos. Y eso nos traerá el mal a la larga... Míralo cómo se mueve, como que no encuentra acomodo. Si se ofrece ya no puede con su alma.\n",
      "Aclaraba el día. El día desbarata las sombras. Las deshace. El cuarto donde estaba se sentía caliente con el calor de los cuerpos dormidos. A través de los párpados me llegaba el albor del amanecer. Sentía la luz. Oía:\n",
      "—Se rebulle sobre sí mismo como un condenado. Y tiene todas las trazas de un mal hombre. ¡Levántate, Donis! Míralo. Se restriega contra el suelo, retorciéndose. Babea. Ha de ser alguien que debe muchas muertes. Y tú ni lo reconociste.\n",
      "—Debe ser un pobre hombre. ¡Duérmete y déjanos dormir!\n",
      "—¿Y por qué me voy a dormir, si no tengo sueño?\n",
      "—¡Levántate y lárgate a donde no des guerra!\n",
      "—Eso haré. Iré a prender la lumbre. Y de paso le diré a ese fulano que venga a acostarse aquí contigo, en el lugar que yo voy a dejarle.\n",
      "—Díselo.\n",
      "—No podré. Me dará miedo.\n",
      "—Entonces vete a hacer tu quehacer y déjanos en paz.\n",
      "—Eso haré.\n",
      "—¿Y qué esperas?\n",
      "—Ya voy.\n",
      "Sentí que la mujer bajaba de la cama. Sus pies descalzos taconeaban el suelo y pasaban por encima de mi cabeza. Abrí y cerré los ojos.\n",
      "Cuando desperté, había un sol de mediodía. Junto a mí, un jarro de café. Intenté beber aquello. Le di unos sorbos.\n",
      "—No tenemos más. Perdone lo poco. Estamos tan escasos de todo, tan escasos...\n",
      "Era una voz de mujer.\n",
      "—No se preocupe por mí —le dije—. Por mí no se preocupe. Estoy acostumbrado. ¿Cómo se va uno de aquí?\n",
      "—¿Para dónde?\n",
      "—Para donde sea.\n",
      "—Hay multitud de caminos. Hay uno que va para Contla; otro que viene de allá. Otro más que enfila derecho a la sierra. Ese que se mira desde aquí, que no sé para dónde irá —y me señaló con sus dedos el hueco del tejado, allí donde el techo estaba roto—. Este otro de por acá, que pasa por la Media Luna. Y hay otro más, que atraviesa toda la tierra y es el que va más lejos.\n",
      "—Quizá por ése fue por donde vine.\n",
      "—¿Para dónde va?\n",
      "—Va para Sayula.\n",
      "—Imagínese usted. Yo que creía que Sayula quedaba de este lado. Siempre me ilusionó conocerlo. Dicen que por allá hay mucha gente, ¿no?\n",
      "—La que hay en todas partes.\n",
      "—Figúrese usted. Y nosotros aquí tan solos. Desviviéndonos por conocer aunque sea tantito de la vida.\n",
      "—¿A dónde fue su marido?\n",
      "—No es mi marido. Es mi hermano; aunque él no quiere que se sepa. ¿ Que adónde fue? De seguro a buscar un becerro cimarrón que anda por ahi desbalagado. Al menos eso me dijo.\n",
      "—¿Cuánto hace que están ustedes aquí?\n",
      "—Desde siempre. Aquí nacimos.\n",
      "—Debieron conocer a Dolores Preciado.\n",
      "—Tal vez él, Donis. Yo sé tan poco de la gente. Nunca salgo. Aquí donde me ve, aquí he estado sempiternamente... Bueno, ni tan siempre. Sólo desde que él me hizo mujer. Desde entonces me la paso encerrada, porque tengo miedo de que me vean. Él no quiere creerlo, pero ¿verdad que estoy para dar miedo? -y se acercó a donde le daba el sol-. ¡Mírame la cara!\n",
      "Era una cara común y corriente.\n",
      "—¿Qué es lo que quiere que le mire?\n",
      "—¿No me ve el pecado? ¿No ve esas manchas moradas como de jiote que me llenan de arriba a abajo? Y eso es sólo por fuera; por dentro estoy hecha un mar de lodo.\n",
      "—¿Y quién la puede ver si aquí no hay nadie? He recorrido el pueblo y no he visto a nadie.\n",
      "—Eso cree usted: pero todavía hay algunos. ¿Dígame si Filomeno no vive, si Dorotea, Si Melquiades, si Prudencio, el viejo, si Sóstenes y todos ésos no viven? Lo que acontece es que se la pasan encerrados. De día no sé qué harán; pero las noches se las pasan en su encierro. Aquí esas horas están llenas de espantos. Si usted viera el gentío de ánimas que andan sueltas por la calle. En cuanto oscurece comienzan a salir. Y a nadie le gusta verlas. Son tantas, y nosotros tan poquitos, que ya ni la lucha le hacemos para rezar porque salgan de sus penas. No ajustarían nuestras oraciones para todos. Si acaso les tocaría un pedazo de Padrenuestro. Y eso no les puede servir de nada. Luego están nuestros pecados de por medio. Ninguno de los que todavía vivimos está en gracia de Dios. Nadie podrá alzar sus ojos al cielo sin sentirlos sucios de vergüenza. Y la vergüenza no cura. Al menos eso me dijo el obispo que pasó por aquí hace algún tiempo dando confirmaciones. Yo me le puse enfrente y le confesé todo:\n",
      "“—Eso no se perdona —me dijo.\n",
      "“—Estoy avergonzada.\n",
      "“—No es el remedio.\n",
      "“—¡Cásenos usted!\n",
      "“—¡Apártense!\n",
      "“—Yo le quise decir que la vida nos había juntado, acorralándonos y puesto uno junto al otro. Estábamos tan solos aquí, que los únicos éramos nosotros. Y de algún modo había que poblar el pueblo. Tal vez tenga ya a quien confirmar cuando regrese.\n",
      "“—Sepárense. Eso es todo lo que se puede hacer.\n",
      "“—Pero ¿cómo viviremos?\n",
      "“—Como viven los hombres.”\n",
      "Y se fue, montando en su macho, la cara dura, sin mirar hacia atrás, como si hubiera dejado aquí la imagen de la perdición. Nunca ha vuelto. Y ésa es la cosa por la que esto está lleno de ánimas; un puro vagabundear de gente que murió sin perdón y que no lo conseguirá de ningún modo, mucho menos valiéndose de nosotros. Ya viene. ¿Lo oye usted?\n",
      "—Sí, lo oigo.\n",
      "—Es él.\n",
      "Se abrió la puerta.\n",
      "—¿Qué pasó con el becerro? —preguntó ella.\n",
      "—Se le ocurrió no venir ahora; pero fui siguiendo su rastro y casi estoy por saber dónde asiste. Hoy en la noche lo agarraré.\n",
      "—¿Me vas a dejar sola a la noche?\n",
      "—Puede ser que sí.\n",
      "—No podré soportarlo. Necesito tenerte conmigo. Es la única hora que me siento tranquila. La hora de la noche.\n",
      "—Esta noche iré por el becerro.\n",
      "—Acabo de saber —intervine yo— que son ustedes hermanos.\n",
      "—¿Lo acaba de saber? Yo lo sé mucho antes que usted. Así que mejor no intervenga. No nos gusta que se hable de nosotros.\n",
      "—Yo lo decía en un plan de entendimiento. No por otra cosa.\n",
      "—¿Qué entiende usted?\n",
      "Ella se puso a su lado, apoyándose en sus hombros y diciendo también:\n",
      "—¿Qué entiende usted?\n",
      "—Nada —dije—. Cada vez entiendo menos —y añadí—: Quisiera volver al lugar de donde vine. Aprovecharé la poca luz que queda del día.\n",
      "—Es mejor que espere —me dijo él—. Aguarde hasta mañana. No tarda en oscurecer y todos los caminos están enmarañados de breñas. Puede usted perderse. Mañana yo lo encaminaré.\n",
      "—Está bien.\n",
      "\n",
      "Por el techo abierto al cielo vi pasar parvadas de tordos, esos pájaros que vuelan al atardecer antes que la oscuridad les cierre los caminos. Luego, unas cuantas nubes ya desmenuzadas por el viento que viene a llevarse el día. Después salió la estrella de la tarde, y más tarde la luna.\n",
      "El hombre y la mujer no estaban conmigo. Salieron por la puerta que daba al patio y cuando regresaron ya era de noche. Así que ellos no supieron lo que había sucedido mientras andaban afuera.\n",
      "Y esto fue lo que sucedió:\n",
      "Viniendo de la calle, entró una mujer en el cuarto. Era vieja de muchos años, flaca como si le hubieran achicado el cuerpo. Entró y paseó sus ojos redondos por el cuarto. Tal vez hasta me vio. Tal vez creyó que yo dormía.Se fue derecho a donde estaba la cama y sacó de debajo de ella una petaca. La esculcó. Puso unas sábanas debajo de su brazo y se fue andando de puntitas como para no despertarme.\n",
      "Yo me quedé tieso, aguantando la respiración, buscando mirar hacia otra parte. Hasta que al fin logré torcer la cabeza y ver hacia allá, donde la estrella de la tarde se había juntado con la luna.\n",
      "—¡Tome esto! —oí.\n",
      "No me atrevía a volver la cabeza.\n",
      "—¡Tómelo! Le hará bien. Es agua de azahar. Sé que está asustado porque tiembla. Con esto se le bajará el miedo.\n",
      "Reconocí aquellas manos y al alzar los ojos reconocí la cara. El hombre, que estaba detrás de ella, preguntó:\n",
      "—¿Se siente usted enfermo?\n",
      "—No sé. Veo cosas y gente donde quizá ustedes no vean nada. Acaba de estar aquí una señora. Ustedes tuvieron que verla salir.\n",
      "—Vente —le dijo él a la mujer—. Déjalo solo. Debe ser un místico.\n",
      "—Debemos acostarlo en la cama. Mira cómo tiembla, de seguro tiene fiebre.\n",
      "—No le hagas caso. Estos sujetos se ponen en ese estado para llamar la atención. Conocí a uno en la Media Luna que se decía adivino. Lo que nunca adivinó fue que se iba a morir en cuanto el patrón le adivinó lo chapucero. Ha de ser un místico de ésos. Se pasan la vida recorriendo los pueblos “a ver lo que la Providencia quiera darles”; pero aquí no va a encontrar ni quien le quite el hambre. ¿Ves cómo ya dejó de temblar? Y es que nos está oyendo.\n",
      "\n",
      "\n",
      "Como si hubiera retrocedido el tiempo. Volví a ver la estrella junto a la luna. Las nubes deshaciéndose. Las parvadas de los tordos. Y en seguida la tarde todavía llena de luz.\n",
      "Las paredes reflejando el sol de la tarde. Mis pasos rebotando contra las piedras. El arriero que me decía: “¡Busque a doña Eduviges, si todavía vive!”\n",
      "Luego un cuarto a obscuras. Una mujer roncando a mi lado. Noté que su respiración era dispareja como si estuviera entre sueños, más bien como si no durmiera y sólo imitara los ruidos que produce el sueño. La cama era de otate cubierta con costales que olían a orines, como si nunca los hubieran oreado al sol; y la almohada era una jerga que envolvía pochote o una lana tan dura o tan sudada que se había endurecido como leño.\n",
      "Junto a mis rodillas sentí las piernas desnudas de la mujer, y junto a mi cara su respiración. Me senté en la cama apoyándome en aquél como adobe de la almohada.\n",
      "—¿No duerme usted? —me preguntó ella.\n",
      "—No tengo sueño. He dormido todo el día. ¿Dónde está su hermano?\n",
      "—Se fue por esos rumbos. Ya usted oyó adónde tenía que ir. Quizá no venga esta noche.\n",
      "—¿De manera que siempre se fue? ¿A pesar de usted?\n",
      "—Sí. Y tal vez no regrese. Así comenzaron todos. Que voy a ir aquí, que voy a ir más allá. Hasta que se fueron alejando tanto, que mejor no volvieron. Él siempre ha tratado de irse, y creo que ahora le ha llegado su turno. Quizá sin yo saberlo, me dejó con usted para que me cuidara. Vio su oportunidad. Eso del becerro cimarrón fue sólo un pretexto. Ya verá usted que no vuelve.\n",
      "Quise decirle: “Voy a salir a buscar un poco de aire, porque siento naúseas”; pero dije:\n",
      "—No se preocupe. Volverá.\n",
      "Cuando me levanté, me dijo:\n",
      "—He dejado en la cocina algo sobre las brasas. Es muy poco; pero es algo que puede calmarle el hambre.\n",
      "Encontré un trozo de cecina y encima de las brasas unas tortillas.\n",
      "—Son cosas que le pude conseguir —oí que me decía desde allá—.Se las cambié a mi hermana por dos sábanas limpias que yo tenía guardadas desde el tiempo de mi madre. Ella ha de haber venido a recogerlas. No se lo quise decir delante de Donis; pero ella fue la mujer que usted vio y que lo asustó tanto.\n",
      "Un cielo negro, lleno de estrellas. Y junto a la luna la estrella más grande de todas.\n",
      "\n",
      "\n",
      "—¿No me oyes? —pregunté en voz baja.\n",
      "Y su voz me respondió:\n",
      "—¿Dónde estás?\n",
      "—Estoy aquí, en tu pueblo. Junto a tu gente. ¿No me ves?\n",
      "—No, hijo, no te veo.\n",
      "Su voz parecía abarcarlo todo. Se perdía más allá de la tierra.\n",
      "—No te veo.\n",
      "Regresé al mediotecho donde dormía aquella mujer y le dije:\n",
      "—Me quedaré aquí, en mi mismo rincón. Al fin y al cabo la cama está igual de dura que el suelo. Si algo se les ofrece, avíseme.\n",
      "Ella me dijo:\n",
      "—Donis no volverá. Se lo noté en los ojos. Estaba esperando que alguien viniera para irse. Ahora tú te encargarás de cuidarme. ¿O qué no quieres cuidarme? Vente a dormir aquí conmigo.\n",
      "—Aquí estoy bien.\n",
      "—Es mejor que te subas a la cama. Allí te comerán las turicatas.\n",
      "Entonces fui y me acosté con ella.\n",
      "\n",
      "\n",
      "El calor me hizo despertar al filo de la medianoche. Y el sudor. El cuerpo de aquella mujer hecho de tierra, envuelto en costras de tierra, se desbarataba como si estuviera derritiéndose en un charco de lodo. Yo me sentía nadar entre el sudor que chorreaba de ella y me faltó el aire que se necesita para respirar. Entonces me levanté. La mujer dormía. de su boca borbotaba un ruido de burbujas muy parecido al del estertor.\n",
      "Salí a la calle para buscar el aire; pero el calor que me perseguía no se despegaba de mí.\n",
      "Y es que no había aire; sólo la noche entorpecida y quieta, acalorada por la canícula de agosto.\n",
      "No había aire. Tuve que sorber el mismo aire que caía de mi boca, deteniéndolo con las manos antes de que se fuera. Lo sentía ir y venir, cada vez menos; hasta que se hizo tan delgado que se filtró entre mis dedos para siempre.\n",
      "Digo para siempre.\n",
      "Tengo memoria de haber visto algo así como nubes espumosas haciendo remolinos sobre mi cabeza y luego enjuagarme con aquella espuma y perderme en su nublazón. Fue lo último que vi.\n",
      "\n",
      "\n",
      "—¿Quieres hacerme creer que te mató el ahogo, Juan Preciado? Yo te encontré en la plaza, muy lejos de la casa de Donis, y junto a mí también estaba él, diciendo que te estabas haciendo el muerto. Entre los dos te arrastramos a la sombra del portal, ya bien tirante, acalambrado, como mueren los que mueren muertos de miedo. De no haber habido aire para respirar esa noche de que hablas, nos hubieran faltado las fuerzas para llevarte y contimás para enterrarte. Y ya ves, te enterramos.\n",
      "—Tienes razón Doroteo. ¿Dices que te llamas Doroteo?\n",
      "—Da lo mismo. Aunque mi nombre sea Dorotea. Pero da lo mismo.\n",
      "—Es cierto Dorotea. Me mataron los murmullos.\n",
      "“Allá hallarás mi querencia. El lugar que yo quise. Donde los sueños me enflaquecieron. Mi pueblo, levantado sobre la llanura. Lleno de árboles y de hojas, como una alcancía donde hemos guardado nuestros recuerdos. Sentirás que allí uno quisiera vivir para la eternidad. El amanecer; la mañana; el mediodía y la noche, siempre los mismos; pero con la diferencia del aire. Allí donde el aire cambia el color de las cosas; donde se ventila la vida como si fuera un murmullo; como si fuera un puro murmullo de la vida...”\n",
      "—Sí. Dorotea. Me mataron los murmullos. Aunque ya traía retrasado el miedo. Se me había venido juntando hasta que ya no pude soportarlo. Y cuando me encontré con los murmullos se me reventaron las cuerdas.\n",
      "“Llegué a la plaza, tienes tú razón. Me llevó hasta allí el bullicio de la gente y creí que de verdad la había. Yo ya no estaba en mis cabales, recuerdo que me vine apoyando en las paredes como si caminara con las manos. Y de las paredes parecían destilar los murmullos como si se filtraran de entre las grietas y las descarapeladuras. Yo los oía. Eran voces de gente; pero no voces claras, sino secretas, como si me murmuraran algo al pasar, o como si zumbaran contra mis oídos. Me aparté de las paredes y seguí por la mitad de la calle; pero las oía igual, igual que si vinieran conmigo, delante detrás de mí. No sentía calor, como te dije antes; antes por el contrario, sentía frío. Desde que salí de la casa de aquella mujer que me prestó su cama y que, como te decía, la vi deshacerse en el agua de su sudor, desde entonces me entró frío. Y conforme yo andaba, el frío aumentaba más y más, hasta que se enchinó el pellejo. Quise retroceder porque pensé que regresando podría encontrar el calor que acababa de dejar; pero me di cuenta a poco andar que el frío salía de mí, de mi propia sangre. Entonces reconocí que estaba asustado. Oí el alboroto mayor en la plaza. ¿De modo que siempre volvió Donis? La mujer estaba segura de que jamás lo volvería a ver.”\n",
      "—Fue ya de mañana cuando te encontramos. Él venía de no sé dónde. No se lo pregunté.\n",
      "—Bueno, pues llegué a la plaza. Me recargué en un pilar de los portales. Vi que no había nadie, aunque seguía oyendo el murmullo como de mucha gente en día de mercado. Un rumor parejo, sin ton ni son, parecido al que hace el viento contra las ramas de un árbol en la noche, cuando no se ven ni el árbol ni las ramas, pero se oye el murmurar. Así. Ya no di un paso más. Comencé a sentir que que se me acercaba y daba vueltas a mi alrededor aquel bisbiseo apretado como un enjambre, hasta que alcancé a distinguir unas palabras casi vacías de ruido: \"Ruega a Dios por nosotros.\" Eso oí que me decían. Entonces se me heló el alma. Por eso es que ustedes me encontraron muerto.\n",
      "—Mejor no hubieras salido de tu tierra. ¿Qué viniste a hacer aquí?\n",
      "—Ya te lo dije en un principio. Vine a buscar a Pedro Páramo, que según parece fue mi padre. Me trajo la ilusión.\n",
      "—¿La ilusión? Eso cuesta caro. A mí me costó vivir más de lo debido. Pagué con eso la deuda de encontrar a mi hijo, que no fue, por decirlo así, sino una ilusión más; porque nunca tuve ningún hijo. Ahora que estoy muerta me he dado tiempo para pensar y enterarme de todo. Ni siquiera el nido para guardarlo me dio Dios. Sólo esa vida arrastrada que tuve, llevando de aquí para allá mis ojos tristes que siempre mirando de reojo como buscando detrás de la gente, sospechando que alguien me hubiera escondido a mi niño. Y todo fue culpa de un maldito sueño. He tenido dos: a uno de ellos lo llamo el \"bendito\" y al otro el “maldito”. El primero fue el que me hizo soñar que había tenido un hijo. Y mientras viví, nunca dejé de creer que fuera cierto; porque lo sentí entre mis brazos, tiernito, lleno de boca y de ojos y de manos; durante mucho tiempo conservé en mis dedos la impresión de sus ojos dormidos y el palpitar de su corazón. ¿Cómo no iba a pensar que aquello fuera verdad? Lo llevaba conmigo a dondequiera que iba, envuelto en mi rebozo, y de pronto lo perdí. En el cielo me dijeron que se habían equivocado conmigo. Que me habían dado un corazón de madre, pero un seno de una cualquiera. Ése fue el otro sueño que tuve. Llegué al cielo y me asomé a ver si entre los ángeles reconocía la cara de mi hijo. Y nada. Todas las caras eran iguales, hechas con el mismo molde. Entonces pregunté. Uno de aquellos santos se me acercó y, sin decirme nada, hundió una de sus manos en mi estómago como si la hubiera hundido en un montón de cera. Al sacarla me enseñó algo así como una cáscara de nuez: “Esto prueba lo que te demuestra.”\n",
      "“Tú sabes cómo hablan raro allá arriba; pero se les entiende. Les quise decir que aquello era sólo mi estómago engarruñado por las hambres y por el poco comer; pero otro de aquellos santos me empujó por los hombros y me enseñó la puerta de salida: ‘Ve a descansar un poco más a la tierra, hija, y procura ser buena para que tu purgatorio sea menos largo.’\n",
      "“Ése fue el sueño ‘maldito’ que tuve y del cual saqué la aclaración de que nunca había tenido ningún hijo. Lo supe ya muy tarde, cuando el cuerpo se me había achaparrado, cuando el espinazo se me saltó por encima de la cabeza, cuando ya no podía caminar. Y de remate, el pueblo se fue quedando solo; todos largaron camino para otros rumbos y con ellos se fue también la caridad de la que yo vivía. Me senté a esperar la muerte. Después de que te encontramos a ti, se resolvieron mis huesos a quedarse quietos. ‘Nadie me hará caso’, pensé. Soy algo que no le estorba a nadie. Ya ves ni siquiera le robé espacio a la tierra. Me enterraron en la misma sepultura y cupe muy bien en el hueco de tus brazos. Aquí en este rincón donde me tienes ahora. Sólo se me ocurre ser yo la que te tuviera abrazado a ti. ¿Oyes? Allá afuera está lloviendo. ¿No sientes el golpear de la lluvia?”\n",
      "—Siento como si alguien caminara sobre nosotros.\n",
      "Ya déjate de miedos. Nadie te puede dar ya miedo. Haz por pensar en cosas agradables porque vamos a estar mucho tiempo enterrados.\n",
      "\n",
      "\n",
      "Al amanecer, gruesas gotas de lluvia cayeron sobre la tierra. Sonaban huecas al estamparse en el polvo blando y suelto de los surcos. Un pájaro burlón cruzó a ras del suelo y gimió imitando el quejido de un niño; más allá se le oyó dar un gemido como de cansancio, y todavía más lejos, por donde comenzaba a abrirse el horizonte, soltó un hipo y luego una risotada, para volver a gemir después.\n",
      "Fulgor Sedano sintió el olor de la tierra y se asomó a ver cómo la lluvia desfloraba los surcos. Sus ojos pequeños se alegraron. Dio hasta tres bocanadas de aquel sabor y sonrió hasta enseñar los dientes.\n",
      "“¡Vaya! —dijo—. Otro buen año se nos echa encima.” Y añadió: “Ven, agüita, ven. ¡Déjate caer hasta que te canses! Después córrete para allá, acuérdate que hemos abierto a la labor toda la tierra, nomás para que te des gusto.”\n",
      "Y soltó la risa. El pájaro burlón que regresaba de recorrer los campos pasó casi frente a él y gimió con un gemido desgarrado.\n",
      "El agua apretó su lluvia hasta que allá, por donde comenzaba a amanecer, se cerró el cielo y pareció que la oscuridad, que ya se iba, regresaba. La puerta grande de la Media Luna rechinó al abrirse, remojada por la brisa. Fueron saliendo primero dos, luego otros dos, después otros dos y así hasta doscientos hombres a caballo que se desparramaron por los campos lluviosos.\n",
      "—Hay que aventar el ganado de Enmedio más allá de lo que fue Estagua, y el de Estagua córranlo para los cerros de Vilmayo —les iba ordenando Fulgor Sedano conforme salían—. ¡Y apriétenle, que se nos vienen encima las aguas!\n",
      "Lo dijo tantas veces, que ya los últimos sólo oyeron: “De aquí para allá y de allá para más allá.” Todos y cada uno se llevaban la mano al sombrero para darle a entender que ya habían entendido.\n",
      "Y apenas había acabado de salir el último hombre, cuando entró a todo galope Miguel Páramo, quien, sin detener su carrera, se apeó del caballo casi en las narices de Fulgor, dejando que el caballo buscara solo su pesebre.\n",
      "—¿De dónde vienes a estas horas, muchacho?\n",
      "—Vengo de ordeñar.\n",
      "—¿A quién?\n",
      "—¿A que no lo adivinas?\n",
      "—Ha de ser a Dorotea, la Cuarraca. Es a la única que le gustan los bebés.\n",
      "—Eres un imbécil, Fulgor; pero no tienes tú la culpa.\n",
      "Y se fue, sin quitarse las espuelas, a que le dieran de almorzar.\n",
      "En la cocina, Damiana Cisneros también le hizo la misma pregunta:\n",
      "—¿Pero de dónde llegas, Miguel?\n",
      "—De por ahi, de visitar madres.\n",
      "—No quiero que te enojes. Disimúlalo. ¿Cómo se te hacen los huevos?\n",
      "—Como a ti te gusten.\n",
      "—Te estoy hablando de buen modo, Miguel.\n",
      "—Lo entiendo, Damiana. No te preocupes. Oye, ¿tú conoces a una tal Dorotea, apodada la Cuarraca?\n",
      "—Sí. Y si tú la quieres ver, allí está afuerita.\n",
      "—Siempre madruga para venir aquí por su desayuno. Es una que trae un molote; en su rebozo y lo arrulla diciendo que es su crío. Parece ser que le sucedió alguna desgracia allá en sus tiempos; pero, como nunca habla, nadie sabe lo que le pasó. Vive de limosna.\n",
      "—¡Maldito viejo! Le voy a jugar una mala pasada que hasta le harán remolino los ojos.\n",
      "Después se quedó pensando si aquella mujer no le serviría para algo. Y sin dudarlo más fue hacia la puerta trasera de la cocina y llamó a Dorotea:\n",
      "—Ven para acá, te voy a proponer un trato —le dijo.\n",
      "Y quién sabe qué clase de proposiciones le haría, lo cierto es que cuando entró de nuevo se frotaba las manos:\n",
      "—¡Vengan esos huevos! —le gritó a Damiana. Y agregó: —De hoy en adelante le darás de comer a esa mujer lo mismo que a mí, no le hace que se te ampolle el codo.\n",
      "Mientras tanto, Fulgor Sedano se fue hasta las trojes a revisar la altura del maíz. Le preocupaba la merma porque aún tardaría la cosecha. A decir verdad, apenas si se había sembrado. “Quiero ver si nos alcanza.” Luego añadió: “¡Ese muchacho! igualito a su padre; pero comenzó demasiado pronto. A ese paso no creo que se logre. Se me olvidó mencionarle que ayer vinieron con la acusación de que había matado a uno. Si así sigue...”\n",
      "Suspiró y trató de imaginar en qué lugar irían ya los vaqueros. Pero lo distrajo el potrillo alazán de Miguel Páramo, que se rascaba los morros contra la barda. “Ni siquiera lo ha desensillado”, pensó. “Ni lo hará. Al menos don Pedro es más consecuente con uno y tiene sus ratos de calma. Aunque consiente mucho al Miguel. Ayer le comuniqué lo que había hecho su hijo y me respondió: ‘Hazte a la idea de que yo fui, Fulgor; él es incapaz de hacer eso: no tiene todavía fuerza para matar a nadie. Para eso se necesita tener los riñones de este tamaño.’ Puso sus manos así, como si midiera una calabaza. ‘La culpa de todo lo que él haga échamela a mí’.”\n",
      "—Miguel le dará muchos dolores la cabeza, don Pedro. Le gusta la pendencia.\n",
      "—Déjalo moverse. Es apenas un niño. ¿Cuántos años cumplió? Tendrá diecisiete. ¿No, Fulgor?\n",
      "—Puede que sí. Recuerdo que se lo trajeron recién, apenas ayer; pero es tan violento y vive tan de prisa que a veces se me figura que va jugando carreras con el tiempo. Acabará por perder, ya lo verá usted.\n",
      "—Es todavía una criatura, Fulgor.\n",
      "—Será lo que usted diga, don Pedro; pero esa mujer que vino ayer a llorar aquí alegando que el hijo de usted le había matado a su marido, estaba de a tiro desconsolada. Yo sé medir el desconsuelo, don Pedro. Y esa mujer lo cargaba por kilos. Le ofrecí cincuenta hectolitros de maíz para que se olvidara del asunto; pero no los quiso. Entonces le prometí que corregiríamos el daño de algún modo. No se conformó.\n",
      "—¿De quién se trataba?\n",
      "—Es gente que no conozco.\n",
      "No tienes pues por qué apurarte, Fulgor. Esa gente no existe.\n",
      "Llegó a las trojes y sintió el calor del maíz. Tomó en sus manos un puñado para ver si no lo había alcanzado el gorgojo. Midió la altura: '“Rendirá —dijo—. En cuanto crezca el pasto ya no vamos a requerir darle maíz al ganado. Hay de sobra.”\n",
      "De regreso miró el cielo lleno de nubes: “Tendremos agua para un buen rato.” Y se olvidó de todo lo demás.\n",
      "\n",
      "\n",
      "—Allá afuera debe estar variando el tiempo. Mi madre me decía que, en cuanto comenzaba a llover, todo se llenaba de luces y del olor verde de los retoños. Me contaba cómo llegaba la marea de las nubes, cómo se echaban sobre la tierra y la descomponían cambiándole los colores... Mi madre, que vivió su infancia y sus mejores años en este pueblo y que ni siquiera pudo venir a morir aquí. Hasta para eso me mandó a mí en su lugar. Es curioso, Dorotea, cómo no alcancé a ver ni el cielo. Al menos, quizá, debe ser el mismo que ella conoció.\n",
      "—No lo sé, Juan Preciado. Hacía tantos años que no alzaba la cara, que me olvidé del cielo. Y aunque lo hubiera hecho, ¿qué habría ganado? El cielo está tan alto, y mis ojos tan sin mirada, que vivía contenta con saber dónde quedaba la tierra. Además, le perdí todo mi interés desde que el padre Rentería me aseguró que jamás conocería la gloria. Que ni siquiera de lejos la vería... Fue cosa de mis pecados; pero él no debía habérmelo dicho. Ya de por sí la vida se lleva con trabajos. Lo único que la hace a una mover los pies es la esperanza de que al morir la lleven a una de un lugar a otro; pero cuando a una le cierran una puerta y la que queda abierta es nomás la del infierno, más vale no haber nacido... El cielo para mí, Juan Preciado, está aquí donde estoy ahora.\n",
      "—¿Y tu alma? ¿Dónde crees que haya ido?\n",
      "—Debe andar vagando por la tierra como tantas otras; buscando vivos que recen por ella. Tal vez me odie por el mal trato que le di; pero eso ya no me preocupa. He descansado del vicio de sus remordimientos. Me amargaba hasta lo poco que comía, y me hacía insoportables las noches llenándomelas de pensamientos intranquilos con figuras de condenados y cosas de ésas. Cuando me senté a morir, ella me rogó que me levantara y que siguiera arrastrando la vida, como si esperara todavía algún milagro que me limpiara de culpas. Ni siquiera hice el intento: “Aquí se acaba el camino —le dije—. Ya no me quedan fuerzas para más.” Y abrí la boca para que se fuera. Y se fue. Sentí cuando cayó en mis manos el hilito de sangre con que estaba amarrada a mi corazón.\n",
      "\n",
      "\n",
      "Llamaron a su puerta; pero él no contestó. Oyó que siguieron tocando todas las puertas, despertando a la gente. La carrera que llevaba Fulgor —lo conoció por sus pasos— hacia la puerta grande se detuvo un momento, como si tuviera intenciones de volver a llamar. Después siguió corriendo.\n",
      "Rumor de voces. Arrastrar de pisadas despaciosas como si cargaran con algo pesado. Ruidos vagos.\n",
      "Vino hasta su memoria la muerte de su padre, también en un amanecer como éste; aunque en aquel entonces la puerta estaba abierta y traslucía el color gris de un cielo hecho de ceniza, triste, como fue entonces. Y a una mujer conteniendo el llanto, recostada contra la puerta. Una madre de la que él ya se había olvidado y olvidado muchas veces diciéndole: “¡Han matado a tu padre!” Con aquella voz quebrada, deshecha sólo unida por el hilo del sollozo.\n",
      "Nunca quiso revivir ese recuerdo porque le traía otros, como si rompiera un costal repleto y luego quisiera contener el grano. La muerte de su padre que arrastró otras muertes y en cada una de ellas estaba siempre la imagen de la cara despedazada; roto un ojo, mirando vengativo el otro. Y otro y otro más, hasta que la había borrado del recuerdo cuando ya no hubo nadie que se la recordara.\n",
      "—¡Descánselo aquí! No, así no. Hay que meterlo con la cabeza para atrás. ¡Tú! ¿Qué esperas?\n",
      "Todo en voz baja.\n",
      "—¿Y él?\n",
      "—Él duerme. No lo despierten. No hagan ruido. Allí estaba él, enorme, mirando la maniobra de meter un bulto envuelto en costales viejos, amarrado con sicuas de coyunda como si lo hubieran amortajado.\n",
      "—¿Quién es? —preguntó.\n",
      "Fulgor Sedano se acercó hasta él y le dijo:\n",
      "—Es Miguel, don Pedro.\n",
      "—¿Qué le hicieron? —gritó.\n",
      "Esperaba oír: “Lo han matado.” Y ya estaba previniendo su furia, haciendo bolas duras de rencor pero oyó las palabras suaves de Fulgor Sedano que le decían:\n",
      "—Nadie le hizo nada. Él solo encontró la muerte.\n",
      "Había mecheros de petróleo aluzando la noche.\n",
      "—... Lo mató el caballo —se acomidió a decir uno.\n",
      "Lo tendieron en su cama, echando abajo el colchón, dejando las puras tablas, donde acomodaron el cuerpo ya desprendido de las tiras con que habían venido tirando de él. Le colocaron las manos sobre el pecho y taparon su cara con un trapo negro. “Parece más grande de lo que era”, dijo en secreto Fulgor Sedano.\n",
      "Pedro Páramo se había quedado sin expresión ninguna como ido. Por encima de él sus pensamientos se seguían unos a otros sin darse alcance ni juntarse. Al fin dijo:\n",
      "—Estoy comenzando a pagar. Más vale empezar temprano, para terminar pronto.\n",
      "No sintió dolor.\n",
      "Cuando le habló a la gente reunida en el patio para agradecerle su compañía, abriéndole paso a su voz por entre el lloriqueo de las mujeres, no cortó ni el resuello ni sus palabras. Después sólo se oyó en aquella noche el piafar del potrillo alazán de Miguel Páramo.\n",
      "—Mañana mandas matar ese animal para que no siga sufriendo —le ordenó a Fulgor Sedano.\n",
      "—Está bien, don Pedro. Lo entiendo. El pobre se ha de sentir desolado.\n",
      "—Yo también lo entiendo así, Fulgor. Y diles de paso a esas mujeres que no armen tanto escándalo, es mucho alboroto por mi muerto. Si fuera de ellas, no llorarían con tantas ganas.\n",
      "\n",
      "\n",
      "El padre Rentería se acordaría muchos años después de la noche en que la dureza de su cama lo tuvo despierto y después lo obligó a salir. Fue la noche en que murió Miguel Páramo.\n",
      "Recorrió las calles solitarias de Comala, espantando con sus pasos a los perros que husmeaban en las basuras. Llegó hasta el río y allí se entretuvo mirando en los remansos el reflejo de las estrellas que se estaban cayendo del cielo. Duró varias horas luchando con sus pensamientos, tirándolos al agua negra del río.\n",
      "“El asunto comenzó —pensó— cuando Pedro Páramo, de cosa baja que era, se alzó a mayor. Fue creciendo como una mala yerba. Lo malo de esto es que todo lo obtuvo de mí: ‘Me acuso, padre, que ayer dormí con Pedro Páramo.’ ‘Me acuso, padre, que tuve un hijo de Pedro Páramo.’ ‘De que le presté mi hija a Pedro Páramo.’ Siempre esperé que él viniera a acusarse de algo; pero nunca lo hizo. Y después estiró los brazos de su maldad con ese hijo que tuvo. Al que él reconoció, sólo Dios sabe por qué. Lo que sí sé es que yo puse en sus manos ese instrumento.”\n",
      "Tenía muy presente el día que se lo había llevado, apenas nacido.\n",
      "Le había dicho:\n",
      "—Don Pedro, la mamá murió al alumbrarlo. Dijo que era de usted. Aquí lo tiene.\n",
      "Y él ni lo dudó, solamente le dijo:\n",
      "—¿Por qué no se queda con él, padre? Hágalo cura.\n",
      "—Con la sangre que lleva dentro no quiero tener esa responsabilidad.\n",
      "—¿De verdad cree usted que tengo mala sangre?\n",
      "—Realmente sí, don Pedro.\n",
      "—Le probaré que no es cierto. Déjemelo aquí. Sobra quien se encargue de cuidarlo.\n",
      "—En eso pensé, precisamente. Al menos con usted no le faltará el sustento.\n",
      "El muchachito se retorcía, pequeño como era, como una víbora.\n",
      "—¡Damiana! Encárgate de esa cosa. Es mi hijo.\n",
      "Después había abierto la botella:\n",
      "—Por la difunta y por usted beberé este trago.\n",
      "—¿Y por él?\n",
      "—Por él también, ¿por qué no?\n",
      "Llenó otra copa más y los dos bebieron por el porvenir de aquella criatura.\n",
      "—Así fue.\n",
      "Comenzaron a pasar las carretas rumbo a la Media Luna. Él se agachó, escondiéndose en el galápago que bordeaba el río “¿De quién te escondes?”, se preguntó a sí mismo.\n",
      "—¡Adiós, padre! —oyó que le decían.\n",
      "Se alzó de la tierra y contestó:\n",
      "—¡Adiós! Que el Señor te bendiga.\n",
      "Estaban apagándose las luces del pueblo. El río llenó su agua de colores luminosos.\n",
      "—Padre, ¿ya dieron el alba? —preguntó otro de los carreteros.\n",
      "—Debe ser mucho después del alba —respondió él. Y caminó en sentido contrario al de ellos, con intenciones de no detenerse.\n",
      "—¿Adónde tan temprano, padre?\n",
      "—¿Dónde está el moribundo, padre?\n",
      "—¿Ha muerto alguien en Contla, padre?\n",
      "Hubiera querido responderles: “Yo. Yo soy el muerto.” Pero se conformó con sonreír.\n",
      "Al salir del pueblo precipitó sus pasos.\n",
      "Regresó entrada la mañana.\n",
      "—¿Dónde estuvo usted, tío? —le preguntó Ana, su sobrina—. Vinieron muchas mujeres a buscarlo. Querían confesarse por ser mañana viernes primero.\n",
      "—Que regresen a la noche.\n",
      "Se quedó un rato quieto, sentado en una banca del pasillo, lleno de fatiga.\n",
      "—¡Qué fresco está el aire!, ¿no, Ana?\n",
      "—Hace calor, tío.\n",
      "—Yo no lo siento.\n",
      "No quería pensar para nada que había estado en Contla, donde hizo confesión general con el señor cura, y que éste, a pesar de sus ruegos, le había negado la absolución:\n",
      "—Ese hombre de quien no quieres mencionar su nombre ha despedazado tu Iglesia y tú se lo has consentido. ¿Qué se puede esperar ya de ti, padre? ¿Qué has hecho de la fuerza de Dios? Quiero convencerme de que eres bueno y de que allí recibes la estimación de todos; pero no basta ser bueno. El pecado no es bueno. Y para acabar con él; hay que ser duro y despiadado. Quiero creer que todos siguen siendo creyentes; pero no eres tú quien mantiene su fe; lo hacen por superstición y por miedo. Quiero aún más estar contigo en la pobreza en que vives y en el trabajo y cuidados que libras todos los días en tu cumplimiento. Sé lo difícil que es nuestra tarea en estos pobres pueblos donde nos tienen relegados; pero eso mismo me da derecho a decirte que no hay que entregar nuestro servicio a unos cuantos, que te darán un poco a cambio de tu alma, y con tu alma en manos de ellos ¿qué podrás hacer para ser mejor que aquellos que son mejores que tú? No, padre, mis manos no son los suficientemente limpias para darte la absolución. Tendrás que buscarla en otra parte.\n",
      "—¿Quiere usted decir, señor cura, que tengo que ir a buscar la confesión a otra parte?\n",
      "—Tienes que ir. No puedes seguir consagrando a los demás si tú mismo estás en pecado.\n",
      "—¿Y si suspenden mis ministerios?\n",
      "—No creo que lo hagan, aunque tal vez lo merezcas. Quedará a juicio de ellos.\n",
      "—¿No podría usted..? Provisionalmente, digamos... Necesito dar los santos óleos... la comunión. Mueren tantos en mi pueblo, señor cura.\n",
      "—Padre, deja que a los muertos los juzgue Dios.\n",
      "—¿Entonces, no?\n",
      "Y el señor cura de Contla había dicho que no.\n",
      "Después pasearon los dos por los corredores del curato, sombreados de azaleas. Se sentaron bajo una enramada donde maduraban las uvas.\n",
      "—Son ácidas, padre —se adelantó el señor cura la pregunta que le iba a hacer—. Vivimos en una tierra en que todo se da, gracias a la Providencia; pero todo se da con acidez. Estamos condenados a eso.\n",
      "—Tiene usted razón, señor cura. Allá en Comala he intentado sembrar uvas. No se dan. Sólo crecen arrayanes y naranjos; naranjos agrios. Y arrayanes agrios. A mí se me ha olvidado el sabor de las cosas dulces. ¿Recuerda usted las guayabas de China que teniamos en el seminario? Los duraznos, las mandarinas aquellas que con sólo apretarlas soltaban la cáscara. Yo traje aquí algunas semillas. Pocas; apenas una bolsita... después pensé que hubiera sido mejor dejarlas allá donde maduraran, ya que aquí las traje a morir.\n",
      "—Y sin embargo, padre, dicen que las tierras de Comala son buenas. Es lástima que estén en manos de un solo hombre. ¿Es Pedro Páramo aún el dueño, no?\n",
      "—Así es la voluntad de Dios.\n",
      "—No creo que en este caso intervenga la voluntad de Dios. ¿No lo crees tú así, padre?\n",
      "—A veces lo he dudado; pero allí lo reconocen.\n",
      "—¿Y entre ésos estás tú?\n",
      "—Yo soy un pobre hombre dispuesto a humillarse, mientras sienta el impulso de hacerlo.\n",
      "Luego se habían despedido. Él, tomándole las manos y besándoselas. Con todo, ahora aquí, vuelto a la realidad. no quería volver a pensar más en esa mañana de Contla.\n",
      "Se levantó y fue hacia la puerta.\n",
      "—¿Adónde va usted, tío?\n",
      "Su sobrina Ana, siempre presente, siempre junto a él, como si buscara su sombra para defenderse de la vida.\n",
      "—Voy a ir un rato a caminar, Ana. A ver si así reviento.\n",
      "—¿Se siente mal?\n",
      "—Mal no, Ana. Malo. Un hombre malo. Eso siento que soy.\n",
      "Fue hasta la Media Luna y dio el pésame a Pedro Páramo. Volvió a oír las disculpas por las inculpaciones que le habían hecho a su hijo. Lo dejó hablar. Al fin ya nada tenía importancia. En cambio, rechazó la invitación a comer con él:\n",
      "—No puedo, don Pedro, tengo que estar temprano en la iglesia porque me espera un montón de mujeres junto al confesionario. Otra vez será.\n",
      "Se vino al paso, y cuando atardecía entró directamente en la iglesia, tal como iba, lleno de polvo y de miseria. Se sentó a confesar.\n",
      "La primera que se acercó fue la vieja Dorotea, quien siempre estaba allí esperando a que se abrieran las puertas de la iglesia.\n",
      "Sintió que olía a alcohol.\n",
      "—¿Qué, ya te emborrachas? ¿Desde cuándo?\n",
      "—Es que estuve en el velorio de Miguelito, padre. Y se me pasaron las canelas. Me dieron de beber tanto, que hasta me volví payasa.\n",
      "—Nunca has sido otra cosa, Dorotea.\n",
      "—Pero ahora traigo pecados, padre. Y de sobra.\n",
      "En varias ocasiones él le había dicho: “No te confieses, Dorotea, nada más vienes a quitarme el tiempo. Tú ya no puedes cometer ningún pecado, aunque te lo propongas. Déjale el campo a los demás.”\n",
      "—Ahora sí, padre. Es de verdad.\n",
      "—Di.\n",
      "—Ya que no puedo causarle ningún perjuicio, le diré que era yo la que le conseguía muchachas al difunto Miguelito Páramo.\n",
      "El padre Rentería, que pensaba darse campo para pensar, pareció salir de sus sueños y preguntó casi por costumbre:\n",
      "—¿Desde cuándo?\n",
      "—Desde que él fue hombrecito. Desde que le agarró el chincual.\n",
      "—Vuélveme a repetir lo que dijiste, Dorotea.\n",
      "—Pos que yo era la que le conchavaba las muchachas a Miguelito.\n",
      "—¿Se las llevabas?\n",
      "—Algunas veces, si. En otras nomás se las apalabraba. Y con otras nomás le daba el norte. Usted sabe: la hora en que estaban solas y en que él podía agarrarlas descuidadas.\n",
      "—¿Fueron muchas?\n",
      "No quería decir eso; pero le salió la pregunta por costumbre.\n",
      "—Ya hasta perdí la cuenta. Fueron retemuchas.\n",
      "—¿Qué quieres que haga contigo, Dorotea? Júzgate tú misma. Ve si tú puedes perdonarte.\n",
      "—Yo no, padre. Pero usted sí puede. Por eso vengo a verlo.\n",
      "—¿Cuántas veces viniste aqui a pedirme que te mandara al cielo cuando murieras? ¿Querías ver si allá encontrabas a tu hijo, no, Dorotea? Pues bien, no podrás ir ya más al cielo. Pero que Dios te perdone.\n",
      "—Gracias, padre.\n",
      "—Sí. Yo también te perdono en nombre de él. Puedes irte.\n",
      "—¿No me deja ninguna penitencia?\n",
      "—No la necesitas, Dorotea.\n",
      "—Gracias, padre.\n",
      "—Ve con Dios.\n",
      "Tocó con los nudillos la ventanilla del confesionario para llamar a otra de aquellas mujeres. Y mientras oía el Yo pecador su cabeza se dobló como si no pudiera sostenerse en alto. Luego vino aquel mareo, aquella confusión, el irse diluyendo como en agua espesa, y el girar de luces; la luz entera del día que se desbarataba haciéndose añicos; y ese sabor a sangre en la lengua. El Yo pecador se oía más fuerte, repetido, y después terminaba: “por los siglos de los siglos, amén”, “por los siglos de los siglos, amén”, “por los siglos...”\n",
      "—Ya calla —dijo—. ¿Cuánto hace que no te confiesas?\n",
      "—Dos días, padre.\n",
      "Allí estaba otra vez. Como si lo rodeara la desventura. “¿Qué haces aqui? —pensó—. Descansa. Vete a descansar. Estás muy cansado.”\n",
      "Se levantó del confesionario y se fue derecho a la sacristía. Sin volver la cabeza dijo a aquella gente que lo estaba esperando:\n",
      "—Todos los que se sientan sin pecado puede comulgar mañana.\n",
      "Detrás de él, sólo se oyó un murmullo.\n",
      "\n",
      "\n",
      "Estoy acostada en la misma cama donde murió mi madre hace ya muchos años; sobre el mismo colchón; bajo la misma cobija de lana negra con la cual nos envolvíamos las dos para dormir. Entonces yo dormía su lado, en un lugarcito que ella me hacía debajo de sus brazos.\n",
      "Creo sentir todavía el golpe pausado de su respiracón; las palpitaciones y suspiros con que ella arrullaba mi sueño... Creo sentir la pena de su muerte... Pero esto es falso.\n",
      "Estoy aquí, boca arriba, pensando en aquel tiempo para olvidar mi soledad. Porque no estoy acostada sólo por un rato. Y ni en la cama de mi madre, sino dentro de un cajón negro como el que se usa para enterrar a los muertos. Porque estoy muerta.\n",
      "Siento el lugar en que estoy y pienso...\n",
      "Pienso cuando maduraban los limones. En el viento de febrero que rompía los tallos de los helechos, antes que el abandono los secara; los limones maduros que llenaban con su olor el viejo patio.\n",
      "El viento bajaba de las montañas en las mañanas de febrero. Y las nubes se quedaban allá arriba en espera de que el tiempo bueno las hiciera bajar al valle; mientras tanto dejaban vacío el cielo azul, dejaban que la luz cayera en el juego del viento haciendo circulos sobre la tierra, removiendo el polvo y batiendo las ramas de los naranjos.\n",
      "Y los gorriones reían; picoteaban las hojas que el aire hacía caer, y reían; dejaban sus plumas entre las espinas de las ramas y perseguían a las mariposas y reían. Era esa época.\n",
      "En febrero, cuando las mañanas estaban llenas de viento, de gorriones y de luz azul. Me acuerdo.\n",
      "Mi madre murió entonces.\n",
      "Que yo debía haber gritado: que mis manos tenían que haberse hecho pedazos estrujando su desesperación. Así hubieras tú querido que fuera. ¿Pero acaso no era alegre aquella mañana? Por la puerta abierta entraba el aire, quebrando las guías de la yedra. En mis piernas comenzaba a crecer el vello entre las venas, y mis manos temblaban tibias al tocar mis senos. Los gorriones jugaban. En las lomas se mecían las espigas. Me dio lástima que ella ya no volviera a ver el juego del viento en los jazmines; que cerrara sus ojos a la luz de los días. ¿Pero por qué iba a llorar?\n",
      "¿Te acuerdas, Justina? Acomodaste las sillas a lo largo del corredor para que la gente que viniera a verla esperara su turno. Estuvieron vacías. Y mi madre sola, en medio de los cirios; su cara pálida y sus dientes blancos asomándose apenitas entre sus labios morados, endurecidos por la amoratada muerte. Sus pestañas ya quietas; quieto ya su corazón. Tú y yo allí, rezando rezos interminables, sin que ella oyera nada sin que tú y yo oyéramos nada, todo perdido en la sonoridad del viento debajo de la noche. Planchaste su vestido negro, almidonando el cuello y el puño de sus mangas para que sus manos se vieran nuevas, cruzadas sobre su pecho muerto, su viejo pecho amoroso sobre el que dormí en un tiempo y que me dio de comer y que palpitó para arrullar mis sueños.\n",
      "Nadie vino a verla. Así estuvo mejor. La muerte no se reparte como si fuera un bien. Nadie anda en busca de tristezas.\n",
      "Tocaron la aldaba. Tú saliste.\n",
      "—Ve tú —te dije—. Yo veo borrosa la cara de la gente. Y haz que se vayan. ¿Que vienen por el dinero de las misas gregorianas? Ella no dejó ningún dinero. Díselos, Justina. ¿Que no saldrá del purgatorio si no le rezan esas misas? ¿Quiénes son ellos para hacer la justicia, Justina? ¿Dices que estoy loca? Está bien.\n",
      "—Y tus sillas se quedaron vacías hasta que fuimos a enterrarla con aquellos hombres alquilados, sudando por un peso ajeno, extraños a cualquier pena. Cerraron la sepultura con arena mojada; bajaron el cajón despacio, con la paciencia de su oficio, bajo el aire que les refrescaba su esfuerzo. Sus ojos fríos, indiferentes. Dijeron: \"Es tanto.\" Y tú les pagaste, como quien compra una cosa desanudando tu pañuelo húmedo de lágrimas, exprimido y vuelto a exprimir y ahora guardando el dinero de los funerales...\n",
      "Y cuando ellos se fueron, te arrodillaste en el lugar donde había quedado su cara y besaste la tierra y podrías haber abierto un agujero, si yo no te hubiera dicho: “Vámonos, Justina, ella está en otra parte, aquí no hay más que una cosa muerta.”\n",
      "\n",
      "\n",
      "—¿Eres tú la que ha dicho todo eso, Dorotea?\n",
      "—¿Quién, yo? Me quedé dormida un rato. ¿Te siguen asustando?\n",
      "—Oí a alguien que hablaba. Una voz de mujer. Creí que eras tú.\n",
      "—¿Voz de mujer? ¿Creíste que era yo? Ha de ser la que habla sola. La de la sepultura grande. Doña Susanita. Está aquí enterrada a nuestro lado. Le ha de haber llegado la humedad y estará removiéndose entre el sueño.\n",
      "—¿Y quién es ella?\n",
      "—La última esposa de Pedro Páramo. Unos dicen que estaba loca. Otros, que no. La verdad es que ya hablaba sola desde en vida.\n",
      "—Debe haber muerto hace mucho.\n",
      "—¡Uh, sí! Hace mucho. ¿Qué le oíste decir?\n",
      "—Algo acerca de su madre.\n",
      "—Pero si ella ni madre tuvo...\n",
      "—Pues de eso hablaba.\n",
      "—... O, al menos, no la trajo cuando vino. Pero espérate. Ahora recuerdo que ella nació aquí, y que ya de añejita desaparecieron. Y sí, su madre murió de la tisis. Era una señora muy rara que siempre estuvo enferma y no visitaba a nadie.\n",
      "—Eso dice ella. Que nadie había ido a ver a su madre cuando murió.\n",
      "—¿Pero de qué tiempos hablará? Claro que nadie se paró en su casa por el puro miedo de agarrar la tisis. ¿Se acordará de eso la indina?\n",
      "—De eso hablaba.\n",
      "—Cuando vuelvas a oírla me avisas, me gustaría saber lo que dice.\n",
      "—¿Oyes? Parece que va a decir algo. Se oye un murmullo.\n",
      "—No, no es ella. Eso viene de más lejos, de por este otro rumbo. Y es voz de hombre. Lo que pasa con estos muertos viejos es que en cuanto les llega la humedad comienzan a removerse. Y despiertan.\n",
      "“El cielo es grande. Dios estuvo conmigo esa noche. De no ser así quién sabe lo que hubiera pasado. Porque fue ya de noche cuando reviví...”\n",
      "—¿Lo oyes ya más claro?\n",
      "—Sí.\n",
      "“... Tenía sangre por todas partes. Y al enderezarme chapotié con mis manos la sangre regada en las piedras. Y era mía. Montonales de sangre. Pero no estaba muerto. Me di cuenta. Supe que don Pedro no tenía intenciones de matarme. Sólo de darme un susto. Quería averiguar si yo había estado en Vilmayo dos meses antes. El día de San Cristóbal. En la boda. ¿En cuál boda? ¿En cuál San Cristóbal? Yo chapoteaba entre mi sangre y le preguntaba: ‘¿En cuál boda, don Pedro? No, no, don Pedro, yo no estuve. Si acaso, pasé por allí. Pero fue por casualidad...’ Él no tuvo intenciones de matarme. Me dejó cojo, como ustedes ven, y manco si ustedes quieren. Pero no me mató. Dicen que se me torció un ojo desde entonces, de la mala impresión. Lo cierto es que me volví más hombre. El cielo es grande. Y ni quien lo dude.”\n",
      "—¿Quién será?\n",
      "—Ve tú a saber. Alguno de tantos. Pedro Páramo causó tal mortandad después que le mataron a su padre, que se dice casi acabó con los asistentes a la boda en la cual don Lucas Páramo iba a fungir de padrino. Y eso que a don Lucas nomás le tocó de rebote, porque al parecer la cosa era contra el novio. Y como nunca se supo de dónde había salido la bala que le pegó a él, Pedro Páramo arrasó parejo. Eso fue allá en el cerro de Vilmayo, donde estaban unos ranchos de los que ya no queda ni el rastro... Mira, ahora sí parece ser ella. Tú que tienes los oídos muchachos, ponle atención. Ya me contarás lo que diga.\n",
      "—No se le entiende. Parece que no habla, sólo se queja.\n",
      "—¿Y de qué se queja?\n",
      "—Pues quién sabe.\n",
      "—Debe ser por algo. Nadie se queja de nada. Para bien la oreja.\n",
      "—Se queja y nada más. Tal vez Pedro Páramo la hizo sufrir.\n",
      "—No creas. Él la quería. Estoy por decir que nunca quiso a ninguna mujer como a ésa. Ya se la entregaron sufrida y quizá loca. Tan la quiso, que se pasó el resto de sus años aplastado en un equipal, mirando el camino por donde se la habían llevado al camposanto. Le perdió interés a todo. Desalejó sus tierras y mandó quemar los enseres. Unos dicen que porque ya estaba cansado, otros que porque le agarró la desilusión; lo cierto es que echó fuera a la gente y se sentó en su equipal, cara al camino.\n",
      "“Desde entonces la tierra se quedó baldía y como en ruinas. Daba pena verla llenándose de achaques con tanta plaga que la invadió en cuanto la dejaron sola. De allá para acá se consumió la gente; se desbandaron los hombres en busca de otros ‘bebederos’. Recuerdo días en que Comala se llenó de adioses y hasta nos parecía cosa alegre ir a despedir a los que se iban. Y es que se iban con intenciones de volver. Nos dejaban encargadas sus cosas y su familia. Luego algunos mandaban por la familia aunque no por sus cosas, y después parecieron olvidarse del pueblo y de nosotros, y hasta de sus cosas. Yo me quedé porque no tenía adonde ir. Otros se quedaron esperando que Pedro Páramo muriera, pues según decían les había prometido heredarles sus bienes, y con esa esperanza vivieron todavía algunos. Pero pasaron años y años y él seguía vivo, siempre allí, como un espantapájaros frente a las tierras de la Media Luna.\n",
      "“Y ya cuando le faltaba poco para morir vinieron las guerras esas de los ‘cristeros’ y la tropa echó rialada con los pocos hombres que quedaban. Fue cuando yo comencé a morirme de hambre y desde entonces nunca me volví a emparejar.\n",
      "“Y todo por las ideas de don Pedro, por sus pleitos de alma. Nada más porque se le murió su mujer, la tal Susanita. Ya te has de imaginar si la quería.\"\n",
      "\n",
      "\n",
      "Fue Fulgor Sedano quien le dijo:\n",
      "—Patrón, ¿sabe quién anda por aquí?\n",
      "—¿Quién?\n",
      "—Bartolomé San Juan.\n",
      "—¿Y eso?\n",
      "—Eso es lo que yo me pregunto. ¿Qué vendrá a hacer?\n",
      "—¿No lo has investigado?\n",
      "—No. Vale decirlo. Y es que no ha buscado casa. Llegó directamente a la antigua casa de usted. Allí desmontó y apeó sus maletas, como si usted de antemano se la hubiera alquilado. Al menos le vi esa seguridad.\n",
      "—¿Y qué haces tú, Fulgor, que no averiguas lo que pasa? ¿No estás para eso?\n",
      "—Me desorienté un poco por lo que le dije. Pero mañana aclararé las cosas si usted lo cree necesario.\n",
      "—Lo de mañana déjamelo a mí. Yo me encargo de ellos. ¿Han venido los dos?\n",
      "—Sí, él y su mujer. ¿Pero cómo lo sabe?\n",
      "—¿No será su hija?\n",
      "—Pues por el modo como la trata más bien parece su mujer.\n",
      "—Vete a dormir, Fulgor.\n",
      "—Si usted me lo permite.\n",
      "\n",
      "\n",
      "“Esperé treinta años a que regresaras, Susana. Esperé a tenerlo todo. No solamente algo, sino todo lo que se pudiera conseguir de modo que no nos quedara ningún deseo, sólo el tuyo, el deseo de ti. ¿Cuántas veces invité a tu padre a que viniera a vivir aquí nuevamente, diciéndole que yo lo necesitaba? Lo hice hasta con engaños.\n",
      "“Le ofrecí nombrarlo administrador, con tal de volverte a ver. ¿Y qué me contestó? ‘No hay respuesta —me decía siempre el mandadero—. El señor don Bartolomé rompe sus cartas cuando yo se las entrego’. Pero por el muchacho supe que te habías casado y pronto me enteré que te habías quedado viuda y le hacías otra vez compañía a tu padre.”\n",
      "Luego el silencio.\n",
      "“El mandadero iba y venía y siempre regresaba diciéndome:\n",
      "“—No los encuentro, don Pedro. Me dicen que salieron de Mascota. Y unos me dicen que para acá y otros que para allá.\n",
      "“Y yo:\n",
      "“—No repares en gastos, búscalos. Ni que se los haya tragado la tierra.\n",
      "“Hasta que un día vino y me dijo:\n",
      "“—He repasado toda la sierra indagando el rincón donde se esconde don Bartolomé San Juan, hasta que he dado con él, allá, perdido en un agujero de los montes, viviendo en una covacha hecha de troncos, en el mero lugar donde están las minas abandonadas de La Andrómeda.\n",
      "“Ya para entonces soplaban vientos raros. Se decía que había gente levantada en armas. Nos llegaban rumores. Eso fue lo que aventó a tu padre por aquí. No por él, según me dijo en su carta, sino por tu seguridad, quería traerte a algún lugar viviente.\n",
      "“Sentí que se abría el cielo. Tuve ánimos de correr hacia ti. De rodearte de alegría. De llorar. Y lloré, Susana, cuando supe que al fin regresarías.”\n",
      "\n",
      "\n",
      "—Hay pueblos que saben a desdicha. Se les conoce con sorber un poco de su aire viejo y entumido, pobre y flaco como todo lo viejo. Éste es uno de esos pueblos, Susana.\n",
      "“Allá, de donde venimos ahora, al menos te entretenías mirando el nacimiento de las cosas: nubes y pájaros, el musgo, ¿te acuerdas? Aquí en cambio no sentirás sino ese olor amarillo y acedo que parece destilar por todas partes. Y es que éste es un pueblo desdichado; untado todo de desdicha.\n",
      "“Él nos ha pedido que volvamos. Nos ha prestado su casa. Nos ha dado todo lo que podemos necesitar. Pero no debemos estarle agradecidos. Somos infortunados por estar aquí, porque aquí no tendremos salvación ninguna. Lo presiento.\n",
      "“¿Sabes qué me ha pedido Pedro Páramo? Yo ya me imaginaba que esto que nos daba no era gratuito. Y estaba dispuesto a que se cobrara con mi trabajo, ya que teníamos que pagar de algún modo. Le detallé todo lo referente a La Andrómeda y le hice ver que aquello tenía posibilidades, trabajándola con método. ¿Y sabes que me contestó? ‘No me interesa su mina, Bartolomé San Juan. Lo único que quiero de usted es a su hija. Ese ha sido su mejor trabajo.’\n",
      "“Así que te quiere a ti , Susana. Dicen que jugabas con él cuando eran niños. Que ya te conoce. Que llegaron a bañarse juntos en el río cuando eran niños. Yo no lo supe; de haberlo sabido te habría matado a cintarazos.”\n",
      "—No lo dudo.\n",
      "—¿Fuiste tú la que dijiste: no lo dudo?\n",
      "—Yo lo dije.\n",
      "—¿De manera que estás dispuesta a acostarte con él?\n",
      "—Sí, Bartolomé.\n",
      "—¿No sabes que es casado y que ha tenido infinidad de mujeres?\n",
      "—Sí, Bartolomé.\n",
      "—No me digas Bartolomé. ¡Soy tu padre!\n",
      "Bartolomé San Juan, un minero muerto. Susana San Juan, hija de un minero muerto en las minas de La Andrómeda. Veía claro. “Tendré que ir allá a morir”, pensó. Luego dijo:\n",
      "—Le he dicho que tú, aunque viuda, sigues viviendo con tu marido, o al menos así te comportas; he tratado de disuadirlo, pero se le hace torva la mirada cuando yo le hablo, y en cuanto sale a relucir tu nombre, cierra los ojos. Es, según yo sé, la pura maldad. Eso es Pedro Páramo.\n",
      "—¿Y yo quién soy?\n",
      "—Tú eres mi hija. Mía. Hija de Bartolomé San Juan.\n",
      "En la mente de Susana San Juan comenzaron a caminar las ideas, primero lentamente, luego se detuvieron, para después echar a correr de tal modo que no alcanzó sino a decir:\n",
      "—No es cierto. No es cierto.\n",
      "—Este mundo que lo aprieta a uno por todos lados, que va vaciando puños de nuestro polvo aquí y allá, deshaciéndonos en pedazos como si rociara la tierra con nuestra sangre. ¿Qué hemos hecho? ¿Porqué se nos ha podrido el alma? Tu madre decía que cuando menos nos queda la caridad de Dios. Y tú la niegas, Susana. ¿Porqué me niegas a mí como tu padre? ¿Estás loca?\n",
      "—¿No lo sabías?\n",
      "—¿Estás loca?\n",
      "—Claro que sí, Bartolomé. ¿No lo sabías?\n",
      "\n",
      "\n",
      "—¿Sabías, Fulgor, que ésa es la mujer más hermosa que se ha dado sobre la tierra? Llegué a creer que la había perdido para siempre. Pero ahora no tengo ganas de volverla a perder. ¿Tú me entiendes, Fulgor? Dile a su padre que vaya a seguir explotando sus minas. Y allá... me imagino que será fácil desaparecer al viejo en aquellas regiones adonde nadie va nunca... ¿No lo crees?\n",
      "—Puede ser.\n",
      "—Necesitamos que sea. Ella tiene que quedarse huérfana. Estamos obligados a amparar a alguien ¿No crees tú?\n",
      "—No lo veo difícil.\n",
      "—Entonces andando Fulgor, andando.\n",
      "—¿Y si ella lo llega a saber?\n",
      "—¿Quién se lo dirá? A ver, dime, aquí entre nosotros dos, ¿quién se lo dirá?\n",
      "—Estoy seguro que nadie.\n",
      "—Quítale el “estoy seguro que”. Quítaselo desde ahorita y ya verás como todo sale bien. Acuérdate del trabajo que dio dar con La Andrómeda. Mándalo para allá a seguir trabajando. Que vaya y vuelva. Nada de que se le ocurra acarrerar con la hija. Ésa aquí se la cuidamos. Allá estará su trabajo y aquí su casa adonde venga a reconocer. Díselo así, Fulgor.\n",
      "—Me vuelve a gustar como acciona usted, patrón, como que se le están rejuveneciendo los ánimos.\n",
      "\n",
      "\n",
      "Sobre los campos del valle de Comala está cayendo la lluvia. Una lluvia menuda, extraña para estas tierras que sólo saben de aguaceros. Es domingo. De Apango han bajado los indios con sus rosarios de manzanillas, su romero, sus manojos de tomillo. No han traído ocote porque el ocote está mojado, y ni tierra de encino porque también está mojada por el mucho llover. Tienden sus yerbas en el suelo, bajo los arcos del portal, y esperan.\n",
      "La lluvia sigue cayendo sobre los charcos.\n",
      "Entre surcos, donde está naciendo el maíz, corre el agua en ríos. Los hombres no han venido hoy al mercado, ocupados en romper sus surcos para que el agua busque nuevos cauces y no arrastre la milpa tierna. Andan en grupos, navegando en la tierra anegada, bajo la lluvia, quebrando con sus palas los blandos terrones, ligando con sus manos la milpa y tratando de protegerla para que crezca sin trabajo.\n",
      "Los indios esperan. Sienten que es un mal día. Quizá por eso tiemblan debajo de sus mojados gabanes de paja; no de frío, sino de temor. Y miran la lluvia desmenuzada y al cielo, que no suelta sus nubes.\n",
      "Nadie viene. El pueblo parece estar solo. La mujer les encargó un poco de hilo de remiendo y algo de azúcar, y de ser posible y de haber, un cedazo para colar el atole. El gabán se les hace pesado de humedad conforme se acerca el mediodía. Platican, se cuentan chistes y sueltan la risa. Las manzanillas brillan salpicadas por el rocío. Piensan: “Si al menos hubiéramos traído tantito pulque, no importaría; pero el cogollo de los magueyes está hecho un mar de agua. En fin, qué se le va a hacer.”\n",
      "Justina Díaz, cubierta con paraguas, venía por la calle derecha que viene de la Media Luna, rodeando los chorros que borbotaban sobre las banquetas. Hizo la señal de la cruz y se persignó al pasar por la puerta de la iglesia mayor. Entró en el portal. Los indios voltearon a verla. Vio la mirada de todos como si la escudriñaran. Se detuvo en el primer puesto, compró diez centavos de hojas de romero, y regresó, seguida por las miradas en hilera de aquel montón de indios.\n",
      "“Lo caro que está todo en este tiempo —dijo, al tomar de nuevo el camino hacia la Media Luna—. Este triste ramito de romero por diez centavos. No alcanzará ni siquiera para dar olor.”\n",
      "Los indios levantaron su puestos al oscurecer. Entraron en la lluvia con sus pesados tercios a la espalda; pasaron por la iglesia para rezarle a la Virgen, dejándole un manojo de tomillo de limosna. Luego enderezaron hacia Apango, de donde habían venido. “Ahi será otro día”, dijeron. Y por el camino iban contándose chistes y soltando la risa.\n",
      "Justina Díaz entró en el dormitorio de Susana San Juan y puso el romero sobre la repisa. Las cortinas cerradas impedían el paso de la luz, así que en aquella oscuridad sólo veía las sombras, sólo adivinaba. Supuso que Susana San Juan estaría dormida; ella deseaba que siempre estuviera dormida. Las sintió así y se alegró. Pero entonces oyó un suspiro lejano, como salido de algún rincón de aquella pieza oscura.\n",
      "—¡Justina! —le dijeron.\n",
      "Ella volvió la cabeza. No vio a nadie; pero sintió una mano sobre su hombro y la respiración de sus oídos. La voz en secreto: “Vete de aquí, Justina. Arregla tus enseres y vete. Ya no te necesitamos.”\n",
      "—Ella sí me necesita —dijo, enderezando el cuerpo—. Está enferma y me necesita.\n",
      "—Ya no, Justina. Yo me quedaré aquí a cuidarla.\n",
      "—¿Es usted, don Bartolomé? —y no esperó la respuesta. Lanzó aquel grito que bajó hasta los hombres y las mujeres que regresaban de los campos y que los hizo decir: “Parece ser un aullido humano; pero no parece ser de ningún ser humano.”\n",
      "La lluvia amortigua los ruidos. Se sigue oyendo aún después de todo, granizando sus gotas, hilvanando el hilo de la vida.\n",
      "—¿Qué te pasa, Justina? ¿Por qué gritas? —preguntó Susana San Juan.\n",
      "—Yo no he gritado, Susana. Has de haber estado soñando.\n",
      "—Ya te he dicho que yo no sueño nunca. No tienes consideración de mí. Estoy muy desvelada. Anoche no echaste fuera al gato y no me dejó dormir.\n",
      "—Durmió conmigo, entre mis piernas. Estaba ensopado y por lástima lo dejé quedarse en mi cama; pero no hizo ruido.\n",
      "—No, ruido ni hizo. Sólo se la pasó haciendo circo, brincando de mis pies a mi cabeza, y maullando quedito como si tuviera hambre.\n",
      "—Le di bien de comer y no se despegó de mí en toda la noche. Estás otra vez soñando mentiras, Susana.\n",
      "—Te digo que pasó la noche asustándome con sus brincos. Y aunque sea muy cariñoso tu gato, no lo quiero cuando estoy dormida.\n",
      "—Ves visiones, Susana. Eso es lo que pasa. Cuando venga Pedro Páramo le diré que ya no te aguanto. Le diré que me voy. No faltará gente buena que me dé trabajo. No todos son maniáticos como tú, ni se viven mortificándola a una como tú. Mañana me iré y me llevaré al gato y te quedarás tranquila.\n",
      "—No te irás de aquí, maldita y condenada Justina. No te irás a ninguna parte porque nunca encontrarás quien te quiera como yo.\n",
      "—No, no me iré, Susana. No me iré. Bien sabes que estoy aquí para cuidarte. No importa que me hagas renegar, te cuidaré siempre.\n",
      "La había cuidado desde que nació . La había tenido entre sus brazos. La había enseñado a andar. A dar esos pasos que a ella le parecían eternos. Había visto crecer su boca y sus ojos “como de dulce”. “El dulce de menta es azul. Amarillo y azul. Verde y Azul. Revuelto con menta y yerbabuena.” Le mordía las piernas. La entretenía dándole de mamar sus senos, que no tenían nada, que eran como de juguete. “Juega —le decía—, juega con este juguetito tuyo.” La hubiera apachurrado y hecho pedazos.\n",
      "Allá afuera se oía el caer de la lluvia sobre las hojas de los plátanos, se sentía como si el agua hirviera sobre el agua estancada en la tierra.\n",
      "Las sábanas estaban frías de humedad. Los caños borbotaban, hacían espuma, cansados de trabajar durante el día, durante la noche, durante el día. El agua seguía corriendo, diluviando en incesantes burbujas.\n",
      "\n",
      "\n",
      "Era la medianoche y allá afuera el ruido del agua apagaba todos los sonidos.\n",
      "Susana San Juan se levantó despacio. Enderezó el cuerpo lentamente y se alejó de la cama. Allí estaba otra vez el peso, en sus pies, caminando por la orilla de su cuerpo; tratando de encontrarle la cara:\n",
      "—¿Eres tú, Bartolomé? —preguntó.\n",
      "Le pareció oír rechinar la puerta, como cuando alguien entraba o salía. Y después sólo la lluvia, intermitente, fría, rodando sobre las hojas de los plátanos, hirviendo en su propio hervor.\n",
      "Se durmió y no despertó hasta que la luz alumbró los ladrillos rojos, asperjados de rocío entre la gris mañana de un nuevo día. Gritó:\n",
      "—¡Justina!\n",
      "Y ella apareció en seguida, como si ya hubiera estado allí, envolviendo su cuerpo en una frazada.\n",
      "—¿Qué quieres, Susana?\n",
      "—El gato. Otra vez ha venido.\n",
      "—Pobrecita de ti, Susana.\n",
      "Se recostó sobre su pecho, abrazándola, hasta que ella logró levantar aquella cabeza y le preguntó:\n",
      "—¿Por qué lloras? Le diré a Pedro Páramo que eres buena conmigo. No le contaré nada de los sustos que me da tu gato. No te pongas así, Justina.\n",
      "—Tu padre ha muerto, Susana. Antenoche murió, y hoy han venido a decir que nada se puede hacer; que ya lo enterraron; que no lo han podido traer aquí porque el camino era muy largo. Te has quedado sola. Susana.\n",
      "—Entonces era él —y sonrió—. Viniste a despedirte de mí —dijo, y sonrió.\n",
      "\n",
      "\n",
      "Muchos años antes, cuando ella era una niña, él le había dicho:\n",
      "—Baja, Susana, y dime lo que ves.\n",
      "Estaba colgada de aquella soga que le lastimaba la cintura, que le sangraba sus manos; pero que no quería soltar: era como el único hilo que la sostenía al mundo de afuera.\n",
      "—No veo nada, papá.\n",
      "—Busca bien, Susana. Haz por encontrar algo.\n",
      "Y la alumbró con su lámpara.\n",
      "—No veo nada, papá.\n",
      "—Te bajaré más. Avísame cuando estés en el suelo.\n",
      "Había entrado por un pequeño agujero abierto entre las tablas. Había caminado sobre tablones podridos, viejos, astillados y llenos de tierra pegajosa:\n",
      "—Baja más abajo, Susana, y encontrarás lo que te digo.\n",
      "Y ella bajó y bajó en columpio, meciéndose en la profundidad, con sus pies bamboleando “en el no encuentro dónde poner los pies”.\n",
      "—Más abajo, Susana. Más abajo. Dime si ves algo.\n",
      "Y cuando encontró el apoyo allí permaneció, callada, porque se enmudeció de miedo. La lámpara circulaba y la luz pasaba de largo junto a ella. Y el grito de allá arriba la estremecía:\n",
      "—¡Dame lo que está allí, Susana!\n",
      "Y ella agarró la calavera entre sus manos y cuando la luz le dio de lleno la soltó.\n",
      "—Es una calavera de muerto —dijo.\n",
      "—Debes encontrar algo más junto a ella. Dame todo lo que encuentres.\n",
      "EI cadáver se deshizo en canillas; la quijada se desprendió como si fuera de azúcar. Le fue dando pedazo a pedazo hasta que llegó a los dedos de los pies y le entregó coyuntura tras coyuntura. Y la calavera primero; aquella bola redonda que se deshizo entre sus manos.\n",
      "Busca algo más, Susana. Dinero. Ruedas redondas de oro. Búscalas, Susana.\n",
      "Entonces ella no supo de ella, sino muchos días después entre el hielo, entre las miradas llenas de hielo de su padre.\n",
      "Por eso reía ahora.\n",
      "Supe que eras tú, Bartolomé.\n",
      "Y la pobre de Justina, que lloraba sobre su corazón, tuvo que levantarse al ver que ella reía y que su risa se convertía en carcajada.\n",
      "Afuera seguía lloviendo. Los indios se habían ido. Era lunes y el valle de Comala seguía anegándose en lluvia.\n",
      "\n",
      "\n",
      "Los vientos siguieron soplando todos esos días. Esos vientos que habían traído las lluvias. La lluvia se había ido; pero el viento se quedó. Allá en los campos la milpa oreó sus hojas y se acostó sobre los surcos para defenderse del viento. De día era pasadero; retorcía las yedras y hacía crujir las tejas en los tejados; pero de noche gemía, gemía largamente. Pabellones de nubes pasaban en silencio por el cielo como si caminaran rozando la tierra.\n",
      "Susana San Juan oye el golpe del viento contra la ventana cerrada. Está acostada con los brazos detrás de la cabeza pensando, oyendo los ruidos de la noche; cómo la noche va y viene arrastrada por el soplo del viento sin quietud. Luego el seco detenerse.\n",
      "Han abierto la puerta. Una racha de aire apaga la lámpara. Ve la oscuridad y entonces deja de pensar. Siente pequeños susurros. En seguida oye el percutir de su corazón en palpitaciones desiguales. Al través de sus párpados cerrados entrevé la llama de la luz.\n",
      "No abre los ojos. El cabello está derramado sobre su cara. La luz enciende gotas de sudor en sus labios. Pregunta:\n",
      "—¿Eres tú, padre?\n",
      "—Soy tu padre, hija mía.\n",
      "Entreabre los ojos. Mira como si cruzara sus cabellos una sombra sobre el techo, con la cabeza encima de su cara. Y la figura borrosa de aquí enfrente, detrás de la lluvia de sus pestañas. Una luz difusa; una luz en el lugar del corazón, en forma de corazón pequeño que palpita como llama parpadeante. “Se te está muriendo de pena el corazón —piensa—. Ya sé que vienes a contarme que murió Florencio; pero eso ya lo sé. No te aflijas por los demás; no te apures por mí. Yo tengo guardado mi dolor en un lugar seguro. No dejes que se te apague el corazón.”\n",
      "Enderezó el cuerpo y lo arrastró hasta donde estaba el padre Rentería.\n",
      "—¡Déjame consolarte con mi desconsuelo! —dijo, protegiendo la llama de la vela con sus manos.\n",
      "El padre Rentería la dejó acercarse a él; la miró cercar con sus manos la vela encendida y luego juntar su cara al pabilo inflamado, hasta que el olor a carne chamuscada lo obligó a sacudirla, apagándola de un soplo.\n",
      "Entonces volvió la oscuridad y ella corrió a refugiarse debajo de sus sábanas.\n",
      "El padre Rentería le dijo:\n",
      "—He venido a confortarte, hija.\n",
      "—Entonces adiós, padre —contestó ella—. No vuelvas. No te necesito.\n",
      "Y oyó cuando se alejaban los pasos que siempre dejaban una sensación de frío, de temblor y miedo.\n",
      "—¿Para qué vienes a verme, si estás muerto?\n",
      "El padre Rentería cerró la puerta y salió al aire de la noche.\n",
      "El viento seguía soplando.\n",
      "\n",
      "\n",
      "Un hombre al que decían el Tartamudo llegó a la Media Luna y preguntó por Pedro Páramo.\n",
      "—¿Para qué lo solicitas?\n",
      "—Quiero hablar cocon él.\n",
      "—No está.\n",
      "—Dile, cucuando regrese, que vengo de paparte de don Fulgor.\n",
      "—Lo iré a buscar; pero aguántate unas cuantas horas.\n",
      "—Dile es cocosa de urgencia.\n",
      "—Se lo diré.\n",
      "El hombre al que decían el Tartamudo aguardó arriba del caballo. Pasado un rato, Pedro Páramo, que nunca había visto, se le puso enfrente:\n",
      "—¿Qué se te ofrece?\n",
      "—Necesito hablar directamente cocon el patrón.\n",
      "—Yo soy. ¿Qué quieres?\n",
      "—Pues, nanada más esto. Mataron a don Fulgor Sesedano. Yo le hacía compañía. Habíamos ido por el rurrumbo de los “vertederos” para averiguar por qué se estaba escaseando el agua. Y en eso andábamos cucuando vimos una manada de hombres que nos salieron al encuentro. Y de entre la mumultitud aquella brotó una voz que dijo: “Yo a ése le coconozco. Es el administrador de la Memedia Luna.”\n",
      "“A mí ni me totomaron en cuenta. Pero a don Fulgor le mandaron soltar la bestia. Le dijeron que eran revolucionarios. Que venían por las tierras de usté. ‘¡Cocórrale! —le dijeron a don Fulgor—. ¡Vaya y dígale a su patrón que allá nos veremos!’ Y él soltó la cacalda, despavorido. No muy de prisa por lo pepesado que era; pero corrió. Lo mataron,cocorriendo. Murió cocon una pata arriba y otra abajo.\n",
      "“Entonces yo ni me momoví. Esperé que fuera de nonoche y aquí estoy para anunciarle lo que papasó.”\n",
      "—¿Y qué esperas? ¿Por qué no te mueves? Anda y diles a ésos que aquí estoy para lo que se les ofrezca. Que vengan a tratar conmigo. Pero antes date un rodeo por La Consagración. ¿Conoces al Tilcuate? Allí estará. Dile que necesito verlo. Y a esos fulanos avísales que los espero en cuanto tengan un tiempo disponible. ¿Qué jaiz de revolucionarios son?\n",
      "—No lo sé. Ellos ansí se nonombran.\n",
      "—Dile al Tilcuate que lo necesito más que de prisa.\n",
      "—Así lo haré, papatrón.\n",
      "Pedro Páramo volvió a encerrarse en su despacho. Se sentía viejo y abrumado. No le preocupaba Fulgor, que al fin y al cabo ya estaba “más para la otra que para ésta”. Había dado de sí todo lo que tenía que dar; aunque fue muy servicial, lo que sea de cada quien. “De todos modos, los ‘tilcuatazos’ que se van a llevar esos locos”, pensó.\n",
      "Pensaba más en Susana San Juan, metida siempre en su cuarto, durmiendo, y cuando no, como si durmiera. La noche anterior se la había pasado en pie, recostado en la pared, observando a través de la pálida luz de la veladora el cuerpo en movimiento de Susana; la cara sudorosa, las manos agitando las sábanas, estrujando la almohada hasta el desmorecimiento.\n",
      "Desde que la había traído a vivir aqui no sabía de otras noches pasadas a su lado, sino de estas noches doloridas, de interminable inquietud. Y se preguntaba hasta cuándo terminaría aquello. Esperaba que alguna vez. Nada puede durar tanto, no existe ningún recuerdo por intenso que sea que no se apague.\n",
      "Si al menos hubiera sabido qué era aquello que la maltrataba por dentro, que la hacía revolcarse en el desvelo, como si la despedazaran hasta inutilizarla.\n",
      "Él creía conocerla. Y aun cuando no hubiera sido así, ¿acaso no era suficiente saber que era la criatura más querida por él sobre la tierra? Y que además, y esto era lo más importante, le serviría para irse de la vida alumbrándose con aquella imagen que borraría todos los demás recuerdos.\n",
      "¿Pero cuál era el mundo de Susana San Juan? Ésa fue una de las cosas que Pedro Páramo nunca llegó a saber.\n",
      "\n",
      "\n",
      "“Mi cuerpo se sentía a gusto sobre el calor de la arena. Tenía los ojos cerrados, los brazos abiertos, desdobladas las piernas a la brisa del mar. Y el mar allí enfrente, lejano, dejando apenas restos de espuma en mis pies al subir de su marea...”\n",
      "—Ahora sí es ella la que habla, Juan Preciado. No se te olvide decirme lo que dice.\n",
      "“... Era temprano. El mar corría y bajaba en olas. Se desprendía de su espuma y se iba, limpio, con su agua verde, en ondas calladas.\n",
      "“—En el mar sólo me sé bañar desnuda —le dije. Y él me siguió el primer día, desnudo también, fosforescente al salir del mar. No había gaviotas; sólo esos pájaros que les dicen ‘picos feos’, que gruñen como si roncaran y después de que sale el sol desaparecen. Él me siguió el primer día y se sintió solo, a pesar de estar yo allí.\n",
      "“—Es como si fuera un ‘pico feo’, uno más entre todos —me dijo—. Me gustas más en las noches, cuando estamos los dos en la misma almohada, bajo las sábanas, en la oscuridad.\n",
      "“Y se fue.\n",
      "“Volví yo. Volvería siempre. El mar moja mis tobillos y se va; moja mis rodillas, mis muslos; rodea mi cintura con su brazo suave, da vuelta sobre mis senos; se abraza de mi cuello; aprieta mis hombros. Entonces me hundo con él, entera. Me entrego a él en su fuerte batir, en su suave poseer, sin dejar pedazo.”\n",
      "“—Me gusta bañarme en el mar —le dije.\n",
      "“Pero él no comprende.\n",
      "“Y al otro día estaba otra vez en el mar, purificándome. Entregándome en sus olas.”\n",
      "\n",
      "\n",
      "Pardeando la tarde, aparecieron los hombres. Venían encarabinados y terciados de cerrilleras. Eran cerca de veinte . Pedro Páramo los invitó a cenar a la mesa y esperaron callados. Sólo se les oyó sorber el chocolate, y masticar tortilla tras tortilla cuando les arrimaron los frijoles.\n",
      "Pedro Páramo los miraba. No se le hacían caras conocidas. Detrasito de él, en la sombra el Tilcuate.\n",
      "—Patrones —les dijo cuando vio que acababan de comer—, ¿ en que más puedo servirlos?\n",
      "—¿Usted es el dueño de esto? —preguntó uno abanicando la mano.\n",
      "Pero otro lo interrumpió diciendo:\n",
      "—¡Aquí yo soy el que hablo!\n",
      "—Bien. ¿qué se les ofrece? —volvió a preguntar Pedro Páramo.\n",
      "—Como usté ve, nos hemos levantado en armas.\n",
      "—¿Y?\n",
      "—Y pos eso es todo. ¿Le parece poco?\n",
      "—¿Pero porqué lo han hecho?\n",
      "—Pos porque otros lo han hecho también. ¿No lo sabe usté? Aguárdenos tantito a que nos lleguen instrucciones y entonces le averiguaremos la causa. Por lo pronto ya estamos aquí.\n",
      "—Yo sé la causa —dijo otro—. Y si quiere se la entero. Nos hemos rebelado contra el gobierno y contra ustedes porque ya estamos aburridos de soportarlos. Al gobierno por rastrero y a ustedes porque no son más que unos móndrigos bandidos y mantecosos ladrones. Y del señor gobierno ya no digo nada porque le vamos a decir a balazos lo que le queremos decir.\n",
      "—¿Cuánto necesitan para hacer su revolución? —preguntó Pedro Páramo—. Tal vez yo pueda ayudarlos.\n",
      "—Dice bien aquí el señor, Perseverancio. No se te debía soltar la lengua. Necesitamos agenciarnos un rico pa que no habilite, y qué mejor que el señor aquí presente. ¿A ver tú, Casildo, como cuánto nos hace falta?\n",
      "—Que nos dé lo que su buena intención quiera darnos.\n",
      "—Éste “no le daría agua ni al gallo de la pasión”. Aprovechemos que estamos aquí para sacarle de una vez hasta el maíz que trai atorado en su cochino buche.\n",
      "—Cálmate, Perseverancio. Por las buenas se consiguen mejor las cosas. Vamos a ponernos de acuerdo. Habla tú, Casildo.\n",
      "—Pos yo ahi al cálculo diría que unos veinte mil pesos no estarían mal para el comienzo ¿Qué les parece a ustedes? Ora que quién sabe si al señor éste se le haga poco, con eso de que tiene sobrada voluntad de ayudarnos. Pongamos entonces cincuenta mil. ¿De acuerdo?\n",
      "—Les voy a dar cien mil pesos —les dijo Pedro Páramo—. ¿Cuántos son ustedes?\n",
      "—Semos trescientos.\n",
      "—Bueno. Les voy a prestar otros trescientos hombres para que aumenten su contingente. Dentro de una semana tendrán a su disposición tanto los hombres como el dinero. El dinero se los regalo, a los hombres nomás se los presto. En cuanto los desocupen mándenmelos para acá. ¿Está bien así?\n",
      "—Pero cómo no.\n",
      "—Entonces hasta dentro de ocho días, señores. Y he tenido mucho gusto en conocerlos.\n",
      "—Sí —dijo el último al salir—. Acuérdese que, si no nos cumple, oirá hablar de Perseverancio, que así es mi nombre.\n",
      "Pedro Páramo se despidió de él dándole la mano.\n",
      "\n",
      "\n",
      "—¿Quién crees tú que sea el jefe de éstos? —le preguntó más tarde al Tilcuate.\n",
      "—Pues a mí se me figura que es el barrigón ese que estaba en medio y que ni alzó los ojos. Me late que es él... Me equivoco pocas veces, don Pedro.\n",
      "—No, Damasio, el jefe eres tú. ¿O qué, no te quieres ir a la revuelta?\n",
      "—Pero si hasta se me hace tarde. Con lo que me gusta a mí la bulla.\n",
      "—Ya viste pues de qué se trata, así que ni necesitas mis consejos. Júntate trescientos muchachos de tu confianza y enrólate con esos alzados. Diles que les llevas la gente que les prometí. Lo demás ya sabrás tú cómo manejarlo.\n",
      "—¿Y del dinero qué les digo? ¿También se los entriego?\n",
      "—Te voy a dar diez pesos para cada uno. Ahí nomás para sus gastos más urgentes. Les dices que el resto está aquí guardado y a su disposición. No es conveniente cargar tanto dinero andando en esos trajines. Entre paréntesis ¿Te gustaría el ranchito de la Puerta de Piedra? Bueno pues es tuyo desde ahorita. Le vas a llevar un recado al Licenciado Gerardo Trujillo, de Comala, y allí mismo pondrá a tu nombre la propiedad. ¿Qué dices, Damasio?\n",
      "—Eso ni se pregunta, patrón. Aunque con eso o sin eso yo haría esto por puro gusto. Como si usted no me conociera. De cualquier modo, se lo agradezco. La vieja tendrá por lo menos con qué entretenerse mientras yo suelto el trapo.\n",
      "—Y mira, ahi de pasada arréate unas cuantas vacas. A ese rancho lo que le falta es movimiento.\n",
      "—¿No importa que sean cebuses?\n",
      "—Escoge de las que quieras, y las que tantees pueda cuidar tu mujer. Y volviendo a nuestro asunto, procura no alejarte mucho de mis terrenos, por eso de que si vienen otros que vean el campo ya ocupado. Y venme a ver cada que puedas o tengas alguna novedad.\n",
      "—Nos veremos patrón.\n",
      "\n",
      "\n",
      "—¿Qué es lo que dice Juan Preciado?\n",
      "—Dice que ella escondía sus pies entre las piernas de él. Sus pies helados como piedras frías y que allí se calentaban como en un horno donde se dora el pan. Dice que él mordía los pies diciéndole que eran como pan dorado en el horno. Que dormía acurrucada, metiéndose dentro de él, perdida en la nada al sentir que se quebraba su carne, que se abría como un surco abierto por un clavo ardoroso, luego tibio, luego dulce, dando golpes duros contra su carne blanda; sumiéndose, sumiéndose más, hasta el gemido.Pero que le había dolido más su muerte. Eso dice.\n",
      "—¿A quién se refiere?\n",
      "—A alguien que murió antes que ella, seguramente.\n",
      "—¿Pero quién pudo ser?\n",
      "—No sé. Dice que en la noche en la cual él tardó en venir sintió que había regresado ya muy noche, quizá de madrugada. Lo notó apenas, porque sus pies, que habían estado solos y fríos, parecieron envolverse en algo; que alguien los envolvía en algo y les da calor. Cuando despertó los encontró liados en un periódico que ella había estado leyendo mientras lo esperaba y que había dejado caer al suelo cuando ya no pudo soportar el sueño. Y que allí estaban sus pies envueltos en periódico cuando vinieron a decirle que él había muerto.\n",
      "—Se ha de haber roto el cajón donde la enterraron, porque oye como un crujir de tablas.\n",
      "—Sí, yo también lo oigo.\n",
      ",br>\n",
      "—Esa noche volvieron a sucederse los sueños ¿Porqué ese recordar intenso de tantas cosas? ¿Porqué no simplemente la muerte y no esa música tierna del pasado?\n",
      "—Florencio ha muerto, señora.\n",
      "—¡Qué largo era aquel hombre! ¡Qué alto! Y su voz era dura. Seca como la tierra más seca. Y su figura era borrosa, ¿O se hizo borrosa después?, como si entre ella y él se interpusiera la lluvia. “¿Qué había dicho? ¿Florencio? ¿De cuál Florencio hablaba? ¿del mío? ¡Oh!, porqué no lloré y me anegué entonces en lágrimas para enjuagar mi angustia. ¡Señor, tú no existes! Te pedí tu protección para él. Que me lo cuidaras. Eso te pedí. Pero tú te ocupas nada más de las almas. Y yo lo que quiero de él es su cuerpo. Desnudo y caliente de amor; hirviendo de deseos; estrujando el temblor de mis senos y de mis brazos. Mi cuerpo transparente suspendido del suyo. Mi cuerpo liviano sostenido y suelto a sus fuerzas. ¿Qué haré de mis doloridos labios?”\n",
      "Mientras Susana San Juan se revolvía inquieta, de pie, junto a la puerta, Pedro Páramo la miraba y contaba los segundos de aquel nuevo sueño que ya duraba mucho. El aceite de la lámpara chisporreaba y la llama hacía cada vez más débil su parpadeo. Pronto se apagaría.\n",
      "Si al menos fuera dolor lo que sintiera ella, y no esos sueños sin sosiego, esos interminables y agotadores sueños, él podría buscarle algún consuelo. Así pensaba Pedro Páramo, fija la vista en Susana San Juan, siguiendo cada uno de sus movimientos. ¿Qué sucedería si ella también se apagara cuando se apagara la llama de aquélla débil luz con que él la veía?\n",
      "Después salió cerrando la puerta sin hacer ruido. Afuera el limpio aire de la noche despegó de Pedro Páramo la imagen de Susana San Juan.\n",
      "Ella despertó un poco antes del amanecer. Sudorosa tiró al suelo las pesadas cobijas y se deshizo hasta el calor de las sábanas. Entonces su cuerpo se quedó desnudo, refrescado por el viento de la madrugada. Suspiró y luego volvió a quedarse dormida.\n",
      "Así fue como la encontró horas después el padre Rentería; desnuda y dormida.\n",
      "\n",
      "\n",
      "—¿Sabe, don Pedro, que derrotaron al Tilcuate?\n",
      "—Sé que hubo alguna balacera anoche, porque se estuvo oyendo el alboroto, pero de ahi en más no sé nada. ¿Quién te contó eso, Gerardo?\n",
      "—Llegaron unos heridos a Comala. Mi mujer ayudó para eso de los vendajes. Dijeron que eran de la gente de Damasio y que habían tenido muchos muertos. Parece que se encontraron con unos que se dicen villistas.\n",
      "—¡Qué caray, Gerardo! Estoy viendo llegar tiempos malos. ¿Y tú qué piensas hacer?\n",
      "—Me voy, don Pedro. A Sayula. Allá volveré a establecerme.\n",
      "—Ustedes los abogados tienen esa ventaja; pueden llevarse su patrimonio a todas partes, mientras no les rompan el hocico.\n",
      "—Ni crea, don Pedro; siempre nos andamos creando problemas. Además duele dejar a personas como usted, y las diferencias que han tenido para con uno se extrañan. Vivimos rompiendo nuestro mundo a cada rato, si es válido decirlo. ¿Dónde quiere que le deje los papeles?\n",
      "—No los dejes. Llévatelos. ¿O qué no puedes seguir encargado de mis asuntos allá a donde vas?\n",
      "—Agradezco su confianza, don Pedro. La agradezco sinceramente. Aunque hago la salvedad de que me será imposible. Ciertas irregularidades... Digamos... Testimonios que nadie sino usted debe conocer. Pueden prestarse a malos manejos en caso de llegar a caer en otras manos. Lo más seguro es que estén con usted.\n",
      "—Dices bien. Gerardo. Déjalos aquí. Los quemaré. Con papeles o sin ellos, ¿quién me puede discutir la propiedad de lo que tengo?\n",
      "—Indudablemente nadie, don Pedro. Nadie. Con su permiso.\n",
      "—Ve con Dios, Gerardo.\n",
      "—¿Qué dijo usted?\n",
      "—Digo que Dios te acompañe.\n",
      "El licenciado Gerardo Trujillo salió despacio. Estaba ya viejo; pero no para dar esos pasos tan cortos, tan sin ganas. La verdad es que esperaba una recompensa. Había servido a don Lucas, que en paz descanse, padre de don Pedro; después a don Pedro. La verdad es que esperaba una compensación. Una retribución grande y valiosa. Le había dicho a su mujer:\n",
      "—Voy a despedirme de don Pedro. Sé que me gratificará. Estoy por decir que con el dinero que él me dé nos estableceremos bien en Sayula y viviremos holgadamente el resto de nuestro días.\n",
      "Pero ¿por qué las mujeres siempre tienen una duda? ¿Reciben avisos del cielo, o qué? Ella no estuvo segura de que consiguiera algo:\n",
      "—Tendrás que trabajar muy duro allá para levantar cabeza. De aquí no sacarás nada.\n",
      "—¿Por qué lo dices?\n",
      "—Lo sé.\n",
      "Siguió andando hacia la puerta, atento a cualquier llamado: “¡Ey, Gerardo! Lo preocupado que estoy no me ha permitido pensar en ti. Pero yo te debo favores que no se pagan con dinero. Recibe esto: un regalo insignificante.”\n",
      "Pero el llamado no vino. Cruzó la puerta y desanudó el bozal con que su caballo estaba amarrado al horcón. Subió a la silla y, al paso, tratando de no alejarse mucho para oír si lo llamaban, caminó hacia Comala sin desviarse del camino. Cuando vio que la Media Luna se perdía detrás de él, pensó: “Sería mucho rebajarme si le pidiera un préstamo.”\n",
      "\n",
      "\n",
      "—Don Pedro, he regresado, pues no estoy satisfecho conmigo mismo. Gustoso seguiré llevando sus asuntos.\n",
      "Lo dijo, sentado nuevamente en el despacho de Pedro Páramo, donde había estado no hacía ni media hora.\n",
      "—Está bien, Gerardo. Allí están los papeles, donde tú los dejaste.\n",
      "—Desearía también... Los gastos... El traslado... Un mínimo adelanto de honorarios... Algo extra, por si usted lo tiene a bien.\n",
      "—¿Quinientos?\n",
      "—¿No podría ser un poco, digamos, un poquito más?\n",
      "—¿Te conformas con mil?\n",
      "—¿Y si fueran cinco?\n",
      "—¿Cinco qué? ¿Cinco mil pesos? No los tengo. Tú bien sabes que todo está invertido. Tierras, animales. Tú lo sabes. Llévate mil. No creo que necesites más.\n",
      "Se quedó meditando. La cabeza caída. Oía el tintineo de los pesos sobre el escritorio donde Pedro Páramo contaba el dinero. Se acordaba de don Lucas, que siempre le quedó a deber sus honorarios. De don Pedro, que hizo cuenta nueva. De Miguel su hijo: ¡cuántos bochornos le había dado ese muchacho!\n",
      "Lo libró de la cárcel cuando menos unas quince veces, cuando no hayan sido más. Y el asesinato que cometió con aquél hombre, ¿cómo se apellidaba? Rentería, eso es. El muerto llamado Rentería, al que le pusieron una pistola en la mano. Lo asustado que estaba el Miguelito, aunque después le diera risa. Eso nomás ¿cuánto le hubiera costado a don Pedro si las cosas hubieran ido hasta allá, hasta lo legal? Y lo de las violaciones ¿qué? Cuántas veces él tuvo que sacar de su misma bolsa el dinero para que ellas le echaran tierra al asunto: “¡Date de buenas que vas a tener un hijo güerito!”, les decía.\n",
      "—Aquí tienes, Gerardo. Cuídalos muy bien, porque no retoñan.\n",
      "Y él que todavía estaba en sus cavilaciones, respondió:\n",
      "—Sí, tampoco los muertos retoñan —y agregó—: Desgradaciadamente.\n",
      "\n",
      "\n",
      "Faltaba mucho para el amanecer. El cielo estaba lleno de estrellas, gordas, hinchadas de tanta noche. La luna había salido un rato y luego se había ido. Era una de esas lunas tristes que nadie mira, a las que nadie hace caso. Estuvo un rato allí desfigurada, sin dar ninguna luz, y después fue a esconderse detrás de los cerros.\n",
      "Lejos, perdido en la oscuridad, se oía el bramido de los toros.\n",
      "“Esos animales nunca duermen —dijo Damiana Cisneros—. Nunca duermen. Son como el diablo, que siempre anda buscando almas para llevárselas al infierno.” Se dio vuelta a la cama, acercando la cara a la pared. Entonces oyó los golpes.\n",
      "Detuvo la respiración y abrió los ojos. Volvió a oír tres golpes secos, como si alguien tocara con los nudos de la mano en la pared. No aquí, junto a ella, sino más lejos; pero en la misma pared.\n",
      "“¡Válgame! Si no serán los tres toques de San Pascual Bailón, que viene a avisarle a algún devoto suyo que ha llegado la hora de su muerte.”\n",
      "Y como ella había perdido el novenario desde hacía tiempo, a causa de sus reumas, no se preocupó; pero le entró miedo y, más que miedo, curiosidad.\n",
      "Se levantó del catre sin hacer ruido y se asomó a la ventana.\n",
      "Los campos estaban negros. Sin embargo, lo conocía tan bien, que vio cuando el cuerpo enorme de Pedro Páramo se columpiaba sobre la ventana de la chacha Margarita.\n",
      "—¡Ah, qué don Pedro! —dijo Damiana—. No se le quita lo gatero. Lo que no entiendo es por qué le gusta hacer las cosas tan a escondidas; con habérmelo avisado, yo le hubiera dicho a la Margarita que el patrón la necesita para esta noche, y él no hubiera tenido ni la molestia de levantarse de su cama.\n",
      "Cerró la ventana al oír el bramido de los toros. Se echó, sobre el catre cobijándose hasta las orejas, y luego se puso a pensar en lo que le estaría pasando a la chacha Margarita.\n",
      "Más tarde tuvo que quitarse el camisón porque la noche comenzó a ponerse calurosa...\n",
      "—¡Damiana! —oyó.\n",
      "Entonces ella era muchacha.\n",
      "—¡Ábreme la puerta Damiana!\n",
      "Le temblaba el corazón como si fuera un sapo brincándole entre las costillas.\n",
      "—Pero ¿para qué, patrón?\n",
      "—¡Ábreme, Damiana!\n",
      "—Pero si ya estoy dormida, patrón.\n",
      "Después sintió que don Pedro se iba por los largos corredores, dando aquellos zapatazos que sabía dar cuando estaba corajudo.\n",
      "A la noche siguiente, ella, para evitar el disgusto, dejó la puerta entornada y hasta se desnudó para que él no encontrara dificultades.\n",
      "Pero Pedro Páramo jamás regresó con ella.\n",
      "Por eso ahora, cuando era la caporala de todas las sirvientas de la Media Luna, por haberse dado a respetar, ahora, que estaba ya vieja, todavía pensaba en aquella noche cuando el patrón le dijo: “­¡Ábreme la puerta Damiana!”\n",
      "Y se acostó pensando en lo feliz que sería a estas horas la chacha Margarita.\n",
      "Después volvió a oír otros golpes; pero contra la puerta grande, como si la estuvieran aporreando a culatazos.\n",
      "Otra vez abrió la ventana y se asomó a la noche. No veía nada; aunque le pareció que la tierra estaba llena de hervores, como cuando ha llovido y se enchina de gusanos. Sentía que se levantaba algo así como el calor de muchos hombres. Oyó el croar de las ranas; los grillos; la noche quieta del tiempo de aguas. Luego volvió a oír los culatazos aporreando la puerta.\n",
      "Una lámpara regó su luz sobre la cara de algunos hombres. Después se apagó.\n",
      "“Son cosas que a mí no me interesan”, dijo Damiana Cisneros, y cerró la ventana.\n",
      "\n",
      "\n",
      "—Supe que te habían derrotado, Damasio. ¿Por qué te dejas hacer eso?\n",
      "—Le informaron mal, patrón. A mí no me ha pasado nada. Tengo mi gente enterita. Ahi traigo setecientos hombres y otros cuantos arrimados. Lo que pasó es que unos pocos de los viejos, aburridos de estar ociosos, se pusieron a disparar contra un pelotón de pelones, que resultó ser todo un ejército. Villistas, ¿sabe usted?\n",
      "—¿Y de dónde salieron ésos?\n",
      "—Vienen del Norte, arriando parejo con todo lo que encuentran. Parece, según se ve, que andan recorriendo la tierra, tanteando todos los terrenos. Son poderosos. Eso ni quien se los quite.\n",
      "—¿Y por qué no te juntas con ellos? Ya te he dicho que hay que estar con el que vaya ganando.\n",
      "—Ya estoy con ellos.\n",
      "—¿Entonces para qué vienes a verme?\n",
      "—Necesitamos dinero, patrón. Ya estamos cansados de comer carne. Ya ni se nos antoja. Y nadie nos quiere fiar. Por eso venimos, para que usted nos provea y no nos veamos urgidos de robarle a nadie. Si anduviéramos remotos no nos importaría darle un entre a los vecinos; pero aquí todos estamos emparentados y nos remuerde robar. Total, es dinero lo que necesitamos para mercar aunque sea una gorda con chile. Estamos hartos de comer carne.\n",
      "—¿Ahora te me vas a poner exigente, Damasio?\n",
      "—De ningún modo, patrón. Estoy abogando por los muchachos, por mí, ni me apuro.\n",
      "Está bien que te acomidas por tu gente; pero sonsácales a otros lo que necesitas. Yo ya te di. Confórmate con lo que te di. Y éste no es un consejo ni mucho menos, ¿pero no se te ha ocurrido asaltar Contla? ¿Para qué crees que andas en la revolución? Si vas a pedir limosna estás atrasado. Valía más que mejor te fueras con tu mujer a cuidar gallinas. ¡Échate sobre algún pueblo! Si tú andas arriesgando el pellejo, ¿por qué diablos no van a poner otros algo de su parte? Contla está que hierve de ricos. Quítales tantito de lo que tienen. ¿O acaso creen que tú eres tu pilmama y que estás para cuidarles sus intereses? No, Damasio. Hazles ver que no andas jugando ni divirtiéndote. Dales un pegue y ya verás cómo sales con centavos de este mitote.\n",
      "—Lo que sea, patrón. De usted siempre saco algo de provecho.\n",
      "—Pues que te aproveche.\n",
      "Pedro Páramo miró cómo los hombres se iban. Sintió desfilar frente a él el trote de caballos oscuros confundidos con la noche. El sudor y el polvo; el temblor de la tierra. Cuando vio los cocuyos cruzando otra vez sus luces, se dió cuenta de que todos los hombres se habían ido. Quedaba él, solo, como un tronco duro comenzando a desgajarse por dentro.\n",
      "Pensó en Susana San Juan. Pensó en la muchacha con la que acababa de dormir apenas un rato. Aquel pequeño cuerpo azorado y tembloroso que parecía iba a echar fuera su corazón por la boca. “Puñadito de carne”, le dijo. Y se había abrazado a ella tratando de convertirla en la carne de Susana San Juan. “Una mujer que no era de este mundo.”\n",
      "\n",
      "\n",
      "En el comienzo del amanecer, el día va dándose vuelta, a pausas; casi se oyen los goznes de la tierra que giran enmohecidos; la vibración de esta tierra vieja que vuelca su oscuridad.\n",
      "—¿Verdad que la noche está llena de pecados, Justina?\n",
      "—Sí, Susana.\n",
      "—¿Y es verdad?\n",
      "—Debe serlo, Susana.\n",
      "—¿Y qué crees que es la vida, Justina, sino un pecado? ¿No oyes? ¿No oyes cómo rechina la tierra?\n",
      "—No, Susana, no alcanzo a oír nada. Mi suerte no es tan grande como la tuya.\n",
      "—Te asombrarías. Te digo que te asombrarías de oír lo que yo oigo.\n",
      "Justina siguió poniendo orden en el cuarto. Repasó una y otra vez la jerga sobre los tablones húmedos del piso. Limpió el agua del florero roto. Recogió las flores. Puso los vidrios en el balde lleno de agua.\n",
      "—¿Cuántos pájaros has matado en tu vida, Justina?\n",
      "—Muchos, Susana.\n",
      "—¿Y no has sentido tristeza?\n",
      "—Sí, Susana.\n",
      "—Entonces, ¿qué esperas para morirte?\n",
      "—La muerte, Susana.\n",
      "—Si es nada más eso, ya vendrá. No te preocupes.\n",
      "Susana San Juan estaba incorporada sobre sus almohadas. Los ojos inquietos, mirando hacia todos lados. Las manos sobre el vientre, prendidas a su vientre como una concha protectora. Había ligeros zumbidos que cruzaban como alas por encima de su cabeza. Y el ruido de las poleas en la noria. El rumor que hace la gente al despertar.\n",
      "—¿Tú crees en el infierno, Justina?\n",
      "—Sí, Susana. Y también en el cielo.\n",
      "—Yo sólo creo en el infierno —dijo. Y cerró los ojos.\n",
      "Cuando salió Justina del cuarto, Susana San Juan estaba nuevamente dormida y afuera chisporroteaba el sol. Se encontró con Pedro Páramo en el camino.\n",
      "—¿Cómo está la señora?\n",
      "—Mal —le dijo agachando la cabeza.\n",
      "—¿Se queja?\n",
      "—No, señor, no se queja de nada; pero dicen que los muertos ya no se quejan. La señora está perdida para todos.\n",
      "—¿No ha venido el padre Rentería a verla?\n",
      "—Anoche vino y la confesó. Hoy debía de haber comulgado, pero no debe estar en gracia porque el padre Rentería no le ha traído la comunión. Dijo que lo haría a hora temprana, y ya ve usted, el sol ya está aquí y no ha venido. No debe estar en gracia.\n",
      "—¿En gracia de quién?\n",
      "—De Dios, señor.\n",
      "—No seas tonta, Justina.\n",
      "—Como usted lo diga, señor.\n",
      "Pedro Páramo abrió la puerta y se estuvo junto a ella, dejando que un rayo de luz cayera sobre Susana San Juan. Vio sus ojos apretados como cuando se siente un dolor interno; la boca humedecida, entreabierta y las sábanas siendo recorridas por manos inconscientes hasta mostrar la desnudez de su cuerpo, que comenzó a retorcerse en convulsiones.\n",
      "Recorrió el pequeño espacio que lo separaba de la cama y cubrió el cuerpo desnudo, que siguió debatiéndose como un gusano en espasmos cada vez más violentos. Se acercó a su oído y le habló: “¡Susana!”, y volvió a repetir: “¡Susana!”\n",
      "Se abrió la puerta y entró el padre Rentería en silencio, moviendo brevemente los labios:\n",
      "—Te voy a dar la comunión, hija mía.\n",
      "Esperó a que Pedro Páramo la levantara recostándola contra el respaldo de la cama. Susana San Juan semidormida estiró la lengua y se tragó la hostia. Después dijo: “Hemos pasado un rato muy feliz, Florencio.” Y se volvió a hundir entre la sepultura de sus sábanas.\n",
      "\n",
      "\n",
      "—¿Ve usted aquella ventana, doña Fausta, allá en la Media Luna, donde siempre ha estado prendida la luz?\n",
      "—No, Ángeles. No veo ninguna ventana.\n",
      "—Es que ahorita se ha quedado a oscuras. ¿No estará pasando algo malo en la Media Luna? Hace más de tres años que está aluzada esa ventana, noche tras noche. Dicen los que han estado allí que es el cuarto donde habita la mujer de Pedro Páramo, una pobrecita loca que le tiene miedo a la oscuridad. Y mire: ahora mismo se ha apagado la luz. ¿No será un mal suceso?\n",
      "—Tal vez haya muerto. Estaba muy enferma. Dicen que ya no conocía a la gente, y dizque hablaba sola. Buen castigo ha de haber soportado Pedro Páramo casándose con esa mujer.\n",
      "—Pobre del señor don Pedro.\n",
      "—No, Fausta. Él se lo merece. Eso y más.\n",
      "—Mire, la ventana sigue a oscuras.\n",
      "—Ya deje tranquila esa ventana y vámonos a dormir, que es muy noche para que este par de viejas andemos sueltas por la calle.\n",
      "Y las dos mujeres, que salían de la iglesia muy cerca de las once de la noche, se perdieron bajo los arcos del portal, mirando cómo la sombra de un hombre cruzaba la plaza en dirección de la Media Luna.\n",
      "—Oiga, doña Fausta, ¿no se le figura que el señor que va allí es el doctor Valencia?\n",
      "—Así parece, aunque estoy tan cegatona que no lo podría reconocer.\n",
      "—Acuérdese que siempre viste pantalones blancos y saco negro. Yo le apuesto a que está aconteciendo algo malo en la Media Luna. Y mire lo recio que va, como si lo correteara la prisa.\n",
      "—Con tal de que no sea de verdad una cosa grave. Me dan ganas de regresar y decirle al padre Rentería que se dé una vuelta por allá, no vaya a resultar que esa infeliz muera sin confesión.\n",
      "—Ni lo piense, Ángeles. Ni lo quiera Dios. Después de todo lo que ha sufrido en este mundo, nadie desearía que se fuera sin los auxilios espirituales, y que siguiera penando en la otra vida. Aunque dicen los zahorinos que a los locos no les vale la confesión, y aun cuando tengan el alma impura son inocentes. Eso sólo Dios lo sabe... Mire usted, ya se ha vuelto a prender la luz en la ventana. Ojalá todo salga bien. Imagínese en qué pararía el trabajo que nos hemos tomado todos estos días para arreglar la iglesia y que luzca bonita ahora para la Natividad, si alguien se muere en esa casa. Con el poder que tiene don Pedro, nos desbarataría la función en un santiamén.\n",
      "—A usted siempre se le ocurre lo peor, doña Fausta. Mejor haga lo que yo: encomiéndelo todo a la Divina Providencia. Récele un Ave María a la Virgen y estoy segura que nada va a pasar de hoy a mañana. Ya después, que se haga la voluntad de Dios, al fin y al cabo, ella no debe estar tan contenta en esta vida.\n",
      "—Créame, Ángeles, que usted siempre me repone el ánimo.Voy a dormir llevándome al sueño estos pensamientos. Dicen que los pensamientos de los sueños van derecho al cielo. Ojalá que los míos alcancen esa altura. Nos veremos mañana.\n",
      "—Hasta mañana, Fausta.\n",
      "Las dos viejas, puerta de por medio, se metieron en sus casas. El silencio volvió a cerrar la noche sobre el pueblo.\n",
      "\n",
      "\n",
      "—Tengo la boca llena de tierra.\n",
      "—Sí, padre.\n",
      "—No digas: “Sí, padre”. Repite conmigo lo que yo vaya diciendo.\n",
      "—¿Qué va usted a decirme? ¿Me va a confesar otra vez? ¿Por qué otra vez?\n",
      "—Ésta no será una confesión, Susana. Sólo vine a platicar contigo. A prepararte para la muerte.\n",
      "—¿Ya me voy a morir?\n",
      "—Sí, hija.\n",
      "—¿Por qué entonces no me deja en paz? Tengo ganas de descansar. Le han de haber encargado que viniera a quitarme el sueño. Que se estuviera aquí conmigo hasta que se me fuera el sueño. ¿Qué haré después para encontrarlo? Nada, padre. ¿Por qué mejor no se va y me deja tranquila?\n",
      "—Te dejaré en paz, Susana. Conforme vayas repitiendo las palabras que yo diga, te irás quedando dormida. Sentirás como si tú misma te arrullaras. Y ya que te duermas nadie te despertará... Nunca volverás a despertar.\n",
      "—Está bien, padre. Haré lo que usted diga.\n",
      "El padre Rentería, sentado en la orilla de la cama, puestas las manos sobre los hombros de Susana San Juan, con su boca casi pegada a la oreja de ella para no hablar fuerte, encajaba secretamente cada una de sus palabras: “Tengo la boca llena de tierra”. Luego se detuvo. Trató de ver si los labios de ella se movían. Y los vio balbucir, aunque sin dejar salir ningún sonido.\n",
      "“Tengo la boca llena de ti, de tu boca. Tus labios apretados, duros como si mordieran oprimiendo mis labios...”\n",
      "Se detuvo también. Miró de reojo al padre Rentería y lo vio lejos, como si estuviera detrás de un vidrio empañado. Luego volvió a oír la voz calentando su oído:\n",
      "—Trago saliva espumosa; mastico terrones plagados de gusanos que se me anudan en la garganta y raspan la pared del paladar... Mi boca se hunde, retorciéndose en muecas, perforada por los dientes que la taladran y devoran. La nariz se reblandece. La gelatina de los ojos se derrite. Los cabellos arden en una sola llamarada...\n",
      "Le extrañaba la quietud de Susana San Juan. Hubiera querido adivinar sus pensamientos y ver la batalla de aquel corazón por rechazar las imágenes que él estaba sembrando dentro de ella. Le miró los ojos y ella le devolvió la mirada. Y le pareció ver como si sus labios forzaran una sonrisa.\n",
      "—Aún falta más. La visión de Dios. La luz suave de su cielo infinito. El gozo de los querubines y el canto de los serafines. La alegría de los ojos de Dios, última y fugaz visión de los condenados a la pena eterna. Y no sólo eso, sino todo conjugado con un dolor terrenal. El tuétano de nuestros huesos convertido en lumbre y las venas de nuestra sangre en hilos de fuego, haciéndonos dar reparos de increíble dolor, no menguando nunca, atizado siempre por la ira del Señor.\n",
      "“Él me cobijaba entre sus brazos. Me daba amor.”\n",
      "El padre Rentería repasó con la vista las figuras que estaban alrededor de él, esperando el último momento. Cerca de la puerta, Pedro Páramo aguardaba con los brazos cruzados; en seguida, el doctor Valencia, y junto a ellos otros señores. Más allá, en las sombras, un puño de mujeres a las que se les hacía tarde para comenzar a rezar la oración de difuntos.\n",
      "Tuvo intenciones de levantarse. Dar los santos óleos a la enferma y decir: “He terminado.” Pero no, no había terminado todavía. No podía entregar los sacramentos a una mujer sin conocer la medida de su arrepentimiento.\n",
      "Le entraron dudas. Quizá ella no tenía nada de que arrepentirse. Tal vez él no tenía nada de que perdonarla. Se inclinó nuevamente sobre ella y, sacudiéndole los hombros, le dijo en voz baja:\n",
      "—Vas a ir a la presencia de Dios. Y su juicio es inhumano para los pecadores.\n",
      "Luego se acercó otra vez a su oído; pero ella sacudió la cabeza:\n",
      "—¡Ya váyase, padre! No se mortifique por mí. Estoy tranquila y tengo mucho sueño.\n",
      "Se oyó el sollozo de una de las mujeres escondidas en la sombra.\n",
      "Entonces Susana San Juan pareció recobrar vida. Se alzó en la cama y dijo:\n",
      "—¡Justina, hazme el favor de irte a llorar a otra parte!\n",
      "Después sintió que la cabeza se le clavaba en el vientre. Trató de separar el vientre de su cabeza; de hacer a un lado aquel vientre que le apretaba los ojos y le cortaba la respiración; pero cada vez se volcaba más como si se hundiera en la noche.\n",
      "\n",
      "\n",
      "—Yo. Yo vi morir a doña Susanita.\n",
      "—¿Qué dices, Dorotea?\n",
      "—Lo que te acabo de decir.\n",
      "\n",
      "\n",
      "Al alba, la gente fue despertada por el repique de las campanas. Era la mañana de diciembre. Una mañana gris. No fría; pero gris. El repique comenzó con la campana mayor. La siguieron las demás. Algunos creyeron que llamaban para la misa grande y empezaron a abrirse las puertas; las menos, sólo aquellas donde vivía gente desmañanada, que esperaba despierta a que el toque del alba les avisara que ya había terminado la noche. Pero el repique duró más de lo debido. Ya no sonaban sólo las campanas de la iglesia mayor, sino también las del Santuario. Llegó el mediodía y no cesaba el repique. Llegó la noche. Y de día y de noche las campanas siguieron tocando, todas por igual, cada vez con más fuerza, hasta que aquello se convirtió en un lamento rumoroso de sonidos. Los hombres gritaban para oír lo que querían decir: “¿Qué habrá pasado?”, se preguntaban.\n",
      "A los tres días todos estaban sordos. Se hacía imposible hablar con aquel zumbido de que estaba lleno el aire. Pero las campanas seguían, seguían, algunas ya cascadas, con un sonar hueco, como de cántaro.\n",
      "—Se ha muerto doña Susana.\n",
      "—¿Muerto? ¿Quién?\n",
      "—La señora.\n",
      "—¿La tuya?\n",
      "—La de Pedro Páramo.\n",
      "Comenzó a llegar gente de otros rumbos, atraída por el constante repique. De Contla venían como en peregrinación. Y aun de más lejos. Quién sabe de dónde, pero llegó un circo, con volantines y sillas voladoras. Músicos. Se acercaban primero como si fueran mirones, y al rato ya se habían avecinado, de manera que hasta hubo serenatas. Y así poco a poco la cosa se convirtió en fiesta. Comala hormigueó de gente, de jolgorio y de ruidos, igual que en los días de la función, en que costaba trabajo dar un paso por el pueblo.\n",
      "Las campanas dejaron de tocar; pero la fiesta siguió. No hubo modo de hacerles comprender que se trataba de un duelo, de días de duelo. No hubo modo de hacer que se fueran antes, por el contrario, siguieron llegando más.\n",
      "La Media Luna estaba sola, en silencio. Se caminaba con los pies descalzos; se hablaba en voz baja. Enterraron a Susana San Juan y pocos en Comala se enteraron. Allá había feria. Se jugaba a los gallos, se oía la música; los gritos de los borrachos y de loterías. Hasta acá llegaba la luz del pueblo, que parecía una aureola sobre el cielo gris. Porque fueron días grises, tristes para la Media Luna. Don Pedro no hablaba. No salía de su cuarto. Juró vengarse de Comala:\n",
      "—Me cruzaré de brazos y Comala se morirá de hambre.\n",
      "Y así lo hizo.\n",
      "\n",
      "\n",
      "El Tilcuate siguió viniendo:\n",
      "—Ahora somos carrancistas.\n",
      "—Está bien.\n",
      "—Andamos con mi general Obregón.\n",
      "—Está bien.\n",
      "—Allá se ha hecho la paz. Andamos sueltos.\n",
      "—Espera. No desarmes a tu gente. Esto no puede durar mucho.\n",
      "—Se ha levantado en armas el padre Rentería. ¿Nos vamos con él, o contra él?\n",
      "—Eso ni se discute. Ponte al lado del gobierno.\n",
      "—Pero si somos irregulares. Nos consideran rebeldes.\n",
      "—Entonces vete a descansar.\n",
      "—¿Con el vuelo que llevo?\n",
      "—Haz lo que quieras, entonces.\n",
      "—Me iré a reforzar al padrecito. Me gusta cómo gritan. Además lleva uno ganada la salvación.\n",
      "—Haz lo que quieras.\n",
      "\n",
      "\n",
      "Pedro Páramo estaba sentado en un viejo equipal, junto a la puerta grande de la Media Luna, poco antes de que se fuera la última sombra de la noche. Estaba solo, quizá desde hacía tres horas. No dormía. Se había olvidado del sueño y del tiempo: “Los viejos dormimos poco, casi nunca. A veces apenas si dormitamos; pero sin dejar de pensar. Eso es lo único que me queda por hacer.” Después añadió en voz alta: “No tarda ya. No tarda.”\n",
      "Y siguió: “Hace mucho tiempo que te fuiste, Susana. La Luz era igual entonces que ahora, no tan bermeja; pero era la misma pobre luz sin lumbre, envuelta en el paño blanco de la neblina que hay ahora. Era el mismo momento. Yo aquí, junto a la puerta mirando el amanecer y mirando cuando te ibas, siguiendo el camino del cielo; por donde el cielo comenzaba a abrirse en luces, alejándote, cada vez más desteñida entre las sombras de la tierra.\n",
      "“Fue la última vez que te vi. Pasaste rozando con tu cuerpo las ramas del paraíso que está en la vereda y te llevaste con tu aire sus últimas hojas. Luego desapareciste. Te dije: ‘­¡Regresa, Susana!’”\n",
      "Pedro Páramo siguió moviendo los labios, susurrando palabras. Después cerró la boca y entreabrió los ojos, en los que se reflejó la débil claridad del amanecer.\n",
      "Amanecía.\n",
      "\n",
      "\n",
      "A esa misma hora, la madre de Gamaliel Villalpando, doña Inés, barría la calle frente a la tienda de su hijo, cuando llegó y, por la puerta entornada, se metió Abundio Martínez. Se encontró al Gamaliel dormido encima del mostrador con el sombrero cubriéndole la cara para que no lo molestaran las moscas. Tuvo que esperar un buen rato para que despertara. Tuvo que esperar a que doña Inés terminara la faena de barrer la calle y viniera a picarle las costillas a su hijo con el mango de la escoba y le dijera:\n",
      "—¡Aquí tienes un cliente! ­¡Alevántate!\n",
      "El Gamaliel se enderezó de mal genio, dando gruñidos. Tenía los ojos colorados de tanto desvelarse y de tanto acompañar a los borrachos, emborrachándose con ellos. Ya sentado sobre el mostrador, maldijo a su madre, se maldijo a sí mismo y maldijo infinidad de veces a la vida, “que valía un puro carajo”. Luego volvió a acomodarse con las manos entre las piernas y se volvió a dormir todavía farfullando maldiciones:\n",
      "—Yo no tengo la culpa de que a estas horas anden sueltos los borrachos.\n",
      "—El pobre de mi hijo. Discúlpalo, Abundio. El pobre se pasó la noche atendiendo a unos viajantes que se picaron con las copas. ¿Qué es lo que te trae por aquí tan de mañana?\n",
      "Se lo dijo a gritos, porque Abundio era sordo.\n",
      "—Pos nada más un cuartillo de alcohol, del que estoy necesitado.\n",
      "—¿Se te volvió a desmayar la Refugio?\n",
      "—Se me murió ya, madre Villa. Anoche mismito, muy cerca de las once. Y conque hasta vendí mis burros. Hasta eso vendí porque se me aliviara.\n",
      "—¡No oigo lo que estás diciendo! ¿O no estás diciendo nada? ¿Qué es lo que dices?\n",
      "—Que me pasé la noche velando a la muerta, a la Refugio. Dejó de resollar anoche.\n",
      "—Con razón me olió a muerto. Fíjate que hasta yo le dije al Gamaliel: “Me huele que alguien se murió en el pueblo.” Pero ni caso me hizo; con eso de que tuvo que congeniar con los viajantes, el pobre se emborrachó. Y tú sabes que cuando está en ese estado, todo le da risa y ni caso le hace a una. ¿Pero qué me dices? ¿Y tienes convidados para el velorio?\n",
      "—Ninguno, madre Villa. Para eso quiero el alcohol para curarme la pena.\n",
      "—¿Lo quieres puro?\n",
      "—Sí, madre Villa. Pa emborracharme más pronto. Y démelo rápido que llevo prisa.\n",
      "—Te daré dos decilitros por el mismo precio y por ser para ti. Ve diciéndole entretanto a la difuntita que yo siempre la aprecié y que me tome en cuenta cuando llegue a la gloria.\n",
      "—Sí, madre Villa.\n",
      "—Díselo antes de que acabe de enfriar.\n",
      "—Se lo diré. Yo se que ella también cuenta con usté pa que ofrezca sus oraciones. Con decirle que se murió compungida porque no hubo ni quien la auxiliara.\n",
      "—¿Qué, no fuiste a ver al padre Rentería?\n",
      "—Fui. Pero me informaron que andaba en el cerro.\n",
      "—¿En cuál cerro?\n",
      "—Pos por esos andurriales. Usté sabe que andan en la revuelta.\n",
      "—¿De modo que también él? Pobres de nosotros, Abundio.\n",
      "—A nosotros qué nos importa eso, madre Villa. Ni nos va ni nos viene. Sírvame la otra. Ahi como que se hace la disimulada, al fin y al cabo el Gamaliel está dormido.\n",
      "—Pero no se te olvide pedirle a la Refugio que ruegue a Dios por mí, que tanto lo necesito.\n",
      "—No se mortifique. Se lo diré en llegando. Y hasta le sacaré la promesa de palabra, por si es necesario y pa que usté se deje de apuraciones.\n",
      "—Eso, eso mero debes hacer. Porque tú sabes cómo son las mujeres. Así que hay que exigirles el cumplimiento en seguida.\n",
      "Abundio Martínez dejó otros veinte centavos sobre el mostrador.\n",
      "—Déme el otro cuartillo, madre Villa. Y si me lo quiere dar sobradito por ahi es cosa de usté. Lo único que le prometo es que éste sí me lo iré a beber junto a la difuntita; junto a mi Cuca.\n",
      "—Vete pues, antes que se despierte mi hijo. Se le agria mucho el genio cuando amanece después de una borrachera. Vete volando y no se te olvide darle mi encargo a tu mujer.\n",
      "Salió de la tienda dando estornudos. Aquello era pura lumbre; pero como le habían dicho que así se subía más pronto, sorbió un trago tras otro, echándose aire en la boca con la falda de la camisa. Luego trató de ir derecho a su casa, donde lo esperaba la Refugio; pero torció el camino y echó a andar calle arriba, saliéndose del pueblo por donde lo llevó la vereda.\n",
      "—¡Damiana! —llamó Pedro Páramo—. Ven a ver qué quiere ese hombre que viene por el camino.\n",
      "Abundio siguió avanzando, dando traspiés, agachando la cabeza y a veces caminando en cuatro patas. Sentía que la tierra se retorcía, le daba vueltas y luego se le soltaba; él corría para agarrarla y cuando ya la tenía en sus manos se le volvía a ir; hasta que llegó frente a la figura de un señor sentado junto a una puerta. Entonces se detuvo:\n",
      "—Denme una caridad para enterrar a mi mujer —dijo.\n",
      "Damiana Cisneros rezaba: “De las asechanzas del enemigo malo, líbranos, Señor.” Y le apuntaba con las manos haciendo la señal de la cruz.\n",
      "Abundio Martínez vio a la mujer de los ojos azorados, poniéndole aquella cruz enfrente, y se estremeció. Pensó que tal vez el demonio lo había seguido hasta allí, y se dio vuelta, esperando encontrarse con alguna mala figuración. Al no ver a nadie repitió:\n",
      "—Vengo por una ayudita para enterrar a mi muerta.\n",
      "El sol le llegaba por la espalda. Ese sol recién salido, casi frío, desfigurado por el polvo de la tierra.\n",
      "La cara de Pedro Páramo se escondió debajo de las cobijas como si se escondiera de la luz, mientras que los gritos de Damiana se oían salir más repetidos, atravesando los campos: “¡Están matando a don Pedro!”\n",
      "Abundio Martínez oía que aquella mujer gritaba. No sabía que hacer para acabar con esos gritos. No le encontraba la punta a sus pensamientos. Sentía que los gritos de la vieja se debían estar oyendo muy lejos. Quizá hasta su mujer los estuviera oyendo, porque a él le taladraban las orejas, aunque no entendía lo que decía. Pensó en su mujer, que estaba tendida en el catre, solita, allá en el patio de su casa, adonde él la había sacado para que se serenara y no se apestara pronto. La Cuca, que todavía ayer se acostaba con él, bien viva, retozando como una potranca, y que lo mordía y le raspaba la nariz con su nariz. La que le dio aquel hijito que se les murió apenas nacido, dizque porque ella estaba incapacitada: el mal de ojo y los fríos y la rescoldera y no sé cuántos males tenía su mujer, según le dijo el doctor que fue a verla ya a última hora, cuando tuvo que vender sus burros para traerlo hasta acá, por el cobro tan alto que le pidió. Y de nada había servido... La Cuca, que ahora estaba allá aguantando el relente, con los ojos cerrados, ya sin poder ver amanecer, ni este sol ni ningún otro.\n",
      "—¡Ayúdenme! —dijo—. Denme algo.\n",
      "Pero ni siquiera él se oyó. Los gritos de aquella mujer lo dejaban sordo.\n",
      "Por el camino de Comala se movieron unos puntitos negros. De pronto los puntitos se convirtieron en hombres y luego estuvieron aquí, cerca de él. Damiana Cisneros dejó de gritar. Deshizo su cruz. Ahora se había caído y abría la boca como si bostezara.\n",
      "Los hombres que habían venido la levantaron del suelo y la llevaron al interior de la casa.\n",
      "—¿No le ha pasado nada a usted, patrón? —preguntaron.\n",
      "Apareció la cara de Pedro Páramo, que sólo movió la cabeza.\n",
      "Desarmaron a Abundio, que aún tenía el cuchillo lleno de sangre en la mano:\n",
      "—Vente con nosotros —le dijeron—. En buen lío te has metido.\n",
      "Y el los siguió.\n",
      "Antes de entrar en el pueblo les pidió permiso. Se hizo a un lado y allí vomitó una cosa amarilla como de bilis. Chorros y chorros, como si hubiera sorbido diez litros de agua. Entonces le comenzó a arder la cabeza y sintió la lengua trabada.\n",
      "—Estoy borracho —dijo.\n",
      "Regresó a donde estaban esperándolo. Se apoyó en los hombros de ellos, que lo llevaron a rastras, abriendo un surco en la tierra con la punta de los pies.\n",
      "\n",
      "\n",
      "Allá atrás, Pedro Páramo, sentado en su equipal, miró el cortejo que se iba hacia el pueblo. Sintió que su mano izquierda, al querer levantarse, caía muerta sobre sus rodilla; pero no hizo caso de eso. Estaba acostumbrado a ver morir cada día alguno de sus pedazos. Vio cómo se sacudía el paraíso dejando caer sus hojas: “Todos escogen el mismo camino. Todos se van.” Después volvió al lugar donde había dejado sus pensamientos.\n",
      "“—Susana —dijo. Luego cerró los ojos—. Yo te pedí que regresaras...\n",
      "“... Había una luna grande en medio del mundo. Se me perdían los ojos mirándote. Los rayos de la luna filtrándose sobre tu cara.No me cansaba de ver esa aparición que eras tú. Suave, restregada de luna; tu boca abullonada, humedecida, irisada de estrellas; tu cuerpo transparentándose en el agua de la noche. Susana, Susana San Juan.”\n",
      "Quiso levantar su mano para aclarar la imagen; pero sus piernas la retuvieron como si fuera de piedra. Quiso levantar la otra mano y fue cayendo despacio, de lado, hasta quedar apoyada en el suelo como una muleta deteniendo su hombro deshuesado.\n",
      "—Esta es mi muerte —dijo.\n",
      "El sol se fue volteando sobre las cosas y les devolvió su forma. La tierra en ruinas estaba frente a él, vacía. El calor caldeaba su cuerpo. Sus ojos apenas se movían; saltaban de un recuerdo a otro, desdibujando el presente. De pronto su corazón se detenía y parecía como si también se detuvieran el tiempo y el aire de la vida.\n",
      "“Con tal de que no sea una nueva noche”, pensaba él.\n",
      "Porque tenía miedo de las noches que le llenaban de fantasmas. De eso tenía miedo.\n",
      "“Sé que dentro de pocas horas vendrá Abundio con sus manos ensangrentadas a pedirme la ayuda que le negué. Y yo no tendré manos para taparme los ojos y no verlo. Tendré que oírlo; hasta que su voz se apague con el día, hasta que se le muera su voz.”\n",
      "Sintió que unas manos le tocaban los hombros y enderezó el cuerpo, endureciéndolo.\n",
      "—Soy yo, don Pedro —dijo Damiana. ¿No quiere que le traiga su almuerzo?\n",
      "Pedro Páramo respondió:\n",
      "—Voy para allá. Ya voy.\n",
      "Se apoyó en los brazos de Damiana Cisneros e hizo el intento de caminar. Después de unos cuantos pasos cayó, suplicando por dentro; pero sin decir una sola palabra. Dio un golpe seco contra la tierra y se fue desmoronando como si fuera un montón de piedras.\n"
     ]
    }
   ],
   "source": [
    "myfile = open(\"Pedro Paramo.txt\", encoding='utf8')\n",
    "# print(myfile.read())\n",
    "# Or:\n",
    "# print(myfile.readlines())\n",
    "# Or:\n",
    "# for lines in myfile:\n",
    "#     print(lines.split()[:])\n",
    "for line in myfile:\n",
    "    line = line.strip()\n",
    "    print(line)"
   ]
  },
  {
   "cell_type": "code",
   "execution_count": 3,
   "metadata": {},
   "outputs": [
    {
     "data": {
      "text/plain": [
       "['Juan Rulfo\\n', '(1918-1986)\\n', '\\n', 'Pedro Páramo (1955)\\n', '\\n']"
      ]
     },
     "execution_count": 3,
     "metadata": {},
     "output_type": "execute_result"
    }
   ],
   "source": [
    "myfile = open(\"Pedro Paramo.txt\", encoding='utf8')\n",
    "myfile.readlines()[:5]"
   ]
  },
  {
   "cell_type": "code",
   "execution_count": 4,
   "metadata": {},
   "outputs": [],
   "source": [
    "myfile = open(\"Pedro Paramo.txt\", encoding='utf8')\n",
    "text = str(myfile.readlines()) #Necesitamos que text sea una sucesión de strings"
   ]
  },
  {
   "cell_type": "code",
   "execution_count": 5,
   "metadata": {},
   "outputs": [
    {
     "name": "stdout",
     "output_type": "stream",
     "text": [
      "[\"['Juan Rulfo\\\\n', '(1918-1986)\\\\n', '\\\\n', 'Pedro Páramo (1955)\\\\n', '\\\\n', \"\n",
      " \"'      Vine a Comala porque me dijeron que acá vivía mi padre, un tal Pedro \"\n",
      " 'Páramo.',\n",
      " 'Mi madre me lo dijo.',\n",
      " 'Y yo le prometí que vendría a verlo en cuanto ella muriera.',\n",
      " 'Le apreté sus manos en señal de que lo haría, pues ella estaba por morirse y '\n",
      " 'yo en un plan de prometerlo todo.',\n",
      " '«No dejes de ir a visitarlo —me recomendó.']\n"
     ]
    }
   ],
   "source": [
    "sents = nltk.sent_tokenize(text)\n",
    "pprint.pprint(sents[:5]) #Primeras 5 líneas"
   ]
  },
  {
   "cell_type": "code",
   "execution_count": 6,
   "metadata": {
    "scrolled": true
   },
   "outputs": [
    {
     "name": "stdout",
     "output_type": "stream",
     "text": [
      "43645\n"
     ]
    },
    {
     "data": {
      "text/plain": [
       "['[', \"'Juan\", 'Rulfo\\\\n', \"'\", ',', \"'\", '(', '1918-1986', ')', '\\\\n']"
      ]
     },
     "execution_count": 6,
     "metadata": {},
     "output_type": "execute_result"
    }
   ],
   "source": [
    "from nltk.tokenize import word_tokenize # Passing the string text into word tokenize for breaking the sentences\n",
    "token = word_tokenize(text, language='spanish')\n",
    "print(len(token))\n",
    "token[:10]"
   ]
  },
  {
   "cell_type": "code",
   "execution_count": 7,
   "metadata": {},
   "outputs": [
    {
     "name": "stdout",
     "output_type": "stream",
     "text": [
      "The 20 most common words:\n"
     ]
    },
    {
     "data": {
      "text/plain": [
       "[(',', 3228),\n",
       " (\"'\", 2992),\n",
       " ('.', 2018),\n",
       " ('que', 1302),\n",
       " ('de', 1275),\n",
       " ('la', 903),\n",
       " ('a', 793),\n",
       " ('el', 656),\n",
       " ('y', 555),\n",
       " ('se', 547),\n",
       " ('\\\\n', 488),\n",
       " ('en', 482),\n",
       " ('?', 432),\n",
       " ('no', 397),\n",
       " ('lo', 355),\n",
       " ('los', 324),\n",
       " ('me', 297),\n",
       " ('por', 291),\n",
       " ('las', 266),\n",
       " ('Y', 263)]"
      ]
     },
     "execution_count": 7,
     "metadata": {},
     "output_type": "execute_result"
    }
   ],
   "source": [
    "from nltk.probability import FreqDist\n",
    "fdist = FreqDist(token)\n",
    "fdist1 = fdist.most_common(20)\n",
    "print('The',len(fdist1),'most common words:')\n",
    "fdist1"
   ]
  },
  {
   "cell_type": "code",
   "execution_count": 8,
   "metadata": {
    "scrolled": true
   },
   "outputs": [
    {
     "name": "stdout",
     "output_type": "stream",
     "text": [
      "Text length: 199066\n",
      "Stopwords length: 29160 \n",
      "\n",
      "['[', \"'Juan\", 'Rulfo\\\\n', \"'\", ',', \"'\", '(', '1918-1986', ')', '\\\\n', \"'\", ',', \"'\\\\n\", \"'\", ',', \"'Pedro\", 'Páramo']\n"
     ]
    }
   ],
   "source": [
    "# importing stopwors from nltk library\n",
    "from nltk import word_tokenize\n",
    "from nltk.corpus import stopwords\n",
    "a = set(stopwords.words('spanish'))\n",
    "textl = word_tokenize(text, language='spanish')\n",
    "stopws = [x for x in textl if x not in a]\n",
    "print('Text length:',len(text))\n",
    "print('Stopwords length:',len(stopws),'\\n')\n",
    "print(stopws[:17])"
   ]
  },
  {
   "cell_type": "code",
   "execution_count": 9,
   "metadata": {},
   "outputs": [
    {
     "name": "stdout",
     "output_type": "stream",
     "text": [
      "The 20 most common words:\n"
     ]
    },
    {
     "data": {
      "text/plain": [
       "[(',', 3228),\n",
       " (\"'\", 2992),\n",
       " ('.', 2018),\n",
       " ('\\\\n', 488),\n",
       " ('?', 432),\n",
       " ('Y', 263),\n",
       " ('“', 246),\n",
       " (';', 225),\n",
       " (':', 193),\n",
       " ('si', 178),\n",
       " ('”', 145),\n",
       " (\"'\\\\n\", 129),\n",
       " ('usted', 112),\n",
       " ('No', 111),\n",
       " ('Pedro', 110),\n",
       " ('!', 101),\n",
       " ('aquí', 92),\n",
       " ('El', 91),\n",
       " ('—No', 90),\n",
       " ('Páramo', 85)]"
      ]
     },
     "execution_count": 9,
     "metadata": {},
     "output_type": "execute_result"
    }
   ],
   "source": [
    "from nltk.probability import FreqDist\n",
    "fdist = FreqDist(stopws)\n",
    "fdist1 = fdist.most_common(1000)\n",
    "print('The 20 most common words:')\n",
    "fdist1[:20]"
   ]
  },
  {
   "cell_type": "code",
   "execution_count": 10,
   "metadata": {},
   "outputs": [
    {
     "data": {
      "text/plain": [
       "[('[', 'JJ'),\n",
       " (\"'Juan\", \"''\"),\n",
       " ('Rulfo\\\\n', 'NNP'),\n",
       " (\"'\", 'POS'),\n",
       " (',', ','),\n",
       " (\"'\", \"''\"),\n",
       " ('(', '('),\n",
       " ('1918-1986', 'JJ'),\n",
       " (')', ')'),\n",
       " ('\\\\n', 'NN'),\n",
       " (\"'\", \"''\"),\n",
       " (',', ','),\n",
       " (\"'\\\\n\", 'NNP'),\n",
       " (\"'\", 'POS'),\n",
       " (',', ','),\n",
       " (\"'Pedro\", 'FW'),\n",
       " ('Páramo', 'NNP'),\n",
       " ('(', '('),\n",
       " ('1955', 'CD'),\n",
       " (')', ')')]"
      ]
     },
     "execution_count": 10,
     "metadata": {},
     "output_type": "execute_result"
    }
   ],
   "source": [
    "nltk.pos_tag(token)[:20]"
   ]
  },
  {
   "cell_type": "markdown",
   "metadata": {},
   "source": [
    "Main Characters"
   ]
  },
  {
   "cell_type": "code",
   "execution_count": 11,
   "metadata": {},
   "outputs": [
    {
     "data": {
      "text/plain": [
       "(110, 85)"
      ]
     },
     "execution_count": 11,
     "metadata": {},
     "output_type": "execute_result"
    }
   ],
   "source": [
    "len([x for x in token if x == 'Pedro']), len([x for x in nltk.pos_tag(token) if x[0] == 'Páramo'])"
   ]
  },
  {
   "cell_type": "code",
   "execution_count": 12,
   "metadata": {},
   "outputs": [
    {
     "data": {
      "text/plain": [
       "51"
      ]
     },
     "execution_count": 12,
     "metadata": {},
     "output_type": "execute_result"
    }
   ],
   "source": [
    "len([x for x in token if x == 'Susana'])"
   ]
  },
  {
   "cell_type": "code",
   "execution_count": 13,
   "metadata": {},
   "outputs": [
    {
     "data": {
      "text/plain": [
       "47"
      ]
     },
     "execution_count": 13,
     "metadata": {},
     "output_type": "execute_result"
    }
   ],
   "source": [
    "len([x for x in token if x == 'Fulgor'])"
   ]
  },
  {
   "cell_type": "code",
   "execution_count": 14,
   "metadata": {},
   "outputs": [
    {
     "data": {
      "text/plain": [
       "24"
      ]
     },
     "execution_count": 14,
     "metadata": {},
     "output_type": "execute_result"
    }
   ],
   "source": [
    "len([x for x in token if x == 'Rentería'])"
   ]
  },
  {
   "cell_type": "code",
   "execution_count": 15,
   "metadata": {},
   "outputs": [
    {
     "data": {
      "text/plain": [
       "23"
      ]
     },
     "execution_count": 15,
     "metadata": {},
     "output_type": "execute_result"
    }
   ],
   "source": [
    "len([x for x in token if x == 'Miguel'])"
   ]
  },
  {
   "cell_type": "markdown",
   "metadata": {},
   "source": [
    "Minor Characters"
   ]
  },
  {
   "cell_type": "code",
   "execution_count": 16,
   "metadata": {},
   "outputs": [
    {
     "data": {
      "text/plain": [
       "19"
      ]
     },
     "execution_count": 16,
     "metadata": {},
     "output_type": "execute_result"
    }
   ],
   "source": [
    "len([x for x in token if x == 'Damiana'])"
   ]
  },
  {
   "cell_type": "code",
   "execution_count": 17,
   "metadata": {},
   "outputs": [
    {
     "data": {
      "text/plain": [
       "19"
      ]
     },
     "execution_count": 17,
     "metadata": {},
     "output_type": "execute_result"
    }
   ],
   "source": [
    "len([x for x in token if x == 'Justina'])"
   ]
  },
  {
   "cell_type": "code",
   "execution_count": 18,
   "metadata": {},
   "outputs": [
    {
     "data": {
      "text/plain": [
       "17"
      ]
     },
     "execution_count": 18,
     "metadata": {},
     "output_type": "execute_result"
    }
   ],
   "source": [
    "len([x for x in token if x == 'Dorotea'])"
   ]
  },
  {
   "cell_type": "code",
   "execution_count": 19,
   "metadata": {},
   "outputs": [
    {
     "data": {
      "text/plain": [
       "12"
      ]
     },
     "execution_count": 19,
     "metadata": {},
     "output_type": "execute_result"
    }
   ],
   "source": [
    "len([x for x in token if x == 'Eduviges'])"
   ]
  },
  {
   "cell_type": "code",
   "execution_count": 20,
   "metadata": {},
   "outputs": [
    {
     "data": {
      "text/plain": [
       "12"
      ]
     },
     "execution_count": 20,
     "metadata": {},
     "output_type": "execute_result"
    }
   ],
   "source": [
    "len([x for x in token if x == 'Bartolomé'])"
   ]
  },
  {
   "cell_type": "code",
   "execution_count": 21,
   "metadata": {},
   "outputs": [
    {
     "data": {
      "text/plain": [
       "11"
      ]
     },
     "execution_count": 21,
     "metadata": {},
     "output_type": "execute_result"
    }
   ],
   "source": [
    "len([x for x in token if x == 'Abundio'])"
   ]
  },
  {
   "cell_type": "code",
   "execution_count": 22,
   "metadata": {},
   "outputs": [
    {
     "data": {
      "text/plain": [
       "10"
      ]
     },
     "execution_count": 22,
     "metadata": {},
     "output_type": "execute_result"
    }
   ],
   "source": [
    "len([x for x in token if x == 'Dolores'])"
   ]
  },
  {
   "cell_type": "code",
   "execution_count": 23,
   "metadata": {},
   "outputs": [
    {
     "data": {
      "text/plain": [
       "5"
      ]
     },
     "execution_count": 23,
     "metadata": {},
     "output_type": "execute_result"
    }
   ],
   "source": [
    "len([x for x in token if x == 'Donis'])"
   ]
  },
  {
   "cell_type": "code",
   "execution_count": 24,
   "metadata": {},
   "outputs": [
    {
     "data": {
      "text/plain": [
       "5"
      ]
     },
     "execution_count": 24,
     "metadata": {},
     "output_type": "execute_result"
    }
   ],
   "source": [
    "len([x for x in token if x == 'Toribio'])"
   ]
  },
  {
   "cell_type": "code",
   "execution_count": 25,
   "metadata": {},
   "outputs": [
    {
     "data": {
      "text/plain": [
       "5"
      ]
     },
     "execution_count": 25,
     "metadata": {},
     "output_type": "execute_result"
    }
   ],
   "source": [
    "len([x for x in token if x == 'Fausta'])"
   ]
  },
  {
   "cell_type": "code",
   "execution_count": 26,
   "metadata": {},
   "outputs": [
    {
     "data": {
      "text/plain": [
       "5"
      ]
     },
     "execution_count": 26,
     "metadata": {},
     "output_type": "execute_result"
    }
   ],
   "source": [
    "len([x for x in token if x == 'Gamaliel'])"
   ]
  },
  {
   "cell_type": "code",
   "execution_count": 27,
   "metadata": {},
   "outputs": [
    {
     "data": {
      "text/plain": [
       "2"
      ]
     },
     "execution_count": 27,
     "metadata": {},
     "output_type": "execute_result"
    }
   ],
   "source": [
    "len([x for x in token if x == 'Florencio'])"
   ]
  },
  {
   "cell_type": "code",
   "execution_count": 28,
   "metadata": {},
   "outputs": [
    {
     "data": {
      "text/plain": [
       "2"
      ]
     },
     "execution_count": 28,
     "metadata": {},
     "output_type": "execute_result"
    }
   ],
   "source": [
    "len([x for x in token if x == 'Valencia'])"
   ]
  },
  {
   "cell_type": "code",
   "execution_count": 29,
   "metadata": {},
   "outputs": [
    {
     "data": {
      "text/plain": [
       "1"
      ]
     },
     "execution_count": 29,
     "metadata": {},
     "output_type": "execute_result"
    }
   ],
   "source": [
    "len([x for x in token if x == 'Inocencio'])"
   ]
  },
  {
   "cell_type": "code",
   "execution_count": 30,
   "metadata": {},
   "outputs": [
    {
     "data": {
      "text/plain": [
       "6"
      ]
     },
     "execution_count": 30,
     "metadata": {},
     "output_type": "execute_result"
    }
   ],
   "source": [
    "len([x for x in token if x == 'Preciado']) #Juan Preciado, Dolores Preciado x 1"
   ]
  },
  {
   "cell_type": "code",
   "execution_count": 31,
   "metadata": {},
   "outputs": [
    {
     "data": {
      "text/plain": [
       "0"
      ]
     },
     "execution_count": 31,
     "metadata": {},
     "output_type": "execute_result"
    }
   ],
   "source": [
    "len([x for x in token if x == 'Juan Preciado'])"
   ]
  },
  {
   "cell_type": "code",
   "execution_count": 32,
   "metadata": {},
   "outputs": [
    {
     "data": {
      "text/plain": [
       "29"
      ]
     },
     "execution_count": 32,
     "metadata": {},
     "output_type": "execute_result"
    }
   ],
   "source": [
    "len([x for x in token if x == 'Juan']) #Juan Rulfo, Juan Preciado, Susana San Juan, Bartolomé San Juan"
   ]
  },
  {
   "cell_type": "code",
   "execution_count": 33,
   "metadata": {},
   "outputs": [],
   "source": [
    "P = 'Pedro' # Pedro Páramo\n",
    "F = 'Fulgor' # Fulgor Sedano\n",
    "S = 'Susana' # Susana San Juan\n",
    "M = 'Miguel' # Miguel Páramo\n",
    "D = 'Damiana' # Damiana Cisneros\n",
    "R = 'Rentería' # Padre Rentería\n",
    "J = 'Preciado' # Juan Preciado\n",
    "Js= 'Justina' # Justina Díaz\n",
    "Do= 'Dorotea' # sin apellido\n",
    "E = 'Eduviges' # Eduviges Dyada\n",
    "A = 'Abundio' # Abundio Martínez\n",
    "Dl= 'Dolores' # Dolores Preciado\n",
    "B = 'Bartolomé' # Bartolomé San Juan\n",
    "Ds= 'Donis' # sin apellido\n",
    "T = 'Toribio' # Toribio Aldrete\n",
    "Fa= 'Fausta' # sin apellido\n",
    "G = 'Gamaliel' # Gamaliel Villalpando\n",
    "V = 'Valencia' # doctor Valencia\n",
    "Fl= 'Florencio' # sin apellido\n",
    "I = 'Inocencio' # Inocencio Osorio"
   ]
  },
  {
   "cell_type": "code",
   "execution_count": 34,
   "metadata": {},
   "outputs": [
    {
     "data": {
      "text/plain": [
       "20"
      ]
     },
     "execution_count": 34,
     "metadata": {},
     "output_type": "execute_result"
    }
   ],
   "source": [
    "Lista = [P,F,S,M,D,R,J,Js,Do,E,A,Dl,B,Ds,T,Fa,G,V,Fl,I]\n",
    "len(Lista)"
   ]
  },
  {
   "cell_type": "code",
   "execution_count": 35,
   "metadata": {},
   "outputs": [],
   "source": [
    "# G = nx.Graph()\n",
    "# G.add_edge(J,D)\n",
    "# G.add_edge(J,Do)\n",
    "# G.add_edge(Fl,R)\n",
    "# G.add_edge(Fl,S)\n",
    "# G.add_edge(Fl,P)"
   ]
  },
  {
   "cell_type": "code",
   "execution_count": 36,
   "metadata": {},
   "outputs": [],
   "source": [
    "import networkx as nx\n",
    "import matplotlib.pyplot as plt"
   ]
  },
  {
   "cell_type": "markdown",
   "metadata": {},
   "source": [
    "Prueba:"
   ]
  },
  {
   "cell_type": "code",
   "execution_count": 37,
   "metadata": {},
   "outputs": [],
   "source": [
    "G = nx.Graph()\n",
    "G.add_edge(I,P)\n",
    "G.add_edge(Fl,R)\n",
    "G.add_edge(Fl,S, weight=2)\n",
    "G.add_edge(P,S, weight=13)\n",
    "G.add_edge(P,F, weight=3)\n",
    "G.add_edge(F,S, weight=2)\n",
    "G.add_edge(P,J)\n",
    "nx.write_weighted_edgelist(G, \"test.weighted.edgelist\")"
   ]
  },
  {
   "cell_type": "code",
   "execution_count": 38,
   "metadata": {},
   "outputs": [
    {
     "name": "stdout",
     "output_type": "stream",
     "text": [
      "1 [('Inocencio', 'Pedro')]\n",
      "4 [('Pedro', 'Inocencio'), ('Pedro', 'Susana'), ('Pedro', 'Fulgor'), ('Pedro', 'Preciado')]\n",
      "2 [('Florencio', 'Rentería'), ('Florencio', 'Susana')]\n",
      "1 [('Rentería', 'Florencio')]\n",
      "3 [('Susana', 'Florencio'), ('Susana', 'Pedro'), ('Susana', 'Fulgor')]\n",
      "2 [('Fulgor', 'Pedro'), ('Fulgor', 'Susana')]\n",
      "1 [('Preciado', 'Pedro')]\n"
     ]
    }
   ],
   "source": [
    "for i in G:\n",
    "    print(len(G.edges(i)),G.edges(i))"
   ]
  },
  {
   "cell_type": "code",
   "execution_count": 39,
   "metadata": {},
   "outputs": [
    {
     "data": {
      "text/plain": [
       "7"
      ]
     },
     "execution_count": 39,
     "metadata": {},
     "output_type": "execute_result"
    }
   ],
   "source": [
    "G.size()"
   ]
  },
  {
   "cell_type": "code",
   "execution_count": 40,
   "metadata": {},
   "outputs": [
    {
     "data": {
      "text/plain": [
       "23.0"
      ]
     },
     "execution_count": 40,
     "metadata": {},
     "output_type": "execute_result"
    }
   ],
   "source": [
    "G.size(weight='weight')"
   ]
  },
  {
   "cell_type": "markdown",
   "metadata": {},
   "source": [
    "Minado de texto:"
   ]
  },
  {
   "cell_type": "code",
   "execution_count": 41,
   "metadata": {},
   "outputs": [],
   "source": [
    "txts = \"\\\\n .\\\\n '\\\\n — —no “” :.,' ¡!¿?() ;\"\n",
    "stops = word_tokenize(txts)"
   ]
  },
  {
   "cell_type": "code",
   "execution_count": 42,
   "metadata": {},
   "outputs": [
    {
     "data": {
      "text/plain": [
       "['\\\\n', '.\\\\n', \"'\\\\n\", '—', '—no', '“', '”', ':', '.', ',']"
      ]
     },
     "execution_count": 42,
     "metadata": {},
     "output_type": "execute_result"
    }
   ],
   "source": [
    "stops[:10]"
   ]
  },
  {
   "cell_type": "code",
   "execution_count": 43,
   "metadata": {},
   "outputs": [],
   "source": [
    "filt = []\n",
    "for w in textl:\n",
    "    if w not in stops:\n",
    "        filt.append(w)"
   ]
  },
  {
   "cell_type": "code",
   "execution_count": 44,
   "metadata": {},
   "outputs": [
    {
     "name": "stdout",
     "output_type": "stream",
     "text": [
      "The 20 most common words:\n"
     ]
    },
    {
     "data": {
      "text/plain": [
       "[('que', 1302),\n",
       " ('de', 1275),\n",
       " ('la', 903),\n",
       " ('a', 793),\n",
       " ('el', 656),\n",
       " ('y', 555),\n",
       " ('se', 547),\n",
       " ('en', 482),\n",
       " ('no', 397),\n",
       " ('lo', 355),\n",
       " ('los', 324),\n",
       " ('me', 297),\n",
       " ('por', 291),\n",
       " ('las', 266),\n",
       " ('Y', 263),\n",
       " ('su', 240),\n",
       " ('le', 237),\n",
       " ('un', 233),\n",
       " ('con', 231),\n",
       " ('para', 206)]"
      ]
     },
     "execution_count": 44,
     "metadata": {},
     "output_type": "execute_result"
    }
   ],
   "source": [
    "from nltk.probability import FreqDist\n",
    "fdist = FreqDist(filt)\n",
    "fdist1 = fdist.most_common(1000)\n",
    "print('The 20 most common words:')\n",
    "fdist1[:20]"
   ]
  },
  {
   "cell_type": "code",
   "execution_count": 45,
   "metadata": {},
   "outputs": [
    {
     "data": {
      "text/plain": [
       "199066"
      ]
     },
     "execution_count": 45,
     "metadata": {},
     "output_type": "execute_result"
    }
   ],
   "source": [
    "len(text)"
   ]
  },
  {
   "cell_type": "code",
   "execution_count": 46,
   "metadata": {},
   "outputs": [
    {
     "data": {
      "text/plain": [
       "43645"
      ]
     },
     "execution_count": 46,
     "metadata": {},
     "output_type": "execute_result"
    }
   ],
   "source": [
    "len(textl)"
   ]
  },
  {
   "cell_type": "code",
   "execution_count": 47,
   "metadata": {},
   "outputs": [
    {
     "data": {
      "text/plain": [
       "33412"
      ]
     },
     "execution_count": 47,
     "metadata": {},
     "output_type": "execute_result"
    }
   ],
   "source": [
    "m = len(filt)\n",
    "m"
   ]
  },
  {
   "cell_type": "code",
   "execution_count": 48,
   "metadata": {},
   "outputs": [
    {
     "name": "stdout",
     "output_type": "stream",
     "text": [
      "1 ['Susana', 'Eso', 'es', 'lo', 'que', 'pasa', 'Cuando', 'venga', 'Pedro'] 23406 \n",
      "\n",
      "2 ['Susana', 'Se', 'recostó', 'sobre', 'su', 'pecho', 'abrazándola', 'hasta', 'que', 'ella', 'logró', 'levantar', 'aquella', 'cabeza', 'y', 'le', 'preguntó', '—¿Por', 'qué', 'lloras', 'Le', 'diré', 'a', 'Pedro'] 23799 \n",
      "\n",
      "3 ['Susana', 'San', 'Juan', 'Ésa', 'fue', 'una', 'de', 'las', 'cosas', 'que', 'Pedro'] 25302 \n",
      "\n",
      "4 ['Susana', 'San', 'Juan', 'se', 'revolvía', 'inquieta', 'de', 'pie', 'junto', 'a', 'la', 'puerta', 'Pedro'] 26833 \n",
      "\n",
      "5 ['Susana', 'San', 'Juan', 'estaba', 'nuevamente', 'dormida', 'y', 'afuera', 'chisporroteaba', 'el', 'sol', 'Se', 'encontró', 'con', 'Pedro'] 29212 \n",
      "\n",
      "6 ['Susana', '—¿Muerto', '¿Quién', '—La', 'señora.\\\\n', '—¿La', 'tuya', '—La', 'de', 'Pedro'] 31019 \n",
      "\n",
      "7 ['Susana', '’', 'Pedro'] 31563 \n",
      "\n"
     ]
    }
   ],
   "source": [
    "c = 0\n",
    "for i in range(m):\n",
    "    if filt[i] == 'Susana':\n",
    "        for w in range(30):\n",
    "            k = w + 1\n",
    "            if filt[i+k] == 'Pedro':\n",
    "                c += 1\n",
    "                print(c,filt[i:i+k+1],i,'\\n')"
   ]
  },
  {
   "cell_type": "code",
   "execution_count": 49,
   "metadata": {},
   "outputs": [
    {
     "name": "stdout",
     "output_type": "stream",
     "text": [
      "1 ['Pedro', 'Páramo', '—¿Y', 'yo', 'quién', 'soy', '—Tú', 'eres', 'mi', 'hija', 'Mía', 'Hija', 'de', 'Bartolomé', 'San', 'Juan.\\\\n', 'En', 'la', 'mente', 'de', 'Susana'] 22268 \n",
      "\n",
      "2 ['Pedro', 'Páramo', 'que', 'eres', 'buena', 'conmigo', 'No', 'le', 'contaré', 'nada', 'de', 'los', 'sustos', 'que', 'me', 'da', 'tu', 'gato', 'No', 'te', 'pongas', 'así', 'Justina', '—Tu', 'padre', 'ha', 'muerto', 'Susana'] 23822 \n",
      "\n",
      "3 ['Pedro', 'Páramo', 'fija', 'la', 'vista', 'en', 'Susana'] 26907 \n",
      "\n",
      "4 ['Pedro', 'Páramo', 'la', 'imagen', 'de', 'Susana'] 26960 \n",
      "\n",
      "5 ['Pedro', 'Páramo', 'abrió', 'la', 'puerta', 'y', 'se', 'estuvo', 'junto', 'a', 'ella', 'dejando', 'que', 'un', 'rayo', 'de', 'luz', 'cayera', 'sobre', 'Susana'] 29340 \n",
      "\n",
      "6 ['Pedro', 'Páramo', 'la', 'levantara', 'recostándola', 'contra', 'el', 'respaldo', 'de', 'la', 'cama', 'Susana'] 29465 \n",
      "\n"
     ]
    }
   ],
   "source": [
    "c = 0\n",
    "for i in range(m):\n",
    "    if filt[i] == 'Pedro':\n",
    "        for w in range(30):\n",
    "            k = w + 1\n",
    "            if filt[i+k] == 'Susana':\n",
    "                c += 1\n",
    "                print(c,filt[i:i+k+1],i,'\\n')"
   ]
  },
  {
   "cell_type": "code",
   "execution_count": 50,
   "metadata": {},
   "outputs": [
    {
     "name": "stdout",
     "output_type": "stream",
     "text": [
      "1 ['Pedro', 'Páramo', '—¿Y', 'yo', 'quién', 'soy', '—Tú', 'eres', 'mi', 'hija', 'Mía', 'Hija', 'de', 'Bartolomé', 'San', 'Juan.\\\\n', 'En', 'la', 'mente', 'de', 'Susana'] 20 22268 \n",
      "\n",
      "2 ['Susana', 'Eso', 'es', 'lo', 'que', 'pasa', 'Cuando', 'venga', 'Pedro'] 8 23414 \n",
      "\n",
      "3 ['Susana', 'Se', 'recostó', 'sobre', 'su', 'pecho', 'abrazándola', 'hasta', 'que', 'ella', 'logró', 'levantar', 'aquella', 'cabeza', 'y', 'le', 'preguntó', '—¿Por', 'qué', 'lloras', 'Le', 'diré', 'a', 'Pedro'] 23 23822 \n",
      "\n",
      "4 ['Pedro', 'Páramo', 'que', 'eres', 'buena', 'conmigo', 'No', 'le', 'contaré', 'nada', 'de', 'los', 'sustos', 'que', 'me', 'da', 'tu', 'gato', 'No', 'te', 'pongas', 'así', 'Justina', '—Tu', 'padre', 'ha', 'muerto', 'Susana'] 27 23822 \n",
      "\n",
      "5 ['Susana', 'San', 'Juan', 'Ésa', 'fue', 'una', 'de', 'las', 'cosas', 'que', 'Pedro'] 10 25312 \n",
      "\n",
      "6 ['Susana', 'San', 'Juan', 'se', 'revolvía', 'inquieta', 'de', 'pie', 'junto', 'a', 'la', 'puerta', 'Pedro'] 12 26845 \n",
      "\n",
      "7 ['Pedro', 'Páramo', 'fija', 'la', 'vista', 'en', 'Susana'] 6 26907 \n",
      "\n",
      "8 ['Pedro', 'Páramo', 'la', 'imagen', 'de', 'Susana'] 5 26960 \n",
      "\n",
      "9 ['Susana', 'San', 'Juan', 'estaba', 'nuevamente', 'dormida', 'y', 'afuera', 'chisporroteaba', 'el', 'sol', 'Se', 'encontró', 'con', 'Pedro'] 14 29226 \n",
      "\n",
      "10 ['Pedro', 'Páramo', 'abrió', 'la', 'puerta', 'y', 'se', 'estuvo', 'junto', 'a', 'ella', 'dejando', 'que', 'un', 'rayo', 'de', 'luz', 'cayera', 'sobre', 'Susana'] 19 29340 \n",
      "\n",
      "11 ['Pedro', 'Páramo', 'la', 'levantara', 'recostándola', 'contra', 'el', 'respaldo', 'de', 'la', 'cama', 'Susana'] 11 29465 \n",
      "\n",
      "12 ['Susana', '—¿Muerto', '¿Quién', '—La', 'señora.\\\\n', '—¿La', 'tuya', '—La', 'de', 'Pedro'] 9 31028 \n",
      "\n",
      "13 ['Susana', '’', 'Pedro'] 2 31565 \n",
      "\n"
     ]
    }
   ],
   "source": [
    "c = 0\n",
    "for i in range(m):\n",
    "    if filt[i] == 'Pedro':\n",
    "        for w in range(30):\n",
    "            k = w + 1\n",
    "            if filt[i-k] == 'Susana':\n",
    "                c += 1\n",
    "                print(c,filt[i-k:i+1],k,i,'\\n')\n",
    "                \n",
    "            elif filt[i+k] == 'Susana':\n",
    "                c += 1\n",
    "                print(c,filt[i:i+k+1],k,i,'\\n')\n",
    "                \n",
    "            elif filt[i-k] == 'Susana.\\\\n':\n",
    "                c += 1\n",
    "                print(c,filt[i-k:i+1],k,i,'\\n')"
   ]
  },
  {
   "cell_type": "code",
   "execution_count": 51,
   "metadata": {},
   "outputs": [
    {
     "name": "stdout",
     "output_type": "stream",
     "text": [
      "1 ['Inocencio', 'Osorio', 'Aunque', 'todos', 'lo', 'conocíamos', 'por', 'el', 'mal', 'nombre', 'del', 'Saltaperico', 'por', 'ser', 'muy', 'liviano', 'y', 'ágil', 'para', 'los', 'brincos', 'Mi', 'compadre', 'Pedro'] 23 3747 \n",
      "\n"
     ]
    }
   ],
   "source": [
    "c = 0\n",
    "for i in range(m):\n",
    "    if filt[i] == 'Inocencio':\n",
    "        for w in range(30):\n",
    "            k = w + 1\n",
    "            if filt[i-k] == 'Pedro':\n",
    "                c += 1\n",
    "                print(c,filt[i-k:i+1],k,i,'\\n')\n",
    "            elif filt[i+k] == 'Pedro':\n",
    "                c += 1\n",
    "                print(c,filt[i:i+k+1],k,i,'\\n')"
   ]
  },
  {
   "cell_type": "code",
   "execution_count": 52,
   "metadata": {},
   "outputs": [
    {
     "name": "stdout",
     "output_type": "stream",
     "text": [
      "1 ['Florencio', 'pero', 'eso', 'ya', 'lo', 'sé', 'No', 'te', 'aflijas', 'por', 'los', 'demás', 'no', 'te', 'apures', 'por', 'mí', 'Yo', 'tengo', 'guardado', 'mi', 'dolor', 'en', 'un', 'lugar', 'seguro', 'No', 'dejes', 'que', 'se', 'te', 'apague', 'el', 'corazón.', 'Enderezó', 'el', 'cuerpo', 'y', 'lo', 'arrastró', 'hasta', 'donde', 'estaba', 'el', 'padre', 'Rentería'] 45 24525 \n",
      "\n",
      "2 ['Florencio', 'pero', 'eso', 'ya', 'lo', 'sé', 'No', 'te', 'aflijas', 'por', 'los', 'demás', 'no', 'te', 'apures', 'por', 'mí', 'Yo', 'tengo', 'guardado', 'mi', 'dolor', 'en', 'un', 'lugar', 'seguro', 'No', 'dejes', 'que', 'se', 'te', 'apague', 'el', 'corazón.', 'Enderezó', 'el', 'cuerpo', 'y', 'lo', 'arrastró', 'hasta', 'donde', 'estaba', 'el', 'padre', 'Rentería', '—¡Déjame', 'consolarte', 'con', 'mi', 'desconsuelo', '—dijo', 'protegiendo', 'la', 'llama', 'de', 'la', 'vela', 'con', 'sus', 'manos.\\\\n', 'El', 'padre', 'Rentería'] 63 24525 \n",
      "\n"
     ]
    }
   ],
   "source": [
    "a = 'Florencio'\n",
    "b = 'Rentería'\n",
    "c = 0\n",
    "for i in range(m):\n",
    "    if filt[i] == a:\n",
    "        for w in range(100):\n",
    "            k = w + 1\n",
    "            if filt[i-k] == b:\n",
    "                c += 1\n",
    "                print(c,filt[i-k:i+1],k,i,'\\n')\n",
    "            elif filt[i+k] == b:\n",
    "                c += 1\n",
    "                print(c,filt[i:i+k+1],k,i,'\\n')"
   ]
  },
  {
   "cell_type": "code",
   "execution_count": 53,
   "metadata": {},
   "outputs": [
    {
     "name": "stdout",
     "output_type": "stream",
     "text": [
      "1 ['Florencio', 'hablaba', '¿del', 'mío', '¡Oh', 'porqué', 'no', 'lloré', 'y', 'me', 'anegué', 'entonces', 'en', 'lágrimas', 'para', 'enjuagar', 'mi', 'angustia', '¡Señor', 'tú', 'no', 'existes', 'Te', 'pedí', 'tu', 'protección', 'para', 'él', 'Que', 'me', 'lo', 'cuidaras', 'Eso', 'te', 'pedí', 'Pero', 'tú', 'te', 'ocupas', 'nada', 'más', 'de', 'las', 'almas', 'Y', 'yo', 'lo', 'que', 'quiero', 'de', 'él', 'es', 'su', 'cuerpo', 'Desnudo', 'y', 'caliente', 'de', 'amor', 'hirviendo', 'de', 'deseos', 'estrujando', 'el', 'temblor', 'de', 'mis', 'senos', 'y', 'de', 'mis', 'brazos', 'Mi', 'cuerpo', 'transparente', 'suspendido', 'del', 'suyo', 'Mi', 'cuerpo', 'liviano', 'sostenido', 'y', 'suelto', 'a', 'sus', 'fuerzas', '¿Qué', 'haré', 'de', 'mis', 'doloridos', 'labios', 'Mientras', 'Susana'] 94 26739 \n",
      "\n"
     ]
    }
   ],
   "source": [
    "a = 'Florencio'\n",
    "b = 'Susana'\n",
    "c = 0\n",
    "for i in range(m):\n",
    "    if filt[i] == a:\n",
    "        for w in range(100):\n",
    "            k = w + 1\n",
    "            if filt[i-k] == b:\n",
    "                c += 1\n",
    "                print(c,filt[i-k:i+1],k,i,'\\n')\n",
    "            elif filt[i+k] == b:\n",
    "                c += 1\n",
    "                print(c,filt[i:i+k+1],k,i,'\\n')"
   ]
  },
  {
   "cell_type": "code",
   "execution_count": 54,
   "metadata": {
    "scrolled": false
   },
   "outputs": [
    {
     "name": "stdout",
     "output_type": "stream",
     "text": [
      "1 ['Florencio', 'hablaba', '¿del', 'mío', '¡Oh', 'porqué', 'no', 'lloré', 'y', 'me', 'anegué', 'entonces', 'en', 'lágrimas', 'para', 'enjuagar', 'mi', 'angustia', '¡Señor', 'tú', 'no', 'existes', 'Te', 'pedí', 'tu', 'protección', 'para', 'él', 'Que', 'me', 'lo', 'cuidaras', 'Eso', 'te', 'pedí', 'Pero', 'tú', 'te', 'ocupas', 'nada', 'más', 'de', 'las', 'almas', 'Y', 'yo', 'lo', 'que', 'quiero', 'de', 'él', 'es', 'su', 'cuerpo', 'Desnudo', 'y', 'caliente', 'de', 'amor', 'hirviendo', 'de', 'deseos', 'estrujando', 'el', 'temblor', 'de', 'mis', 'senos', 'y', 'de', 'mis', 'brazos', 'Mi', 'cuerpo', 'transparente', 'suspendido', 'del', 'suyo', 'Mi', 'cuerpo', 'liviano', 'sostenido', 'y', 'suelto', 'a', 'sus', 'fuerzas', '¿Qué', 'haré', 'de', 'mis', 'doloridos', 'labios', 'Mientras', 'Susana'] 94 26739 \n",
      "\n",
      "Florencio Susana 1 \n",
      "\n",
      "1 ['Florencio', 'pero', 'eso', 'ya', 'lo', 'sé', 'No', 'te', 'aflijas', 'por', 'los', 'demás', 'no', 'te', 'apures', 'por', 'mí', 'Yo', 'tengo', 'guardado', 'mi', 'dolor', 'en', 'un', 'lugar', 'seguro', 'No', 'dejes', 'que', 'se', 'te', 'apague', 'el', 'corazón.', 'Enderezó', 'el', 'cuerpo', 'y', 'lo', 'arrastró', 'hasta', 'donde', 'estaba', 'el', 'padre', 'Rentería'] 45 24525 \n",
      "\n",
      "2 ['Florencio', 'pero', 'eso', 'ya', 'lo', 'sé', 'No', 'te', 'aflijas', 'por', 'los', 'demás', 'no', 'te', 'apures', 'por', 'mí', 'Yo', 'tengo', 'guardado', 'mi', 'dolor', 'en', 'un', 'lugar', 'seguro', 'No', 'dejes', 'que', 'se', 'te', 'apague', 'el', 'corazón.', 'Enderezó', 'el', 'cuerpo', 'y', 'lo', 'arrastró', 'hasta', 'donde', 'estaba', 'el', 'padre', 'Rentería', '—¡Déjame', 'consolarte', 'con', 'mi', 'desconsuelo', '—dijo', 'protegiendo', 'la', 'llama', 'de', 'la', 'vela', 'con', 'sus', 'manos.\\\\n', 'El', 'padre', 'Rentería'] 63 24525 \n",
      "\n",
      "Florencio Rentería 2 \n",
      "\n"
     ]
    }
   ],
   "source": [
    "a = 'Florencio'\n",
    "for j in range(len(Lista)):\n",
    "    c = 0\n",
    "    for l in range(m):\n",
    "        if filt[l] == a:\n",
    "            for w in range(100):\n",
    "                k = w + 1\n",
    "                if filt[l-k] == Lista[j]:\n",
    "                    c += 1\n",
    "                    print(c,filt[l-k:l+1],k,l,'\\n')\n",
    "                elif filt[l+k] == Lista[j]:\n",
    "                    c += 1\n",
    "                    print(c,filt[l:l+k+1],k,l,'\\n')\n",
    "    if c > 0:\n",
    "        print(a,Lista[j],c,'\\n')"
   ]
  },
  {
   "cell_type": "markdown",
   "metadata": {},
   "source": [
    "Aumentaremos el número de palabras entre personajes a 40, pues algunos faltan todavía con 30"
   ]
  },
  {
   "cell_type": "code",
   "execution_count": 55,
   "metadata": {
    "scrolled": false
   },
   "outputs": [
    {
     "name": "stdout",
     "output_type": "stream",
     "text": [
      "Pedro Fulgor 25\n",
      "Pedro Susana 15\n",
      "Pedro Miguel 10\n",
      "Pedro Damiana 8\n",
      "Pedro Rentería 8\n",
      "Pedro Justina 4\n",
      "Pedro Eduviges 1\n",
      "Pedro Abundio 4\n",
      "Pedro Dolores 5\n",
      "Pedro Bartolomé 1\n",
      "Pedro Toribio 1\n",
      "Pedro Fausta 2\n",
      "Pedro Gamaliel 1\n",
      "Pedro Valencia 1\n",
      "Pedro Inocencio 1\n",
      "Fulgor Susana 2\n",
      "Fulgor Miguel 8\n",
      "Fulgor Damiana 2\n",
      "Fulgor Rentería 1\n",
      "Fulgor Dorotea 2\n",
      "Fulgor Eduviges 3\n",
      "Fulgor Dolores 4\n",
      "Fulgor Bartolomé 1\n",
      "Fulgor Toribio 5\n",
      "Susana Rentería 2\n",
      "Susana Justina 15\n",
      "Susana Bartolomé 9\n",
      "Susana Fausta 1\n",
      "Susana Gamaliel 1\n",
      "Miguel Damiana 3\n",
      "Miguel Rentería 3\n",
      "Miguel Dorotea 1\n",
      "Miguel Eduviges 1\n",
      "Damiana Dorotea 3\n",
      "Damiana Eduviges 2\n",
      "Damiana Abundio 2\n",
      "Rentería Dorotea 1\n",
      "Rentería Valencia 1\n",
      "Preciado Dorotea 1\n",
      "Preciado Donis 1\n",
      "Justina Dorotea 1\n",
      "Justina Bartolomé 3\n",
      "Eduviges Toribio 1\n",
      "Abundio Gamaliel 2\n",
      "Dolores Donis 1\n",
      "Fausta Valencia 1\n"
     ]
    },
    {
     "data": {
      "text/plain": [
       "171"
      ]
     },
     "execution_count": 55,
     "metadata": {},
     "output_type": "execute_result"
    }
   ],
   "source": [
    "G = nx.Graph()\n",
    "Tot_wgts = 0\n",
    "for i in range(len(Lista)):\n",
    "    for j in range(i+1,len(Lista)):\n",
    "        c = 0\n",
    "        for l in range(m):\n",
    "            if filt[l] == Lista[i]:\n",
    "                for w in range(40):\n",
    "                    k = w + 1\n",
    "                    if filt[l-k] == Lista[j]:\n",
    "                        c += 1\n",
    "                    elif filt[l+k] == Lista[j]:\n",
    "                        c += 1\n",
    "        if c > 0:\n",
    "            print(Lista[i],Lista[j],c)\n",
    "            G.add_edge(Lista[i],Lista[j],weight=c)\n",
    "        Tot_wgts += c\n",
    "\n",
    "#Falta agregar a mano a Florencio, pues sus edges están 45, 63 y 94 palabras de distancia\n",
    "G.add_edge(Fl,S, weight=1)\n",
    "G.add_edge(Fl,R, weight=2)\n",
    "\n",
    "Tot_wgts"
   ]
  },
  {
   "cell_type": "code",
   "execution_count": 56,
   "metadata": {},
   "outputs": [
    {
     "data": {
      "text/plain": [
       "48"
      ]
     },
     "execution_count": 56,
     "metadata": {},
     "output_type": "execute_result"
    }
   ],
   "source": [
    "nx.number_of_edges(G)"
   ]
  },
  {
   "cell_type": "code",
   "execution_count": 57,
   "metadata": {},
   "outputs": [],
   "source": [
    "# nx.write_weighted_edgelist(G, \"Paramo_edgelist.txt\")"
   ]
  },
  {
   "cell_type": "code",
   "execution_count": 58,
   "metadata": {},
   "outputs": [
    {
     "data": {
      "image/png": "[encoded data removed]",
      "text/plain": [
       "<Figure size 1080x1080 with 1 Axes>"
      ]
     },
     "metadata": {},
     "output_type": "display_data"
    }
   ],
   "source": [
    "ws = [d['weight'] for u,v,d in G.edges(data=True)]\n",
    "\n",
    "node_sizes = []\n",
    "for i in G:\n",
    "    node_sizes.append(100*len(G.edges(i)))\n",
    "    \n",
    "plt.figure(figsize=(15,15))\n",
    "plt.xlim(-1.2,1.2)\n",
    "plt.ylim(-1.2,1.2)\n",
    "pos = nx.spring_layout(G)\n",
    "nx.draw(G, pos, node_color='r', edgecolors='b', node_size = node_sizes, width = ws, alpha=0.5, edge_color='grey')\n",
    "for p in pos:  # raise text positions\n",
    "    pos[p][1] += 0.1\n",
    "nx.draw_networkx_labels(G, pos, font_size=12)\n",
    "plt.show()"
   ]
  },
  {
   "cell_type": "code",
   "execution_count": 59,
   "metadata": {},
   "outputs": [
    {
     "data": {
      "text/plain": [
       "['Pedro',\n",
       " 'Fulgor',\n",
       " 'Susana',\n",
       " 'Miguel',\n",
       " 'Damiana',\n",
       " 'Rentería',\n",
       " 'Preciado',\n",
       " 'Justina',\n",
       " 'Dorotea',\n",
       " 'Eduviges',\n",
       " 'Abundio',\n",
       " 'Dolores',\n",
       " 'Bartolomé',\n",
       " 'Donis',\n",
       " 'Toribio',\n",
       " 'Fausta',\n",
       " 'Gamaliel',\n",
       " 'Valencia',\n",
       " 'Florencio',\n",
       " 'Inocencio']"
      ]
     },
     "execution_count": 59,
     "metadata": {},
     "output_type": "execute_result"
    }
   ],
   "source": [
    "Lista"
   ]
  },
  {
   "cell_type": "markdown",
   "metadata": {},
   "source": [
    "Tamaño de la gráfica"
   ]
  },
  {
   "cell_type": "code",
   "execution_count": 60,
   "metadata": {},
   "outputs": [
    {
     "data": {
      "text/plain": [
       "48"
      ]
     },
     "execution_count": 60,
     "metadata": {},
     "output_type": "execute_result"
    }
   ],
   "source": [
    "G.size() #edges"
   ]
  },
  {
   "cell_type": "code",
   "execution_count": 61,
   "metadata": {},
   "outputs": [
    {
     "data": {
      "text/plain": [
       "48"
      ]
     },
     "execution_count": 61,
     "metadata": {},
     "output_type": "execute_result"
    }
   ],
   "source": [
    "G.number_of_edges()"
   ]
  },
  {
   "cell_type": "code",
   "execution_count": 62,
   "metadata": {},
   "outputs": [
    {
     "data": {
      "text/plain": [
       "20"
      ]
     },
     "execution_count": 62,
     "metadata": {},
     "output_type": "execute_result"
    }
   ],
   "source": [
    "G.number_of_nodes()"
   ]
  },
  {
   "cell_type": "code",
   "execution_count": 63,
   "metadata": {},
   "outputs": [
    {
     "data": {
      "text/plain": [
       "20"
      ]
     },
     "execution_count": 63,
     "metadata": {},
     "output_type": "execute_result"
    }
   ],
   "source": [
    "len(G) #nodes"
   ]
  },
  {
   "cell_type": "markdown",
   "metadata": {},
   "source": [
    "Por lo tanto, el tamaño de la gráfica, que es la suma de los nodos más las aristas, es 52"
   ]
  },
  {
   "cell_type": "markdown",
   "metadata": {},
   "source": [
    "Densidad"
   ]
  },
  {
   "cell_type": "code",
   "execution_count": 64,
   "metadata": {},
   "outputs": [
    {
     "data": {
      "text/plain": [
       "0.25263157894736843"
      ]
     },
     "execution_count": 64,
     "metadata": {},
     "output_type": "execute_result"
    }
   ],
   "source": [
    "2*G.size()/( len(G)*( len(G)-1 ) ) # D = 2E/(|V|*(|V|-1))"
   ]
  },
  {
   "cell_type": "code",
   "execution_count": 65,
   "metadata": {},
   "outputs": [
    {
     "data": {
      "text/plain": [
       "0.25735294117647056"
      ]
     },
     "execution_count": 65,
     "metadata": {},
     "output_type": "execute_result"
    }
   ],
   "source": [
    "(2*35)/(17*16)"
   ]
  },
  {
   "cell_type": "markdown",
   "metadata": {},
   "source": [
    "Longitud promedio de los caminos más cortos\n",
    "\n",
    "$L = \\sum\\limits_{s,t\\in V} \\dfrac{d(s,t)}{n(n-1)}$\n",
    "\n",
    "donde $V$ es el conjunto de nodos y $n$ es el número de nodos"
   ]
  },
  {
   "cell_type": "code",
   "execution_count": 66,
   "metadata": {},
   "outputs": [
    {
     "data": {
      "text/plain": [
       "0.6397058823529411"
      ]
     },
     "execution_count": 66,
     "metadata": {},
     "output_type": "execute_result"
    }
   ],
   "source": [
    "sum(ws)/(17*16) #Suma de los pesos entre n(n-1)"
   ]
  },
  {
   "cell_type": "code",
   "execution_count": 67,
   "metadata": {},
   "outputs": [
    {
     "data": {
      "text/plain": [
       "1.9473684210526316"
      ]
     },
     "execution_count": 67,
     "metadata": {},
     "output_type": "execute_result"
    }
   ],
   "source": [
    "nx.average_shortest_path_length(G)"
   ]
  },
  {
   "cell_type": "markdown",
   "metadata": {},
   "source": [
    "Excentricidad, diámetro y radio"
   ]
  },
  {
   "cell_type": "code",
   "execution_count": 68,
   "metadata": {},
   "outputs": [
    {
     "data": {
      "text/plain": [
       "{'Pedro': 3,\n",
       " 'Fulgor': 2,\n",
       " 'Susana': 3,\n",
       " 'Miguel': 3,\n",
       " 'Damiana': 3,\n",
       " 'Rentería': 3,\n",
       " 'Justina': 3,\n",
       " 'Eduviges': 3,\n",
       " 'Abundio': 3,\n",
       " 'Dolores': 3,\n",
       " 'Bartolomé': 3,\n",
       " 'Toribio': 3,\n",
       " 'Fausta': 4,\n",
       " 'Gamaliel': 4,\n",
       " 'Valencia': 3,\n",
       " 'Inocencio': 4,\n",
       " 'Dorotea': 3,\n",
       " 'Preciado': 4,\n",
       " 'Donis': 4,\n",
       " 'Florencio': 4}"
      ]
     },
     "execution_count": 68,
     "metadata": {},
     "output_type": "execute_result"
    }
   ],
   "source": [
    "nx.eccentricity(G) #máx de las distancias a todos los otros nodos"
   ]
  },
  {
   "cell_type": "code",
   "execution_count": 69,
   "metadata": {},
   "outputs": [
    {
     "data": {
      "text/plain": [
       "4"
      ]
     },
     "execution_count": 69,
     "metadata": {},
     "output_type": "execute_result"
    }
   ],
   "source": [
    "nx.diameter(G) #Excentricidad máxima. Los nodos periféricos son Fausta, Gamaliel, Inocencio, Juan Preciado, Donis y Florencio"
   ]
  },
  {
   "cell_type": "code",
   "execution_count": 70,
   "metadata": {},
   "outputs": [
    {
     "data": {
      "text/plain": [
       "2"
      ]
     },
     "execution_count": 70,
     "metadata": {},
     "output_type": "execute_result"
    }
   ],
   "source": [
    "nx.radius(G) #Excentricidad mínima. El único centro es Fulgor"
   ]
  },
  {
   "cell_type": "code",
   "execution_count": 71,
   "metadata": {},
   "outputs": [
    {
     "data": {
      "text/plain": [
       "{'Pedro': 0.7894736842105263,\n",
       " 'Fulgor': 0.5263157894736842,\n",
       " 'Susana': 0.42105263157894735,\n",
       " 'Miguel': 0.3157894736842105,\n",
       " 'Damiana': 0.3157894736842105,\n",
       " 'Rentería': 0.3684210526315789,\n",
       " 'Justina': 0.21052631578947367,\n",
       " 'Eduviges': 0.2631578947368421,\n",
       " 'Abundio': 0.15789473684210525,\n",
       " 'Dolores': 0.15789473684210525,\n",
       " 'Bartolomé': 0.21052631578947367,\n",
       " 'Toribio': 0.15789473684210525,\n",
       " 'Fausta': 0.15789473684210525,\n",
       " 'Gamaliel': 0.15789473684210525,\n",
       " 'Valencia': 0.15789473684210525,\n",
       " 'Inocencio': 0.05263157894736842,\n",
       " 'Dorotea': 0.3157894736842105,\n",
       " 'Preciado': 0.10526315789473684,\n",
       " 'Donis': 0.10526315789473684,\n",
       " 'Florencio': 0.10526315789473684}"
      ]
     },
     "execution_count": 71,
     "metadata": {},
     "output_type": "execute_result"
    }
   ],
   "source": [
    "nx.degree_centrality(G) #fracción de nodos a los que está conectado cada nodo = deg(i)/(n-1) = deg(i)/16\n",
    "#la persona más popular en una red social"
   ]
  },
  {
   "cell_type": "markdown",
   "metadata": {},
   "source": [
    "El grado es el número de aristas de un nodo, Pedro tiene 12 aristas, por lo que su centralidad de grado es 12/16"
   ]
  },
  {
   "cell_type": "code",
   "execution_count": 72,
   "metadata": {},
   "outputs": [
    {
     "data": {
      "text/plain": [
       "0.75"
      ]
     },
     "execution_count": 72,
     "metadata": {},
     "output_type": "execute_result"
    }
   ],
   "source": [
    "12/16"
   ]
  },
  {
   "cell_type": "markdown",
   "metadata": {},
   "source": [
    "Betweenness centrality of a node $v$ is the sum of the fraction of all-pairs shortest paths that pass through $v$:\n",
    "\n",
    "$c_B(v) =\\sum\\limits_{s,t \\in V} \\dfrac{\\sigma(s, t|v)}{\\sigma(s, t)}$\n",
    "\n",
    "where $V$ is the set of nodes, $\\sigma(s, t)$ is the number of shortest $(s, t)$-paths, and $\\sigma(s, t|v)$ is the number of those paths passing through some node $v$ other than $s, t$. If $s = t$, then $\\sigma(s, t) = 1$, and if $v \\in {s, t}$, then $\\sigma(s, t|v) = 0$."
   ]
  },
  {
   "cell_type": "code",
   "execution_count": 73,
   "metadata": {},
   "outputs": [
    {
     "data": {
      "text/plain": [
       "{'Pedro': 0.4431448992852502,\n",
       " 'Fulgor': 0.12550357374918777,\n",
       " 'Susana': 0.08664717348927875,\n",
       " 'Miguel': 0.016211825860948666,\n",
       " 'Damiana': 0.03235867446393762,\n",
       " 'Rentería': 0.08667966211825862,\n",
       " 'Justina': 0.018973359324236515,\n",
       " 'Eduviges': 0.003898635477582846,\n",
       " 'Abundio': 0.004158544509421703,\n",
       " 'Dolores': 0.08674463937621832,\n",
       " 'Bartolomé': 0.0014619883040935672,\n",
       " 'Toribio': 0.0,\n",
       " 'Fausta': 0.001949317738791423,\n",
       " 'Gamaliel': 0.004873294346978557,\n",
       " 'Valencia': 0.003183885640025991,\n",
       " 'Inocencio': 0.0,\n",
       " 'Dorotea': 0.1120857699805068,\n",
       " 'Preciado': 0.015789473684210523,\n",
       " 'Donis': 0.008966861598440547,\n",
       " 'Florencio': 0.0}"
      ]
     },
     "execution_count": 73,
     "metadata": {},
     "output_type": "execute_result"
    }
   ],
   "source": [
    "nx.betweenness_centrality(G) #shortest-path betweenness centrality for nodes\n",
    "#la persona más efectiva para manipular y monitorear la información que fluye en la red"
   ]
  },
  {
   "cell_type": "markdown",
   "metadata": {},
   "source": [
    "Closeness centrality of a node $u$ is the reciprocal of the sum of the shortest path distances from $u$ to all $n-1$ other nodes. Since the sum of distances depends on the number of nodes in the graph, closeness is normalized by the sum of minimum possible distances $n-1$.\n",
    "\n",
    "$c_c(u) = \\dfrac{n - 1}{\\sum\\limits_{v=1}^{n-1} d(u,v)}$\n",
    "\n",
    "where $d(v, u)$ is the shortest-path distance between $v$ and $u$, and $n$ is the number of nodes in the graph.\n",
    "\n",
    "Notice that higher values of closeness indicate higher centrality.\n",
    "\n",
    "$c_c(u)=1$ significa que se puede alcanzar cualquier nodo a partir del nodo $u$ en un solo paso."
   ]
  },
  {
   "cell_type": "code",
   "execution_count": 74,
   "metadata": {},
   "outputs": [
    {
     "data": {
      "text/plain": [
       "{'Pedro': 0.7916666666666666,\n",
       " 'Fulgor': 0.6785714285714286,\n",
       " 'Susana': 0.59375,\n",
       " 'Miguel': 0.5757575757575758,\n",
       " 'Damiana': 0.5588235294117647,\n",
       " 'Rentería': 0.59375,\n",
       " 'Justina': 0.5428571428571428,\n",
       " 'Eduviges': 0.5277777777777778,\n",
       " 'Abundio': 0.5,\n",
       " 'Dolores': 0.5277777777777778,\n",
       " 'Bartolomé': 0.5277777777777778,\n",
       " 'Toribio': 0.5,\n",
       " 'Fausta': 0.48717948717948717,\n",
       " 'Gamaliel': 0.48717948717948717,\n",
       " 'Valencia': 0.5135135135135135,\n",
       " 'Inocencio': 0.4523809523809524,\n",
       " 'Dorotea': 0.5428571428571428,\n",
       " 'Preciado': 0.38,\n",
       " 'Donis': 0.37254901960784315,\n",
       " 'Florencio': 0.4222222222222222}"
      ]
     },
     "execution_count": 74,
     "metadata": {},
     "output_type": "execute_result"
    }
   ],
   "source": [
    "nx.closeness_centrality(G) # la persona más eficiente en diseminar un rumor a toda la red"
   ]
  },
  {
   "cell_type": "markdown",
   "metadata": {},
   "source": [
    "Vemos que el orden de los nodos de mayor a menor en estas 3 medidas de centralidad es el mismo, pero el tamaño de la centralidad de los nodos en orden de mayor a menor es:\n",
    "1. Cercanía\n",
    "2. Grado\n",
    "3. Intermediación"
   ]
  },
  {
   "cell_type": "markdown",
   "metadata": {},
   "source": [
    "Las medidas de acumulación nos dicen que tan densamente conectados entre sí, están los nodos en alguna región de la gráfica.\n",
    "\n",
    "**Coeficiente de acumulación**\n",
    "\n",
    "$C(i) = \\dfrac{|\\{i,k\\}: d(i,j) = d(j,k) = d(k,i) = 1|}{\\deg(i)[\\deg(i)−1]/2}$\n",
    "\n",
    "El denominador es el número total de pares posibles de\n",
    "nodos dentro de la vecindad de $i$, el numerador es el\n",
    "número de pares de nodos conectados entre ellos. El\n",
    "coeficiente de acumulación de $i$ calcula la probabilidad\n",
    "de que sus vecinos sean vecinos entre ellos también.\n",
    "\n",
    "**Coeficiente de acumulación promedio**\n",
    "\n",
    "$C = \\sum\\limits_{i \\in G} \\dfrac{C(i)}{n}$"
   ]
  },
  {
   "cell_type": "code",
   "execution_count": 75,
   "metadata": {},
   "outputs": [
    {
     "data": {
      "text/plain": [
       "{'Pedro': 0.21904761904761905,\n",
       " 'Fulgor': 0.4,\n",
       " 'Susana': 0.35714285714285715,\n",
       " 'Miguel': 0.7333333333333333,\n",
       " 'Damiana': 0.6,\n",
       " 'Rentería': 0.42857142857142855,\n",
       " 'Justina': 0.5,\n",
       " 'Eduviges': 0.8,\n",
       " 'Abundio': 0.6666666666666666,\n",
       " 'Dolores': 0.3333333333333333,\n",
       " 'Bartolomé': 0.8333333333333334,\n",
       " 'Toribio': 1.0,\n",
       " 'Fausta': 0.6666666666666666,\n",
       " 'Gamaliel': 0.6666666666666666,\n",
       " 'Valencia': 0.6666666666666666,\n",
       " 'Inocencio': 0,\n",
       " 'Dorotea': 0.3333333333333333,\n",
       " 'Preciado': 0,\n",
       " 'Donis': 0,\n",
       " 'Florencio': 1.0}"
      ]
     },
     "execution_count": 75,
     "metadata": {},
     "output_type": "execute_result"
    }
   ],
   "source": [
    "nx.clustering(G) # Correspondiente al número de triángulos en cada nodo"
   ]
  },
  {
   "cell_type": "markdown",
   "metadata": {},
   "source": [
    "Vemos aquí que los nodos más acumulados son personajes secundarios: Bartolomé, Rentería, Miguel y Susana"
   ]
  },
  {
   "cell_type": "code",
   "execution_count": 76,
   "metadata": {},
   "outputs": [
    {
     "data": {
      "text/plain": [
       "0.5102380952380952"
      ]
     },
     "execution_count": 76,
     "metadata": {},
     "output_type": "execute_result"
    }
   ],
   "source": [
    "nx.average_clustering(G)"
   ]
  },
  {
   "cell_type": "code",
   "execution_count": 77,
   "metadata": {},
   "outputs": [
    {
     "data": {
      "text/plain": [
       "0.397212543554007"
      ]
     },
     "execution_count": 77,
     "metadata": {},
     "output_type": "execute_result"
    }
   ],
   "source": [
    "nx.transitivity(G)"
   ]
  },
  {
   "cell_type": "markdown",
   "metadata": {},
   "source": [
    "La **distribución de grados** de una red es la distribución de probabilidades\n",
    "\n",
    "$P(k) = \\dfrac{|\\{i: \\deg(i) = k\\}|}{n}$\n",
    "\n",
    "es decir, la probabilidad de que un nodo tenga grado $k$."
   ]
  },
  {
   "cell_type": "code",
   "execution_count": 78,
   "metadata": {},
   "outputs": [
    {
     "data": {
      "text/plain": [
       "DegreeView({'Pedro': 15, 'Fulgor': 10, 'Susana': 8, 'Miguel': 6, 'Damiana': 6, 'Rentería': 7, 'Justina': 4, 'Eduviges': 5, 'Abundio': 3, 'Dolores': 3, 'Bartolomé': 4, 'Toribio': 3, 'Fausta': 3, 'Gamaliel': 3, 'Valencia': 3, 'Inocencio': 1, 'Dorotea': 6, 'Preciado': 2, 'Donis': 2, 'Florencio': 2})"
      ]
     },
     "execution_count": 78,
     "metadata": {},
     "output_type": "execute_result"
    }
   ],
   "source": [
    "nx.degree(G)"
   ]
  },
  {
   "cell_type": "code",
   "execution_count": 79,
   "metadata": {},
   "outputs": [
    {
     "data": {
      "text/plain": [
       "[15, 10, 8, 6, 6, 7, 4, 5, 3, 3, 4, 3, 3, 3, 3, 1, 6, 2, 2, 2]"
      ]
     },
     "execution_count": 79,
     "metadata": {},
     "output_type": "execute_result"
    }
   ],
   "source": [
    "Distr = [nx.degree(G)[i] for i in G]\n",
    "Distr"
   ]
  },
  {
   "cell_type": "code",
   "execution_count": 80,
   "metadata": {},
   "outputs": [
    {
     "data": {
      "text/plain": [
       "4.8"
      ]
     },
     "execution_count": 80,
     "metadata": {},
     "output_type": "execute_result"
    }
   ],
   "source": [
    "import numpy as np\n",
    "np.mean(Distr) # Número promedio de aristas por nodo"
   ]
  },
  {
   "cell_type": "code",
   "execution_count": 81,
   "metadata": {},
   "outputs": [
    {
     "data": {
      "text/plain": [
       "20"
      ]
     },
     "execution_count": 81,
     "metadata": {},
     "output_type": "execute_result"
    }
   ],
   "source": [
    "len(Distr)"
   ]
  },
  {
   "cell_type": "markdown",
   "metadata": {},
   "source": [
    "$P(1) = 3/17$\n",
    "\n",
    "$P(2) = 3/17$\n",
    "\n",
    "$P(3) = 1/17$\n",
    "\n",
    "$P(4) = 5/17$\n",
    "\n",
    "$P(5) = 2/17$\n",
    "\n",
    "$P(6) = 1/17$\n",
    "\n",
    "$P(10) = 1/17$\n",
    "\n",
    "$P(12) = 1/17$"
   ]
  },
  {
   "cell_type": "code",
   "execution_count": 82,
   "metadata": {},
   "outputs": [
    {
     "data": {
      "text/plain": [
       "[1, 3, 6, 2, 1, 3, 1, 1, 0, 1, 0, 0]"
      ]
     },
     "execution_count": 82,
     "metadata": {},
     "output_type": "execute_result"
    }
   ],
   "source": [
    "distr = []\n",
    "for i in range(1,13):\n",
    "    c = 0\n",
    "    for j in range(len(Distr)):\n",
    "        if Distr[j] == i:\n",
    "            c += 1\n",
    "    distr.append(c)\n",
    "distr"
   ]
  },
  {
   "cell_type": "code",
   "execution_count": 83,
   "metadata": {},
   "outputs": [
    {
     "data": {
      "image/png": "[encoded data removed]",
      "text/plain": [
       "<Figure size 432x288 with 1 Axes>"
      ]
     },
     "metadata": {
      "needs_background": "light"
     },
     "output_type": "display_data"
    }
   ],
   "source": [
    "plt.plot(range(1,13),distr,'o-')\n",
    "plt.ylabel('$P(k)$',rotation='horizontal',ha='right')\n",
    "plt.xlabel('$k$')\n",
    "plt.show()"
   ]
  },
  {
   "cell_type": "markdown",
   "metadata": {},
   "source": [
    "Podríamos considerar que disminuye como una red libre de escala, pero no es tan claro. Lo que sí es claro es que no es una distribución normal correspondiente a una red aleatoria de Erdős-Rényi. Veamos cómo se ven algunos modelos para ajustar esta distribución de probabilidad:"
   ]
  },
  {
   "cell_type": "code",
   "execution_count": 84,
   "metadata": {},
   "outputs": [],
   "source": [
    "import numpy as np\n",
    "import numpy.linalg as la\n",
    "from numpy.linalg import cholesky\n",
    "\n",
    "#El ajuste, resolviendo por ecuaciones normales\n",
    "def fit(t,y,n):\n",
    "    A = np.zeros([len(t),n+1])\n",
    "    for i in range(len(t)):\n",
    "        for j in range(n+1):\n",
    "            A[i][j] = t[i]**j\n",
    "\n",
    "    L = cholesky((A.T).dot(A))\n",
    "    y1 = la.solve(L, (A.T).dot(y))\n",
    "    sol = la.solve(L.T, y1) #R = L^T triangular superior\n",
    "    return sol"
   ]
  },
  {
   "cell_type": "code",
   "execution_count": 85,
   "metadata": {},
   "outputs": [],
   "source": [
    "#Para formar el polinomio\n",
    "def pol(t,c):\n",
    "    p = 0\n",
    "    for i in range(len(c)):\n",
    "        p += c[i]*t**i\n",
    "    return p"
   ]
  },
  {
   "cell_type": "code",
   "execution_count": 86,
   "metadata": {},
   "outputs": [
    {
     "data": {
      "text/plain": [
       "array([ 3.21794872,  2.92074592,  2.62354312,  2.32634033,  2.02913753,\n",
       "        1.73193473,  1.43473193,  1.13752914,  0.84032634,  0.54312354,\n",
       "        0.24592075, -0.05128205])"
      ]
     },
     "execution_count": 86,
     "metadata": {},
     "output_type": "execute_result"
    }
   ],
   "source": [
    "t = np.array(range(1,13))\n",
    "pol(t,fit(t,distr,1))"
   ]
  },
  {
   "cell_type": "code",
   "execution_count": 87,
   "metadata": {},
   "outputs": [
    {
     "data": {
      "image/png": "[encoded data removed]",
      "text/plain": [
       "<Figure size 432x288 with 1 Axes>"
      ]
     },
     "metadata": {
      "needs_background": "light"
     },
     "output_type": "display_data"
    }
   ],
   "source": [
    "plt.plot(range(1,13),distr,'o-')\n",
    "plt.plot(t, pol(t,fit(t,distr,1)), '--', label='Mínimos Cuadrados Lineales')\n",
    "plt.plot(t, pol(t,fit(t,distr,2)), '--', label='Mínimos Cuadrados Cuadráticos')\n",
    "plt.plot(t, 5/t, '.-', label='$P(k) = 5/k$')\n",
    "plt.ylabel('$P(k)$',rotation='horizontal',ha='right')\n",
    "plt.xlabel('$k$')\n",
    "plt.legend()\n",
    "plt.show()"
   ]
  },
  {
   "cell_type": "markdown",
   "metadata": {},
   "source": [
    "La aproximación $P(k) = 5/k$ se ve bien, pero no corresponde a $k^{-\\gamma}$ con $2<\\gamma<4$ que reportan László Barabási y Réka Albert, por lo que no parece ser una red libre de escala.\n",
    "\n",
    "Una red de mundo pequeño está caracterizada como aquella en la que el camino más corto promedio crece con el $\\log(n)$, donde $n$ es el número de nodos, conforme se agregan nodos, y el coeficiente de acumulación es grande."
   ]
  },
  {
   "cell_type": "code",
   "execution_count": 88,
   "metadata": {},
   "outputs": [
    {
     "data": {
      "text/plain": [
       "1.9473684210526316"
      ]
     },
     "execution_count": 88,
     "metadata": {},
     "output_type": "execute_result"
    }
   ],
   "source": [
    "nx.average_shortest_path_length(G) # L"
   ]
  },
  {
   "cell_type": "code",
   "execution_count": 89,
   "metadata": {},
   "outputs": [
    {
     "data": {
      "text/plain": [
       "2.833213344056216"
      ]
     },
     "execution_count": 89,
     "metadata": {},
     "output_type": "execute_result"
    }
   ],
   "source": [
    "np.log(17) # log(n)"
   ]
  },
  {
   "cell_type": "markdown",
   "metadata": {},
   "source": [
    "$L < \\log(n)$, pero no mucho menor"
   ]
  },
  {
   "cell_type": "code",
   "execution_count": 90,
   "metadata": {},
   "outputs": [
    {
     "data": {
      "text/plain": [
       "0.5102380952380952"
      ]
     },
     "execution_count": 90,
     "metadata": {},
     "output_type": "execute_result"
    }
   ],
   "source": [
    "nx.average_clustering(G)"
   ]
  },
  {
   "cell_type": "markdown",
   "metadata": {},
   "source": [
    "El coeficiente de acumulación es menor a 0.5 que, de acuerdo con los reportados por Watts y Strogatz, parece que es bastante grande comparado con los de las redes aleatorias, por lo que podemos concluir que esta red es de **mundo pequeño**."
   ]
  },
  {
   "cell_type": "markdown",
   "metadata": {},
   "source": [
    "## Método de Louvain"
   ]
  },
  {
   "cell_type": "code",
   "execution_count": 91,
   "metadata": {},
   "outputs": [],
   "source": [
    "import community as community_louvain\n",
    "import matplotlib.cm as cm\n",
    "import matplotlib.pyplot as plt\n",
    "import networkx as nx"
   ]
  },
  {
   "cell_type": "markdown",
   "metadata": {},
   "source": [
    "Ejemplo"
   ]
  },
  {
   "cell_type": "code",
   "execution_count": 92,
   "metadata": {},
   "outputs": [
    {
     "data": {
      "image/png": "[encoded data removed]",
      "text/plain": [
       "<Figure size 864x432 with 2 Axes>"
      ]
     },
     "metadata": {},
     "output_type": "display_data"
    }
   ],
   "source": [
    "# load the karate club graph\n",
    "G = nx.karate_club_graph()\n",
    "\n",
    "#first compute the best partition\n",
    "partition = community_louvain.best_partition(G)\n",
    "\n",
    "# compute the best partition\n",
    "partition = community_louvain.best_partition(G)\n",
    "\n",
    "# draw the graph\n",
    "plt.figure(figsize=(12,6))\n",
    "plt.subplot(121)\n",
    "nx.draw(G, node_shape='.')\n",
    "plt.subplot(122)\n",
    "pos = nx.spring_layout(G)\n",
    "# color the nodes according to their partition\n",
    "cmap = cm.get_cmap('viridis', max(partition.values()) + 1)\n",
    "nx.draw_networkx_nodes(G, pos, partition.keys(), node_size=40,\n",
    "                       cmap=cmap, node_color=list(partition.values()))\n",
    "nx.draw_networkx_edges(G, pos, alpha=0.5)\n",
    "plt.show()"
   ]
  },
  {
   "cell_type": "markdown",
   "metadata": {},
   "source": [
    "#### Comunidades de la red de Pedro Páramo"
   ]
  },
  {
   "cell_type": "code",
   "execution_count": 116,
   "metadata": {
    "scrolled": false
   },
   "outputs": [
    {
     "name": "stdout",
     "output_type": "stream",
     "text": [
      "Pedro Fulgor 25\n",
      "Pedro Susana 15\n",
      "Pedro Miguel 10\n",
      "Pedro Damiana 8\n",
      "Pedro Rentería 8\n",
      "Pedro Justina 4\n",
      "Pedro Eduviges 1\n",
      "Pedro Abundio 4\n",
      "Pedro Dolores 5\n",
      "Pedro Bartolomé 1\n",
      "Pedro Toribio 1\n",
      "Pedro Fausta 2\n",
      "Pedro Gamaliel 1\n",
      "Pedro Valencia 1\n",
      "Pedro Inocencio 1\n",
      "Fulgor Susana 2\n",
      "Fulgor Miguel 8\n",
      "Fulgor Damiana 2\n",
      "Fulgor Rentería 1\n",
      "Fulgor Dorotea 2\n",
      "Fulgor Eduviges 3\n",
      "Fulgor Dolores 4\n",
      "Fulgor Bartolomé 1\n",
      "Fulgor Toribio 5\n",
      "Susana Rentería 2\n",
      "Susana Justina 15\n",
      "Susana Bartolomé 9\n",
      "Susana Fausta 1\n",
      "Susana Gamaliel 1\n",
      "Miguel Damiana 3\n",
      "Miguel Rentería 3\n",
      "Miguel Dorotea 1\n",
      "Miguel Eduviges 1\n",
      "Damiana Dorotea 3\n",
      "Damiana Eduviges 2\n",
      "Damiana Abundio 2\n",
      "Rentería Dorotea 1\n",
      "Rentería Valencia 1\n",
      "Preciado Dorotea 1\n",
      "Preciado Donis 1\n",
      "Justina Dorotea 1\n",
      "Justina Bartolomé 3\n",
      "Eduviges Toribio 1\n",
      "Abundio Gamaliel 2\n",
      "Dolores Donis 1\n",
      "Fausta Valencia 1\n"
     ]
    },
    {
     "data": {
      "text/plain": [
       "171"
      ]
     },
     "execution_count": 116,
     "metadata": {},
     "output_type": "execute_result"
    }
   ],
   "source": [
    "G = nx.Graph()\n",
    "Tot_wgts = 0\n",
    "for i in range(len(Lista)):\n",
    "    for j in range(i+1,len(Lista)):\n",
    "        c = 0\n",
    "        for l in range(m):\n",
    "            if filt[l] == Lista[i]:\n",
    "                for w in range(40):\n",
    "                    k = w + 1\n",
    "                    if filt[l-k] == Lista[j]:\n",
    "                        c += 1\n",
    "                    elif filt[l+k] == Lista[j]:\n",
    "                        c += 1\n",
    "        if c > 0:\n",
    "            print(Lista[i],Lista[j],c)\n",
    "            G.add_edge(Lista[i],Lista[j],weight=c)\n",
    "        Tot_wgts += c\n",
    "\n",
    "#Falta agregar a mano a Florencio, pues sus edges están 45, 63 y 94 palabras de distancia\n",
    "G.add_edge(Fl,S, weight=1)\n",
    "G.add_edge(Fl,R, weight=2)\n",
    "\n",
    "Tot_wgts"
   ]
  },
  {
   "cell_type": "code",
   "execution_count": 117,
   "metadata": {},
   "outputs": [
    {
     "data": {
      "text/plain": [
       "48"
      ]
     },
     "execution_count": 117,
     "metadata": {},
     "output_type": "execute_result"
    }
   ],
   "source": [
    "nx.number_of_edges(G)"
   ]
  },
  {
   "cell_type": "code",
   "execution_count": 118,
   "metadata": {},
   "outputs": [
    {
     "data": {
      "image/png": "[encoded data removed]",
      "text/plain": [
       "<Figure size 1080x1080 with 1 Axes>"
      ]
     },
     "metadata": {},
     "output_type": "display_data"
    }
   ],
   "source": [
    "# Generar un diccionario con la mejor partición de la red en comunidades\n",
    "partition = community_louvain.best_partition(G)\n",
    "\n",
    "# Draw the graph\n",
    "plt.figure(figsize=(15,15))\n",
    "# plt.subplot(121)\n",
    "# nx.draw(G, pos, node_color='m', node_size = node_sizes, width = ws, alpha=0.5, edge_color='c')\n",
    "# nx.draw_networkx_labels(G, pos, font_size=12)\n",
    "# plt.subplot(122)\n",
    "pos = nx.spring_layout(G)\n",
    "\n",
    "ws = [d['weight'] for u,v,d in G.edges(data=True)]\n",
    "\n",
    "node_sizes = []\n",
    "for i in G:\n",
    "    node_sizes.append(100*len(G.edges(i)))\n",
    "\n",
    "# Color the nodes according to their partition\n",
    "cmap = cm.get_cmap('viridis', max(partition.values()) + 2) # + 1\n",
    "nx.draw_networkx_nodes(G, pos, partition.keys(), node_size=node_sizes, cmap=cmap, node_color=list(partition.values()), alpha=.7)\n",
    "nx.draw_networkx_edges(G, pos, width = ws, alpha=0.5, edge_color='gray')\n",
    "for p in pos:  # raise text positions\n",
    "    pos[p][1] += 0.08\n",
    "nx.draw_networkx_labels(G, pos, font_size=12)\n",
    "plt.axis('off')\n",
    "plt.xlim(-1.2,1.2)\n",
    "plt.ylim(-1.2,1.2)\n",
    "plt.show()"
   ]
  },
  {
   "cell_type": "code",
   "execution_count": 119,
   "metadata": {},
   "outputs": [
    {
     "data": {
      "text/plain": [
       "dict_values([0, 0, 2, 0, 0, 0, 2, 0, 1, 0, 2, 0, 4, 1, 4, 0, 0, 3, 3, 2])"
      ]
     },
     "execution_count": 119,
     "metadata": {},
     "output_type": "execute_result"
    }
   ],
   "source": [
    "partition.values()"
   ]
  },
  {
   "cell_type": "code",
   "execution_count": 120,
   "metadata": {},
   "outputs": [
    {
     "data": {
      "text/plain": [
       "{'Pedro': 0,\n",
       " 'Fulgor': 0,\n",
       " 'Susana': 2,\n",
       " 'Miguel': 0,\n",
       " 'Damiana': 0,\n",
       " 'Rentería': 0,\n",
       " 'Justina': 2,\n",
       " 'Eduviges': 0,\n",
       " 'Abundio': 1,\n",
       " 'Dolores': 0,\n",
       " 'Bartolomé': 2,\n",
       " 'Toribio': 0,\n",
       " 'Fausta': 4,\n",
       " 'Gamaliel': 1,\n",
       " 'Valencia': 4,\n",
       " 'Inocencio': 0,\n",
       " 'Dorotea': 0,\n",
       " 'Preciado': 3,\n",
       " 'Donis': 3,\n",
       " 'Florencio': 2}"
      ]
     },
     "execution_count": 120,
     "metadata": {},
     "output_type": "execute_result"
    }
   ],
   "source": [
    "partition"
   ]
  },
  {
   "cell_type": "code",
   "execution_count": 121,
   "metadata": {},
   "outputs": [
    {
     "data": {
      "text/plain": [
       "0.21840731932884133"
      ]
     },
     "execution_count": 121,
     "metadata": {},
     "output_type": "execute_result"
    }
   ],
   "source": [
    "community_louvain.modularity(partition, G)"
   ]
  },
  {
   "cell_type": "code",
   "execution_count": 106,
   "metadata": {},
   "outputs": [
    {
     "data": {
      "text/plain": [
       "0.2660444444444445"
      ]
     },
     "execution_count": 106,
     "metadata": {},
     "output_type": "execute_result"
    }
   ],
   "source": [
    "community_louvain.modularity(partition, G)"
   ]
  },
  {
   "cell_type": "markdown",
   "metadata": {},
   "source": [
    "La modularidad es\n",
    "$Q = \\dfrac{E_{\\text{in}} - \\langle E_{\\text{in}} \\rangle}{E}$"
   ]
  },
  {
   "cell_type": "markdown",
   "metadata": {},
   "source": [
    "Con solo 15 palabras entre personajes, la red se ve así:"
   ]
  },
  {
   "cell_type": "code",
   "execution_count": 102,
   "metadata": {
    "scrolled": false
   },
   "outputs": [
    {
     "name": "stdout",
     "output_type": "stream",
     "text": [
      "Pedro Fulgor 9\n",
      "Pedro Susana 9\n",
      "Pedro Miguel 3\n",
      "Pedro Damiana 5\n",
      "Pedro Rentería 2\n",
      "Pedro Justina 1\n",
      "Pedro Eduviges 1\n",
      "Pedro Abundio 3\n",
      "Pedro Bartolomé 1\n",
      "Pedro Fausta 1\n",
      "Pedro Valencia 1\n",
      "Fulgor Susana 1\n",
      "Fulgor Miguel 2\n",
      "Fulgor Dorotea 1\n",
      "Fulgor Eduviges 1\n",
      "Fulgor Dolores 2\n",
      "Fulgor Bartolomé 1\n",
      "Fulgor Toribio 2\n",
      "Susana Rentería 1\n",
      "Susana Justina 7\n",
      "Susana Bartolomé 4\n",
      "Miguel Damiana 2\n",
      "Miguel Rentería 1\n",
      "Miguel Dorotea 1\n",
      "Miguel Eduviges 1\n",
      "Damiana Dorotea 1\n",
      "Damiana Eduviges 1\n",
      "Damiana Abundio 1\n",
      "Preciado Donis 1\n",
      "Justina Bartolomé 2\n",
      "Abundio Gamaliel 1\n",
      "Dolores Donis 1\n",
      "Fausta Valencia 1\n"
     ]
    },
    {
     "data": {
      "text/plain": [
       "72"
      ]
     },
     "execution_count": 102,
     "metadata": {},
     "output_type": "execute_result"
    }
   ],
   "source": [
    "G = nx.Graph()\n",
    "Tot_wgts = 0\n",
    "for i in range(len(Lista)):\n",
    "    for j in range(i+1,len(Lista)):\n",
    "        c = 0\n",
    "        for l in range(m):\n",
    "            if filt[l] == Lista[i]:\n",
    "                for w in range(15):\n",
    "                    k = w + 1\n",
    "                    if filt[l-k] == Lista[j]:\n",
    "                        c += 1\n",
    "                    elif filt[l+k] == Lista[j]:\n",
    "                        c += 1\n",
    "        if c > 0:\n",
    "            print(Lista[i],Lista[j],c)\n",
    "            G.add_edge(Lista[i],Lista[j],weight=c)\n",
    "        Tot_wgts += c\n",
    "\n",
    "#Falta agregar a mano a Florencio, pues sus edges están 45, 63 y 94 palabras de distancia\n",
    "G.add_edge(Fl,S, weight=1)\n",
    "G.add_edge(Fl,R, weight=2)\n",
    "\n",
    "Tot_wgts"
   ]
  },
  {
   "cell_type": "code",
   "execution_count": 114,
   "metadata": {},
   "outputs": [
    {
     "data": {
      "text/plain": [
       "35"
      ]
     },
     "execution_count": 114,
     "metadata": {},
     "output_type": "execute_result"
    }
   ],
   "source": [
    "nx.number_of_edges(G)"
   ]
  },
  {
   "cell_type": "code",
   "execution_count": 115,
   "metadata": {},
   "outputs": [
    {
     "data": {
      "image/png": "[encoded data removed]",
      "text/plain": [
       "<Figure size 1080x1080 with 1 Axes>"
      ]
     },
     "metadata": {},
     "output_type": "display_data"
    }
   ],
   "source": [
    "# Generar un diccionario con la mejor partición de la red en comunidades\n",
    "partition = community_louvain.best_partition(G)\n",
    "\n",
    "# Draw the graph\n",
    "plt.figure(figsize=(15,15))\n",
    "# plt.subplot(121)\n",
    "# nx.draw(G, pos, node_color='m', node_size = node_sizes, width = ws, alpha=0.5, edge_color='c')\n",
    "# nx.draw_networkx_labels(G, pos, font_size=12)\n",
    "# plt.subplot(122)\n",
    "pos = nx.spring_layout(G)\n",
    "\n",
    "ws = [d['weight'] for u,v,d in G.edges(data=True)]\n",
    "\n",
    "node_sizes = []\n",
    "for i in G:\n",
    "    node_sizes.append(100*len(G.edges(i)))\n",
    "\n",
    "# Color the nodes according to their partition\n",
    "cmap = cm.get_cmap('viridis', max(partition.values()) + 2) # + 1\n",
    "nx.draw_networkx_nodes(G, pos, partition.keys(), node_size=node_sizes, cmap=cmap, node_color=list(partition.values()), alpha=.7)\n",
    "nx.draw_networkx_edges(G, pos, width = ws, alpha=0.5, edge_color='gray')\n",
    "for p in pos:  # raise text positions\n",
    "    pos[p][1] += 0.08\n",
    "nx.draw_networkx_labels(G, pos, font_size=12)\n",
    "plt.axis('off')\n",
    "plt.xlim(-1.2,1.2)\n",
    "plt.ylim(-1.2,1.2)\n",
    "plt.show()"
   ]
  }
 ],
 "metadata": {
  "kernelspec": {
   "display_name": "Python 3",
   "language": "python",
   "name": "python3"
  },
  "language_info": {
   "codemirror_mode": {
    "name": "ipython",
    "version": 3
   },
   "file_extension": ".py",
   "mimetype": "text/x-python",
   "name": "python",
   "nbconvert_exporter": "python",
   "pygments_lexer": "ipython3",
   "version": "3.8.5"
  }
 },
 "nbformat": 4,
 "nbformat_minor": 4
}
